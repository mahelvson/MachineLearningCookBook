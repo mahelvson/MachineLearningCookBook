{
 "cells": [
  {
   "cell_type": "markdown",
   "id": "0e659599",
   "metadata": {},
   "source": [
    "<h1>Chap 04 - Handling Numerical Data</h1>"
   ]
  },
  {
   "cell_type": "markdown",
   "id": "06bf7d22",
   "metadata": {},
   "source": [
    "Imports"
   ]
  },
  {
   "cell_type": "code",
   "execution_count": 49,
   "id": "adb30fb8",
   "metadata": {
    "ExecuteTime": {
     "end_time": "2021-04-28T13:26:44.805373Z",
     "start_time": "2021-04-28T13:26:44.786399Z"
    }
   },
   "outputs": [],
   "source": [
    "import numpy as np\n",
    "import pandas as pd\n",
    "from sklearn import preprocessing\n",
    "from sklearn.preprocessing import Normalizer, PolynomialFeatures, FunctionTransformer, Binarizer, StandardScaler\n",
    "from sklearn.covariance import EllipticEnvelope\n",
    "from sklearn.datasets import make_blobs\n",
    "from sklearn.cluster import KMeans\n",
    "#from fancyimpute import KNN"
   ]
  },
  {
   "cell_type": "markdown",
   "id": "d7b19897",
   "metadata": {},
   "source": [
    "## 4.1 Rescaling a Feature "
   ]
  },
  {
   "cell_type": "code",
   "execution_count": 2,
   "id": "d9873d68",
   "metadata": {
    "ExecuteTime": {
     "end_time": "2021-04-28T12:47:10.135910Z",
     "start_time": "2021-04-28T12:47:10.089968Z"
    }
   },
   "outputs": [
    {
     "data": {
      "text/plain": [
       "array([[0.        ],\n",
       "       [0.3100834 ],\n",
       "       [0.37907506],\n",
       "       [0.44806672],\n",
       "       [1.        ]])"
      ]
     },
     "execution_count": 2,
     "metadata": {},
     "output_type": "execute_result"
    }
   ],
   "source": [
    "# Many of machine learning algorithms assum that all features are on the same scale\n",
    "# good for neural networks\n",
    "feature = np.array([[-550.0],\n",
    "                    [-100.1],\n",
    "                    [0],\n",
    "                    [100.1],\n",
    "                    [900.9]])\n",
    "\n",
    "minmax_scaler = preprocessing.MinMaxScaler(feature_range=(0,1))\n",
    "scaled_feature = minmax_scaler.fit_transform(feature)\n",
    "\n",
    "scaled_feature"
   ]
  },
  {
   "cell_type": "markdown",
   "id": "f66f8c78",
   "metadata": {},
   "source": [
    "## 4.2 Standardizing a Feature "
   ]
  },
  {
   "cell_type": "code",
   "execution_count": 3,
   "id": "e75b5158",
   "metadata": {
    "ExecuteTime": {
     "end_time": "2021-04-28T12:47:10.166923Z",
     "start_time": "2021-04-28T12:47:10.139901Z"
    }
   },
   "outputs": [
    {
     "data": {
      "text/plain": [
       "array([[-0.76058269],\n",
       "       [-0.54177196],\n",
       "       [-0.35009716],\n",
       "       [-0.32271504],\n",
       "       [ 1.97516685]])"
      ]
     },
     "execution_count": 3,
     "metadata": {},
     "output_type": "execute_result"
    }
   ],
   "source": [
    "# good for PCA\n",
    "x = np.array([[-1000.1],\n",
    "              [-200.2],\n",
    "              [500.5],\n",
    "              [600.6],\n",
    "              [9000.9]])\n",
    "\n",
    "scaler = preprocessing.StandardScaler()\n",
    "standardized = scaler.fit_transform(x)\n",
    "standardized"
   ]
  },
  {
   "cell_type": "code",
   "execution_count": 4,
   "id": "41fdab22",
   "metadata": {
    "ExecuteTime": {
     "end_time": "2021-04-28T12:47:10.181870Z",
     "start_time": "2021-04-28T12:47:10.169925Z"
    }
   },
   "outputs": [
    {
     "name": "stdout",
     "output_type": "stream",
     "text": [
      "Mean: 4.4408920985006264e-17\n",
      "Deviation 1.0\n"
     ]
    }
   ],
   "source": [
    "print('Mean:', standardized.mean())\n",
    "print('Deviation', standardized.std())"
   ]
  },
  {
   "cell_type": "code",
   "execution_count": 5,
   "id": "fb60edbf",
   "metadata": {
    "ExecuteTime": {
     "end_time": "2021-04-28T12:47:10.227776Z",
     "start_time": "2021-04-28T12:47:10.185860Z"
    }
   },
   "outputs": [
    {
     "data": {
      "text/plain": [
       "array([[-1.87387612],\n",
       "       [-0.875     ],\n",
       "       [ 0.        ],\n",
       "       [ 0.125     ],\n",
       "       [10.61488511]])"
      ]
     },
     "execution_count": 5,
     "metadata": {},
     "output_type": "execute_result"
    }
   ],
   "source": [
    "# if there are outliers, use RobustScaler, that uses median and quartile range to standardize\n",
    "robust_scaler = preprocessing.RobustScaler()\n",
    "robust_scaler.fit_transform(x)"
   ]
  },
  {
   "cell_type": "markdown",
   "id": "cf976485",
   "metadata": {},
   "source": [
    "## 4.3 Normalizing Observations "
   ]
  },
  {
   "cell_type": "code",
   "execution_count": 6,
   "id": "57fbacd9",
   "metadata": {
    "ExecuteTime": {
     "end_time": "2021-04-28T12:47:10.243704Z",
     "start_time": "2021-04-28T12:47:10.230740Z"
    }
   },
   "outputs": [
    {
     "data": {
      "text/plain": [
       "array([[0.70710678, 0.70710678],\n",
       "       [0.30782029, 0.95144452],\n",
       "       [0.07405353, 0.99725427],\n",
       "       [0.04733062, 0.99887928],\n",
       "       [0.95709822, 0.28976368]])"
      ]
     },
     "execution_count": 6,
     "metadata": {},
     "output_type": "execute_result"
    }
   ],
   "source": [
    "features = np.array([[0.5, 0.5],\n",
    "                     [1.1, 3.4],\n",
    "                     [1.5, 20.2],\n",
    "                     [1.63, 34.4],\n",
    "                     [10.9, 3.3]])\n",
    "\n",
    "normalizer = Normalizer(norm='l2')\n",
    "normalizer.transform(features)"
   ]
  },
  {
   "cell_type": "code",
   "execution_count": 7,
   "id": "7d60cc2e",
   "metadata": {
    "ExecuteTime": {
     "end_time": "2021-04-28T12:47:10.259662Z",
     "start_time": "2021-04-28T12:47:10.249690Z"
    }
   },
   "outputs": [],
   "source": [
    "#Euclidean norm\n",
    "features_l2_norm = Normalizer(norm=\"l2\").transform(features)"
   ]
  },
  {
   "cell_type": "code",
   "execution_count": 8,
   "id": "2e25e4cc",
   "metadata": {
    "ExecuteTime": {
     "end_time": "2021-04-28T12:47:10.291577Z",
     "start_time": "2021-04-28T12:47:10.265648Z"
    }
   },
   "outputs": [
    {
     "data": {
      "text/plain": [
       "array([[0.70710678, 0.70710678],\n",
       "       [0.30782029, 0.95144452],\n",
       "       [0.07405353, 0.99725427],\n",
       "       [0.04733062, 0.99887928],\n",
       "       [0.95709822, 0.28976368]])"
      ]
     },
     "execution_count": 8,
     "metadata": {},
     "output_type": "execute_result"
    }
   ],
   "source": [
    "features_l2_norm"
   ]
  },
  {
   "cell_type": "code",
   "execution_count": 9,
   "id": "ab75d044",
   "metadata": {
    "ExecuteTime": {
     "end_time": "2021-04-28T12:47:10.307533Z",
     "start_time": "2021-04-28T12:47:10.294570Z"
    }
   },
   "outputs": [
    {
     "data": {
      "text/plain": [
       "array([[0.5       , 0.5       ],\n",
       "       [0.24444444, 0.75555556],\n",
       "       [0.06912442, 0.93087558],\n",
       "       [0.04524008, 0.95475992],\n",
       "       [0.76760563, 0.23239437]])"
      ]
     },
     "execution_count": 9,
     "metadata": {},
     "output_type": "execute_result"
    }
   ],
   "source": [
    "#Manhatan norm\n",
    "features_l1_norm = Normalizer(norm=\"l1\").transform(features)\n",
    "features_l1_norm"
   ]
  },
  {
   "cell_type": "code",
   "execution_count": 10,
   "id": "758df3d4",
   "metadata": {
    "ExecuteTime": {
     "end_time": "2021-04-28T12:47:10.339448Z",
     "start_time": "2021-04-28T12:47:10.309531Z"
    }
   },
   "outputs": [
    {
     "name": "stdout",
     "output_type": "stream",
     "text": [
      "Sum of n = 0 observation is equal to 1.0 \n",
      "Sum of n = 1 observation is equal to 1.0 \n",
      "Sum of n = 2 observation is equal to 1.0 \n",
      "Sum of n = 3 observation is equal to 1.0 \n",
      "Sum of n = 4 observation is equal to 1.0 \n"
     ]
    }
   ],
   "source": [
    "for i in range(0, features_l1_norm.shape[0]):\n",
    "    print(f'Sum of n = {i} observation is equal to {features_l1_norm[i,0] + features_l1_norm[i,1]} ')"
   ]
  },
  {
   "cell_type": "markdown",
   "id": "1303bd70",
   "metadata": {},
   "source": [
    "## 4.4 Generating Polynomial and Interaction Features "
   ]
  },
  {
   "cell_type": "code",
   "execution_count": 11,
   "id": "3702906f",
   "metadata": {
    "ExecuteTime": {
     "end_time": "2021-04-28T12:47:10.355405Z",
     "start_time": "2021-04-28T12:47:10.342445Z"
    }
   },
   "outputs": [
    {
     "data": {
      "text/plain": [
       "array([[ 2.,  3.,  4.,  6.,  9.],\n",
       "       [ 2.,  4.,  4.,  8., 16.],\n",
       "       [ 2.,  5.,  4., 10., 25.]])"
      ]
     },
     "execution_count": 11,
     "metadata": {},
     "output_type": "execute_result"
    }
   ],
   "source": [
    "features = np.array([[2,3],\n",
    "                     [2,4],\n",
    "                     [2,5]])\n",
    "\n",
    "polynomial_interaction = PolynomialFeatures(degree=2, include_bias=False) # degree = 2   means x^1 and x^2 \n",
    "polynomial_interaction.fit_transform(features)"
   ]
  },
  {
   "cell_type": "code",
   "execution_count": 12,
   "id": "76fc30a7",
   "metadata": {
    "ExecuteTime": {
     "end_time": "2021-04-28T12:47:10.386323Z",
     "start_time": "2021-04-28T12:47:10.362388Z"
    }
   },
   "outputs": [
    {
     "data": {
      "text/plain": [
       "array([[ 2.,  3.,  6.],\n",
       "       [ 2.,  4.,  8.],\n",
       "       [ 2.,  5., 10.]])"
      ]
     },
     "execution_count": 12,
     "metadata": {},
     "output_type": "execute_result"
    }
   ],
   "source": [
    "interaction = PolynomialFeatures(degree=2, interaction_only=True, include_bias=False)\n",
    "interaction.fit_transform(features)"
   ]
  },
  {
   "cell_type": "markdown",
   "id": "a6f75bab",
   "metadata": {},
   "source": [
    "## 4.5 Transforming Features "
   ]
  },
  {
   "cell_type": "code",
   "execution_count": 13,
   "id": "1d8f5fe5",
   "metadata": {
    "ExecuteTime": {
     "end_time": "2021-04-28T12:47:10.401283Z",
     "start_time": "2021-04-28T12:47:10.390313Z"
    }
   },
   "outputs": [
    {
     "data": {
      "text/plain": [
       "array([[12, 13],\n",
       "       [12, 13],\n",
       "       [12, 13]])"
      ]
     },
     "execution_count": 13,
     "metadata": {},
     "output_type": "execute_result"
    }
   ],
   "source": [
    "features = np.array([[2,3],\n",
    "                     [2,3],\n",
    "                     [2,3]])\n",
    "\n",
    "def add_ten(x):\n",
    "    return x+10\n",
    "\n",
    "ten_transformer = FunctionTransformer(add_ten)\n",
    "ten_transformer.transform(features)"
   ]
  },
  {
   "cell_type": "code",
   "execution_count": 14,
   "id": "c3ca4fcd",
   "metadata": {
    "ExecuteTime": {
     "end_time": "2021-04-28T12:47:10.417241Z",
     "start_time": "2021-04-28T12:47:10.404275Z"
    }
   },
   "outputs": [],
   "source": [
    "df = pd.DataFrame(features, columns=['feature_1', 'feature_2'])"
   ]
  },
  {
   "cell_type": "code",
   "execution_count": 15,
   "id": "df51ddb0",
   "metadata": {
    "ExecuteTime": {
     "end_time": "2021-04-28T12:47:10.463117Z",
     "start_time": "2021-04-28T12:47:10.419235Z"
    }
   },
   "outputs": [
    {
     "data": {
      "text/html": [
       "<div>\n",
       "<style scoped>\n",
       "    .dataframe tbody tr th:only-of-type {\n",
       "        vertical-align: middle;\n",
       "    }\n",
       "\n",
       "    .dataframe tbody tr th {\n",
       "        vertical-align: top;\n",
       "    }\n",
       "\n",
       "    .dataframe thead th {\n",
       "        text-align: right;\n",
       "    }\n",
       "</style>\n",
       "<table border=\"1\" class=\"dataframe\">\n",
       "  <thead>\n",
       "    <tr style=\"text-align: right;\">\n",
       "      <th></th>\n",
       "      <th>feature_1</th>\n",
       "      <th>feature_2</th>\n",
       "    </tr>\n",
       "  </thead>\n",
       "  <tbody>\n",
       "    <tr>\n",
       "      <th>0</th>\n",
       "      <td>12</td>\n",
       "      <td>13</td>\n",
       "    </tr>\n",
       "    <tr>\n",
       "      <th>1</th>\n",
       "      <td>12</td>\n",
       "      <td>13</td>\n",
       "    </tr>\n",
       "    <tr>\n",
       "      <th>2</th>\n",
       "      <td>12</td>\n",
       "      <td>13</td>\n",
       "    </tr>\n",
       "  </tbody>\n",
       "</table>\n",
       "</div>"
      ],
      "text/plain": [
       "   feature_1  feature_2\n",
       "0         12         13\n",
       "1         12         13\n",
       "2         12         13"
      ]
     },
     "execution_count": 15,
     "metadata": {},
     "output_type": "execute_result"
    }
   ],
   "source": [
    "df.apply(add_ten)"
   ]
  },
  {
   "cell_type": "markdown",
   "id": "5fdddabe",
   "metadata": {},
   "source": [
    "## 4.6 Detecting Outliers "
   ]
  },
  {
   "cell_type": "code",
   "execution_count": 16,
   "id": "14cc5cf2",
   "metadata": {
    "ExecuteTime": {
     "end_time": "2021-04-28T12:47:10.540039Z",
     "start_time": "2021-04-28T12:47:10.467108Z"
    }
   },
   "outputs": [
    {
     "data": {
      "text/plain": [
       "array([-1,  1,  1,  1,  1,  1,  1,  1,  1,  1])"
      ]
     },
     "execution_count": 16,
     "metadata": {},
     "output_type": "execute_result"
    }
   ],
   "source": [
    "features, _ = make_blobs(n_samples =10,\n",
    "                         n_features = 2,\n",
    "                         centers = 1,\n",
    "                         random_state = 1)\n",
    "# replaces with extrem values\n",
    "features[0,0] = 10000\n",
    "features[0,1] = 10000\n",
    "\n",
    "outlier_detector = EllipticEnvelope(contamination=.1)\n",
    "outlier_detector.fit(features)\n",
    "outlier_detector.predict(features) # -1 means outliers"
   ]
  },
  {
   "cell_type": "code",
   "execution_count": 17,
   "id": "4aa8875b",
   "metadata": {
    "ExecuteTime": {
     "end_time": "2021-04-28T12:47:10.555962Z",
     "start_time": "2021-04-28T12:47:10.542023Z"
    }
   },
   "outputs": [
    {
     "data": {
      "text/plain": [
       "(array([0], dtype=int64),)"
      ]
     },
     "execution_count": 17,
     "metadata": {},
     "output_type": "execute_result"
    }
   ],
   "source": [
    "feature = features[:,0]\n",
    "\n",
    "def indicies_of_outliers(x):\n",
    "    q1, q3 = np.percentile(x, [25, 75])\n",
    "    iqr = q3 - q1 # interquartile range\n",
    "    lower_bound = q1 - (iqr * 1.5) # lower limits for outliers detection\n",
    "    upper_bound = q3 + (iqr * 1.5) # upper limits for outliers detection\n",
    "    \n",
    "    return np.where((x>upper_bound) | (x<lower_bound))\n",
    "\n",
    "indicies_of_outliers(feature)"
   ]
  },
  {
   "cell_type": "markdown",
   "id": "c5f241b0",
   "metadata": {},
   "source": [
    "## 4.7 Handling Outliers "
   ]
  },
  {
   "cell_type": "code",
   "execution_count": 18,
   "id": "37c1f611",
   "metadata": {
    "ExecuteTime": {
     "end_time": "2021-04-28T12:47:10.587876Z",
     "start_time": "2021-04-28T12:47:10.558955Z"
    }
   },
   "outputs": [],
   "source": [
    "houses = pd.DataFrame()\n",
    "houses['Price'] =  [53433, 392333, 293222, 4322032]\n",
    "houses['Bathrooms'] = [2, 3.5, 2, 116]\n",
    "houses['Square_Feet']= [1500, 2500, 1500, 48000]"
   ]
  },
  {
   "cell_type": "code",
   "execution_count": 19,
   "id": "51c03c02",
   "metadata": {
    "ExecuteTime": {
     "end_time": "2021-04-28T12:47:10.618992Z",
     "start_time": "2021-04-28T12:47:10.589872Z"
    }
   },
   "outputs": [
    {
     "data": {
      "text/html": [
       "<div>\n",
       "<style scoped>\n",
       "    .dataframe tbody tr th:only-of-type {\n",
       "        vertical-align: middle;\n",
       "    }\n",
       "\n",
       "    .dataframe tbody tr th {\n",
       "        vertical-align: top;\n",
       "    }\n",
       "\n",
       "    .dataframe thead th {\n",
       "        text-align: right;\n",
       "    }\n",
       "</style>\n",
       "<table border=\"1\" class=\"dataframe\">\n",
       "  <thead>\n",
       "    <tr style=\"text-align: right;\">\n",
       "      <th></th>\n",
       "      <th>Price</th>\n",
       "      <th>Bathrooms</th>\n",
       "      <th>Square_Feet</th>\n",
       "    </tr>\n",
       "  </thead>\n",
       "  <tbody>\n",
       "    <tr>\n",
       "      <th>0</th>\n",
       "      <td>53433</td>\n",
       "      <td>2.0</td>\n",
       "      <td>1500</td>\n",
       "    </tr>\n",
       "    <tr>\n",
       "      <th>1</th>\n",
       "      <td>392333</td>\n",
       "      <td>3.5</td>\n",
       "      <td>2500</td>\n",
       "    </tr>\n",
       "    <tr>\n",
       "      <th>2</th>\n",
       "      <td>293222</td>\n",
       "      <td>2.0</td>\n",
       "      <td>1500</td>\n",
       "    </tr>\n",
       "  </tbody>\n",
       "</table>\n",
       "</div>"
      ],
      "text/plain": [
       "    Price  Bathrooms  Square_Feet\n",
       "0   53433        2.0         1500\n",
       "1  392333        3.5         2500\n",
       "2  293222        2.0         1500"
      ]
     },
     "execution_count": 19,
     "metadata": {},
     "output_type": "execute_result"
    }
   ],
   "source": [
    "houses[houses['Bathrooms'] < 20]"
   ]
  },
  {
   "cell_type": "code",
   "execution_count": 20,
   "id": "ece58325",
   "metadata": {
    "ExecuteTime": {
     "end_time": "2021-04-28T12:47:10.633953Z",
     "start_time": "2021-04-28T12:47:10.620987Z"
    }
   },
   "outputs": [],
   "source": [
    "#Marking as outliers\n",
    "houses['Outliers'] = np.where(houses[\"Bathrooms\"] < 20, 0, 1) # fills with 0 for true and 1 for false"
   ]
  },
  {
   "cell_type": "code",
   "execution_count": 21,
   "id": "7c996b69",
   "metadata": {
    "ExecuteTime": {
     "end_time": "2021-04-28T12:47:10.665866Z",
     "start_time": "2021-04-28T12:47:10.638938Z"
    }
   },
   "outputs": [
    {
     "data": {
      "text/html": [
       "<div>\n",
       "<style scoped>\n",
       "    .dataframe tbody tr th:only-of-type {\n",
       "        vertical-align: middle;\n",
       "    }\n",
       "\n",
       "    .dataframe tbody tr th {\n",
       "        vertical-align: top;\n",
       "    }\n",
       "\n",
       "    .dataframe thead th {\n",
       "        text-align: right;\n",
       "    }\n",
       "</style>\n",
       "<table border=\"1\" class=\"dataframe\">\n",
       "  <thead>\n",
       "    <tr style=\"text-align: right;\">\n",
       "      <th></th>\n",
       "      <th>Price</th>\n",
       "      <th>Bathrooms</th>\n",
       "      <th>Square_Feet</th>\n",
       "      <th>Outliers</th>\n",
       "    </tr>\n",
       "  </thead>\n",
       "  <tbody>\n",
       "    <tr>\n",
       "      <th>0</th>\n",
       "      <td>53433</td>\n",
       "      <td>2.0</td>\n",
       "      <td>1500</td>\n",
       "      <td>0</td>\n",
       "    </tr>\n",
       "    <tr>\n",
       "      <th>1</th>\n",
       "      <td>392333</td>\n",
       "      <td>3.5</td>\n",
       "      <td>2500</td>\n",
       "      <td>0</td>\n",
       "    </tr>\n",
       "    <tr>\n",
       "      <th>2</th>\n",
       "      <td>293222</td>\n",
       "      <td>2.0</td>\n",
       "      <td>1500</td>\n",
       "      <td>0</td>\n",
       "    </tr>\n",
       "    <tr>\n",
       "      <th>3</th>\n",
       "      <td>4322032</td>\n",
       "      <td>116.0</td>\n",
       "      <td>48000</td>\n",
       "      <td>1</td>\n",
       "    </tr>\n",
       "  </tbody>\n",
       "</table>\n",
       "</div>"
      ],
      "text/plain": [
       "     Price  Bathrooms  Square_Feet  Outliers\n",
       "0    53433        2.0         1500         0\n",
       "1   392333        3.5         2500         0\n",
       "2   293222        2.0         1500         0\n",
       "3  4322032      116.0        48000         1"
      ]
     },
     "execution_count": 21,
     "metadata": {},
     "output_type": "execute_result"
    }
   ],
   "source": [
    "houses"
   ]
  },
  {
   "cell_type": "code",
   "execution_count": 22,
   "id": "0325b65f",
   "metadata": {
    "ExecuteTime": {
     "end_time": "2021-04-28T12:47:10.697780Z",
     "start_time": "2021-04-28T12:47:10.668858Z"
    }
   },
   "outputs": [
    {
     "data": {
      "text/html": [
       "<div>\n",
       "<style scoped>\n",
       "    .dataframe tbody tr th:only-of-type {\n",
       "        vertical-align: middle;\n",
       "    }\n",
       "\n",
       "    .dataframe tbody tr th {\n",
       "        vertical-align: top;\n",
       "    }\n",
       "\n",
       "    .dataframe thead th {\n",
       "        text-align: right;\n",
       "    }\n",
       "</style>\n",
       "<table border=\"1\" class=\"dataframe\">\n",
       "  <thead>\n",
       "    <tr style=\"text-align: right;\">\n",
       "      <th></th>\n",
       "      <th>Price</th>\n",
       "      <th>Bathrooms</th>\n",
       "      <th>Square_Feet</th>\n",
       "      <th>Outliers</th>\n",
       "      <th>Log_Of_Square_Feet</th>\n",
       "    </tr>\n",
       "  </thead>\n",
       "  <tbody>\n",
       "    <tr>\n",
       "      <th>0</th>\n",
       "      <td>53433</td>\n",
       "      <td>2.0</td>\n",
       "      <td>1500</td>\n",
       "      <td>0</td>\n",
       "      <td>7.313220</td>\n",
       "    </tr>\n",
       "    <tr>\n",
       "      <th>1</th>\n",
       "      <td>392333</td>\n",
       "      <td>3.5</td>\n",
       "      <td>2500</td>\n",
       "      <td>0</td>\n",
       "      <td>7.824046</td>\n",
       "    </tr>\n",
       "    <tr>\n",
       "      <th>2</th>\n",
       "      <td>293222</td>\n",
       "      <td>2.0</td>\n",
       "      <td>1500</td>\n",
       "      <td>0</td>\n",
       "      <td>7.313220</td>\n",
       "    </tr>\n",
       "    <tr>\n",
       "      <th>3</th>\n",
       "      <td>4322032</td>\n",
       "      <td>116.0</td>\n",
       "      <td>48000</td>\n",
       "      <td>1</td>\n",
       "      <td>10.778956</td>\n",
       "    </tr>\n",
       "  </tbody>\n",
       "</table>\n",
       "</div>"
      ],
      "text/plain": [
       "     Price  Bathrooms  Square_Feet  Outliers  Log_Of_Square_Feet\n",
       "0    53433        2.0         1500         0            7.313220\n",
       "1   392333        3.5         2500         0            7.824046\n",
       "2   293222        2.0         1500         0            7.313220\n",
       "3  4322032      116.0        48000         1           10.778956"
      ]
     },
     "execution_count": 22,
     "metadata": {},
     "output_type": "execute_result"
    }
   ],
   "source": [
    "houses['Log_Of_Square_Feet'] = [np.log(x) for x in houses['Square_Feet']]\n",
    "houses"
   ]
  },
  {
   "cell_type": "code",
   "execution_count": 23,
   "id": "131f35a4",
   "metadata": {
    "ExecuteTime": {
     "end_time": "2021-04-28T12:47:10.729695Z",
     "start_time": "2021-04-28T12:47:10.701770Z"
    }
   },
   "outputs": [
    {
     "data": {
      "text/html": [
       "<div>\n",
       "<style scoped>\n",
       "    .dataframe tbody tr th:only-of-type {\n",
       "        vertical-align: middle;\n",
       "    }\n",
       "\n",
       "    .dataframe tbody tr th {\n",
       "        vertical-align: top;\n",
       "    }\n",
       "\n",
       "    .dataframe thead th {\n",
       "        text-align: right;\n",
       "    }\n",
       "</style>\n",
       "<table border=\"1\" class=\"dataframe\">\n",
       "  <thead>\n",
       "    <tr style=\"text-align: right;\">\n",
       "      <th></th>\n",
       "      <th>Price</th>\n",
       "      <th>Bathrooms</th>\n",
       "      <th>Square_Feet</th>\n",
       "      <th>Outliers</th>\n",
       "      <th>Log_Of_Square_Feet</th>\n",
       "      <th>Log_Of_Square_Feet_Apply</th>\n",
       "    </tr>\n",
       "  </thead>\n",
       "  <tbody>\n",
       "    <tr>\n",
       "      <th>0</th>\n",
       "      <td>53433</td>\n",
       "      <td>2.0</td>\n",
       "      <td>1500</td>\n",
       "      <td>0</td>\n",
       "      <td>7.313220</td>\n",
       "      <td>7.313220</td>\n",
       "    </tr>\n",
       "    <tr>\n",
       "      <th>1</th>\n",
       "      <td>392333</td>\n",
       "      <td>3.5</td>\n",
       "      <td>2500</td>\n",
       "      <td>0</td>\n",
       "      <td>7.824046</td>\n",
       "      <td>7.824046</td>\n",
       "    </tr>\n",
       "    <tr>\n",
       "      <th>2</th>\n",
       "      <td>293222</td>\n",
       "      <td>2.0</td>\n",
       "      <td>1500</td>\n",
       "      <td>0</td>\n",
       "      <td>7.313220</td>\n",
       "      <td>7.313220</td>\n",
       "    </tr>\n",
       "    <tr>\n",
       "      <th>3</th>\n",
       "      <td>4322032</td>\n",
       "      <td>116.0</td>\n",
       "      <td>48000</td>\n",
       "      <td>1</td>\n",
       "      <td>10.778956</td>\n",
       "      <td>10.778956</td>\n",
       "    </tr>\n",
       "  </tbody>\n",
       "</table>\n",
       "</div>"
      ],
      "text/plain": [
       "     Price  Bathrooms  Square_Feet  Outliers  Log_Of_Square_Feet  \\\n",
       "0    53433        2.0         1500         0            7.313220   \n",
       "1   392333        3.5         2500         0            7.824046   \n",
       "2   293222        2.0         1500         0            7.313220   \n",
       "3  4322032      116.0        48000         1           10.778956   \n",
       "\n",
       "   Log_Of_Square_Feet_Apply  \n",
       "0                  7.313220  \n",
       "1                  7.824046  \n",
       "2                  7.313220  \n",
       "3                 10.778956  "
      ]
     },
     "execution_count": 23,
     "metadata": {},
     "output_type": "execute_result"
    }
   ],
   "source": [
    "houses['Log_Of_Square_Feet_Apply'] = houses.Square_Feet.apply(np.log)\n",
    "houses"
   ]
  },
  {
   "cell_type": "markdown",
   "id": "e27a4581",
   "metadata": {},
   "source": [
    "## 4.8 Discretizating Features "
   ]
  },
  {
   "cell_type": "code",
   "execution_count": 28,
   "id": "47935cc4",
   "metadata": {
    "ExecuteTime": {
     "end_time": "2021-04-28T12:50:39.269379Z",
     "start_time": "2021-04-28T12:50:39.249433Z"
    }
   },
   "outputs": [
    {
     "data": {
      "text/plain": [
       "array([[0],\n",
       "       [0],\n",
       "       [1],\n",
       "       [1],\n",
       "       [1]])"
      ]
     },
     "execution_count": 28,
     "metadata": {},
     "output_type": "execute_result"
    }
   ],
   "source": [
    "age = np.array([[6], \n",
    "                [12],\n",
    "                [20],\n",
    "                [36],\n",
    "                [65]])\n",
    "# by threshold\n",
    "binarizer = Binarizer(threshold=18)\n",
    "\n",
    "binarizer.fit_transform(age)"
   ]
  },
  {
   "cell_type": "code",
   "execution_count": 29,
   "id": "b59002f1",
   "metadata": {
    "ExecuteTime": {
     "end_time": "2021-04-28T12:50:52.398387Z",
     "start_time": "2021-04-28T12:50:52.386413Z"
    }
   },
   "outputs": [
    {
     "data": {
      "text/plain": [
       "array([[0],\n",
       "       [0],\n",
       "       [1],\n",
       "       [2],\n",
       "       [3]], dtype=int64)"
      ]
     },
     "execution_count": 29,
     "metadata": {},
     "output_type": "execute_result"
    }
   ],
   "source": [
    "# by multiple thresholds\n",
    "np.digitize(age, bins=[20, 30, 64])"
   ]
  },
  {
   "cell_type": "code",
   "execution_count": 33,
   "id": "b643eb86",
   "metadata": {
    "ExecuteTime": {
     "end_time": "2021-04-28T12:54:19.650982Z",
     "start_time": "2021-04-28T12:54:19.602112Z"
    }
   },
   "outputs": [
    {
     "data": {
      "text/html": [
       "<div>\n",
       "<style scoped>\n",
       "    .dataframe tbody tr th:only-of-type {\n",
       "        vertical-align: middle;\n",
       "    }\n",
       "\n",
       "    .dataframe tbody tr th {\n",
       "        vertical-align: top;\n",
       "    }\n",
       "\n",
       "    .dataframe thead th {\n",
       "        text-align: right;\n",
       "    }\n",
       "</style>\n",
       "<table border=\"1\" class=\"dataframe\">\n",
       "  <thead>\n",
       "    <tr style=\"text-align: right;\">\n",
       "      <th></th>\n",
       "      <th>feature_1</th>\n",
       "      <th>feature_2</th>\n",
       "      <th>group</th>\n",
       "    </tr>\n",
       "  </thead>\n",
       "  <tbody>\n",
       "    <tr>\n",
       "      <th>0</th>\n",
       "      <td>-9.877554</td>\n",
       "      <td>-3.336145</td>\n",
       "      <td>0</td>\n",
       "    </tr>\n",
       "    <tr>\n",
       "      <th>1</th>\n",
       "      <td>-7.287210</td>\n",
       "      <td>-8.353986</td>\n",
       "      <td>2</td>\n",
       "    </tr>\n",
       "    <tr>\n",
       "      <th>2</th>\n",
       "      <td>-6.943061</td>\n",
       "      <td>-7.023744</td>\n",
       "      <td>2</td>\n",
       "    </tr>\n",
       "    <tr>\n",
       "      <th>3</th>\n",
       "      <td>-7.440167</td>\n",
       "      <td>-8.791959</td>\n",
       "      <td>2</td>\n",
       "    </tr>\n",
       "    <tr>\n",
       "      <th>4</th>\n",
       "      <td>-6.641388</td>\n",
       "      <td>-8.075888</td>\n",
       "      <td>2</td>\n",
       "    </tr>\n",
       "  </tbody>\n",
       "</table>\n",
       "</div>"
      ],
      "text/plain": [
       "   feature_1  feature_2  group\n",
       "0  -9.877554  -3.336145      0\n",
       "1  -7.287210  -8.353986      2\n",
       "2  -6.943061  -7.023744      2\n",
       "3  -7.440167  -8.791959      2\n",
       "4  -6.641388  -8.075888      2"
      ]
     },
     "execution_count": 33,
     "metadata": {},
     "output_type": "execute_result"
    }
   ],
   "source": [
    "features, _ = make_blobs(n_samples = 50, n_features = 2, centers = 3, random_state = 1)\n",
    "dataframe = pd.DataFrame(features, columns=['feature_1', 'feature_2'])\n",
    "clusterer = KMeans(3, random_state = 0)\n",
    "clusterer.fit(features)\n",
    "dataframe['group'] = clusterer.predict(features)\n",
    "dataframe.head(5)"
   ]
  },
  {
   "cell_type": "markdown",
   "id": "cd6c9aaa",
   "metadata": {},
   "source": [
    "## 4.10 Deleting Observations with Missing Values"
   ]
  },
  {
   "cell_type": "code",
   "execution_count": 37,
   "id": "88bf1e9d",
   "metadata": {
    "ExecuteTime": {
     "end_time": "2021-04-28T12:57:38.095383Z",
     "start_time": "2021-04-28T12:57:38.078430Z"
    }
   },
   "outputs": [
    {
     "data": {
      "text/plain": [
       "array([[ 1.1, 11.1],\n",
       "       [ 2.2, 22.2],\n",
       "       [ 3.3, 33.3],\n",
       "       [ 4.4, 44.4]])"
      ]
     },
     "execution_count": 37,
     "metadata": {},
     "output_type": "execute_result"
    }
   ],
   "source": [
    "features = np.array([[1.1, 11.1],\n",
    "                     [2.2, 22.2],\n",
    "                     [3.3, 33.3],\n",
    "                     [4.4, 44.4],\n",
    "                     [np.nan, 55]])\n",
    "\n",
    "#features that are not (denoted by ~) missing valures\n",
    "features[~np.isnan(features).any(axis=1)]"
   ]
  },
  {
   "cell_type": "code",
   "execution_count": 39,
   "id": "a815ce7b",
   "metadata": {
    "ExecuteTime": {
     "end_time": "2021-04-28T12:58:09.777830Z",
     "start_time": "2021-04-28T12:58:09.765861Z"
    }
   },
   "outputs": [
    {
     "data": {
      "text/html": [
       "<div>\n",
       "<style scoped>\n",
       "    .dataframe tbody tr th:only-of-type {\n",
       "        vertical-align: middle;\n",
       "    }\n",
       "\n",
       "    .dataframe tbody tr th {\n",
       "        vertical-align: top;\n",
       "    }\n",
       "\n",
       "    .dataframe thead th {\n",
       "        text-align: right;\n",
       "    }\n",
       "</style>\n",
       "<table border=\"1\" class=\"dataframe\">\n",
       "  <thead>\n",
       "    <tr style=\"text-align: right;\">\n",
       "      <th></th>\n",
       "      <th>feture_1</th>\n",
       "      <th>feature_2</th>\n",
       "    </tr>\n",
       "  </thead>\n",
       "  <tbody>\n",
       "    <tr>\n",
       "      <th>0</th>\n",
       "      <td>1.1</td>\n",
       "      <td>11.1</td>\n",
       "    </tr>\n",
       "    <tr>\n",
       "      <th>1</th>\n",
       "      <td>2.2</td>\n",
       "      <td>22.2</td>\n",
       "    </tr>\n",
       "    <tr>\n",
       "      <th>2</th>\n",
       "      <td>3.3</td>\n",
       "      <td>33.3</td>\n",
       "    </tr>\n",
       "    <tr>\n",
       "      <th>3</th>\n",
       "      <td>4.4</td>\n",
       "      <td>44.4</td>\n",
       "    </tr>\n",
       "  </tbody>\n",
       "</table>\n",
       "</div>"
      ],
      "text/plain": [
       "   feture_1  feature_2\n",
       "0       1.1       11.1\n",
       "1       2.2       22.2\n",
       "2       3.3       33.3\n",
       "3       4.4       44.4"
      ]
     },
     "execution_count": 39,
     "metadata": {},
     "output_type": "execute_result"
    }
   ],
   "source": [
    "dataframe = pd.DataFrame(features, columns = ['feture_1', 'feature_2'])\n",
    "dataframe.dropna()"
   ]
  },
  {
   "cell_type": "markdown",
   "id": "77394487",
   "metadata": {},
   "source": [
    "## 4.11 Imputing Missing Values "
   ]
  },
  {
   "cell_type": "code",
   "execution_count": 50,
   "id": "c44ff433",
   "metadata": {
    "ExecuteTime": {
     "end_time": "2021-04-28T13:26:49.744886Z",
     "start_time": "2021-04-28T13:26:49.735884Z"
    }
   },
   "outputs": [],
   "source": [
    "features, _ = make_blobs(n_samples = 1000, n_features = 2, random_state = 1)\n",
    "scaler = StandardScaler()\n",
    "standardized_features = scaler.fit_transform(features)\n",
    "true_value = standardized_features[0,0]\n",
    "standardized_features[0,0] = np.nan"
   ]
  },
  {
   "cell_type": "code",
   "execution_count": null,
   "id": "f7a2b6a1",
   "metadata": {},
   "outputs": [],
   "source": [
    "#with KNN\n",
    "features_knnn_imputed = KNN(k = 5, verbose = 0).complete(standardized_features)\n",
    "\n",
    "print('True value:', true_value)\n",
    "print('Imputed value:', features_knn_imputed[0,0])"
   ]
  },
  {
   "cell_type": "code",
   "execution_count": null,
   "id": "3098b4b6",
   "metadata": {},
   "outputs": [],
   "source": [
    "#with mean\n",
    "mean_imputer = Imputer(strategy=\"mean\", axis = 0)\n",
    "features_mean_imputed = mean_imputer.fit_transform(features)\n",
    "\n",
    "print('True value:', true_vale)\n",
    "print('Imputed value:', features_mean_imputed[0,0])"
   ]
  }
 ],
 "metadata": {
  "kernelspec": {
   "display_name": "Python 3",
   "language": "python",
   "name": "python3"
  },
  "language_info": {
   "codemirror_mode": {
    "name": "ipython",
    "version": 3
   },
   "file_extension": ".py",
   "mimetype": "text/x-python",
   "name": "python",
   "nbconvert_exporter": "python",
   "pygments_lexer": "ipython3",
   "version": "3.8.5"
  }
 },
 "nbformat": 4,
 "nbformat_minor": 5
}
