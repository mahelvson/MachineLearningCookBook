{
 "cells": [
  {
   "cell_type": "markdown",
   "id": "19f5385b",
   "metadata": {},
   "source": [
    "<h1> Vectors, Matrices, and Arrays </h1>"
   ]
  },
  {
   "cell_type": "markdown",
   "id": "e2469863",
   "metadata": {},
   "source": [
    "# 0.0 Imports "
   ]
  },
  {
   "cell_type": "code",
   "execution_count": 8,
   "id": "9f2220fd",
   "metadata": {
    "ExecuteTime": {
     "end_time": "2021-04-15T19:18:23.054141Z",
     "start_time": "2021-04-15T19:18:22.252850Z"
    }
   },
   "outputs": [],
   "source": [
    "import numpy as np\n",
    "from scipy import sparse"
   ]
  },
  {
   "cell_type": "markdown",
   "id": "24dbd9d7",
   "metadata": {},
   "source": [
    "# 1.0 Introduction"
   ]
  },
  {
   "cell_type": "markdown",
   "id": "bf58d99b",
   "metadata": {},
   "source": [
    "## 1.1 Creating a Vector"
   ]
  },
  {
   "cell_type": "code",
   "execution_count": 2,
   "id": "61f6a782",
   "metadata": {
    "ExecuteTime": {
     "end_time": "2021-04-15T19:14:08.023885Z",
     "start_time": "2021-04-15T19:14:08.011908Z"
    }
   },
   "outputs": [
    {
     "data": {
      "text/plain": [
       "array([1, 2, 3])"
      ]
     },
     "execution_count": 2,
     "metadata": {},
     "output_type": "execute_result"
    }
   ],
   "source": [
    "vector_row = np.array([1,2,3])\n",
    "vector_row"
   ]
  },
  {
   "cell_type": "code",
   "execution_count": 10,
   "id": "fedd0aa1",
   "metadata": {
    "ExecuteTime": {
     "end_time": "2021-04-15T19:19:21.593317Z",
     "start_time": "2021-04-15T19:19:21.578357Z"
    }
   },
   "outputs": [
    {
     "data": {
      "text/plain": [
       "array([[1],\n",
       "       [2],\n",
       "       [3]])"
      ]
     },
     "execution_count": 10,
     "metadata": {},
     "output_type": "execute_result"
    }
   ],
   "source": [
    "vector_columns = np.array([[1],\n",
    "                           [2],\n",
    "                           [3]])\n",
    "vector_columns"
   ]
  },
  {
   "cell_type": "markdown",
   "id": "38dcbb30",
   "metadata": {},
   "source": [
    "## 1.2 Creating a Matrix "
   ]
  },
  {
   "cell_type": "code",
   "execution_count": 11,
   "id": "99fcb550",
   "metadata": {
    "ExecuteTime": {
     "end_time": "2021-04-15T19:19:23.628451Z",
     "start_time": "2021-04-15T19:19:23.618481Z"
    }
   },
   "outputs": [
    {
     "data": {
      "text/plain": [
       "array([[1, 2],\n",
       "       [3, 4],\n",
       "       [4, 5]])"
      ]
     },
     "execution_count": 11,
     "metadata": {},
     "output_type": "execute_result"
    }
   ],
   "source": [
    "matrix = np.array([[1,2],\n",
    "                   [3,4],\n",
    "                   [4,5]])\n",
    "matrix"
   ]
  },
  {
   "cell_type": "code",
   "execution_count": 12,
   "id": "2f133acc",
   "metadata": {
    "ExecuteTime": {
     "end_time": "2021-04-15T19:19:25.061454Z",
     "start_time": "2021-04-15T19:19:25.053451Z"
    }
   },
   "outputs": [
    {
     "data": {
      "text/plain": [
       "matrix([[1, 2],\n",
       "        [3, 4],\n",
       "        [4, 5]])"
      ]
     },
     "execution_count": 12,
     "metadata": {},
     "output_type": "execute_result"
    }
   ],
   "source": [
    "matrix_object = np.mat([[1,2],\n",
    "                        [3,4],\n",
    "                        [4,5]])\n",
    "matrix_object"
   ]
  },
  {
   "cell_type": "markdown",
   "id": "754b1538",
   "metadata": {},
   "source": [
    "## 1.3 Sparse Matrix "
   ]
  },
  {
   "cell_type": "code",
   "execution_count": 13,
   "id": "c582a4fd",
   "metadata": {
    "ExecuteTime": {
     "end_time": "2021-04-15T19:19:31.497437Z",
     "start_time": "2021-04-15T19:19:31.481818Z"
    }
   },
   "outputs": [],
   "source": [
    "matrix = np.array([[0,0],\n",
    "                   [0,1],\n",
    "                   [3,0]])"
   ]
  },
  {
   "cell_type": "code",
   "execution_count": 16,
   "id": "da1b4d52",
   "metadata": {
    "ExecuteTime": {
     "end_time": "2021-04-15T19:22:02.386304Z",
     "start_time": "2021-04-15T19:22:02.370333Z"
    }
   },
   "outputs": [
    {
     "name": "stdout",
     "output_type": "stream",
     "text": [
      "  (1, 1)\t1\n",
      "  (2, 0)\t3\n"
     ]
    }
   ],
   "source": [
    "# A sparse matrix is a matrix that have just a few nonzero values\n",
    "# Is possible to storage it more efficiently using the sparse  constructor from scipy lib\n",
    "matrix_sparse = sparse.csr_matrix(matrix)\n",
    "print(matrix_sparse)"
   ]
  },
  {
   "cell_type": "code",
   "execution_count": 19,
   "id": "855e7590",
   "metadata": {
    "ExecuteTime": {
     "end_time": "2021-04-15T19:25:03.547031Z",
     "start_time": "2021-04-15T19:25:03.534066Z"
    }
   },
   "outputs": [
    {
     "name": "stdout",
     "output_type": "stream",
     "text": [
      "  (1, 1)\t1\n",
      "  (2, 0)\t3\n",
      "\n",
      "  (1, 1)\t1\n",
      "  (2, 0)\t3\n"
     ]
    }
   ],
   "source": [
    "# It's a huge difference between the two representations in termos of storage\n",
    "matrix_large = np.array([[0, 0, 0, 0, 0, 0, 0, 0, 0],\n",
    "                         [0, 1, 0, 0, 0, 0, 0, 0, 0],\n",
    "                         [3, 0, 0, 0, 0, 0, 0, 0, 0]])\n",
    "\n",
    "matrix_large_sparse = sparse.csr_matrix(matrix_large)\n",
    "print(matrix_sparse)\n",
    "print(\"\")\n",
    "print(matrix_large_sparse)\n",
    "                         \n"
   ]
  },
  {
   "cell_type": "markdown",
   "id": "c117d69b",
   "metadata": {},
   "source": [
    "## 1.4 Selecting Elements "
   ]
  },
  {
   "cell_type": "code",
   "execution_count": 35,
   "id": "c53be306",
   "metadata": {
    "ExecuteTime": {
     "end_time": "2021-04-15T19:31:25.579410Z",
     "start_time": "2021-04-15T19:31:25.564078Z"
    }
   },
   "outputs": [
    {
     "name": "stdout",
     "output_type": "stream",
     "text": [
      "3\n",
      "5\n"
     ]
    }
   ],
   "source": [
    "vector = np.array([1, 2, 3, 4, 5, 6])\n",
    "matrix = np.array([[1, 2, 3],\n",
    "                   [4, 5, 6],\n",
    "                   [7, 8, 9]])\n",
    "\n",
    "print(vector[2])\n",
    "\n",
    "print(matrix[1,1])"
   ]
  },
  {
   "cell_type": "code",
   "execution_count": 22,
   "id": "685a9b7e",
   "metadata": {
    "ExecuteTime": {
     "end_time": "2021-04-15T19:28:20.398561Z",
     "start_time": "2021-04-15T19:28:20.386566Z"
    }
   },
   "outputs": [
    {
     "data": {
      "text/plain": [
       "array([1, 2, 3, 4, 5, 6])"
      ]
     },
     "execution_count": 22,
     "metadata": {},
     "output_type": "execute_result"
    }
   ],
   "source": [
    "vector[:]"
   ]
  },
  {
   "cell_type": "code",
   "execution_count": 23,
   "id": "bcfa6532",
   "metadata": {
    "ExecuteTime": {
     "end_time": "2021-04-15T19:28:28.138941Z",
     "start_time": "2021-04-15T19:28:28.123952Z"
    }
   },
   "outputs": [
    {
     "data": {
      "text/plain": [
       "array([1, 2, 3])"
      ]
     },
     "execution_count": 23,
     "metadata": {},
     "output_type": "execute_result"
    }
   ],
   "source": [
    "vector[:3]"
   ]
  },
  {
   "cell_type": "code",
   "execution_count": 24,
   "id": "49c3036a",
   "metadata": {
    "ExecuteTime": {
     "end_time": "2021-04-15T19:28:58.065336Z",
     "start_time": "2021-04-15T19:28:58.049713Z"
    }
   },
   "outputs": [
    {
     "data": {
      "text/plain": [
       "array([4, 5, 6])"
      ]
     },
     "execution_count": 24,
     "metadata": {},
     "output_type": "execute_result"
    }
   ],
   "source": [
    "vector[3:]"
   ]
  },
  {
   "cell_type": "code",
   "execution_count": 28,
   "id": "4719e1ec",
   "metadata": {
    "ExecuteTime": {
     "end_time": "2021-04-15T19:29:31.789309Z",
     "start_time": "2021-04-15T19:29:31.774349Z"
    }
   },
   "outputs": [
    {
     "data": {
      "text/plain": [
       "6"
      ]
     },
     "execution_count": 28,
     "metadata": {},
     "output_type": "execute_result"
    }
   ],
   "source": [
    "vector[-1]"
   ]
  },
  {
   "cell_type": "code",
   "execution_count": 33,
   "id": "92dc7af5",
   "metadata": {
    "ExecuteTime": {
     "end_time": "2021-04-15T19:30:00.978074Z",
     "start_time": "2021-04-15T19:30:00.963327Z"
    }
   },
   "outputs": [
    {
     "data": {
      "text/plain": [
       "array([2, 3])"
      ]
     },
     "execution_count": 33,
     "metadata": {},
     "output_type": "execute_result"
    }
   ],
   "source": [
    "vector[1:3]"
   ]
  },
  {
   "cell_type": "code",
   "execution_count": 36,
   "id": "d288feee",
   "metadata": {
    "ExecuteTime": {
     "end_time": "2021-04-15T19:31:28.460228Z",
     "start_time": "2021-04-15T19:31:28.453247Z"
    }
   },
   "outputs": [
    {
     "data": {
      "text/plain": [
       "array([[1, 2, 3],\n",
       "       [4, 5, 6]])"
      ]
     },
     "execution_count": 36,
     "metadata": {},
     "output_type": "execute_result"
    }
   ],
   "source": [
    "matrix[:2,:]"
   ]
  },
  {
   "cell_type": "code",
   "execution_count": 42,
   "id": "23562cf4",
   "metadata": {
    "ExecuteTime": {
     "end_time": "2021-04-15T19:32:59.541287Z",
     "start_time": "2021-04-15T19:32:59.528321Z"
    }
   },
   "outputs": [
    {
     "data": {
      "text/plain": [
       "array([[2],\n",
       "       [5],\n",
       "       [8]])"
      ]
     },
     "execution_count": 42,
     "metadata": {},
     "output_type": "execute_result"
    }
   ],
   "source": [
    "matrix[:,1:2]"
   ]
  },
  {
   "cell_type": "markdown",
   "id": "522face3",
   "metadata": {},
   "source": [
    "## 1.5 Describing a Matrix "
   ]
  },
  {
   "cell_type": "code",
   "execution_count": 43,
   "id": "cfb8b241",
   "metadata": {
    "ExecuteTime": {
     "end_time": "2021-04-15T19:33:49.261315Z",
     "start_time": "2021-04-15T19:33:49.253337Z"
    }
   },
   "outputs": [],
   "source": [
    "matrix = np.array([[1, 2, 3, 4],\n",
    "                   [5, 6, 7, 8],\n",
    "                   [9, 10, 11, 12]])"
   ]
  },
  {
   "cell_type": "code",
   "execution_count": 44,
   "id": "1de05555",
   "metadata": {
    "ExecuteTime": {
     "end_time": "2021-04-15T19:33:52.412507Z",
     "start_time": "2021-04-15T19:33:52.392534Z"
    }
   },
   "outputs": [
    {
     "data": {
      "text/plain": [
       "(3, 4)"
      ]
     },
     "execution_count": 44,
     "metadata": {},
     "output_type": "execute_result"
    }
   ],
   "source": [
    "matrix.shape"
   ]
  },
  {
   "cell_type": "code",
   "execution_count": 45,
   "id": "70bc5def",
   "metadata": {
    "ExecuteTime": {
     "end_time": "2021-04-15T19:33:55.422236Z",
     "start_time": "2021-04-15T19:33:55.404256Z"
    }
   },
   "outputs": [
    {
     "data": {
      "text/plain": [
       "12"
      ]
     },
     "execution_count": 45,
     "metadata": {},
     "output_type": "execute_result"
    }
   ],
   "source": [
    "matrix.size"
   ]
  },
  {
   "cell_type": "code",
   "execution_count": 46,
   "id": "0c690858",
   "metadata": {
    "ExecuteTime": {
     "end_time": "2021-04-15T19:33:58.053859Z",
     "start_time": "2021-04-15T19:33:58.042890Z"
    }
   },
   "outputs": [
    {
     "data": {
      "text/plain": [
       "2"
      ]
     },
     "execution_count": 46,
     "metadata": {},
     "output_type": "execute_result"
    }
   ],
   "source": [
    "matrix.ndim"
   ]
  },
  {
   "cell_type": "markdown",
   "id": "af995dc0",
   "metadata": {},
   "source": [
    "## 1.6 Applying Operations to Elements "
   ]
  },
  {
   "cell_type": "code",
   "execution_count": 47,
   "id": "7203bf55",
   "metadata": {
    "ExecuteTime": {
     "end_time": "2021-04-15T19:36:09.377050Z",
     "start_time": "2021-04-15T19:36:09.369072Z"
    }
   },
   "outputs": [
    {
     "data": {
      "text/plain": [
       "array([[101, 102, 103],\n",
       "       [104, 105, 106],\n",
       "       [107, 108, 109]])"
      ]
     },
     "execution_count": 47,
     "metadata": {},
     "output_type": "execute_result"
    }
   ],
   "source": [
    "matrix = np.array([[1, 2, 3],\n",
    "                   [4, 5, 6],\n",
    "                   [7, 8, 9]])\n",
    "\n",
    "add_100 = lambda i: i+100\n",
    "vectorized_add_100 = np.vectorize(add_100)\n",
    "vectorized_add_100(matrix)"
   ]
  },
  {
   "cell_type": "code",
   "execution_count": 48,
   "id": "1ffc910f",
   "metadata": {
    "ExecuteTime": {
     "end_time": "2021-04-15T19:37:44.758352Z",
     "start_time": "2021-04-15T19:37:44.746384Z"
    }
   },
   "outputs": [
    {
     "data": {
      "text/plain": [
       "array([[101, 102, 103],\n",
       "       [104, 105, 106],\n",
       "       [107, 108, 109]])"
      ]
     },
     "execution_count": 48,
     "metadata": {},
     "output_type": "execute_result"
    }
   ],
   "source": [
    "matrix + 100"
   ]
  },
  {
   "cell_type": "markdown",
   "id": "ee2017dd",
   "metadata": {},
   "source": [
    "## 1.7 Finding the Maximum and Minimum Values "
   ]
  },
  {
   "cell_type": "code",
   "execution_count": 49,
   "id": "5c7444a0",
   "metadata": {
    "ExecuteTime": {
     "end_time": "2021-04-15T19:38:45.016851Z",
     "start_time": "2021-04-15T19:38:44.996906Z"
    }
   },
   "outputs": [
    {
     "data": {
      "text/plain": [
       "9"
      ]
     },
     "execution_count": 49,
     "metadata": {},
     "output_type": "execute_result"
    }
   ],
   "source": [
    "matrix = np.array([[1, 2, 3],\n",
    "                   [4, 5, 6],\n",
    "                   [7, 8, 9]])\n",
    "\n",
    "np.max(matrix)"
   ]
  },
  {
   "cell_type": "code",
   "execution_count": 50,
   "id": "e75ce954",
   "metadata": {
    "ExecuteTime": {
     "end_time": "2021-04-15T19:38:49.623856Z",
     "start_time": "2021-04-15T19:38:49.609148Z"
    }
   },
   "outputs": [
    {
     "data": {
      "text/plain": [
       "1"
      ]
     },
     "execution_count": 50,
     "metadata": {},
     "output_type": "execute_result"
    }
   ],
   "source": [
    "np.min(matrix)"
   ]
  },
  {
   "cell_type": "code",
   "execution_count": 51,
   "id": "163f0410",
   "metadata": {
    "ExecuteTime": {
     "end_time": "2021-04-15T19:39:19.254890Z",
     "start_time": "2021-04-15T19:39:19.247908Z"
    }
   },
   "outputs": [
    {
     "data": {
      "text/plain": [
       "array([7, 8, 9])"
      ]
     },
     "execution_count": 51,
     "metadata": {},
     "output_type": "execute_result"
    }
   ],
   "source": [
    "np.max(matrix, axis = 0)"
   ]
  },
  {
   "cell_type": "code",
   "execution_count": 52,
   "id": "2e450b73",
   "metadata": {
    "ExecuteTime": {
     "end_time": "2021-04-15T19:39:44.167167Z",
     "start_time": "2021-04-15T19:39:44.160186Z"
    }
   },
   "outputs": [
    {
     "data": {
      "text/plain": [
       "array([3, 6, 9])"
      ]
     },
     "execution_count": 52,
     "metadata": {},
     "output_type": "execute_result"
    }
   ],
   "source": [
    "np.max(matrix, axis = 1)"
   ]
  },
  {
   "cell_type": "markdown",
   "id": "ba639e91",
   "metadata": {},
   "source": [
    "##  1.8 Calculating the Average, Variance, and Standard Deviation"
   ]
  },
  {
   "cell_type": "code",
   "execution_count": 53,
   "id": "dde0e026",
   "metadata": {
    "ExecuteTime": {
     "end_time": "2021-04-15T19:40:46.054978Z",
     "start_time": "2021-04-15T19:40:46.048994Z"
    }
   },
   "outputs": [],
   "source": [
    "matrix = np.array([[1, 2, 3],\n",
    "                   [4, 5, 6],\n",
    "                   [7, 8, 9]])"
   ]
  },
  {
   "cell_type": "code",
   "execution_count": 54,
   "id": "6cc7d42e",
   "metadata": {
    "ExecuteTime": {
     "end_time": "2021-04-15T19:40:52.579886Z",
     "start_time": "2021-04-15T19:40:52.573901Z"
    }
   },
   "outputs": [
    {
     "data": {
      "text/plain": [
       "5.0"
      ]
     },
     "execution_count": 54,
     "metadata": {},
     "output_type": "execute_result"
    }
   ],
   "source": [
    "np.mean(matrix)"
   ]
  },
  {
   "cell_type": "code",
   "execution_count": 55,
   "id": "ee96f393",
   "metadata": {
    "ExecuteTime": {
     "end_time": "2021-04-15T19:40:56.542221Z",
     "start_time": "2021-04-15T19:40:56.536235Z"
    }
   },
   "outputs": [
    {
     "data": {
      "text/plain": [
       "6.666666666666667"
      ]
     },
     "execution_count": 55,
     "metadata": {},
     "output_type": "execute_result"
    }
   ],
   "source": [
    "np.var(matrix)"
   ]
  },
  {
   "cell_type": "code",
   "execution_count": 56,
   "id": "5d787cac",
   "metadata": {
    "ExecuteTime": {
     "end_time": "2021-04-15T19:41:01.170365Z",
     "start_time": "2021-04-15T19:41:01.154872Z"
    }
   },
   "outputs": [
    {
     "data": {
      "text/plain": [
       "2.581988897471611"
      ]
     },
     "execution_count": 56,
     "metadata": {},
     "output_type": "execute_result"
    }
   ],
   "source": [
    "np.std(matrix)"
   ]
  },
  {
   "cell_type": "code",
   "execution_count": 57,
   "id": "8922e0a9",
   "metadata": {
    "ExecuteTime": {
     "end_time": "2021-04-15T19:41:15.373638Z",
     "start_time": "2021-04-15T19:41:15.362668Z"
    }
   },
   "outputs": [
    {
     "data": {
      "text/plain": [
       "array([4., 5., 6.])"
      ]
     },
     "execution_count": 57,
     "metadata": {},
     "output_type": "execute_result"
    }
   ],
   "source": [
    "np.mean(matrix, axis = 0)"
   ]
  },
  {
   "cell_type": "markdown",
   "id": "202420f6",
   "metadata": {},
   "source": [
    "## 1.9 Reshaping Arrays "
   ]
  },
  {
   "cell_type": "code",
   "execution_count": 63,
   "id": "573092ce",
   "metadata": {
    "ExecuteTime": {
     "end_time": "2021-04-15T19:42:52.605718Z",
     "start_time": "2021-04-15T19:42:52.588732Z"
    }
   },
   "outputs": [],
   "source": [
    "matrix = np.array([[1, 2, 3],\n",
    "                   [4, 5, 6],\n",
    "                   [7, 8, 9],\n",
    "                   [10, 11, 12]])"
   ]
  },
  {
   "cell_type": "code",
   "execution_count": 61,
   "id": "05a69618",
   "metadata": {
    "ExecuteTime": {
     "end_time": "2021-04-15T19:42:36.242459Z",
     "start_time": "2021-04-15T19:42:36.225505Z"
    }
   },
   "outputs": [
    {
     "data": {
      "text/plain": [
       "(4, 3)"
      ]
     },
     "execution_count": 61,
     "metadata": {},
     "output_type": "execute_result"
    }
   ],
   "source": [
    "matrix.shape"
   ]
  },
  {
   "cell_type": "code",
   "execution_count": 62,
   "id": "f9bbebe4",
   "metadata": {
    "ExecuteTime": {
     "end_time": "2021-04-15T19:42:43.710747Z",
     "start_time": "2021-04-15T19:42:43.700763Z"
    }
   },
   "outputs": [
    {
     "data": {
      "text/plain": [
       "12"
      ]
     },
     "execution_count": 62,
     "metadata": {},
     "output_type": "execute_result"
    }
   ],
   "source": [
    "matrix.size"
   ]
  },
  {
   "cell_type": "code",
   "execution_count": 60,
   "id": "aeab606a",
   "metadata": {
    "ExecuteTime": {
     "end_time": "2021-04-15T19:42:31.914325Z",
     "start_time": "2021-04-15T19:42:31.901337Z"
    }
   },
   "outputs": [
    {
     "data": {
      "text/plain": [
       "array([[ 1,  2,  3,  4,  5,  6],\n",
       "       [ 7,  8,  9, 10, 11, 12]])"
      ]
     },
     "execution_count": 60,
     "metadata": {},
     "output_type": "execute_result"
    }
   ],
   "source": [
    "matrix.reshape(2,6)"
   ]
  },
  {
   "cell_type": "code",
   "execution_count": 64,
   "id": "f2dd0bb7",
   "metadata": {
    "ExecuteTime": {
     "end_time": "2021-04-15T19:43:34.855594Z",
     "start_time": "2021-04-15T19:43:34.839610Z"
    }
   },
   "outputs": [
    {
     "data": {
      "text/plain": [
       "array([[ 1,  2,  3,  4,  5,  6,  7,  8,  9, 10, 11, 12]])"
      ]
     },
     "execution_count": 64,
     "metadata": {},
     "output_type": "execute_result"
    }
   ],
   "source": [
    "matrix.reshape(1, -1) # -1 means \"as many as needed\""
   ]
  },
  {
   "cell_type": "code",
   "execution_count": 65,
   "id": "e524e733",
   "metadata": {
    "ExecuteTime": {
     "end_time": "2021-04-15T19:43:53.404003Z",
     "start_time": "2021-04-15T19:43:53.389043Z"
    }
   },
   "outputs": [
    {
     "data": {
      "text/plain": [
       "array([ 1,  2,  3,  4,  5,  6,  7,  8,  9, 10, 11, 12])"
      ]
     },
     "execution_count": 65,
     "metadata": {},
     "output_type": "execute_result"
    }
   ],
   "source": [
    "matrix.reshape(12)"
   ]
  },
  {
   "cell_type": "markdown",
   "id": "ada45115",
   "metadata": {},
   "source": [
    "## 1.10 Transposing a Vector or Matrix "
   ]
  },
  {
   "cell_type": "code",
   "execution_count": 66,
   "id": "ebe5ee58",
   "metadata": {
    "ExecuteTime": {
     "end_time": "2021-04-15T19:44:41.647512Z",
     "start_time": "2021-04-15T19:44:41.641529Z"
    }
   },
   "outputs": [],
   "source": [
    "matrix = np.array([[1, 2, 3],\n",
    "                   [4, 5, 6],\n",
    "                   [7, 8, 9]])"
   ]
  },
  {
   "cell_type": "code",
   "execution_count": 67,
   "id": "42dd3eb7",
   "metadata": {
    "ExecuteTime": {
     "end_time": "2021-04-15T19:44:46.297672Z",
     "start_time": "2021-04-15T19:44:46.290690Z"
    }
   },
   "outputs": [
    {
     "data": {
      "text/plain": [
       "array([[1, 4, 7],\n",
       "       [2, 5, 8],\n",
       "       [3, 6, 9]])"
      ]
     },
     "execution_count": 67,
     "metadata": {},
     "output_type": "execute_result"
    }
   ],
   "source": [
    "matrix.T"
   ]
  },
  {
   "cell_type": "code",
   "execution_count": 68,
   "id": "44cfed44",
   "metadata": {
    "ExecuteTime": {
     "end_time": "2021-04-15T19:46:05.410333Z",
     "start_time": "2021-04-15T19:46:05.391360Z"
    }
   },
   "outputs": [
    {
     "data": {
      "text/plain": [
       "array([[1],\n",
       "       [2],\n",
       "       [3],\n",
       "       [4],\n",
       "       [5],\n",
       "       [6]])"
      ]
     },
     "execution_count": 68,
     "metadata": {},
     "output_type": "execute_result"
    }
   ],
   "source": [
    "# In terms of linear algebra, a vector cannot be transposed, but it's \"possible\" with numpy\n",
    "# at least, visually\n",
    "np.array([[1, 2, 3, 4, 5, 6]]).T"
   ]
  },
  {
   "cell_type": "markdown",
   "id": "6e2a9d45",
   "metadata": {},
   "source": [
    "## 1.11 Flattening a Matrix "
   ]
  },
  {
   "cell_type": "code",
   "execution_count": 70,
   "id": "a274ebf9",
   "metadata": {
    "ExecuteTime": {
     "end_time": "2021-04-15T19:47:06.435722Z",
     "start_time": "2021-04-15T19:47:06.404452Z"
    }
   },
   "outputs": [
    {
     "data": {
      "text/plain": [
       "array([1, 2, 3, 4, 5, 6, 7, 8, 9])"
      ]
     },
     "execution_count": 70,
     "metadata": {},
     "output_type": "execute_result"
    }
   ],
   "source": [
    "matrix = np.array([[1, 2, 3],\n",
    "                   [4, 5, 6],\n",
    "                   [7, 8, 9]])\n",
    "\n",
    "matrix.flatten() # transform a matrix into a one-dimensional array"
   ]
  },
  {
   "cell_type": "code",
   "execution_count": 72,
   "id": "6b6501a6",
   "metadata": {
    "ExecuteTime": {
     "end_time": "2021-04-15T19:47:34.858217Z",
     "start_time": "2021-04-15T19:47:34.843228Z"
    }
   },
   "outputs": [
    {
     "data": {
      "text/plain": [
       "array([[1],\n",
       "       [2],\n",
       "       [3],\n",
       "       [4],\n",
       "       [5],\n",
       "       [6],\n",
       "       [7],\n",
       "       [8],\n",
       "       [9]])"
      ]
     },
     "execution_count": 72,
     "metadata": {},
     "output_type": "execute_result"
    }
   ],
   "source": [
    "matrix.reshape(-1, 1)"
   ]
  },
  {
   "cell_type": "markdown",
   "id": "d6ee858f",
   "metadata": {},
   "source": [
    "## 1.12 Finding the Rank of a Matrix"
   ]
  },
  {
   "cell_type": "code",
   "execution_count": 74,
   "id": "36808055",
   "metadata": {
    "ExecuteTime": {
     "end_time": "2021-04-15T19:48:20.569309Z",
     "start_time": "2021-04-15T19:48:20.557342Z"
    }
   },
   "outputs": [
    {
     "data": {
      "text/plain": [
       "2"
      ]
     },
     "execution_count": 74,
     "metadata": {},
     "output_type": "execute_result"
    }
   ],
   "source": [
    "matrix = np.array([[1, 1, 1],\n",
    "                   [1, 1, 10],\n",
    "                   [1, 1, 15]])\n",
    "\n",
    "np.linalg.matrix_rank(matrix)"
   ]
  },
  {
   "cell_type": "markdown",
   "id": "750d3ac5",
   "metadata": {},
   "source": [
    "## 1.13 Calculating the Determinant "
   ]
  },
  {
   "cell_type": "code",
   "execution_count": 75,
   "id": "a08ef4f1",
   "metadata": {
    "ExecuteTime": {
     "end_time": "2021-04-15T19:50:23.521260Z",
     "start_time": "2021-04-15T19:50:23.509293Z"
    }
   },
   "outputs": [
    {
     "data": {
      "text/plain": [
       "0.0"
      ]
     },
     "execution_count": 75,
     "metadata": {},
     "output_type": "execute_result"
    }
   ],
   "source": [
    "matrix = np.array([[1, 2, 3],\n",
    "                   [2, 4, 6],\n",
    "                   [3, 8, 9]])\n",
    "\n",
    "np.linalg.det(matrix)"
   ]
  },
  {
   "cell_type": "markdown",
   "id": "f517c66f",
   "metadata": {},
   "source": [
    "## 1.14 Getting the Diagonal of a Matrix "
   ]
  },
  {
   "cell_type": "code",
   "execution_count": 76,
   "id": "0744fe71",
   "metadata": {
    "ExecuteTime": {
     "end_time": "2021-04-15T19:51:01.602686Z",
     "start_time": "2021-04-15T19:51:01.584705Z"
    }
   },
   "outputs": [
    {
     "data": {
      "text/plain": [
       "array([1, 4, 9])"
      ]
     },
     "execution_count": 76,
     "metadata": {},
     "output_type": "execute_result"
    }
   ],
   "source": [
    "matrix = np.array([[1, 2, 3],\n",
    "                   [2, 4, 6],\n",
    "                   [3, 8, 9]])\n",
    "matrix.diagonal()"
   ]
  },
  {
   "cell_type": "code",
   "execution_count": 77,
   "id": "b65a8327",
   "metadata": {
    "ExecuteTime": {
     "end_time": "2021-04-15T19:51:27.690208Z",
     "start_time": "2021-04-15T19:51:27.672229Z"
    }
   },
   "outputs": [
    {
     "data": {
      "text/plain": [
       "array([2, 6])"
      ]
     },
     "execution_count": 77,
     "metadata": {},
     "output_type": "execute_result"
    }
   ],
   "source": [
    "# getting the other possible diagonal\n",
    "matrix.diagonal(offset=1)"
   ]
  },
  {
   "cell_type": "code",
   "execution_count": 78,
   "id": "095fb973",
   "metadata": {
    "ExecuteTime": {
     "end_time": "2021-04-15T19:51:36.454165Z",
     "start_time": "2021-04-15T19:51:36.435215Z"
    }
   },
   "outputs": [
    {
     "data": {
      "text/plain": [
       "array([2, 8])"
      ]
     },
     "execution_count": 78,
     "metadata": {},
     "output_type": "execute_result"
    }
   ],
   "source": [
    "matrix.diagonal(offset=-1)"
   ]
  },
  {
   "cell_type": "markdown",
   "id": "a05f8b99",
   "metadata": {},
   "source": [
    "## 1.15 Calculating the Trace of a Matrix "
   ]
  },
  {
   "cell_type": "code",
   "execution_count": 79,
   "id": "e915884e",
   "metadata": {
    "ExecuteTime": {
     "end_time": "2021-04-15T19:52:13.486967Z",
     "start_time": "2021-04-15T19:52:13.473004Z"
    }
   },
   "outputs": [
    {
     "data": {
      "text/plain": [
       "14"
      ]
     },
     "execution_count": 79,
     "metadata": {},
     "output_type": "execute_result"
    }
   ],
   "source": [
    "matrix = np.array([[1, 2, 3],\n",
    "                   [2, 4, 6],\n",
    "                   [3, 8, 9]])\n",
    "matrix.trace() # return the sum along diagonals"
   ]
  },
  {
   "cell_type": "code",
   "execution_count": 80,
   "id": "d1fa3565",
   "metadata": {
    "ExecuteTime": {
     "end_time": "2021-04-15T19:53:07.246114Z",
     "start_time": "2021-04-15T19:53:07.236140Z"
    }
   },
   "outputs": [
    {
     "data": {
      "text/plain": [
       "14"
      ]
     },
     "execution_count": 80,
     "metadata": {},
     "output_type": "execute_result"
    }
   ],
   "source": [
    "sum(matrix.diagonal()) # do the same"
   ]
  },
  {
   "cell_type": "markdown",
   "id": "3bc9b908",
   "metadata": {},
   "source": [
    "## 1.16 Finding Eigenvalues and Eigenvectors "
   ]
  },
  {
   "cell_type": "code",
   "execution_count": 81,
   "id": "32345bda",
   "metadata": {
    "ExecuteTime": {
     "end_time": "2021-04-15T19:54:04.334818Z",
     "start_time": "2021-04-15T19:54:04.319171Z"
    }
   },
   "outputs": [],
   "source": [
    "matrix = np.array([[1, -1, 3],\n",
    "                   [1, 1, 6],\n",
    "                   [3, 8, 9]])"
   ]
  },
  {
   "cell_type": "code",
   "execution_count": 84,
   "id": "c262e2cf",
   "metadata": {
    "ExecuteTime": {
     "end_time": "2021-04-15T19:54:31.073409Z",
     "start_time": "2021-04-15T19:54:31.062410Z"
    }
   },
   "outputs": [],
   "source": [
    "eigenvalues, eigenvectors = np.linalg.eig(matrix)"
   ]
  },
  {
   "cell_type": "code",
   "execution_count": 85,
   "id": "2d11b6c4",
   "metadata": {
    "ExecuteTime": {
     "end_time": "2021-04-15T19:54:32.508760Z",
     "start_time": "2021-04-15T19:54:32.487816Z"
    }
   },
   "outputs": [
    {
     "data": {
      "text/plain": [
       "array([13.55075847,  0.74003145, -3.29078992])"
      ]
     },
     "execution_count": 85,
     "metadata": {},
     "output_type": "execute_result"
    }
   ],
   "source": [
    "eigenvalues"
   ]
  },
  {
   "cell_type": "code",
   "execution_count": 86,
   "id": "9bce9ebc",
   "metadata": {
    "ExecuteTime": {
     "end_time": "2021-04-15T19:54:37.294812Z",
     "start_time": "2021-04-15T19:54:37.274852Z"
    }
   },
   "outputs": [
    {
     "data": {
      "text/plain": [
       "array([[-0.17622017, -0.96677403, -0.53373322],\n",
       "       [-0.435951  ,  0.2053623 , -0.64324848],\n",
       "       [-0.88254925,  0.15223105,  0.54896288]])"
      ]
     },
     "execution_count": 86,
     "metadata": {},
     "output_type": "execute_result"
    }
   ],
   "source": [
    "eigenvectors"
   ]
  },
  {
   "cell_type": "markdown",
   "id": "8f53dd76",
   "metadata": {},
   "source": [
    "## 1.17 Calculating Dot Products "
   ]
  },
  {
   "cell_type": "code",
   "execution_count": 87,
   "id": "84ae1f6a",
   "metadata": {
    "ExecuteTime": {
     "end_time": "2021-04-15T19:56:19.228875Z",
     "start_time": "2021-04-15T19:56:19.213886Z"
    }
   },
   "outputs": [
    {
     "data": {
      "text/plain": [
       "32"
      ]
     },
     "execution_count": 87,
     "metadata": {},
     "output_type": "execute_result"
    }
   ],
   "source": [
    "vector_a = np.array([1, 2, 3])\n",
    "vector_b = np.array([4, 5, 6])\n",
    "\n",
    "np.dot(vector_a, vector_b)"
   ]
  },
  {
   "cell_type": "code",
   "execution_count": 88,
   "id": "79e5c4cd",
   "metadata": {
    "ExecuteTime": {
     "end_time": "2021-04-15T19:56:48.360472Z",
     "start_time": "2021-04-15T19:56:48.352467Z"
    }
   },
   "outputs": [
    {
     "data": {
      "text/plain": [
       "32"
      ]
     },
     "execution_count": 88,
     "metadata": {},
     "output_type": "execute_result"
    }
   ],
   "source": [
    "vector_a @ vector_b # do the same"
   ]
  },
  {
   "cell_type": "markdown",
   "id": "3178f752",
   "metadata": {},
   "source": [
    "## 1.18 Adding and subtracting Matrices "
   ]
  },
  {
   "cell_type": "code",
   "execution_count": 89,
   "id": "6ab8e570",
   "metadata": {
    "ExecuteTime": {
     "end_time": "2021-04-15T19:57:27.995898Z",
     "start_time": "2021-04-15T19:57:27.990911Z"
    }
   },
   "outputs": [],
   "source": [
    "matrix_a = np.array([[1, 1, 1],\n",
    "                     [1, 1, 1],\n",
    "                     [1, 1, 2]])"
   ]
  },
  {
   "cell_type": "code",
   "execution_count": 90,
   "id": "6bb7ba47",
   "metadata": {
    "ExecuteTime": {
     "end_time": "2021-04-15T19:57:58.953882Z",
     "start_time": "2021-04-15T19:57:58.940889Z"
    }
   },
   "outputs": [],
   "source": [
    "matrix_b = np.array([[1, 3, 1],\n",
    "                     [1, 3, 1],\n",
    "                     [1, 3, 8]])"
   ]
  },
  {
   "cell_type": "code",
   "execution_count": 91,
   "id": "1ad14506",
   "metadata": {
    "ExecuteTime": {
     "end_time": "2021-04-15T19:58:11.399778Z",
     "start_time": "2021-04-15T19:58:11.390810Z"
    }
   },
   "outputs": [
    {
     "data": {
      "text/plain": [
       "array([[ 2,  4,  2],\n",
       "       [ 2,  4,  2],\n",
       "       [ 2,  4, 10]])"
      ]
     },
     "execution_count": 91,
     "metadata": {},
     "output_type": "execute_result"
    }
   ],
   "source": [
    "np.add(matrix_a, matrix_b)"
   ]
  },
  {
   "cell_type": "code",
   "execution_count": 92,
   "id": "ff0a349a",
   "metadata": {
    "ExecuteTime": {
     "end_time": "2021-04-15T19:58:20.922317Z",
     "start_time": "2021-04-15T19:58:20.903369Z"
    }
   },
   "outputs": [
    {
     "data": {
      "text/plain": [
       "array([[ 0, -2,  0],\n",
       "       [ 0, -2,  0],\n",
       "       [ 0, -2, -6]])"
      ]
     },
     "execution_count": 92,
     "metadata": {},
     "output_type": "execute_result"
    }
   ],
   "source": [
    "np.subtract(matrix_a, matrix_b)"
   ]
  },
  {
   "cell_type": "code",
   "execution_count": 93,
   "id": "ac2b10e1",
   "metadata": {
    "ExecuteTime": {
     "end_time": "2021-04-15T19:58:32.646633Z",
     "start_time": "2021-04-15T19:58:32.629659Z"
    }
   },
   "outputs": [
    {
     "data": {
      "text/plain": [
       "array([[ 2,  4,  2],\n",
       "       [ 2,  4,  2],\n",
       "       [ 2,  4, 10]])"
      ]
     },
     "execution_count": 93,
     "metadata": {},
     "output_type": "execute_result"
    }
   ],
   "source": [
    "matrix_a + matrix_b # do the same"
   ]
  },
  {
   "cell_type": "markdown",
   "id": "0557efde",
   "metadata": {},
   "source": [
    "## 1.19 Multiplying Matrices "
   ]
  },
  {
   "cell_type": "code",
   "execution_count": 94,
   "id": "1c01c070",
   "metadata": {
    "ExecuteTime": {
     "end_time": "2021-04-15T19:59:34.026544Z",
     "start_time": "2021-04-15T19:59:34.004573Z"
    }
   },
   "outputs": [
    {
     "data": {
      "text/plain": [
       "array([[2, 5],\n",
       "       [3, 7]])"
      ]
     },
     "execution_count": 94,
     "metadata": {},
     "output_type": "execute_result"
    }
   ],
   "source": [
    "matrix_a = np.array([[1, 1],\n",
    "                     [1, 2]])\n",
    "\n",
    "matrix_b = np.array([[1, 3],\n",
    "                     [1, 2]])\n",
    "np.dot(matrix_a, matrix_b)"
   ]
  },
  {
   "cell_type": "markdown",
   "id": "64f1406e",
   "metadata": {},
   "source": [
    "## 1.20 Inverting a Matrix "
   ]
  },
  {
   "cell_type": "code",
   "execution_count": 97,
   "id": "368dbadc",
   "metadata": {
    "ExecuteTime": {
     "end_time": "2021-04-15T20:01:58.728975Z",
     "start_time": "2021-04-15T20:01:58.720992Z"
    }
   },
   "outputs": [
    {
     "data": {
      "text/plain": [
       "array([[-1.66666667,  1.33333333],\n",
       "       [ 0.66666667, -0.33333333]])"
      ]
     },
     "execution_count": 97,
     "metadata": {},
     "output_type": "execute_result"
    }
   ],
   "source": [
    "matrix = np.array([[1, 4],\n",
    "                  [2, 5]])\n",
    "\n",
    "np.linalg.inv(matrix) # the matrix that multiply the original to get the identity matrix"
   ]
  },
  {
   "cell_type": "markdown",
   "id": "183404ac",
   "metadata": {},
   "source": [
    "## 1.21 Generating Random Values "
   ]
  },
  {
   "cell_type": "code",
   "execution_count": 101,
   "id": "0026248d",
   "metadata": {
    "ExecuteTime": {
     "end_time": "2021-04-15T20:02:54.836654Z",
     "start_time": "2021-04-15T20:02:54.821000Z"
    }
   },
   "outputs": [],
   "source": [
    "np.random.seed(0) # seed to always get the same random below"
   ]
  },
  {
   "cell_type": "code",
   "execution_count": 102,
   "id": "307fed73",
   "metadata": {
    "ExecuteTime": {
     "end_time": "2021-04-15T20:02:56.602961Z",
     "start_time": "2021-04-15T20:02:56.595980Z"
    }
   },
   "outputs": [
    {
     "data": {
      "text/plain": [
       "array([0.5488135 , 0.71518937, 0.60276338])"
      ]
     },
     "execution_count": 102,
     "metadata": {},
     "output_type": "execute_result"
    }
   ],
   "source": [
    "np.random.random(3)"
   ]
  },
  {
   "cell_type": "code",
   "execution_count": 103,
   "id": "9a33c75c",
   "metadata": {
    "ExecuteTime": {
     "end_time": "2021-04-15T20:03:23.842409Z",
     "start_time": "2021-04-15T20:03:23.822437Z"
    }
   },
   "outputs": [
    {
     "data": {
      "text/plain": [
       "array([3, 7, 9])"
      ]
     },
     "execution_count": 103,
     "metadata": {},
     "output_type": "execute_result"
    }
   ],
   "source": [
    "np.random.randint(0, 11, 3) # three random integers between 1 and 10"
   ]
  },
  {
   "cell_type": "code",
   "execution_count": 105,
   "id": "bafffd2c",
   "metadata": {
    "ExecuteTime": {
     "end_time": "2021-04-15T20:04:26.325321Z",
     "start_time": "2021-04-15T20:04:26.310362Z"
    }
   },
   "outputs": [
    {
     "data": {
      "text/plain": [
       "array([-0.13309028, -0.1730696 , -1.76165167])"
      ]
     },
     "execution_count": 105,
     "metadata": {},
     "output_type": "execute_result"
    }
   ],
   "source": [
    "np.random.normal(0, 1, 3) # 3 random numbers from normal distribution with mean 0.0"
   ]
  },
  {
   "cell_type": "code",
   "execution_count": 106,
   "id": "8a9ac1da",
   "metadata": {
    "ExecuteTime": {
     "end_time": "2021-04-15T20:04:26.792232Z",
     "start_time": "2021-04-15T20:04:26.785251Z"
    }
   },
   "outputs": [
    {
     "data": {
      "text/plain": [
       "array([1.81216873, 1.47997717, 1.3927848 ])"
      ]
     },
     "execution_count": 106,
     "metadata": {},
     "output_type": "execute_result"
    }
   ],
   "source": [
    "np.random.uniform(1, 2, 3) # 3 random numbers from uniform distribution between 1 and 2"
   ]
  }
 ],
 "metadata": {
  "kernelspec": {
   "display_name": "Python 3",
   "language": "python",
   "name": "python3"
  },
  "language_info": {
   "codemirror_mode": {
    "name": "ipython",
    "version": 3
   },
   "file_extension": ".py",
   "mimetype": "text/x-python",
   "name": "python",
   "nbconvert_exporter": "python",
   "pygments_lexer": "ipython3",
   "version": "3.8.5"
  }
 },
 "nbformat": 4,
 "nbformat_minor": 5
}
