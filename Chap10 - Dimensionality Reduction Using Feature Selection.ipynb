{
 "cells": [
  {
   "cell_type": "markdown",
   "id": "f34e7c84",
   "metadata": {},
   "source": [
    "<h1>Chap10 - Dimensionality Reduction Using Feature Selection</h1>"
   ]
  },
  {
   "cell_type": "markdown",
   "id": "13384d1e",
   "metadata": {
    "ExecuteTime": {
     "end_time": "2021-05-11T13:25:28.721215Z",
     "start_time": "2021-05-11T13:25:28.505418Z"
    }
   },
   "source": [
    "Imports"
   ]
  },
  {
   "cell_type": "code",
   "execution_count": 33,
   "id": "cbdd093f",
   "metadata": {
    "ExecuteTime": {
     "end_time": "2021-05-11T14:20:59.951110Z",
     "start_time": "2021-05-11T14:20:59.935153Z"
    }
   },
   "outputs": [],
   "source": [
    "from sklearn import datasets, linear_model\n",
    "from sklearn.feature_selection import VarianceThreshold, SelectKBest, chi2, f_classif, SelectPercentile, RFECV\n",
    "from sklearn.preprocessing import StandardScaler\n",
    "import pandas as pd\n",
    "import numpy as np\n",
    "import warnings"
   ]
  },
  {
   "cell_type": "markdown",
   "id": "f0bf77ce",
   "metadata": {},
   "source": [
    "## 10.1 Thresholidng Numerical Feature Variance "
   ]
  },
  {
   "cell_type": "code",
   "execution_count": 4,
   "id": "61b5920a",
   "metadata": {
    "ExecuteTime": {
     "end_time": "2021-05-11T13:28:52.570927Z",
     "start_time": "2021-05-11T13:28:52.543970Z"
    }
   },
   "outputs": [],
   "source": [
    "iris = datasets.load_iris()"
   ]
  },
  {
   "cell_type": "code",
   "execution_count": 5,
   "id": "eb140488",
   "metadata": {
    "ExecuteTime": {
     "end_time": "2021-05-11T13:29:03.594631Z",
     "start_time": "2021-05-11T13:29:03.581640Z"
    }
   },
   "outputs": [],
   "source": [
    "features = iris.data\n",
    "target = iris.target"
   ]
  },
  {
   "cell_type": "code",
   "execution_count": 9,
   "id": "cb622cbf",
   "metadata": {
    "ExecuteTime": {
     "end_time": "2021-05-11T13:30:24.863937Z",
     "start_time": "2021-05-11T13:30:24.844946Z"
    }
   },
   "outputs": [
    {
     "data": {
      "text/plain": [
       "array([[5.1, 1.4, 0.2],\n",
       "       [4.9, 1.4, 0.2],\n",
       "       [4.7, 1.3, 0.2]])"
      ]
     },
     "execution_count": 9,
     "metadata": {},
     "output_type": "execute_result"
    }
   ],
   "source": [
    "thresholder = VarianceThreshold(threshold=0.5)\n",
    "features_high_variance = thresholder.fit_transform(features)\n",
    "features_high_variance[0:3]"
   ]
  },
  {
   "cell_type": "code",
   "execution_count": 10,
   "id": "2da58769",
   "metadata": {
    "ExecuteTime": {
     "end_time": "2021-05-11T13:32:32.352177Z",
     "start_time": "2021-05-11T13:32:32.334226Z"
    }
   },
   "outputs": [
    {
     "data": {
      "text/plain": [
       "array([0.68112222, 0.18871289, 3.09550267, 0.57713289])"
      ]
     },
     "execution_count": 10,
     "metadata": {},
     "output_type": "execute_result"
    }
   ],
   "source": [
    "thresholder.fit(features).variances_"
   ]
  },
  {
   "cell_type": "code",
   "execution_count": 12,
   "id": "0c08ad64",
   "metadata": {
    "ExecuteTime": {
     "end_time": "2021-05-11T13:35:00.818671Z",
     "start_time": "2021-05-11T13:35:00.798700Z"
    }
   },
   "outputs": [
    {
     "data": {
      "text/plain": [
       "array([1., 1., 1., 1.])"
      ]
     },
     "execution_count": 12,
     "metadata": {},
     "output_type": "execute_result"
    }
   ],
   "source": [
    "#Take carefull with different features units/dimensions and also do not standardize the features\n",
    "scaler = StandardScaler()\n",
    "features_std = scaler.fit_transform(features)\n",
    "\n",
    "selector = VarianceThreshold()\n",
    "selector.fit(features_std).variances_"
   ]
  },
  {
   "cell_type": "markdown",
   "id": "3acf3036",
   "metadata": {},
   "source": [
    "## 10.2 Thresholding Binary Feature Variance "
   ]
  },
  {
   "cell_type": "code",
   "execution_count": 14,
   "id": "d0450e30",
   "metadata": {
    "ExecuteTime": {
     "end_time": "2021-05-11T13:37:26.134665Z",
     "start_time": "2021-05-11T13:37:26.113720Z"
    }
   },
   "outputs": [
    {
     "data": {
      "text/plain": [
       "array([[0],\n",
       "       [1],\n",
       "       [0],\n",
       "       [1],\n",
       "       [0]])"
      ]
     },
     "execution_count": 14,
     "metadata": {},
     "output_type": "execute_result"
    }
   ],
   "source": [
    "features = [[0, 1, 0],\n",
    "            [0, 1, 1],\n",
    "            [0, 1, 0],\n",
    "            [0, 1, 1],\n",
    "            [1, 0, 0]]\n",
    "\n",
    "thresholder = VarianceThreshold(.75 * (1 - .75))\n",
    "thresholder.fit_transform(features)"
   ]
  },
  {
   "cell_type": "markdown",
   "id": "9f144f17",
   "metadata": {},
   "source": [
    "Variance"
   ]
  },
  {
   "cell_type": "markdown",
   "id": "7c905e4a",
   "metadata": {},
   "source": [
    "$${Var(x) = p(1-p)}$$"
   ]
  },
  {
   "cell_type": "markdown",
   "id": "dbb04156",
   "metadata": {},
   "source": [
    "## 10.3 Handling Highly Correlated Features "
   ]
  },
  {
   "cell_type": "code",
   "execution_count": 16,
   "id": "064c674e",
   "metadata": {
    "ExecuteTime": {
     "end_time": "2021-05-11T13:41:46.501827Z",
     "start_time": "2021-05-11T13:41:46.491830Z"
    }
   },
   "outputs": [],
   "source": [
    "features = np.array([[1, 1, 1],\n",
    "                     [2, 2, 0],\n",
    "                     [3, 3, 1],\n",
    "                     [4, 4, 0],\n",
    "                     [5, 5, 1],\n",
    "                     [6, 6, 0], \n",
    "                     [7, 7, 1],\n",
    "                     [8, 7, 0],\n",
    "                     [9, 7, 1]])"
   ]
  },
  {
   "cell_type": "code",
   "execution_count": 18,
   "id": "5b1344e3",
   "metadata": {
    "ExecuteTime": {
     "end_time": "2021-05-11T13:43:25.114023Z",
     "start_time": "2021-05-11T13:43:25.093079Z"
    }
   },
   "outputs": [
    {
     "data": {
      "text/html": [
       "<div>\n",
       "<style scoped>\n",
       "    .dataframe tbody tr th:only-of-type {\n",
       "        vertical-align: middle;\n",
       "    }\n",
       "\n",
       "    .dataframe tbody tr th {\n",
       "        vertical-align: top;\n",
       "    }\n",
       "\n",
       "    .dataframe thead th {\n",
       "        text-align: right;\n",
       "    }\n",
       "</style>\n",
       "<table border=\"1\" class=\"dataframe\">\n",
       "  <thead>\n",
       "    <tr style=\"text-align: right;\">\n",
       "      <th></th>\n",
       "      <th>0</th>\n",
       "      <th>2</th>\n",
       "    </tr>\n",
       "  </thead>\n",
       "  <tbody>\n",
       "    <tr>\n",
       "      <th>0</th>\n",
       "      <td>1</td>\n",
       "      <td>1</td>\n",
       "    </tr>\n",
       "    <tr>\n",
       "      <th>1</th>\n",
       "      <td>2</td>\n",
       "      <td>0</td>\n",
       "    </tr>\n",
       "    <tr>\n",
       "      <th>2</th>\n",
       "      <td>3</td>\n",
       "      <td>1</td>\n",
       "    </tr>\n",
       "  </tbody>\n",
       "</table>\n",
       "</div>"
      ],
      "text/plain": [
       "   0  2\n",
       "0  1  1\n",
       "1  2  0\n",
       "2  3  1"
      ]
     },
     "execution_count": 18,
     "metadata": {},
     "output_type": "execute_result"
    }
   ],
   "source": [
    "dataframe = pd.DataFrame(features)\n",
    "corr_matrix = dataframe.corr().abs()\n",
    "upper = corr_matrix.where(np.triu(np.ones(corr_matrix.shape),k=1).astype(np.bool))\n",
    "to_drop = [columns for columns in upper.columns if any (upper[columns] > 0.95)]\n",
    "dataframe.drop(dataframe.columns[to_drop], axis = 1).head(3)"
   ]
  },
  {
   "cell_type": "markdown",
   "id": "62d62b71",
   "metadata": {},
   "source": [
    "## 10.4 Removing Irrelavant Features for Classification "
   ]
  },
  {
   "cell_type": "code",
   "execution_count": 22,
   "id": "de7db683",
   "metadata": {
    "ExecuteTime": {
     "end_time": "2021-05-11T14:02:35.539259Z",
     "start_time": "2021-05-11T14:02:35.532246Z"
    }
   },
   "outputs": [],
   "source": [
    "iris = datasets.load_iris()\n",
    "features = iris.data\n",
    "target = iris.target\n",
    "\n",
    "features = features.astype(int)"
   ]
  },
  {
   "cell_type": "code",
   "execution_count": 23,
   "id": "596357be",
   "metadata": {
    "ExecuteTime": {
     "end_time": "2021-05-11T14:03:47.865520Z",
     "start_time": "2021-05-11T14:03:47.845562Z"
    }
   },
   "outputs": [
    {
     "name": "stdout",
     "output_type": "stream",
     "text": [
      "Original number of features: 4\n",
      "Reduced number of features: 2\n"
     ]
    }
   ],
   "source": [
    "chi2_selector = SelectKBest(chi2, k=2) # select two features with highest chi2\n",
    "features_kbest = chi2_selector.fit_transform(features, target)\n",
    "\n",
    "print(\"Original number of features:\", features.shape[1])\n",
    "print(\"Reduced number of features:\", features_kbest.shape[1])"
   ]
  },
  {
   "cell_type": "code",
   "execution_count": 25,
   "id": "6fe97d4d",
   "metadata": {
    "ExecuteTime": {
     "end_time": "2021-05-11T14:05:49.629698Z",
     "start_time": "2021-05-11T14:05:49.609749Z"
    }
   },
   "outputs": [
    {
     "name": "stdout",
     "output_type": "stream",
     "text": [
      "Original number of features: 4\n",
      "Reduced number of features: 2\n"
     ]
    }
   ],
   "source": [
    "fvalue_selector = SelectKBest(f_classif, k = 2) # select two features with highest F-values\n",
    "features_kbest = fvalue_selector.fit_transform(features, target)\n",
    "print(\"Original number of features:\", features.shape[1])\n",
    "print(\"Reduced number of features:\", features_kbest.shape[1])"
   ]
  },
  {
   "cell_type": "code",
   "execution_count": 30,
   "id": "2afad002",
   "metadata": {
    "ExecuteTime": {
     "end_time": "2021-05-11T14:13:53.773132Z",
     "start_time": "2021-05-11T14:13:53.754160Z"
    }
   },
   "outputs": [],
   "source": [
    "fvalue_selector = SelectPercentile(f_classif, percentile=75)\n",
    "features_kbest = fvalue_selector.fit_transform(features, target)"
   ]
  },
  {
   "cell_type": "code",
   "execution_count": 31,
   "id": "4f4d98a8",
   "metadata": {
    "ExecuteTime": {
     "end_time": "2021-05-11T14:13:54.148705Z",
     "start_time": "2021-05-11T14:13:54.130784Z"
    }
   },
   "outputs": [
    {
     "name": "stdout",
     "output_type": "stream",
     "text": [
      "Original number of features: 4\n",
      "Reduced number of features: 3\n"
     ]
    }
   ],
   "source": [
    "print(\"Original number of features:\", features.shape[1])\n",
    "print(\"Reduced number of features:\", features_kbest.shape[1])"
   ]
  },
  {
   "cell_type": "markdown",
   "id": "a0d9d006",
   "metadata": {},
   "source": [
    "Chi-saquared\n",
    "$$x^2 = \\sum{\\frac{(O_i-E_i)^2}{E_i}}$$"
   ]
  },
  {
   "cell_type": "markdown",
   "id": "e0711c15",
   "metadata": {},
   "source": [
    "## 10.5 Recursively Eliminating Features"
   ]
  },
  {
   "cell_type": "code",
   "execution_count": 35,
   "id": "4e799451",
   "metadata": {
    "ExecuteTime": {
     "end_time": "2021-05-11T14:22:06.903056Z",
     "start_time": "2021-05-11T14:22:06.897072Z"
    }
   },
   "outputs": [],
   "source": [
    "warnings.filterwarnings(action=\"ignore\", module=\"scipy\", message=\"^internal gelsd\")"
   ]
  },
  {
   "cell_type": "code",
   "execution_count": 42,
   "id": "7f099d24",
   "metadata": {
    "ExecuteTime": {
     "end_time": "2021-05-11T14:26:20.534219Z",
     "start_time": "2021-05-11T14:26:20.475376Z"
    }
   },
   "outputs": [],
   "source": [
    "features, target = datasets.make_regression(n_samples = 10000,\n",
    "                                   n_features = 100,\n",
    "                                   n_informative = 2,\n",
    "                                   random_state = 1)"
   ]
  },
  {
   "cell_type": "code",
   "execution_count": 43,
   "id": "2b0c1e71",
   "metadata": {
    "ExecuteTime": {
     "end_time": "2021-05-11T14:26:36.027345Z",
     "start_time": "2021-05-11T14:26:21.076402Z"
    }
   },
   "outputs": [
    {
     "data": {
      "text/plain": [
       "array([[-0.76165969,  0.00850799, -0.1743876 , ..., -0.26903836,\n",
       "        -0.00334006, -0.43443631],\n",
       "       [-0.46550514, -1.07500204, -0.13792708, ..., -0.71990239,\n",
       "         0.83025386,  0.49521824],\n",
       "       [ 1.36836958,  1.37940721,  0.04954512, ...,  0.49558942,\n",
       "         1.57437341, -0.86151394],\n",
       "       ...,\n",
       "       [ 0.39023196, -0.80331656,  1.19182077, ...,  0.22900133,\n",
       "         0.95453857, -0.32710863],\n",
       "       [ 0.44825266,  0.39508844,  0.1869861 , ...,  0.02723818,\n",
       "         0.3561363 , -0.18744426],\n",
       "       [ 1.15616404, -0.55383035, -2.20666674, ..., -1.08865284,\n",
       "        -0.47269736, -0.36458525]])"
      ]
     },
     "execution_count": 43,
     "metadata": {},
     "output_type": "execute_result"
    }
   ],
   "source": [
    "ols = linear_model.LinearRegression()\n",
    "\n",
    "rfecv = RFECV(estimator=ols, step=1, scoring=\"neg_mean_squared_error\")\n",
    "rfecv.fit(features, target)\n",
    "rfecv.transform(features)"
   ]
  },
  {
   "cell_type": "code",
   "execution_count": 44,
   "id": "f37d9ba9",
   "metadata": {
    "ExecuteTime": {
     "end_time": "2021-05-11T14:26:36.043303Z",
     "start_time": "2021-05-11T14:26:36.031334Z"
    }
   },
   "outputs": [
    {
     "data": {
      "text/plain": [
       "9"
      ]
     },
     "execution_count": 44,
     "metadata": {},
     "output_type": "execute_result"
    }
   ],
   "source": [
    "rfecv.n_features_"
   ]
  },
  {
   "cell_type": "code",
   "execution_count": 45,
   "id": "c7015232",
   "metadata": {
    "ExecuteTime": {
     "end_time": "2021-05-11T14:26:36.074219Z",
     "start_time": "2021-05-11T14:26:36.048290Z"
    }
   },
   "outputs": [
    {
     "data": {
      "text/plain": [
       "array([False,  True, False, False, False,  True, False, False, False,\n",
       "       False, False, False, False, False, False, False, False, False,\n",
       "        True, False, False, False, False, False, False, False, False,\n",
       "       False, False, False, False, False, False, False,  True, False,\n",
       "       False, False, False,  True, False, False, False, False, False,\n",
       "       False, False,  True, False, False, False, False, False, False,\n",
       "       False, False, False, False, False, False, False, False, False,\n",
       "       False, False, False, False, False, False, False, False, False,\n",
       "       False, False, False, False, False, False, False, False, False,\n",
       "       False, False, False, False, False,  True,  True, False, False,\n",
       "        True, False, False, False, False, False, False, False, False,\n",
       "       False])"
      ]
     },
     "execution_count": 45,
     "metadata": {},
     "output_type": "execute_result"
    }
   ],
   "source": [
    "rfecv.support_"
   ]
  },
  {
   "cell_type": "code",
   "execution_count": 46,
   "id": "b58b97e6",
   "metadata": {
    "ExecuteTime": {
     "end_time": "2021-05-11T14:26:56.784764Z",
     "start_time": "2021-05-11T14:26:56.776786Z"
    }
   },
   "outputs": [
    {
     "data": {
      "text/plain": [
       "array([43,  1, 52, 40, 25,  1, 30, 12, 72,  5, 75, 24, 55, 45, 39, 73, 47,\n",
       "       36,  1, 38, 74, 87, 21, 17, 13, 56, 11,  4,  3, 33,  9, 59, 22, 29,\n",
       "        1, 63, 34, 41, 84,  1, 10, 26, 28, 71, 78, 42, 91,  1, 88, 92, 85,\n",
       "       54, 80, 81, 31, 86, 48,  7, 20, 62, 83, 50,  6, 37, 60, 65, 57, 76,\n",
       "       46, 49, 44,  2, 15, 66, 16, 35, 90, 82, 77, 69, 64, 32, 18, 51, 23,\n",
       "       67,  1,  1,  8, 53,  1, 89, 68, 58, 79, 61, 27, 70, 14, 19])"
      ]
     },
     "execution_count": 46,
     "metadata": {},
     "output_type": "execute_result"
    }
   ],
   "source": [
    "rfecv.ranking_"
   ]
  },
  {
   "cell_type": "code",
   "execution_count": null,
   "id": "539b62f0",
   "metadata": {},
   "outputs": [],
   "source": []
  }
 ],
 "metadata": {
  "kernelspec": {
   "display_name": "Python 3",
   "language": "python",
   "name": "python3"
  },
  "language_info": {
   "codemirror_mode": {
    "name": "ipython",
    "version": 3
   },
   "file_extension": ".py",
   "mimetype": "text/x-python",
   "name": "python",
   "nbconvert_exporter": "python",
   "pygments_lexer": "ipython3",
   "version": "3.8.5"
  }
 },
 "nbformat": 4,
 "nbformat_minor": 5
}
