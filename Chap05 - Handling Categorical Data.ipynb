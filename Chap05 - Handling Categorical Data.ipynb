{
 "cells": [
  {
   "cell_type": "markdown",
   "id": "149ebebb",
   "metadata": {
    "ExecuteTime": {
     "end_time": "2021-04-29T00:30:12.551304Z",
     "start_time": "2021-04-29T00:30:12.543324Z"
    }
   },
   "source": [
    "<h1> Chap 05 - Handling Categorical Data</h1>"
   ]
  },
  {
   "cell_type": "markdown",
   "id": "83054a28",
   "metadata": {},
   "source": [
    "Imports"
   ]
  },
  {
   "cell_type": "code",
   "execution_count": 2,
   "id": "81594d8d",
   "metadata": {
    "ExecuteTime": {
     "end_time": "2021-04-29T19:04:39.544134Z",
     "start_time": "2021-04-29T19:04:39.343395Z"
    }
   },
   "outputs": [],
   "source": [
    "import pandas as pd\n",
    "import numpy as np\n",
    "from sklearn.preprocessing import LabelBinarizer, MultiLabelBinarizer\n",
    "from sklearn.impute import SimpleImputer\n",
    "from sklearn.feature_extraction import DictVectorizer\n",
    "from sklearn.neighbors import KNeighborsClassifier\n",
    "from sklearn.ensemble import RandomForestClassifier\n",
    "from sklearn.datasets import load_iris"
   ]
  },
  {
   "cell_type": "markdown",
   "id": "5765a54b",
   "metadata": {},
   "source": [
    "## 5.1 Enconding Nominal Categorical Features"
   ]
  },
  {
   "cell_type": "markdown",
   "id": "54a6a2e4",
   "metadata": {},
   "source": [
    "Dummying or one hot encoding "
   ]
  },
  {
   "cell_type": "code",
   "execution_count": 7,
   "id": "98b78408",
   "metadata": {
    "ExecuteTime": {
     "end_time": "2021-04-29T00:33:43.488220Z",
     "start_time": "2021-04-29T00:33:43.482236Z"
    }
   },
   "outputs": [],
   "source": [
    "feature = np.array([['Texas'],\n",
    "                     ['California'],\n",
    "                     ['Texas'],\n",
    "                     ['Delaware'],\n",
    "                     ['Texas']])"
   ]
  },
  {
   "cell_type": "code",
   "execution_count": 8,
   "id": "c0c03ce5",
   "metadata": {
    "ExecuteTime": {
     "end_time": "2021-04-29T00:33:43.939266Z",
     "start_time": "2021-04-29T00:33:43.933282Z"
    }
   },
   "outputs": [],
   "source": [
    "one_hot = LabelBinarizer()"
   ]
  },
  {
   "cell_type": "code",
   "execution_count": 9,
   "id": "f9fe067e",
   "metadata": {
    "ExecuteTime": {
     "end_time": "2021-04-29T00:33:44.721011Z",
     "start_time": "2021-04-29T00:33:44.697077Z"
    }
   },
   "outputs": [
    {
     "data": {
      "text/plain": [
       "array([[0, 0, 1],\n",
       "       [1, 0, 0],\n",
       "       [0, 0, 1],\n",
       "       [0, 1, 0],\n",
       "       [0, 0, 1]])"
      ]
     },
     "execution_count": 9,
     "metadata": {},
     "output_type": "execute_result"
    }
   ],
   "source": [
    "one_hot.fit_transform(feature)"
   ]
  },
  {
   "cell_type": "code",
   "execution_count": 10,
   "id": "48d425d0",
   "metadata": {
    "ExecuteTime": {
     "end_time": "2021-04-29T00:34:09.425915Z",
     "start_time": "2021-04-29T00:34:09.408961Z"
    }
   },
   "outputs": [
    {
     "data": {
      "text/plain": [
       "array(['California', 'Delaware', 'Texas'], dtype='<U10')"
      ]
     },
     "execution_count": 10,
     "metadata": {},
     "output_type": "execute_result"
    }
   ],
   "source": [
    "one_hot.classes_"
   ]
  },
  {
   "cell_type": "code",
   "execution_count": 11,
   "id": "8fc50f56",
   "metadata": {
    "ExecuteTime": {
     "end_time": "2021-04-29T00:34:36.159394Z",
     "start_time": "2021-04-29T00:34:36.145433Z"
    }
   },
   "outputs": [
    {
     "data": {
      "text/plain": [
       "array(['Texas', 'California', 'Texas', 'Delaware', 'Texas'], dtype='<U10')"
      ]
     },
     "execution_count": 11,
     "metadata": {},
     "output_type": "execute_result"
    }
   ],
   "source": [
    "one_hot.inverse_transform(one_hot.transform(feature))"
   ]
  },
  {
   "cell_type": "code",
   "execution_count": 13,
   "id": "23dd0563",
   "metadata": {
    "ExecuteTime": {
     "end_time": "2021-04-29T00:35:18.684903Z",
     "start_time": "2021-04-29T00:35:18.646008Z"
    }
   },
   "outputs": [
    {
     "data": {
      "text/html": [
       "<div>\n",
       "<style scoped>\n",
       "    .dataframe tbody tr th:only-of-type {\n",
       "        vertical-align: middle;\n",
       "    }\n",
       "\n",
       "    .dataframe tbody tr th {\n",
       "        vertical-align: top;\n",
       "    }\n",
       "\n",
       "    .dataframe thead th {\n",
       "        text-align: right;\n",
       "    }\n",
       "</style>\n",
       "<table border=\"1\" class=\"dataframe\">\n",
       "  <thead>\n",
       "    <tr style=\"text-align: right;\">\n",
       "      <th></th>\n",
       "      <th>California</th>\n",
       "      <th>Delaware</th>\n",
       "      <th>Texas</th>\n",
       "    </tr>\n",
       "  </thead>\n",
       "  <tbody>\n",
       "    <tr>\n",
       "      <th>0</th>\n",
       "      <td>0</td>\n",
       "      <td>0</td>\n",
       "      <td>1</td>\n",
       "    </tr>\n",
       "    <tr>\n",
       "      <th>1</th>\n",
       "      <td>1</td>\n",
       "      <td>0</td>\n",
       "      <td>0</td>\n",
       "    </tr>\n",
       "    <tr>\n",
       "      <th>2</th>\n",
       "      <td>0</td>\n",
       "      <td>0</td>\n",
       "      <td>1</td>\n",
       "    </tr>\n",
       "    <tr>\n",
       "      <th>3</th>\n",
       "      <td>0</td>\n",
       "      <td>1</td>\n",
       "      <td>0</td>\n",
       "    </tr>\n",
       "    <tr>\n",
       "      <th>4</th>\n",
       "      <td>0</td>\n",
       "      <td>0</td>\n",
       "      <td>1</td>\n",
       "    </tr>\n",
       "  </tbody>\n",
       "</table>\n",
       "</div>"
      ],
      "text/plain": [
       "   California  Delaware  Texas\n",
       "0           0         0      1\n",
       "1           1         0      0\n",
       "2           0         0      1\n",
       "3           0         1      0\n",
       "4           0         0      1"
      ]
     },
     "execution_count": 13,
     "metadata": {},
     "output_type": "execute_result"
    }
   ],
   "source": [
    "pd.get_dummies(feature[:,0])"
   ]
  },
  {
   "cell_type": "code",
   "execution_count": 14,
   "id": "69e79aa0",
   "metadata": {
    "ExecuteTime": {
     "end_time": "2021-04-29T00:37:18.737479Z",
     "start_time": "2021-04-29T00:37:18.723490Z"
    }
   },
   "outputs": [],
   "source": [
    "multiclass_feature = [('Texas', 'Florida'),\n",
    "                      ('California','Alabama'),\n",
    "                      ('Texas','Florida'),\n",
    "                      ('Texas','Florida'),\n",
    "                      ('Delaware','Florida'),\n",
    "                      ('Texas','Alabama')]\n",
    "\n",
    "one_hot_multiclass = MultiLabelBinarizer()"
   ]
  },
  {
   "cell_type": "code",
   "execution_count": 15,
   "id": "2a7bed25",
   "metadata": {
    "ExecuteTime": {
     "end_time": "2021-04-29T00:37:33.781077Z",
     "start_time": "2021-04-29T00:37:33.761120Z"
    }
   },
   "outputs": [
    {
     "data": {
      "text/plain": [
       "array([[0, 0, 0, 1, 1],\n",
       "       [1, 1, 0, 0, 0],\n",
       "       [0, 0, 0, 1, 1],\n",
       "       [0, 0, 0, 1, 1],\n",
       "       [0, 0, 1, 1, 0],\n",
       "       [1, 0, 0, 0, 1]])"
      ]
     },
     "execution_count": 15,
     "metadata": {},
     "output_type": "execute_result"
    }
   ],
   "source": [
    "one_hot_multiclass.fit_transform(multiclass_feature)"
   ]
  },
  {
   "cell_type": "code",
   "execution_count": 16,
   "id": "c71e8f97",
   "metadata": {
    "ExecuteTime": {
     "end_time": "2021-04-29T00:37:54.696382Z",
     "start_time": "2021-04-29T00:37:54.685413Z"
    }
   },
   "outputs": [
    {
     "data": {
      "text/plain": [
       "array(['Alabama', 'California', 'Delaware', 'Florida', 'Texas'],\n",
       "      dtype=object)"
      ]
     },
     "execution_count": 16,
     "metadata": {},
     "output_type": "execute_result"
    }
   ],
   "source": [
    "one_hot_multiclass.classes_"
   ]
  },
  {
   "cell_type": "markdown",
   "id": "9b5a3dcb",
   "metadata": {},
   "source": [
    "## 5.2 Encoding Ordinal Categorical Features "
   ]
  },
  {
   "cell_type": "code",
   "execution_count": 18,
   "id": "9aa70705",
   "metadata": {
    "ExecuteTime": {
     "end_time": "2021-04-29T00:41:43.875367Z",
     "start_time": "2021-04-29T00:41:43.850423Z"
    }
   },
   "outputs": [
    {
     "data": {
      "text/plain": [
       "0    1\n",
       "1    1\n",
       "2    2\n",
       "3    2\n",
       "4    3\n",
       "Name: Score, dtype: int64"
      ]
     },
     "execution_count": 18,
     "metadata": {},
     "output_type": "execute_result"
    }
   ],
   "source": [
    "dataframe = pd.DataFrame({'Score': ['Low', 'Low', 'Medium', 'Medium', 'High']})\n",
    "scale_mapper = {'Low': 1, 'Medium': 2, 'High': 3}\n",
    "dataframe['Score'].replace(scale_mapper)"
   ]
  },
  {
   "cell_type": "code",
   "execution_count": 19,
   "id": "928c96c4",
   "metadata": {
    "ExecuteTime": {
     "end_time": "2021-04-29T00:44:37.827635Z",
     "start_time": "2021-04-29T00:44:37.816664Z"
    }
   },
   "outputs": [],
   "source": [
    "dataframe = pd.DataFrame({'Score': ['Low',\n",
    "                                    'Low',\n",
    "                                    'Medium',\n",
    "                                    'Medium',\n",
    "                                    'High',\n",
    "                                    'Barely More Than Medium']})\n",
    "\n",
    "\n",
    "scale_mapper = {'Low': 1, 'Medium': 2, 'Barely More Than Medium': 3,'High': 4}"
   ]
  },
  {
   "cell_type": "code",
   "execution_count": 20,
   "id": "c03354aa",
   "metadata": {
    "ExecuteTime": {
     "end_time": "2021-04-29T00:45:41.671753Z",
     "start_time": "2021-04-29T00:45:41.653776Z"
    }
   },
   "outputs": [
    {
     "data": {
      "text/plain": [
       "0    1\n",
       "1    1\n",
       "2    2\n",
       "3    2\n",
       "4    4\n",
       "5    3\n",
       "Name: Score, dtype: int64"
      ]
     },
     "execution_count": 20,
     "metadata": {},
     "output_type": "execute_result"
    }
   ],
   "source": [
    "dataframe['Score'].replace(scale_mapper)"
   ]
  },
  {
   "cell_type": "code",
   "execution_count": 22,
   "id": "caccf59d",
   "metadata": {
    "ExecuteTime": {
     "end_time": "2021-04-29T00:47:19.672606Z",
     "start_time": "2021-04-29T00:47:19.655651Z"
    }
   },
   "outputs": [
    {
     "data": {
      "text/plain": [
       "0    1.0\n",
       "1    1.0\n",
       "2    2.0\n",
       "3    2.0\n",
       "4    3.0\n",
       "5    2.1\n",
       "Name: Score, dtype: float64"
      ]
     },
     "execution_count": 22,
     "metadata": {},
     "output_type": "execute_result"
    }
   ],
   "source": [
    "scale_mapper = {'Low': 1,\n",
    "                'Medium': 2,\n",
    "                'Barely More Than Medium': 2.1,\n",
    "                'High': 3}\n",
    "\n",
    "dataframe['Score'].replace(scale_mapper)"
   ]
  },
  {
   "cell_type": "markdown",
   "id": "2ac0bde4",
   "metadata": {},
   "source": [
    "## 5.3 Encoding Dictionaries of Features "
   ]
  },
  {
   "cell_type": "code",
   "execution_count": 24,
   "id": "adec5818",
   "metadata": {
    "ExecuteTime": {
     "end_time": "2021-04-29T00:50:06.830417Z",
     "start_time": "2021-04-29T00:50:06.819448Z"
    }
   },
   "outputs": [],
   "source": [
    "data_dict = [{'Red': 2, 'Blue': 4},\n",
    "             {'Red': 4, 'Blue': 3},\n",
    "             {'Red': 1, 'Yellow': 2},\n",
    "             {'Red': 2, 'Yellow': 2}]"
   ]
  },
  {
   "cell_type": "code",
   "execution_count": 26,
   "id": "988f7c67",
   "metadata": {
    "ExecuteTime": {
     "end_time": "2021-04-29T00:52:06.085322Z",
     "start_time": "2021-04-29T00:52:06.072356Z"
    }
   },
   "outputs": [],
   "source": [
    "dictvectorizer = DictVectorizer(sparse=False)"
   ]
  },
  {
   "cell_type": "code",
   "execution_count": 27,
   "id": "673267f0",
   "metadata": {
    "ExecuteTime": {
     "end_time": "2021-04-29T00:52:18.057929Z",
     "start_time": "2021-04-29T00:52:18.046942Z"
    }
   },
   "outputs": [],
   "source": [
    "features = dictvectorizer.fit_transform(data_dict)"
   ]
  },
  {
   "cell_type": "code",
   "execution_count": 28,
   "id": "3f53bcfa",
   "metadata": {
    "ExecuteTime": {
     "end_time": "2021-04-29T00:52:22.443848Z",
     "start_time": "2021-04-29T00:52:22.433875Z"
    }
   },
   "outputs": [
    {
     "data": {
      "text/plain": [
       "array([[4., 2., 0.],\n",
       "       [3., 4., 0.],\n",
       "       [0., 1., 2.],\n",
       "       [0., 2., 2.]])"
      ]
     },
     "execution_count": 28,
     "metadata": {},
     "output_type": "execute_result"
    }
   ],
   "source": [
    "features"
   ]
  },
  {
   "cell_type": "code",
   "execution_count": 29,
   "id": "3f0b5488",
   "metadata": {
    "ExecuteTime": {
     "end_time": "2021-04-29T00:54:31.165773Z",
     "start_time": "2021-04-29T00:54:31.149789Z"
    }
   },
   "outputs": [],
   "source": [
    "feature_names = dictvectorizer.get_feature_names()"
   ]
  },
  {
   "cell_type": "code",
   "execution_count": 30,
   "id": "13e1487a",
   "metadata": {
    "ExecuteTime": {
     "end_time": "2021-04-29T00:54:34.573497Z",
     "start_time": "2021-04-29T00:54:34.561528Z"
    }
   },
   "outputs": [
    {
     "data": {
      "text/plain": [
       "['Blue', 'Red', 'Yellow']"
      ]
     },
     "execution_count": 30,
     "metadata": {},
     "output_type": "execute_result"
    }
   ],
   "source": [
    "feature_names"
   ]
  },
  {
   "cell_type": "code",
   "execution_count": 31,
   "id": "4cc16adc",
   "metadata": {
    "ExecuteTime": {
     "end_time": "2021-04-29T00:55:54.605415Z",
     "start_time": "2021-04-29T00:55:54.587477Z"
    }
   },
   "outputs": [
    {
     "data": {
      "text/html": [
       "<div>\n",
       "<style scoped>\n",
       "    .dataframe tbody tr th:only-of-type {\n",
       "        vertical-align: middle;\n",
       "    }\n",
       "\n",
       "    .dataframe tbody tr th {\n",
       "        vertical-align: top;\n",
       "    }\n",
       "\n",
       "    .dataframe thead th {\n",
       "        text-align: right;\n",
       "    }\n",
       "</style>\n",
       "<table border=\"1\" class=\"dataframe\">\n",
       "  <thead>\n",
       "    <tr style=\"text-align: right;\">\n",
       "      <th></th>\n",
       "      <th>Blue</th>\n",
       "      <th>Red</th>\n",
       "      <th>Yellow</th>\n",
       "    </tr>\n",
       "  </thead>\n",
       "  <tbody>\n",
       "    <tr>\n",
       "      <th>0</th>\n",
       "      <td>4.0</td>\n",
       "      <td>2.0</td>\n",
       "      <td>0.0</td>\n",
       "    </tr>\n",
       "    <tr>\n",
       "      <th>1</th>\n",
       "      <td>3.0</td>\n",
       "      <td>4.0</td>\n",
       "      <td>0.0</td>\n",
       "    </tr>\n",
       "    <tr>\n",
       "      <th>2</th>\n",
       "      <td>0.0</td>\n",
       "      <td>1.0</td>\n",
       "      <td>2.0</td>\n",
       "    </tr>\n",
       "    <tr>\n",
       "      <th>3</th>\n",
       "      <td>0.0</td>\n",
       "      <td>2.0</td>\n",
       "      <td>2.0</td>\n",
       "    </tr>\n",
       "  </tbody>\n",
       "</table>\n",
       "</div>"
      ],
      "text/plain": [
       "   Blue  Red  Yellow\n",
       "0   4.0  2.0     0.0\n",
       "1   3.0  4.0     0.0\n",
       "2   0.0  1.0     2.0\n",
       "3   0.0  2.0     2.0"
      ]
     },
     "execution_count": 31,
     "metadata": {},
     "output_type": "execute_result"
    }
   ],
   "source": [
    "pd.DataFrame(features, columns=feature_names)"
   ]
  },
  {
   "cell_type": "code",
   "execution_count": 37,
   "id": "24c71b44",
   "metadata": {
    "ExecuteTime": {
     "end_time": "2021-04-29T00:59:31.108813Z",
     "start_time": "2021-04-29T00:59:31.103827Z"
    }
   },
   "outputs": [],
   "source": [
    "doc_1_word_count = {'Red': 2, 'Blue': 4}\n",
    "doc_2_word_count = {'Red': 4, 'Blue': 3}\n",
    "doc_3_word_count = {'Red': 1, 'Yellow': 2}\n",
    "doc_4_word_count = {'Red': 2, 'Yellow': 2}"
   ]
  },
  {
   "cell_type": "code",
   "execution_count": 38,
   "id": "d0975af7",
   "metadata": {
    "ExecuteTime": {
     "end_time": "2021-04-29T00:59:32.031773Z",
     "start_time": "2021-04-29T00:59:32.015817Z"
    }
   },
   "outputs": [],
   "source": [
    "doc_word_counts = [doc_1_word_count,\n",
    "                   doc_2_word_count,\n",
    "                   doc_3_word_count,\n",
    "                   doc_4_word_count]"
   ]
  },
  {
   "cell_type": "code",
   "execution_count": 39,
   "id": "81bf2af1",
   "metadata": {
    "ExecuteTime": {
     "end_time": "2021-04-29T00:59:32.407921Z",
     "start_time": "2021-04-29T00:59:32.388973Z"
    }
   },
   "outputs": [
    {
     "data": {
      "text/plain": [
       "array([[4., 2., 0.],\n",
       "       [3., 4., 0.],\n",
       "       [0., 1., 2.],\n",
       "       [0., 2., 2.]])"
      ]
     },
     "execution_count": 39,
     "metadata": {},
     "output_type": "execute_result"
    }
   ],
   "source": [
    "dictvectorizer.fit_transform(doc_word_counts)"
   ]
  },
  {
   "cell_type": "markdown",
   "id": "a30a253b",
   "metadata": {},
   "source": [
    "## 5.4 Imputing Missing Class Values "
   ]
  },
  {
   "cell_type": "code",
   "execution_count": 41,
   "id": "453518d8",
   "metadata": {
    "ExecuteTime": {
     "end_time": "2021-04-29T01:01:58.211385Z",
     "start_time": "2021-04-29T01:01:58.205402Z"
    }
   },
   "outputs": [],
   "source": [
    "X = np.array([[0, 2.1, 1.45],\n",
    "              [1, 1.18, 1.33],\n",
    "              [0, 1.22, 1.27],\n",
    "              [1, -0.21, -1.19]])"
   ]
  },
  {
   "cell_type": "code",
   "execution_count": 42,
   "id": "2f1c6fab",
   "metadata": {
    "ExecuteTime": {
     "end_time": "2021-04-29T01:02:39.908589Z",
     "start_time": "2021-04-29T01:02:39.892632Z"
    }
   },
   "outputs": [],
   "source": [
    "X_with_nan = np.array([[np.nan, 0.87, 1.31],\n",
    "                       [np.nan, -0.67, -0.22]])"
   ]
  },
  {
   "cell_type": "code",
   "execution_count": 43,
   "id": "9ee42550",
   "metadata": {
    "ExecuteTime": {
     "end_time": "2021-04-29T01:03:18.769224Z",
     "start_time": "2021-04-29T01:03:18.755641Z"
    }
   },
   "outputs": [],
   "source": [
    "clf = KNeighborsClassifier(3, weights = 'distance')\n",
    "trained_model = clf.fit(X[:,1:], X[:,0])"
   ]
  },
  {
   "cell_type": "code",
   "execution_count": 44,
   "id": "6c52529c",
   "metadata": {
    "ExecuteTime": {
     "end_time": "2021-04-29T01:04:03.781116Z",
     "start_time": "2021-04-29T01:04:03.769150Z"
    }
   },
   "outputs": [],
   "source": [
    "imputed_values = trained_model.predict(X_with_nan[:, 1:])\n",
    "X_with_imputed = np.hstack((imputed_values.reshape(-1,1), X_with_nan[:, 1:]))"
   ]
  },
  {
   "cell_type": "code",
   "execution_count": 46,
   "id": "d32a29e8",
   "metadata": {
    "ExecuteTime": {
     "end_time": "2021-04-29T01:04:41.750713Z",
     "start_time": "2021-04-29T01:04:41.742735Z"
    }
   },
   "outputs": [
    {
     "data": {
      "text/plain": [
       "array([[ 0.  ,  0.87,  1.31],\n",
       "       [ 1.  , -0.67, -0.22],\n",
       "       [ 0.  ,  2.1 ,  1.45],\n",
       "       [ 1.  ,  1.18,  1.33],\n",
       "       [ 0.  ,  1.22,  1.27],\n",
       "       [ 1.  , -0.21, -1.19]])"
      ]
     },
     "execution_count": 46,
     "metadata": {},
     "output_type": "execute_result"
    }
   ],
   "source": [
    "np.vstack((X_with_imputed, X))"
   ]
  },
  {
   "cell_type": "code",
   "execution_count": 54,
   "id": "82eff05a",
   "metadata": {
    "ExecuteTime": {
     "end_time": "2021-04-29T01:08:19.714364Z",
     "start_time": "2021-04-29T01:08:19.709406Z"
    }
   },
   "outputs": [],
   "source": [
    "X_complete = np.vstack((X_with_nan, X))"
   ]
  },
  {
   "cell_type": "code",
   "execution_count": 57,
   "id": "058e4905",
   "metadata": {
    "ExecuteTime": {
     "end_time": "2021-04-29T01:09:07.956323Z",
     "start_time": "2021-04-29T01:09:07.935379Z"
    }
   },
   "outputs": [
    {
     "data": {
      "text/plain": [
       "array([[ 0.  ,  0.87,  1.31],\n",
       "       [ 0.  , -0.67, -0.22],\n",
       "       [ 0.  ,  2.1 ,  1.45],\n",
       "       [ 1.  ,  1.18,  1.33],\n",
       "       [ 0.  ,  1.22,  1.27],\n",
       "       [ 1.  , -0.21, -1.19]])"
      ]
     },
     "execution_count": 57,
     "metadata": {},
     "output_type": "execute_result"
    }
   ],
   "source": [
    "imputer = SimpleImputer(strategy='most_frequent')\n",
    "imputer.fit_transform(X_complete)"
   ]
  },
  {
   "cell_type": "markdown",
   "id": "70c1358c",
   "metadata": {},
   "source": [
    "## 5.5 Handling Imbalanced Classes "
   ]
  },
  {
   "cell_type": "markdown",
   "id": "3d3a7e45",
   "metadata": {},
   "source": [
    "- Collect moredata\n",
    "- Change the metrics used to evaluate the model\n",
    "- Weight parameters\n",
    "- Downsampling\n",
    "- Oversampling"
   ]
  },
  {
   "cell_type": "code",
   "execution_count": 3,
   "id": "7217c8d1",
   "metadata": {
    "ExecuteTime": {
     "end_time": "2021-04-29T19:06:12.653723Z",
     "start_time": "2021-04-29T19:06:12.621807Z"
    }
   },
   "outputs": [
    {
     "data": {
      "text/plain": [
       "array([0, 0, 0, 0, 0, 0, 0, 0, 0, 0, 1, 1, 1, 1, 1, 1, 1, 1, 1, 1, 1, 1,\n",
       "       1, 1, 1, 1, 1, 1, 1, 1, 1, 1, 1, 1, 1, 1, 1, 1, 1, 1, 1, 1, 1, 1,\n",
       "       1, 1, 1, 1, 1, 1, 1, 1, 1, 1, 1, 1, 1, 1, 1, 1, 1, 1, 1, 1, 1, 1,\n",
       "       1, 1, 1, 1, 1, 1, 1, 1, 1, 1, 1, 1, 1, 1, 1, 1, 1, 1, 1, 1, 1, 1,\n",
       "       1, 1, 1, 1, 1, 1, 1, 1, 1, 1, 1, 1, 1, 1, 1, 1, 1, 1, 1, 1, 1, 1])"
      ]
     },
     "execution_count": 3,
     "metadata": {},
     "output_type": "execute_result"
    }
   ],
   "source": [
    "iris = load_iris()\n",
    "features = iris.data\n",
    "target = iris.target\n",
    "features = features[40:,:]\n",
    "target = target[40:]\n",
    "target = np.where((target == 0), 0, 1)\n",
    "target"
   ]
  },
  {
   "cell_type": "code",
   "execution_count": 8,
   "id": "23240caf",
   "metadata": {
    "ExecuteTime": {
     "end_time": "2021-04-29T19:09:45.180333Z",
     "start_time": "2021-04-29T19:09:45.161380Z"
    }
   },
   "outputs": [
    {
     "data": {
      "text/plain": [
       "RandomForestClassifier(class_weight='balanced')"
      ]
     },
     "execution_count": 8,
     "metadata": {},
     "output_type": "execute_result"
    }
   ],
   "source": [
    "#weights = {0: .9, 1: 0.1}\n",
    "#RandomForestClassifier(class_weight = weights) # Instanciate the RandomForestClassifier with specified class_weights\n",
    "RandomForestClassifier(class_weight= 'balanced') # Let the model create the weights inversely proportional to class frequencies"
   ]
  },
  {
   "cell_type": "markdown",
   "id": "2eb35732",
   "metadata": {},
   "source": [
    "Undesampling"
   ]
  },
  {
   "cell_type": "code",
   "execution_count": 10,
   "id": "7183421b",
   "metadata": {
    "ExecuteTime": {
     "end_time": "2021-04-29T19:13:24.616581Z",
     "start_time": "2021-04-29T19:13:24.601622Z"
    }
   },
   "outputs": [
    {
     "data": {
      "text/plain": [
       "array([0, 0, 0, 0, 0, 0, 0, 0, 0, 0, 1, 1, 1, 1, 1, 1, 1, 1, 1, 1])"
      ]
     },
     "execution_count": 10,
     "metadata": {},
     "output_type": "execute_result"
    }
   ],
   "source": [
    "# indices of each class observations\n",
    "i_class0 = np.where(target == 0)[0]\n",
    "i_class1 = np.where(target == 1)[0]\n",
    "\n",
    "n_class0 = len(i_class0)\n",
    "n_class1 = len(i_class1)\n",
    "\n",
    "# For every observation of class 0, randomly sample\n",
    "# From class 1 without replacement\n",
    "i_class1_downsampled = np.random.choice(i_class1, size=n_class0, replace=False)\n",
    "np.hstack((target[i_class0], target[i_class1_downsampled]))"
   ]
  },
  {
   "cell_type": "code",
   "execution_count": 12,
   "id": "11751247",
   "metadata": {
    "ExecuteTime": {
     "end_time": "2021-04-29T19:16:20.577138Z",
     "start_time": "2021-04-29T19:16:20.565170Z"
    }
   },
   "outputs": [
    {
     "data": {
      "text/plain": [
       "array([[5. , 3.5, 1.3, 0.3],\n",
       "       [4.5, 2.3, 1.3, 0.3],\n",
       "       [4.4, 3.2, 1.3, 0.2],\n",
       "       [5. , 3.5, 1.6, 0.6],\n",
       "       [5.1, 3.8, 1.9, 0.4]])"
      ]
     },
     "execution_count": 12,
     "metadata": {},
     "output_type": "execute_result"
    }
   ],
   "source": [
    "np.vstack((features[i_class0,:], features[i_class1_downsampled,:]))[0:5]"
   ]
  },
  {
   "cell_type": "markdown",
   "id": "0b7cc81e",
   "metadata": {},
   "source": [
    "Oversampling"
   ]
  },
  {
   "cell_type": "code",
   "execution_count": 13,
   "id": "7ca181a0",
   "metadata": {
    "ExecuteTime": {
     "end_time": "2021-04-29T19:20:37.339916Z",
     "start_time": "2021-04-29T19:20:37.330934Z"
    }
   },
   "outputs": [
    {
     "data": {
      "text/plain": [
       "array([0, 0, 0, 0, 0, 0, 0, 0, 0, 0, 0, 0, 0, 0, 0, 0, 0, 0, 0, 0, 0, 0,\n",
       "       0, 0, 0, 0, 0, 0, 0, 0, 0, 0, 0, 0, 0, 0, 0, 0, 0, 0, 0, 0, 0, 0,\n",
       "       0, 0, 0, 0, 0, 0, 0, 0, 0, 0, 0, 0, 0, 0, 0, 0, 0, 0, 0, 0, 0, 0,\n",
       "       0, 0, 0, 0, 0, 0, 0, 0, 0, 0, 0, 0, 0, 0, 0, 0, 0, 0, 0, 0, 0, 0,\n",
       "       0, 0, 0, 0, 0, 0, 0, 0, 0, 0, 0, 0, 1, 1, 1, 1, 1, 1, 1, 1, 1, 1,\n",
       "       1, 1, 1, 1, 1, 1, 1, 1, 1, 1, 1, 1, 1, 1, 1, 1, 1, 1, 1, 1, 1, 1,\n",
       "       1, 1, 1, 1, 1, 1, 1, 1, 1, 1, 1, 1, 1, 1, 1, 1, 1, 1, 1, 1, 1, 1,\n",
       "       1, 1, 1, 1, 1, 1, 1, 1, 1, 1, 1, 1, 1, 1, 1, 1, 1, 1, 1, 1, 1, 1,\n",
       "       1, 1, 1, 1, 1, 1, 1, 1, 1, 1, 1, 1, 1, 1, 1, 1, 1, 1, 1, 1, 1, 1,\n",
       "       1, 1])"
      ]
     },
     "execution_count": 13,
     "metadata": {},
     "output_type": "execute_result"
    }
   ],
   "source": [
    "i_class0_unsampled = np.random.choice(i_class0, size=n_class1, replace=True)\n",
    "np.concatenate((target[i_class0_unsampled], target[i_class1]))"
   ]
  },
  {
   "cell_type": "code",
   "execution_count": 14,
   "id": "5af2c829",
   "metadata": {
    "ExecuteTime": {
     "end_time": "2021-04-29T19:21:11.642481Z",
     "start_time": "2021-04-29T19:21:11.632508Z"
    }
   },
   "outputs": [
    {
     "data": {
      "text/plain": [
       "array([[5. , 3.5, 1.6, 0.6],\n",
       "       [4.6, 3.2, 1.4, 0.2],\n",
       "       [4.6, 3.2, 1.4, 0.2],\n",
       "       [5.1, 3.8, 1.9, 0.4],\n",
       "       [5. , 3.5, 1.6, 0.6]])"
      ]
     },
     "execution_count": 14,
     "metadata": {},
     "output_type": "execute_result"
    }
   ],
   "source": [
    "np.vstack((features[i_class0_unsampled,:], features[i_class1,:]))[0:5]"
   ]
  },
  {
   "cell_type": "code",
   "execution_count": null,
   "id": "b5761fca",
   "metadata": {},
   "outputs": [],
   "source": []
  }
 ],
 "metadata": {
  "kernelspec": {
   "display_name": "Python 3",
   "language": "python",
   "name": "python3"
  },
  "language_info": {
   "codemirror_mode": {
    "name": "ipython",
    "version": 3
   },
   "file_extension": ".py",
   "mimetype": "text/x-python",
   "name": "python",
   "nbconvert_exporter": "python",
   "pygments_lexer": "ipython3",
   "version": "3.8.5"
  }
 },
 "nbformat": 4,
 "nbformat_minor": 5
}
