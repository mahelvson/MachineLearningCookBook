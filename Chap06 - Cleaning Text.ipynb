{
 "cells": [
  {
   "cell_type": "markdown",
   "id": "c7ee5280",
   "metadata": {
    "ExecuteTime": {
     "end_time": "2021-04-29T19:25:07.039453Z",
     "start_time": "2021-04-29T19:25:07.033506Z"
    }
   },
   "source": [
    "<h1>Chap06 - Cleaning Text</h1>"
   ]
  },
  {
   "cell_type": "markdown",
   "id": "360d932e",
   "metadata": {},
   "source": [
    "Imports"
   ]
  },
  {
   "cell_type": "code",
   "execution_count": 1,
   "id": "a04da169",
   "metadata": {
    "ExecuteTime": {
     "end_time": "2021-04-29T19:37:01.548713Z",
     "start_time": "2021-04-29T19:37:01.328473Z"
    }
   },
   "outputs": [],
   "source": [
    "import re\n",
    "import lxml\n",
    "from bs4 import BeautifulSoup"
   ]
  },
  {
   "cell_type": "markdown",
   "id": "a2e127ab",
   "metadata": {},
   "source": [
    "## 6.1 Cleaning Text "
   ]
  },
  {
   "cell_type": "code",
   "execution_count": 2,
   "id": "3fcfbb5f",
   "metadata": {
    "ExecuteTime": {
     "end_time": "2021-04-29T19:37:01.564698Z",
     "start_time": "2021-04-29T19:37:01.551709Z"
    }
   },
   "outputs": [],
   "source": [
    "text_data = [\"   Interrobang. By Aishwarya Henriette    \",\n",
    "             \"Parking And Going. By Karl Gautier\",\n",
    "             \"   Today Is The night. By Jarek Prakash   \"]"
   ]
  },
  {
   "cell_type": "code",
   "execution_count": 3,
   "id": "a10e8591",
   "metadata": {
    "ExecuteTime": {
     "end_time": "2021-04-29T19:37:01.579633Z",
     "start_time": "2021-04-29T19:37:01.567666Z"
    }
   },
   "outputs": [],
   "source": [
    "strip_whitespace = [string.strip() for string in text_data]"
   ]
  },
  {
   "cell_type": "code",
   "execution_count": 4,
   "id": "193b776b",
   "metadata": {
    "ExecuteTime": {
     "end_time": "2021-04-29T19:37:01.594660Z",
     "start_time": "2021-04-29T19:37:01.582625Z"
    }
   },
   "outputs": [
    {
     "data": {
      "text/plain": [
       "['Interrobang. By Aishwarya Henriette',\n",
       " 'Parking And Going. By Karl Gautier',\n",
       " 'Today Is The night. By Jarek Prakash']"
      ]
     },
     "execution_count": 4,
     "metadata": {},
     "output_type": "execute_result"
    }
   ],
   "source": [
    "strip_whitespace"
   ]
  },
  {
   "cell_type": "code",
   "execution_count": 5,
   "id": "b8ac5f34",
   "metadata": {
    "ExecuteTime": {
     "end_time": "2021-04-29T19:37:01.610617Z",
     "start_time": "2021-04-29T19:37:01.599647Z"
    }
   },
   "outputs": [],
   "source": [
    "remove_periods = [string.replace(\".\", \"\") for string in strip_whitespace]"
   ]
  },
  {
   "cell_type": "code",
   "execution_count": 6,
   "id": "04cccf22",
   "metadata": {
    "ExecuteTime": {
     "end_time": "2021-04-29T19:37:01.625577Z",
     "start_time": "2021-04-29T19:37:01.612612Z"
    }
   },
   "outputs": [
    {
     "data": {
      "text/plain": [
       "['Interrobang By Aishwarya Henriette',\n",
       " 'Parking And Going By Karl Gautier',\n",
       " 'Today Is The night By Jarek Prakash']"
      ]
     },
     "execution_count": 6,
     "metadata": {},
     "output_type": "execute_result"
    }
   ],
   "source": [
    "remove_periods"
   ]
  },
  {
   "cell_type": "code",
   "execution_count": 7,
   "id": "862a8033",
   "metadata": {
    "ExecuteTime": {
     "end_time": "2021-04-29T19:37:01.641568Z",
     "start_time": "2021-04-29T19:37:01.628571Z"
    }
   },
   "outputs": [
    {
     "data": {
      "text/plain": [
       "['INTERROBANG BY AISHWARYA HENRIETTE',\n",
       " 'PARKING AND GOING BY KARL GAUTIER',\n",
       " 'TODAY IS THE NIGHT BY JAREK PRAKASH']"
      ]
     },
     "execution_count": 7,
     "metadata": {},
     "output_type": "execute_result"
    }
   ],
   "source": [
    "def capitalizer(string: str) -> str:\n",
    "    return string.upper()\n",
    "\n",
    "[capitalizer(string) for string in remove_periods]"
   ]
  },
  {
   "cell_type": "code",
   "execution_count": 8,
   "id": "609d5885",
   "metadata": {
    "ExecuteTime": {
     "end_time": "2021-04-29T19:37:01.656499Z",
     "start_time": "2021-04-29T19:37:01.646522Z"
    }
   },
   "outputs": [
    {
     "data": {
      "text/plain": [
       "['XXXXXXXXXXX XX XXXXXXXXX XXXXXXXXX',\n",
       " 'XXXXXXX XXX XXXXX XX XXXX XXXXXXX',\n",
       " 'XXXXX XX XXX XXXXX XX XXXXX XXXXXXX']"
      ]
     },
     "execution_count": 8,
     "metadata": {},
     "output_type": "execute_result"
    }
   ],
   "source": [
    "def replace_letters_with_X(string: str) -> str:\n",
    "    return re.sub(r\"[a-zA-Z]\", \"X\", string)\n",
    "\n",
    "[replace_letters_with_X(string) for string in remove_periods]"
   ]
  },
  {
   "cell_type": "markdown",
   "id": "a022220c",
   "metadata": {},
   "source": [
    "## 6.2 Parsing and Cleaning HTML "
   ]
  },
  {
   "cell_type": "markdown",
   "id": "d1e2b7fd",
   "metadata": {},
   "source": [
    "<div class='full_name'><span style='font-weight:bold'>Masego</span> Azra</div>"
   ]
  },
  {
   "cell_type": "code",
   "execution_count": 9,
   "id": "698a8bae",
   "metadata": {
    "ExecuteTime": {
     "end_time": "2021-04-29T19:37:01.672487Z",
     "start_time": "2021-04-29T19:37:01.660484Z"
    }
   },
   "outputs": [],
   "source": [
    "html = \"<div class='full_name'><span style='font-weight:bold'>Masego</span> Azra</div>\""
   ]
  },
  {
   "cell_type": "code",
   "execution_count": 12,
   "id": "ab94552b",
   "metadata": {
    "ExecuteTime": {
     "end_time": "2021-04-29T19:37:09.987268Z",
     "start_time": "2021-04-29T19:37:09.969288Z"
    }
   },
   "outputs": [],
   "source": [
    "soup = BeautifulSoup(html, features='lxml')"
   ]
  },
  {
   "cell_type": "code",
   "execution_count": 13,
   "id": "45bc3842",
   "metadata": {
    "ExecuteTime": {
     "end_time": "2021-04-29T19:37:27.325482Z",
     "start_time": "2021-04-29T19:37:27.319499Z"
    }
   },
   "outputs": [
    {
     "data": {
      "text/plain": [
       "'Masego Azra'"
      ]
     },
     "execution_count": 13,
     "metadata": {},
     "output_type": "execute_result"
    }
   ],
   "source": [
    "soup.find('div', {'class': 'full_name'}).text"
   ]
  },
  {
   "cell_type": "code",
   "execution_count": null,
   "id": "5a1238ff",
   "metadata": {},
   "outputs": [],
   "source": []
  }
 ],
 "metadata": {
  "kernelspec": {
   "display_name": "Python 3",
   "language": "python",
   "name": "python3"
  },
  "language_info": {
   "codemirror_mode": {
    "name": "ipython",
    "version": 3
   },
   "file_extension": ".py",
   "mimetype": "text/x-python",
   "name": "python",
   "nbconvert_exporter": "python",
   "pygments_lexer": "ipython3",
   "version": "3.8.5"
  }
 },
 "nbformat": 4,
 "nbformat_minor": 5
}
