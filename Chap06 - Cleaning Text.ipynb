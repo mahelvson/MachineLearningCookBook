{
 "cells": [
  {
   "cell_type": "markdown",
   "id": "c7ee5280",
   "metadata": {
    "ExecuteTime": {
     "end_time": "2021-04-29T19:25:07.039453Z",
     "start_time": "2021-04-29T19:25:07.033506Z"
    }
   },
   "source": [
    "<h1>Chap06 - Cleaning Text</h1>"
   ]
  },
  {
   "cell_type": "markdown",
   "id": "360d932e",
   "metadata": {},
   "source": [
    "Imports"
   ]
  },
  {
   "cell_type": "code",
   "execution_count": 97,
   "id": "a04da169",
   "metadata": {
    "ExecuteTime": {
     "end_time": "2021-04-29T22:36:30.268492Z",
     "start_time": "2021-04-29T22:36:30.249544Z"
    }
   },
   "outputs": [],
   "source": [
    "import re\n",
    "import lxml\n",
    "import sys\n",
    "import unicodedata\n",
    "\n",
    "import numpy as np\n",
    "import pandas as pd\n",
    "\n",
    "from bs4 import BeautifulSoup\n",
    "from nltk.tokenize import word_tokenize, sent_tokenize\n",
    "from nltk.corpus import stopwords\n",
    "from nltk.stem.porter import PorterStemmer\n",
    "from nltk import pos_tag\n",
    "\n",
    "from sklearn.preprocessing import LabelBinarizer, MultiLabelBinarizer\n",
    "from sklearn.feature_extraction.text import CountVectorizer, TfidfVectorizer\n",
    "\n",
    "from nltk.corpus import brown\n",
    "from nltk.tag import UnigramTagger, BigramTagger, TrigramTagger\n",
    "\n"
   ]
  },
  {
   "cell_type": "markdown",
   "id": "a2e127ab",
   "metadata": {},
   "source": [
    "## 6.1 Cleaning Text "
   ]
  },
  {
   "cell_type": "code",
   "execution_count": 2,
   "id": "3fcfbb5f",
   "metadata": {
    "ExecuteTime": {
     "end_time": "2021-04-29T21:23:09.942857Z",
     "start_time": "2021-04-29T21:23:09.930890Z"
    }
   },
   "outputs": [],
   "source": [
    "text_data = [\"   Interrobang. By Aishwarya Henriette    \",\n",
    "             \"Parking And Going. By Karl Gautier\",\n",
    "             \"   Today Is The night. By Jarek Prakash   \"]"
   ]
  },
  {
   "cell_type": "code",
   "execution_count": 3,
   "id": "a10e8591",
   "metadata": {
    "ExecuteTime": {
     "end_time": "2021-04-29T21:23:09.974772Z",
     "start_time": "2021-04-29T21:23:09.946848Z"
    }
   },
   "outputs": [],
   "source": [
    "strip_whitespace = [string.strip() for string in text_data]"
   ]
  },
  {
   "cell_type": "code",
   "execution_count": 4,
   "id": "193b776b",
   "metadata": {
    "ExecuteTime": {
     "end_time": "2021-04-29T21:23:09.990729Z",
     "start_time": "2021-04-29T21:23:09.977765Z"
    }
   },
   "outputs": [
    {
     "data": {
      "text/plain": [
       "['Interrobang. By Aishwarya Henriette',\n",
       " 'Parking And Going. By Karl Gautier',\n",
       " 'Today Is The night. By Jarek Prakash']"
      ]
     },
     "execution_count": 4,
     "metadata": {},
     "output_type": "execute_result"
    }
   ],
   "source": [
    "strip_whitespace"
   ]
  },
  {
   "cell_type": "code",
   "execution_count": 5,
   "id": "b8ac5f34",
   "metadata": {
    "ExecuteTime": {
     "end_time": "2021-04-29T21:23:10.022644Z",
     "start_time": "2021-04-29T21:23:09.993722Z"
    }
   },
   "outputs": [],
   "source": [
    "remove_periods = [string.replace(\".\", \"\") for string in strip_whitespace]"
   ]
  },
  {
   "cell_type": "code",
   "execution_count": 6,
   "id": "04cccf22",
   "metadata": {
    "ExecuteTime": {
     "end_time": "2021-04-29T21:23:10.054562Z",
     "start_time": "2021-04-29T21:23:10.027632Z"
    }
   },
   "outputs": [
    {
     "data": {
      "text/plain": [
       "['Interrobang By Aishwarya Henriette',\n",
       " 'Parking And Going By Karl Gautier',\n",
       " 'Today Is The night By Jarek Prakash']"
      ]
     },
     "execution_count": 6,
     "metadata": {},
     "output_type": "execute_result"
    }
   ],
   "source": [
    "remove_periods"
   ]
  },
  {
   "cell_type": "code",
   "execution_count": 7,
   "id": "862a8033",
   "metadata": {
    "ExecuteTime": {
     "end_time": "2021-04-29T21:23:10.070516Z",
     "start_time": "2021-04-29T21:23:10.056553Z"
    }
   },
   "outputs": [
    {
     "data": {
      "text/plain": [
       "['INTERROBANG BY AISHWARYA HENRIETTE',\n",
       " 'PARKING AND GOING BY KARL GAUTIER',\n",
       " 'TODAY IS THE NIGHT BY JAREK PRAKASH']"
      ]
     },
     "execution_count": 7,
     "metadata": {},
     "output_type": "execute_result"
    }
   ],
   "source": [
    "def capitalizer(string: str) -> str:\n",
    "    return string.upper()\n",
    "\n",
    "[capitalizer(string) for string in remove_periods]"
   ]
  },
  {
   "cell_type": "code",
   "execution_count": 8,
   "id": "609d5885",
   "metadata": {
    "ExecuteTime": {
     "end_time": "2021-04-29T21:23:10.101435Z",
     "start_time": "2021-04-29T21:23:10.073508Z"
    }
   },
   "outputs": [
    {
     "data": {
      "text/plain": [
       "['XXXXXXXXXXX XX XXXXXXXXX XXXXXXXXX',\n",
       " 'XXXXXXX XXX XXXXX XX XXXX XXXXXXX',\n",
       " 'XXXXX XX XXX XXXXX XX XXXXX XXXXXXX']"
      ]
     },
     "execution_count": 8,
     "metadata": {},
     "output_type": "execute_result"
    }
   ],
   "source": [
    "def replace_letters_with_X(string: str) -> str:\n",
    "    return re.sub(r\"[a-zA-Z]\", \"X\", string)\n",
    "\n",
    "[replace_letters_with_X(string) for string in remove_periods]"
   ]
  },
  {
   "cell_type": "markdown",
   "id": "a022220c",
   "metadata": {},
   "source": [
    "## 6.2 Parsing and Cleaning HTML "
   ]
  },
  {
   "cell_type": "markdown",
   "id": "d1e2b7fd",
   "metadata": {},
   "source": [
    "<div class='full_name'><span style='font-weight:bold'>Masego</span> Azra</div>"
   ]
  },
  {
   "cell_type": "code",
   "execution_count": 9,
   "id": "698a8bae",
   "metadata": {
    "ExecuteTime": {
     "end_time": "2021-04-29T21:23:10.116396Z",
     "start_time": "2021-04-29T21:23:10.107425Z"
    }
   },
   "outputs": [],
   "source": [
    "html = \"<div class='full_name'><span style='font-weight:bold'>Masego</span> Azra</div>\""
   ]
  },
  {
   "cell_type": "code",
   "execution_count": 10,
   "id": "ab94552b",
   "metadata": {
    "ExecuteTime": {
     "end_time": "2021-04-29T21:23:10.147311Z",
     "start_time": "2021-04-29T21:23:10.121381Z"
    }
   },
   "outputs": [],
   "source": [
    "soup = BeautifulSoup(html, features='lxml')"
   ]
  },
  {
   "cell_type": "code",
   "execution_count": 11,
   "id": "45bc3842",
   "metadata": {
    "ExecuteTime": {
     "end_time": "2021-04-29T21:23:10.225103Z",
     "start_time": "2021-04-29T21:23:10.150305Z"
    }
   },
   "outputs": [
    {
     "data": {
      "text/plain": [
       "'Masego Azra'"
      ]
     },
     "execution_count": 11,
     "metadata": {},
     "output_type": "execute_result"
    }
   ],
   "source": [
    "soup.find('div', {'class': 'full_name'}).text"
   ]
  },
  {
   "cell_type": "markdown",
   "id": "52187f3d",
   "metadata": {},
   "source": [
    "## 6.3 Removing Punctuation "
   ]
  },
  {
   "cell_type": "code",
   "execution_count": 13,
   "id": "bd37583f",
   "metadata": {
    "ExecuteTime": {
     "end_time": "2021-04-29T21:26:40.910772Z",
     "start_time": "2021-04-29T21:26:40.507918Z"
    }
   },
   "outputs": [
    {
     "data": {
      "text/plain": [
       "['Hi I Love This Song', '10000 Agree LoveIT', 'Right']"
      ]
     },
     "execution_count": 13,
     "metadata": {},
     "output_type": "execute_result"
    }
   ],
   "source": [
    "text_data = ['Hi!!!! I. Love. This. Song....',\n",
    "             '10000% Agree!!!! #LoveIT',\n",
    "             'Right!?!?']\n",
    "\n",
    "punctuation = dict.fromkeys(i for i in range(sys.maxunicode) if unicodedata.category(chr(i)).startswith('P'))\n",
    "\n",
    "[string.translate(punctuation) for string in text_data]"
   ]
  },
  {
   "cell_type": "markdown",
   "id": "16baa73f",
   "metadata": {},
   "source": [
    "## 6.4 Tokenizing Text "
   ]
  },
  {
   "cell_type": "code",
   "execution_count": 37,
   "id": "bfb56d27",
   "metadata": {
    "ExecuteTime": {
     "end_time": "2021-04-29T21:36:22.610868Z",
     "start_time": "2021-04-29T21:36:22.602887Z"
    }
   },
   "outputs": [
    {
     "data": {
      "text/plain": [
       "['The', 'science', 'of', 'today', 'is', 'the', 'technology', 'of', 'tomorrow']"
      ]
     },
     "execution_count": 37,
     "metadata": {},
     "output_type": "execute_result"
    }
   ],
   "source": [
    "#Tokenize words\n",
    "string = 'The science of today is the technology of tomorrow'\n",
    "word_tokenize(string)"
   ]
  },
  {
   "cell_type": "code",
   "execution_count": 38,
   "id": "997da884",
   "metadata": {
    "ExecuteTime": {
     "end_time": "2021-04-29T21:36:29.592375Z",
     "start_time": "2021-04-29T21:36:29.578384Z"
    }
   },
   "outputs": [
    {
     "data": {
      "text/plain": [
       "['The science of today is the technology of tomorrow.', 'Tomorrow is today']"
      ]
     },
     "execution_count": 38,
     "metadata": {},
     "output_type": "execute_result"
    }
   ],
   "source": [
    "#Tokenize sentences\n",
    "string = 'The science of today is the technology of tomorrow. Tomorrow is today'\n",
    "sent_tokenize(string)"
   ]
  },
  {
   "cell_type": "markdown",
   "id": "1c373d67",
   "metadata": {},
   "source": [
    "## 6.5 Removin Stop Words "
   ]
  },
  {
   "cell_type": "code",
   "execution_count": 41,
   "id": "1d925e1e",
   "metadata": {
    "ExecuteTime": {
     "end_time": "2021-04-29T21:39:11.657114Z",
     "start_time": "2021-04-29T21:39:11.641156Z"
    }
   },
   "outputs": [],
   "source": [
    "tokenized_words = ['i',\n",
    "                  'am',\n",
    "                  'going',\n",
    "                  'to',\n",
    "                  'go',\n",
    "                  'to',\n",
    "                  'the',\n",
    "                  'store',\n",
    "                  'and',\n",
    "                  'park']"
   ]
  },
  {
   "cell_type": "code",
   "execution_count": 42,
   "id": "61375f52",
   "metadata": {
    "ExecuteTime": {
     "end_time": "2021-04-29T21:39:11.997379Z",
     "start_time": "2021-04-29T21:39:11.967428Z"
    }
   },
   "outputs": [
    {
     "data": {
      "text/plain": [
       "['going', 'go', 'store', 'park']"
      ]
     },
     "execution_count": 42,
     "metadata": {},
     "output_type": "execute_result"
    }
   ],
   "source": [
    "stop_words = stopwords.words('english')\n",
    "[word for word in tokenized_words if word not in stop_words]"
   ]
  },
  {
   "cell_type": "code",
   "execution_count": 46,
   "id": "5f68d672",
   "metadata": {
    "ExecuteTime": {
     "end_time": "2021-04-29T21:40:21.598693Z",
     "start_time": "2021-04-29T21:40:21.581738Z"
    }
   },
   "outputs": [
    {
     "data": {
      "text/plain": [
       "['i', 'me', 'my', 'myself', 'we']"
      ]
     },
     "execution_count": 46,
     "metadata": {},
     "output_type": "execute_result"
    }
   ],
   "source": [
    "stop_words[:5]"
   ]
  },
  {
   "cell_type": "markdown",
   "id": "b872ae28",
   "metadata": {},
   "source": [
    "## 6.6  Stemming Words "
   ]
  },
  {
   "cell_type": "code",
   "execution_count": 47,
   "id": "03e0c37a",
   "metadata": {
    "ExecuteTime": {
     "end_time": "2021-04-29T21:41:03.928446Z",
     "start_time": "2021-04-29T21:41:03.918465Z"
    }
   },
   "outputs": [],
   "source": [
    "tokenized_words = ['i', 'am', 'humbled', 'by', 'this', 'traditional', 'meeting']"
   ]
  },
  {
   "cell_type": "code",
   "execution_count": 48,
   "id": "4b190e75",
   "metadata": {
    "ExecuteTime": {
     "end_time": "2021-04-29T21:41:13.610705Z",
     "start_time": "2021-04-29T21:41:13.593749Z"
    }
   },
   "outputs": [],
   "source": [
    "porter = PorterStemmer()"
   ]
  },
  {
   "cell_type": "code",
   "execution_count": 49,
   "id": "4f35b8a7",
   "metadata": {
    "ExecuteTime": {
     "end_time": "2021-04-29T21:41:24.240824Z",
     "start_time": "2021-04-29T21:41:24.223868Z"
    }
   },
   "outputs": [
    {
     "data": {
      "text/plain": [
       "['i', 'am', 'humbl', 'by', 'thi', 'tradit', 'meet']"
      ]
     },
     "execution_count": 49,
     "metadata": {},
     "output_type": "execute_result"
    }
   ],
   "source": [
    "[porter.stem(word) for word in tokenized_words]"
   ]
  },
  {
   "cell_type": "markdown",
   "id": "bb7a7ca4",
   "metadata": {},
   "source": [
    "## 6.7 Tagging Parts of Speech "
   ]
  },
  {
   "cell_type": "code",
   "execution_count": 52,
   "id": "5a866d5f",
   "metadata": {
    "ExecuteTime": {
     "end_time": "2021-04-29T21:46:42.889170Z",
     "start_time": "2021-04-29T21:46:42.761166Z"
    }
   },
   "outputs": [
    {
     "data": {
      "text/plain": [
       "[('Chris', 'NNP'), ('loved', 'VBD'), ('outdoor', 'RP'), ('running', 'VBG')]"
      ]
     },
     "execution_count": 52,
     "metadata": {},
     "output_type": "execute_result"
    }
   ],
   "source": [
    "text_data = 'Chris loved outdoor running'\n",
    "text_tagged = pos_tag(word_tokenize(text_data))\n",
    "text_tagged"
   ]
  },
  {
   "cell_type": "code",
   "execution_count": 53,
   "id": "fd72aeb0",
   "metadata": {
    "ExecuteTime": {
     "end_time": "2021-04-29T21:47:41.737582Z",
     "start_time": "2021-04-29T21:47:41.723620Z"
    }
   },
   "outputs": [
    {
     "data": {
      "text/plain": [
       "['Chris']"
      ]
     },
     "execution_count": 53,
     "metadata": {},
     "output_type": "execute_result"
    }
   ],
   "source": [
    "[word for word, tag in text_tagged if tag in ['NN', 'NNS', 'NNP', 'NNPS']]"
   ]
  },
  {
   "cell_type": "code",
   "execution_count": 54,
   "id": "52f731f8",
   "metadata": {
    "ExecuteTime": {
     "end_time": "2021-04-29T21:48:35.204487Z",
     "start_time": "2021-04-29T21:48:35.187534Z"
    }
   },
   "outputs": [],
   "source": [
    "tweets = ['I am eating a burrito for breakfast', \n",
    "          'Political science is an amazing field',\n",
    "          'San Francisco is an awesome city']"
   ]
  },
  {
   "cell_type": "code",
   "execution_count": 58,
   "id": "60c7c4a4",
   "metadata": {
    "ExecuteTime": {
     "end_time": "2021-04-29T21:52:42.167881Z",
     "start_time": "2021-04-29T21:52:42.153388Z"
    }
   },
   "outputs": [
    {
     "data": {
      "text/plain": [
       "array([[1, 1, 0, 1, 0, 1, 1, 1, 0],\n",
       "       [1, 0, 1, 1, 0, 0, 0, 0, 1],\n",
       "       [1, 0, 1, 1, 1, 0, 0, 0, 1]])"
      ]
     },
     "execution_count": 58,
     "metadata": {},
     "output_type": "execute_result"
    }
   ],
   "source": [
    "tagged_tweets = []\n",
    "for tweet in tweets:\n",
    "    tweet_tag = nltk.pos_tag(word_tokenize(tweet))\n",
    "    tagged_tweets.append([tag for word, tag in tweet_tag])\n",
    "    \n",
    "one_hot_multi = MultiLabelBinarizer()\n",
    "one_hot_multi.fit_transform(tagged_tweets)"
   ]
  },
  {
   "cell_type": "code",
   "execution_count": 64,
   "id": "29097c7c",
   "metadata": {
    "ExecuteTime": {
     "end_time": "2021-04-29T22:23:28.197626Z",
     "start_time": "2021-04-29T22:23:25.402535Z"
    }
   },
   "outputs": [
    {
     "data": {
      "text/plain": [
       "0.8174734002697437"
      ]
     },
     "execution_count": 64,
     "metadata": {},
     "output_type": "execute_result"
    }
   ],
   "source": [
    "sentences = brown.tagged_sents(categories = 'news')\n",
    "\n",
    "train = sentences[:4000]\n",
    "test = sentences[4000:]\n",
    "\n",
    "unigram = UnigramTagger(train)\n",
    "bigram = BigramTagger(train, backoff=unigram)\n",
    "trigram = TrigramTagger(train, backoff=bigram)\n",
    "\n",
    "trigram.evaluate(test)"
   ]
  },
  {
   "cell_type": "markdown",
   "id": "f759170c",
   "metadata": {},
   "source": [
    "## 6.8 Encoding Test as a Bag of Words "
   ]
  },
  {
   "cell_type": "code",
   "execution_count": 82,
   "id": "f291b06f",
   "metadata": {
    "ExecuteTime": {
     "end_time": "2021-04-29T22:30:53.245903Z",
     "start_time": "2021-04-29T22:30:53.231941Z"
    }
   },
   "outputs": [
    {
     "data": {
      "text/plain": [
       "array([[0, 0, 0, 2, 0, 0, 1, 0],\n",
       "       [0, 1, 0, 0, 0, 1, 0, 1],\n",
       "       [1, 0, 1, 0, 1, 0, 0, 0]], dtype=int64)"
      ]
     },
     "execution_count": 82,
     "metadata": {},
     "output_type": "execute_result"
    }
   ],
   "source": [
    "text_data = np.array(['I Love Brazil. Brazil!',\n",
    "                      'Sweden is best',\n",
    "                      'Germany beats both'])\n",
    "\n",
    "count = CountVectorizer()\n",
    "bag_of_words = count.fit_transform(text_data)\n",
    "bag_of_words.toarray()"
   ]
  },
  {
   "cell_type": "code",
   "execution_count": 83,
   "id": "aabe9de7",
   "metadata": {
    "ExecuteTime": {
     "end_time": "2021-04-29T22:31:13.562490Z",
     "start_time": "2021-04-29T22:31:13.544537Z"
    }
   },
   "outputs": [
    {
     "data": {
      "text/plain": [
       "['beats', 'best', 'both', 'brazil', 'germany', 'is', 'love', 'sweden']"
      ]
     },
     "execution_count": 83,
     "metadata": {},
     "output_type": "execute_result"
    }
   ],
   "source": [
    "count.get_feature_names()"
   ]
  },
  {
   "cell_type": "code",
   "execution_count": 86,
   "id": "c7f4b511",
   "metadata": {
    "ExecuteTime": {
     "end_time": "2021-04-29T22:31:47.109851Z",
     "start_time": "2021-04-29T22:31:47.082932Z"
    }
   },
   "outputs": [
    {
     "data": {
      "text/html": [
       "<div>\n",
       "<style scoped>\n",
       "    .dataframe tbody tr th:only-of-type {\n",
       "        vertical-align: middle;\n",
       "    }\n",
       "\n",
       "    .dataframe tbody tr th {\n",
       "        vertical-align: top;\n",
       "    }\n",
       "\n",
       "    .dataframe thead th {\n",
       "        text-align: right;\n",
       "    }\n",
       "</style>\n",
       "<table border=\"1\" class=\"dataframe\">\n",
       "  <thead>\n",
       "    <tr style=\"text-align: right;\">\n",
       "      <th></th>\n",
       "      <th>beats</th>\n",
       "      <th>best</th>\n",
       "      <th>both</th>\n",
       "      <th>brazil</th>\n",
       "      <th>germany</th>\n",
       "      <th>is</th>\n",
       "      <th>love</th>\n",
       "      <th>sweden</th>\n",
       "    </tr>\n",
       "  </thead>\n",
       "  <tbody>\n",
       "    <tr>\n",
       "      <th>0</th>\n",
       "      <td>0</td>\n",
       "      <td>0</td>\n",
       "      <td>0</td>\n",
       "      <td>2</td>\n",
       "      <td>0</td>\n",
       "      <td>0</td>\n",
       "      <td>1</td>\n",
       "      <td>0</td>\n",
       "    </tr>\n",
       "    <tr>\n",
       "      <th>1</th>\n",
       "      <td>0</td>\n",
       "      <td>1</td>\n",
       "      <td>0</td>\n",
       "      <td>0</td>\n",
       "      <td>0</td>\n",
       "      <td>1</td>\n",
       "      <td>0</td>\n",
       "      <td>1</td>\n",
       "    </tr>\n",
       "    <tr>\n",
       "      <th>2</th>\n",
       "      <td>1</td>\n",
       "      <td>0</td>\n",
       "      <td>1</td>\n",
       "      <td>0</td>\n",
       "      <td>1</td>\n",
       "      <td>0</td>\n",
       "      <td>0</td>\n",
       "      <td>0</td>\n",
       "    </tr>\n",
       "  </tbody>\n",
       "</table>\n",
       "</div>"
      ],
      "text/plain": [
       "   beats  best  both  brazil  germany  is  love  sweden\n",
       "0      0     0     0       2        0   0     1       0\n",
       "1      0     1     0       0        0   1     0       1\n",
       "2      1     0     1       0        1   0     0       0"
      ]
     },
     "execution_count": 86,
     "metadata": {},
     "output_type": "execute_result"
    }
   ],
   "source": [
    "pd.DataFrame(bag_of_words.toarray(), columns = count.get_feature_names())"
   ]
  },
  {
   "cell_type": "code",
   "execution_count": 94,
   "id": "d292e507",
   "metadata": {
    "ExecuteTime": {
     "end_time": "2021-04-29T22:35:41.448312Z",
     "start_time": "2021-04-29T22:35:41.435346Z"
    }
   },
   "outputs": [],
   "source": [
    "count_2gram = CountVectorizer(ngram_range=(1,2), stop_words='english', vocabulary=['brazil'])\n",
    "bag = count_2gram.fit_transform(text_data)"
   ]
  },
  {
   "cell_type": "code",
   "execution_count": 95,
   "id": "0d37c9bc",
   "metadata": {
    "ExecuteTime": {
     "end_time": "2021-04-29T22:35:41.591963Z",
     "start_time": "2021-04-29T22:35:41.572979Z"
    }
   },
   "outputs": [
    {
     "data": {
      "text/plain": [
       "array([[2],\n",
       "       [0],\n",
       "       [0]], dtype=int64)"
      ]
     },
     "execution_count": 95,
     "metadata": {},
     "output_type": "execute_result"
    }
   ],
   "source": [
    "bag.toarray()"
   ]
  },
  {
   "cell_type": "code",
   "execution_count": 96,
   "id": "b1de9131",
   "metadata": {
    "ExecuteTime": {
     "end_time": "2021-04-29T22:35:41.763469Z",
     "start_time": "2021-04-29T22:35:41.748510Z"
    }
   },
   "outputs": [
    {
     "data": {
      "text/plain": [
       "{'brazil': 0}"
      ]
     },
     "execution_count": 96,
     "metadata": {},
     "output_type": "execute_result"
    }
   ],
   "source": [
    "count_2gram.vocabulary_"
   ]
  },
  {
   "cell_type": "markdown",
   "id": "26bd1c42",
   "metadata": {},
   "source": [
    "## 6.9 Weighting Word Importance "
   ]
  },
  {
   "cell_type": "code",
   "execution_count": 98,
   "id": "941a1296",
   "metadata": {
    "ExecuteTime": {
     "end_time": "2021-04-29T22:37:05.011345Z",
     "start_time": "2021-04-29T22:37:05.001372Z"
    }
   },
   "outputs": [
    {
     "data": {
      "text/plain": [
       "<3x8 sparse matrix of type '<class 'numpy.float64'>'\n",
       "\twith 8 stored elements in Compressed Sparse Row format>"
      ]
     },
     "execution_count": 98,
     "metadata": {},
     "output_type": "execute_result"
    }
   ],
   "source": [
    "tfidf = TfidfVectorizer()\n",
    "feature_matrix = tfidf.fit_transform(text_data)\n",
    "feature_matrix"
   ]
  },
  {
   "cell_type": "code",
   "execution_count": 99,
   "id": "260a0fc2",
   "metadata": {
    "ExecuteTime": {
     "end_time": "2021-04-29T22:37:21.507056Z",
     "start_time": "2021-04-29T22:37:21.500075Z"
    }
   },
   "outputs": [
    {
     "data": {
      "text/plain": [
       "array([[0.        , 0.        , 0.        , 0.89442719, 0.        ,\n",
       "        0.        , 0.4472136 , 0.        ],\n",
       "       [0.        , 0.57735027, 0.        , 0.        , 0.        ,\n",
       "        0.57735027, 0.        , 0.57735027],\n",
       "       [0.57735027, 0.        , 0.57735027, 0.        , 0.57735027,\n",
       "        0.        , 0.        , 0.        ]])"
      ]
     },
     "execution_count": 99,
     "metadata": {},
     "output_type": "execute_result"
    }
   ],
   "source": [
    "feature_matrix.toarray()"
   ]
  },
  {
   "cell_type": "code",
   "execution_count": 100,
   "id": "529b3eea",
   "metadata": {
    "ExecuteTime": {
     "end_time": "2021-04-29T22:37:28.100761Z",
     "start_time": "2021-04-29T22:37:28.087765Z"
    }
   },
   "outputs": [
    {
     "data": {
      "text/plain": [
       "{'love': 6,\n",
       " 'brazil': 3,\n",
       " 'sweden': 7,\n",
       " 'is': 5,\n",
       " 'best': 1,\n",
       " 'germany': 4,\n",
       " 'beats': 0,\n",
       " 'both': 2}"
      ]
     },
     "execution_count": 100,
     "metadata": {},
     "output_type": "execute_result"
    }
   ],
   "source": [
    "tfidf.vocabulary_"
   ]
  },
  {
   "cell_type": "code",
   "execution_count": null,
   "id": "b08e4a36",
   "metadata": {},
   "outputs": [],
   "source": []
  }
 ],
 "metadata": {
  "kernelspec": {
   "display_name": "Python 3",
   "language": "python",
   "name": "python3"
  },
  "language_info": {
   "codemirror_mode": {
    "name": "ipython",
    "version": 3
   },
   "file_extension": ".py",
   "mimetype": "text/x-python",
   "name": "python",
   "nbconvert_exporter": "python",
   "pygments_lexer": "ipython3",
   "version": "3.8.5"
  }
 },
 "nbformat": 4,
 "nbformat_minor": 5
}
