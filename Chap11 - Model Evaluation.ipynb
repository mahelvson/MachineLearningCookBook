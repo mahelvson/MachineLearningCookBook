{
 "cells": [
  {
   "cell_type": "markdown",
   "id": "98ce764a",
   "metadata": {},
   "source": [
    "<h1>Chap11 - Model Evaluation</h1>"
   ]
  },
  {
   "cell_type": "markdown",
   "id": "4cf4ef62",
   "metadata": {},
   "source": [
    "Imports"
   ]
  },
  {
   "cell_type": "code",
   "execution_count": 98,
   "id": "72b7f303",
   "metadata": {
    "ExecuteTime": {
     "end_time": "2021-05-19T22:31:45.832907Z",
     "start_time": "2021-05-19T22:31:45.812962Z"
    }
   },
   "outputs": [],
   "source": [
    "from sklearn import datasets\n",
    "from sklearn import metrics\n",
    "from sklearn.model_selection import KFold, cross_val_score, train_test_split, learning_curve, validation_curve\n",
    "from sklearn.pipeline import make_pipeline\n",
    "from sklearn.linear_model import LogisticRegression, LinearRegression, Ridge\n",
    "from sklearn.preprocessing import StandardScaler\n",
    "from sklearn.datasets import load_boston, load_iris, make_classification, make_regression, make_blobs, load_digits\n",
    "from sklearn.dummy import DummyRegressor, DummyClassifier\n",
    "from sklearn.ensemble import RandomForestClassifier\n",
    "from sklearn.metrics import accuracy_score, roc_curve, roc_auc_score, confusion_matrix, silhouette_score, make_scorer, r2_score, classification_report\n",
    "from sklearn.cluster import KMeans\n",
    "\n",
    "import matplotlib.pyplot as plt\n",
    "import pandas as pd\n",
    "import seaborn as sns\n",
    "import numpy as np"
   ]
  },
  {
   "cell_type": "markdown",
   "id": "f516e04b",
   "metadata": {},
   "source": [
    "## 11.1 Cross-Validating Models "
   ]
  },
  {
   "cell_type": "code",
   "execution_count": 2,
   "id": "1045b975",
   "metadata": {
    "ExecuteTime": {
     "end_time": "2021-05-19T21:12:18.532428Z",
     "start_time": "2021-05-19T21:12:16.010338Z"
    }
   },
   "outputs": [],
   "source": [
    "digits = datasets.load_digits()\n",
    "features = digits.data\n",
    "target = digits.target\n",
    "standardizer = StandardScaler()\n",
    "logit = LogisticRegression()\n",
    "pipeline = make_pipeline(standardizer, logit)\n",
    "kf = KFold(n_splits=10, shuffle=True, random_state=1)\n",
    "cv_results = cross_val_score(pipeline,\n",
    "                             features,\n",
    "                             target, \n",
    "                             cv=kf,\n",
    "                             scoring=\"accuracy\",\n",
    "                             n_jobs=-1)"
   ]
  },
  {
   "cell_type": "code",
   "execution_count": 3,
   "id": "94bb4057",
   "metadata": {
    "ExecuteTime": {
     "end_time": "2021-05-19T21:12:18.563346Z",
     "start_time": "2021-05-19T21:12:18.535420Z"
    }
   },
   "outputs": [
    {
     "data": {
      "text/plain": [
       "array([0.97777778, 0.98888889, 0.96111111, 0.94444444, 0.97777778,\n",
       "       0.98333333, 0.95555556, 0.98882682, 0.97765363, 0.93854749])"
      ]
     },
     "execution_count": 3,
     "metadata": {},
     "output_type": "execute_result"
    }
   ],
   "source": [
    "cv_results"
   ]
  },
  {
   "cell_type": "code",
   "execution_count": 4,
   "id": "77ba079c",
   "metadata": {
    "ExecuteTime": {
     "end_time": "2021-05-19T21:12:18.860942Z",
     "start_time": "2021-05-19T21:12:18.568333Z"
    }
   },
   "outputs": [],
   "source": [
    "features_train, features_test, target_train, target_test = train_test_split(features, target, test_size = 0.1, random_state=1)"
   ]
  },
  {
   "cell_type": "code",
   "execution_count": 5,
   "id": "8d22b83a",
   "metadata": {
    "ExecuteTime": {
     "end_time": "2021-05-19T21:12:18.891940Z",
     "start_time": "2021-05-19T21:12:18.866928Z"
    }
   },
   "outputs": [],
   "source": [
    "standardizer.fit(features_train)\n",
    "\n",
    "features_train_std = standardizer.transform(features_train)\n",
    "features_test_std = standardizer.transform(features_test)"
   ]
  },
  {
   "cell_type": "code",
   "execution_count": 6,
   "id": "84bb081e",
   "metadata": {
    "ExecuteTime": {
     "end_time": "2021-05-19T21:12:19.522631Z",
     "start_time": "2021-05-19T21:12:18.894876Z"
    }
   },
   "outputs": [],
   "source": [
    "pipeline = make_pipeline(standardizer, logit)\n",
    "cv_results = cross_val_score(pipeline,\n",
    "                             features, \n",
    "                             target, \n",
    "                             cv=kf,\n",
    "                             scoring=\"accuracy\",\n",
    "                             n_jobs=-1)"
   ]
  },
  {
   "cell_type": "code",
   "execution_count": 7,
   "id": "00d9073f",
   "metadata": {
    "ExecuteTime": {
     "end_time": "2021-05-19T21:12:19.539556Z",
     "start_time": "2021-05-19T21:12:19.524595Z"
    }
   },
   "outputs": [
    {
     "data": {
      "text/plain": [
       "array([0.97777778, 0.98888889, 0.96111111, 0.94444444, 0.97777778,\n",
       "       0.98333333, 0.95555556, 0.98882682, 0.97765363, 0.93854749])"
      ]
     },
     "execution_count": 7,
     "metadata": {},
     "output_type": "execute_result"
    }
   ],
   "source": [
    "cv_results"
   ]
  },
  {
   "cell_type": "markdown",
   "id": "f346562c",
   "metadata": {},
   "source": [
    "## 11.2 Creating a Baseline Regression Model "
   ]
  },
  {
   "cell_type": "code",
   "execution_count": 8,
   "id": "cba951ae",
   "metadata": {
    "ExecuteTime": {
     "end_time": "2021-05-19T21:12:19.584518Z",
     "start_time": "2021-05-19T21:12:19.544541Z"
    }
   },
   "outputs": [],
   "source": [
    "boston = load_boston()"
   ]
  },
  {
   "cell_type": "code",
   "execution_count": 9,
   "id": "fa946e47",
   "metadata": {
    "ExecuteTime": {
     "end_time": "2021-05-19T21:12:19.600467Z",
     "start_time": "2021-05-19T21:12:19.587480Z"
    }
   },
   "outputs": [
    {
     "data": {
      "text/plain": [
       "-0.001119359203955339"
      ]
     },
     "execution_count": 9,
     "metadata": {},
     "output_type": "execute_result"
    }
   ],
   "source": [
    "features, target = boston.data, boston.target\n",
    "features_train, features_test, target_train, target_test = train_test_split(features, target, random_state=0)\n",
    "dummy = DummyRegressor(strategy=\"mean\")\n",
    "dummy.fit(features_train, target_train)\n",
    "dummy.score(features_test, target_test)"
   ]
  },
  {
   "cell_type": "code",
   "execution_count": 10,
   "id": "69d51936",
   "metadata": {
    "ExecuteTime": {
     "end_time": "2021-05-19T21:12:19.616403Z",
     "start_time": "2021-05-19T21:12:19.603439Z"
    }
   },
   "outputs": [
    {
     "data": {
      "text/plain": [
       "0.6354638433202116"
      ]
     },
     "execution_count": 10,
     "metadata": {},
     "output_type": "execute_result"
    }
   ],
   "source": [
    "ols = LinearRegression()\n",
    "ols.fit(features_train, target_train)\n",
    "ols.score(features_test, target_test)"
   ]
  },
  {
   "cell_type": "code",
   "execution_count": 11,
   "id": "3f7f1016",
   "metadata": {
    "ExecuteTime": {
     "end_time": "2021-05-19T21:12:19.632361Z",
     "start_time": "2021-05-19T21:12:19.619396Z"
    }
   },
   "outputs": [
    {
     "data": {
      "text/plain": [
       "-0.06510502029325727"
      ]
     },
     "execution_count": 11,
     "metadata": {},
     "output_type": "execute_result"
    }
   ],
   "source": [
    "clf = DummyRegressor(strategy=\"constant\", constant=20)\n",
    "clf.fit(features_train, target_train)\n",
    "clf.score(features_test, target_test)"
   ]
  },
  {
   "cell_type": "markdown",
   "id": "51521720",
   "metadata": {},
   "source": [
    "## 11.3 Creating a Baseline Classification Model "
   ]
  },
  {
   "cell_type": "code",
   "execution_count": 12,
   "id": "07494afc",
   "metadata": {
    "ExecuteTime": {
     "end_time": "2021-05-19T21:12:19.664275Z",
     "start_time": "2021-05-19T21:12:19.635353Z"
    }
   },
   "outputs": [
    {
     "data": {
      "text/plain": [
       "0.42105263157894735"
      ]
     },
     "execution_count": 12,
     "metadata": {},
     "output_type": "execute_result"
    }
   ],
   "source": [
    "iris  = load_iris()\n",
    "features, target = iris.data, iris.target\n",
    "features_train, features_test, target_train, target_test = train_test_split(features, target, random_state=0)\n",
    "dummy = DummyClassifier(strategy=\"uniform\", random_state=1)\n",
    "dummy.fit(features_train, target_train)\n",
    "dummy.score(features_test, target_test)"
   ]
  },
  {
   "cell_type": "code",
   "execution_count": 13,
   "id": "1d4b54e3",
   "metadata": {
    "ExecuteTime": {
     "end_time": "2021-05-19T21:12:19.835820Z",
     "start_time": "2021-05-19T21:12:19.666271Z"
    }
   },
   "outputs": [
    {
     "data": {
      "text/plain": [
       "0.9736842105263158"
      ]
     },
     "execution_count": 13,
     "metadata": {},
     "output_type": "execute_result"
    }
   ],
   "source": [
    "classifier = RandomForestClassifier()\n",
    "classifier.fit(features_train, target_train)\n",
    "classifier.score(features_test, target_test)"
   ]
  },
  {
   "cell_type": "markdown",
   "id": "fa62f6d2",
   "metadata": {},
   "source": [
    "## 11.4 Evaluating Binary Classifier Predictions "
   ]
  },
  {
   "cell_type": "code",
   "execution_count": 14,
   "id": "02af418f",
   "metadata": {
    "ExecuteTime": {
     "end_time": "2021-05-19T21:12:19.930939Z",
     "start_time": "2021-05-19T21:12:19.837811Z"
    }
   },
   "outputs": [
    {
     "data": {
      "text/plain": [
       "array([0.9555, 0.95  , 0.9585, 0.9555, 0.956 ])"
      ]
     },
     "execution_count": 14,
     "metadata": {},
     "output_type": "execute_result"
    }
   ],
   "source": [
    "X, y = make_classification(n_samples = 10000,\n",
    "                           n_features = 3,\n",
    "                           n_informative = 3,\n",
    "                           n_redundant = 0,\n",
    "                           n_classes = 2,\n",
    "                           random_state = 1)\n",
    "\n",
    "logit = LogisticRegression()\n",
    "cross_val_score(logit, X, y, scoring=\"accuracy\")"
   ]
  },
  {
   "cell_type": "code",
   "execution_count": 15,
   "id": "61d7e759",
   "metadata": {
    "ExecuteTime": {
     "end_time": "2021-05-19T21:12:20.038652Z",
     "start_time": "2021-05-19T21:12:19.932934Z"
    }
   },
   "outputs": [
    {
     "data": {
      "text/plain": [
       "array([0.95963673, 0.94820717, 0.9635996 , 0.96149949, 0.96060606])"
      ]
     },
     "execution_count": 15,
     "metadata": {},
     "output_type": "execute_result"
    }
   ],
   "source": [
    "cross_val_score(logit, X, y, scoring=\"precision\")"
   ]
  },
  {
   "cell_type": "code",
   "execution_count": 16,
   "id": "d553180f",
   "metadata": {
    "ExecuteTime": {
     "end_time": "2021-05-19T21:12:20.131636Z",
     "start_time": "2021-05-19T21:12:20.041644Z"
    }
   },
   "outputs": [
    {
     "data": {
      "text/plain": [
       "array([0.951, 0.952, 0.953, 0.949, 0.951])"
      ]
     },
     "execution_count": 16,
     "metadata": {},
     "output_type": "execute_result"
    }
   ],
   "source": [
    "cross_val_score(logit, X, y, scoring=\"recall\")"
   ]
  },
  {
   "cell_type": "code",
   "execution_count": 17,
   "id": "98afc976",
   "metadata": {
    "ExecuteTime": {
     "end_time": "2021-05-19T21:12:20.242339Z",
     "start_time": "2021-05-19T21:12:20.134631Z"
    }
   },
   "outputs": [
    {
     "data": {
      "text/plain": [
       "array([0.95529884, 0.9500998 , 0.95827049, 0.95520886, 0.95577889])"
      ]
     },
     "execution_count": 17,
     "metadata": {},
     "output_type": "execute_result"
    }
   ],
   "source": [
    "cross_val_score(logit, X, y, scoring=\"f1\")"
   ]
  },
  {
   "cell_type": "code",
   "execution_count": 20,
   "id": "9de18a48",
   "metadata": {
    "ExecuteTime": {
     "end_time": "2021-05-19T21:14:55.975080Z",
     "start_time": "2021-05-19T21:14:55.937120Z"
    }
   },
   "outputs": [
    {
     "data": {
      "text/plain": [
       "0.947"
      ]
     },
     "execution_count": 20,
     "metadata": {},
     "output_type": "execute_result"
    }
   ],
   "source": [
    "X_train, X_test, y_train, y_test = train_test_split(X,\n",
    "                                                    y, \n",
    "                                                    test_size = 0.1,\n",
    "                                                    random_state = 1)\n",
    "\n",
    "y_hat = logit.fit(X_train, y_train).predict(X_test)\n",
    "\n",
    "accuracy_score(y_test, y_hat)"
   ]
  },
  {
   "cell_type": "markdown",
   "id": "c3d028e8",
   "metadata": {},
   "source": [
    "## 11.5 Evaluating Binary Classifier Thresholds "
   ]
  },
  {
   "cell_type": "code",
   "execution_count": 30,
   "id": "b7a05152",
   "metadata": {
    "ExecuteTime": {
     "end_time": "2021-05-19T21:30:02.284806Z",
     "start_time": "2021-05-19T21:30:02.245910Z"
    }
   },
   "outputs": [],
   "source": [
    "features, target = make_classification(n_samples=10000,\n",
    "                                       n_features=10,\n",
    "                                       n_classes=2,\n",
    "                                       n_informative=3,\n",
    "                                       random_state=3)\n",
    "\n",
    "features_train, features_test, target_train, target_test = train_test_split(features, target, test_size = 0.1, random_state = 1)\n",
    "logit = LogisticRegression()\n",
    "logit.fit(features_train, target_train)\n",
    "target_probabilities = logit.predict_proba(features_test)[:,1]\n",
    "false_positive_rate, true_positive_rate, threshold = roc_curve(target_test, target_probabilities)"
   ]
  },
  {
   "cell_type": "code",
   "execution_count": 26,
   "id": "91c09af6",
   "metadata": {
    "ExecuteTime": {
     "end_time": "2021-05-19T21:22:49.057943Z",
     "start_time": "2021-05-19T21:22:48.867623Z"
    }
   },
   "outputs": [
    {
     "data": {
      "image/png": "[encoded data removed]",
      "text/plain": [
       "<Figure size 432x288 with 1 Axes>"
      ]
     },
     "metadata": {
      "needs_background": "light"
     },
     "output_type": "display_data"
    }
   ],
   "source": [
    "plt.title(\"Receiver Operating Characteristic\")\n",
    "plt.plot(false_positive_rate, true_positive_rate)\n",
    "plt.plot([0, 1], ls=\"--\")\n",
    "plt.plot([0, 0], [1, 0], c=\".7\"), plt.plot([1 ,1], c=\".7\")\n",
    "plt.ylabel(\"True positive rate\")\n",
    "plt.xlabel(\"False positive rate\")\n",
    "plt.show()"
   ]
  },
  {
   "cell_type": "code",
   "execution_count": 27,
   "id": "2d489fb8",
   "metadata": {
    "ExecuteTime": {
     "end_time": "2021-05-19T21:26:14.777474Z",
     "start_time": "2021-05-19T21:26:14.769496Z"
    }
   },
   "outputs": [
    {
     "data": {
      "text/plain": [
       "array([[0.86891533, 0.13108467]])"
      ]
     },
     "execution_count": 27,
     "metadata": {},
     "output_type": "execute_result"
    }
   ],
   "source": [
    "logit.predict_proba(features_test)[0:1]"
   ]
  },
  {
   "cell_type": "code",
   "execution_count": 28,
   "id": "8ea866ba",
   "metadata": {
    "ExecuteTime": {
     "end_time": "2021-05-19T21:26:21.195948Z",
     "start_time": "2021-05-19T21:26:21.180988Z"
    }
   },
   "outputs": [
    {
     "data": {
      "text/plain": [
       "array([0, 1])"
      ]
     },
     "execution_count": 28,
     "metadata": {},
     "output_type": "execute_result"
    }
   ],
   "source": [
    "logit.classes_"
   ]
  },
  {
   "cell_type": "code",
   "execution_count": 42,
   "id": "19ac9047",
   "metadata": {
    "ExecuteTime": {
     "end_time": "2021-05-19T21:35:31.029207Z",
     "start_time": "2021-05-19T21:35:31.012252Z"
    }
   },
   "outputs": [
    {
     "name": "stdout",
     "output_type": "stream",
     "text": [
      "Threshold: 0.5331715230155316\n",
      "True positive rate: 0.810204081632653\n",
      "False positive rate: 0.14901960784313725\n"
     ]
    }
   ],
   "source": [
    "print(\"Threshold:\" , threshold[116])\n",
    "print(\"True positive rate:\", true_positive_rate[116])\n",
    "print(\"False positive rate:\", false_positive_rate[116])"
   ]
  },
  {
   "cell_type": "code",
   "execution_count": 36,
   "id": "27faa15a",
   "metadata": {
    "ExecuteTime": {
     "end_time": "2021-05-19T21:33:17.961102Z",
     "start_time": "2021-05-19T21:33:17.949138Z"
    }
   },
   "outputs": [
    {
     "name": "stdout",
     "output_type": "stream",
     "text": [
      "Threshold: 0.8189133876659292\n",
      "True positive rate: 0.5448979591836735\n",
      "False positive rate: 0.047058823529411764\n"
     ]
    }
   ],
   "source": [
    "print(\"Threshold:\" , threshold[45])\n",
    "print(\"True positive rate:\", true_positive_rate[45])\n",
    "print(\"False positive rate:\", false_positive_rate[45])"
   ]
  },
  {
   "cell_type": "code",
   "execution_count": 43,
   "id": "f97a907f",
   "metadata": {
    "ExecuteTime": {
     "end_time": "2021-05-19T21:36:45.991216Z",
     "start_time": "2021-05-19T21:36:45.976257Z"
    }
   },
   "outputs": [
    {
     "data": {
      "text/plain": [
       "0.9073389355742297"
      ]
     },
     "execution_count": 43,
     "metadata": {},
     "output_type": "execute_result"
    }
   ],
   "source": [
    "# area under roc curve\n",
    "roc_auc_score(target_test, target_probabilities)"
   ]
  },
  {
   "cell_type": "markdown",
   "id": "510d0231",
   "metadata": {},
   "source": [
    "## 11.6 Evaluatins Multiclass Classifier Predictions "
   ]
  },
  {
   "cell_type": "code",
   "execution_count": 53,
   "id": "1d8e06ea",
   "metadata": {
    "ExecuteTime": {
     "end_time": "2021-05-19T21:47:12.926926Z",
     "start_time": "2021-05-19T21:47:12.697898Z"
    }
   },
   "outputs": [
    {
     "data": {
      "text/plain": [
       "array([0.841 , 0.829 , 0.8265, 0.8155, 0.82  ])"
      ]
     },
     "execution_count": 53,
     "metadata": {},
     "output_type": "execute_result"
    }
   ],
   "source": [
    "features, target = make_classification(n_samples = 10000,\n",
    "                                       n_features = 3,\n",
    "                                       n_informative = 3,\n",
    "                                       n_redundant = 0,\n",
    "                                       n_classes = 3,\n",
    "                                       random_state = 1)\n",
    "\n",
    "logit = LogisticRegression()\n",
    "cross_val_score(logit, features, target, scoring=\"accuracy\")"
   ]
  },
  {
   "cell_type": "code",
   "execution_count": 45,
   "id": "17e84b13",
   "metadata": {
    "ExecuteTime": {
     "end_time": "2021-05-19T21:44:42.083739Z",
     "start_time": "2021-05-19T21:44:41.793516Z"
    }
   },
   "outputs": [
    {
     "data": {
      "text/plain": [
       "array([0.84061272, 0.82895312, 0.82625661, 0.81515121, 0.81992692])"
      ]
     },
     "execution_count": 45,
     "metadata": {},
     "output_type": "execute_result"
    }
   ],
   "source": [
    "cross_val_score(logit, features, target, scoring=\"f1_macro\")"
   ]
  },
  {
   "cell_type": "code",
   "execution_count": 49,
   "id": "3813f77e",
   "metadata": {
    "ExecuteTime": {
     "end_time": "2021-05-19T21:45:59.902063Z",
     "start_time": "2021-05-19T21:45:59.895050Z"
    }
   },
   "outputs": [
    {
     "data": {
      "text/plain": [
       "10000"
      ]
     },
     "execution_count": 49,
     "metadata": {},
     "output_type": "execute_result"
    }
   ],
   "source": [
    "target.size"
   ]
  },
  {
   "cell_type": "markdown",
   "id": "e784b655",
   "metadata": {},
   "source": [
    "## 11.7 Visualizing a Classifier's Performance "
   ]
  },
  {
   "cell_type": "code",
   "execution_count": 59,
   "id": "1ecbae8d",
   "metadata": {
    "ExecuteTime": {
     "end_time": "2021-05-19T21:49:45.218133Z",
     "start_time": "2021-05-19T21:49:45.210156Z"
    }
   },
   "outputs": [],
   "source": [
    "iris = datasets.load_iris()\n",
    "features = iris.data\n",
    "target = iris.target\n",
    "\n",
    "class_names = iris.target_names\n",
    "features_train, features_test, target_train, target_test = train_test_split(features, target, random_state = 1)"
   ]
  },
  {
   "cell_type": "code",
   "execution_count": 61,
   "id": "171f903d",
   "metadata": {
    "ExecuteTime": {
     "end_time": "2021-05-19T21:49:54.405752Z",
     "start_time": "2021-05-19T21:49:54.360841Z"
    }
   },
   "outputs": [
    {
     "name": "stderr",
     "output_type": "stream",
     "text": [
      "c:\\users\\mahel\\envs\\machinelearningcookbook\\lib\\site-packages\\sklearn\\linear_model\\_logistic.py:763: ConvergenceWarning: lbfgs failed to converge (status=1):\n",
      "STOP: TOTAL NO. of ITERATIONS REACHED LIMIT.\n",
      "\n",
      "Increase the number of iterations (max_iter) or scale the data as shown in:\n",
      "    https://scikit-learn.org/stable/modules/preprocessing.html\n",
      "Please also refer to the documentation for alternative solver options:\n",
      "    https://scikit-learn.org/stable/modules/linear_model.html#logistic-regression\n",
      "  n_iter_i = _check_optimize_result(\n"
     ]
    }
   ],
   "source": [
    "classifier = LogisticRegression()\n",
    "target_predicted = classifier.fit(features_train, target_train).predict(features_test)"
   ]
  },
  {
   "cell_type": "code",
   "execution_count": 62,
   "id": "d3ec0e23",
   "metadata": {
    "ExecuteTime": {
     "end_time": "2021-05-19T21:50:18.158606Z",
     "start_time": "2021-05-19T21:50:18.148603Z"
    }
   },
   "outputs": [],
   "source": [
    "matrix = confusion_matrix(target_test, target_predicted)"
   ]
  },
  {
   "cell_type": "code",
   "execution_count": 70,
   "id": "b8c1367f",
   "metadata": {
    "ExecuteTime": {
     "end_time": "2021-05-19T21:55:06.438444Z",
     "start_time": "2021-05-19T21:55:06.276863Z"
    }
   },
   "outputs": [
    {
     "data": {
      "image/png": "[encoded data removed]",
      "text/plain": [
       "<Figure size 432x288 with 1 Axes>"
      ]
     },
     "metadata": {
      "needs_background": "light"
     },
     "output_type": "display_data"
    }
   ],
   "source": [
    "dataframe = pd.DataFrame(matrix, index = class_names, columns = class_names)\n",
    "\n",
    "sns.heatmap(dataframe, annot=True, cbar=None, cmap=\"Blues\")\n",
    "plt.title(\"Confusion Matrix\"), plt.tight_layout()\n",
    "plt.ylabel(\"True Class\"), plt.xlabel(\"Predict Class\")\n",
    "plt.show()"
   ]
  },
  {
   "cell_type": "markdown",
   "id": "f5874709",
   "metadata": {},
   "source": [
    "## 11.8 Evaluating Regression Models "
   ]
  },
  {
   "cell_type": "code",
   "execution_count": 73,
   "id": "3e58687b",
   "metadata": {
    "ExecuteTime": {
     "end_time": "2021-05-19T21:59:02.885509Z",
     "start_time": "2021-05-19T21:59:02.853597Z"
    }
   },
   "outputs": [
    {
     "data": {
      "text/plain": [
       "array([-1974.65337976, -2004.54137625, -3935.19355723, -1060.04361386,\n",
       "       -1598.74104702])"
      ]
     },
     "execution_count": 73,
     "metadata": {},
     "output_type": "execute_result"
    }
   ],
   "source": [
    "features, target = make_regression(n_samples = 100,\n",
    "                                   n_features = 3,\n",
    "                                   n_informative = 3,\n",
    "                                   n_targets = 1,\n",
    "                                   noise = 50,\n",
    "                                   coef = False,\n",
    "                                   random_state = 1)\n",
    "\n",
    "ols = LinearRegression()\n",
    "\n",
    "cross_val_score(ols, features, target, scoring=\"neg_mean_squared_error\")"
   ]
  },
  {
   "cell_type": "code",
   "execution_count": 74,
   "id": "15c442bb",
   "metadata": {
    "ExecuteTime": {
     "end_time": "2021-05-19T21:59:39.820325Z",
     "start_time": "2021-05-19T21:59:39.791382Z"
    }
   },
   "outputs": [
    {
     "data": {
      "text/plain": [
       "array([0.8622399 , 0.85838075, 0.74723548, 0.91354743, 0.84469331])"
      ]
     },
     "execution_count": 74,
     "metadata": {},
     "output_type": "execute_result"
    }
   ],
   "source": [
    "cross_val_score(ols, features, target, scoring=\"r2\")"
   ]
  },
  {
   "cell_type": "markdown",
   "id": "cbf7edfa",
   "metadata": {},
   "source": [
    "## 11.9 Evaluating Clustering Models "
   ]
  },
  {
   "cell_type": "code",
   "execution_count": 82,
   "id": "0cab9756",
   "metadata": {
    "ExecuteTime": {
     "end_time": "2021-05-19T22:09:36.453302Z",
     "start_time": "2021-05-19T22:09:36.400439Z"
    }
   },
   "outputs": [
    {
     "data": {
      "text/plain": [
       "0.8916265564072142"
      ]
     },
     "execution_count": 82,
     "metadata": {},
     "output_type": "execute_result"
    }
   ],
   "source": [
    "features, _ = make_blobs(n_samples = 1000,\n",
    "                         n_features = 10,\n",
    "                         centers = 2,\n",
    "                         cluster_std = 0.5,\n",
    "                         shuffle = True,\n",
    "                         random_state = 1)\n",
    "\n",
    "model = KMeans(n_clusters = 2, random_state = 1).fit(features)\n",
    "target_predicted = model.labels_\n",
    "silhouette_score(features, target_predicted)"
   ]
  },
  {
   "cell_type": "code",
   "execution_count": 80,
   "id": "98505f01",
   "metadata": {
    "ExecuteTime": {
     "end_time": "2021-05-19T22:09:05.044243Z",
     "start_time": "2021-05-19T22:09:05.036264Z"
    }
   },
   "outputs": [
    {
     "data": {
      "text/plain": [
       "10000"
      ]
     },
     "execution_count": 80,
     "metadata": {},
     "output_type": "execute_result"
    }
   ],
   "source": [
    "features.size"
   ]
  },
  {
   "cell_type": "markdown",
   "id": "d6bced3c",
   "metadata": {},
   "source": [
    "## 11.10 Creating a Custom Evaluation Metric "
   ]
  },
  {
   "cell_type": "code",
   "execution_count": 84,
   "id": "382370ef",
   "metadata": {
    "ExecuteTime": {
     "end_time": "2021-05-19T22:14:19.565153Z",
     "start_time": "2021-05-19T22:14:19.550194Z"
    }
   },
   "outputs": [],
   "source": [
    "features, target = make_regression(n_samples = 100,\n",
    "                                   n_features = 3,\n",
    "                                   random_state = 1)"
   ]
  },
  {
   "cell_type": "code",
   "execution_count": 85,
   "id": "140b4a20",
   "metadata": {
    "ExecuteTime": {
     "end_time": "2021-05-19T22:15:31.616137Z",
     "start_time": "2021-05-19T22:15:31.603174Z"
    }
   },
   "outputs": [],
   "source": [
    "features_train, features_test, target_train, target_test = train_test_split(\n",
    "    features, target, test_size = 0.1, random_state = 1)"
   ]
  },
  {
   "cell_type": "code",
   "execution_count": 86,
   "id": "94d1ef86",
   "metadata": {
    "ExecuteTime": {
     "end_time": "2021-05-19T22:15:58.094020Z",
     "start_time": "2021-05-19T22:15:58.089035Z"
    }
   },
   "outputs": [],
   "source": [
    "def custom_metric(target_test, target_predicted):\n",
    "    r2 = r2_score(target_test, target_predicted)\n",
    "    return r2"
   ]
  },
  {
   "cell_type": "code",
   "execution_count": 87,
   "id": "85919e6c",
   "metadata": {
    "ExecuteTime": {
     "end_time": "2021-05-19T22:16:52.071219Z",
     "start_time": "2021-05-19T22:16:52.040276Z"
    }
   },
   "outputs": [
    {
     "data": {
      "text/plain": [
       "0.9997906102882058"
      ]
     },
     "execution_count": 87,
     "metadata": {},
     "output_type": "execute_result"
    }
   ],
   "source": [
    "score = make_scorer(custom_metric, greater_is_better = True)\n",
    "classifier = Ridge()\n",
    "model = classifier.fit(features_train, target_train)\n",
    "score(model, features_test, target_test)"
   ]
  },
  {
   "cell_type": "markdown",
   "id": "50d47e0d",
   "metadata": {},
   "source": [
    "## 11.11 Visualizing the Effect of Training Set Size"
   ]
  },
  {
   "cell_type": "code",
   "execution_count": 92,
   "id": "33e9ea4b",
   "metadata": {
    "ExecuteTime": {
     "end_time": "2021-05-19T22:27:42.220983Z",
     "start_time": "2021-05-19T22:26:56.909787Z"
    }
   },
   "outputs": [],
   "source": [
    "digits = load_digits()\n",
    "features, target = digits.data, digits.target\n",
    "\n",
    "train_sizes, train_scores, test_scores = learning_curve(RandomForestClassifier(),\n",
    "                                                        features,\n",
    "                                                        target,\n",
    "                                                        cv=10,\n",
    "                                                        scoring=\"accuracy\",\n",
    "                                                        n_jobs=-1,\n",
    "                                                        train_sizes=np.linspace(0.01, 1.0, 50))\n",
    "\n",
    "train_mean = np.mean(train_scores, axis = 1)\n",
    "train_std = np.std(train_scores, axis = 1)\n",
    "\n",
    "test_mean = np.mean(test_scores, axis = 1)\n",
    "test_std = np.std(test_scores, axis = 1)"
   ]
  },
  {
   "cell_type": "code",
   "execution_count": 93,
   "id": "242a33c1",
   "metadata": {
    "ExecuteTime": {
     "end_time": "2021-05-19T22:27:42.490455Z",
     "start_time": "2021-05-19T22:27:42.220983Z"
    }
   },
   "outputs": [
    {
     "data": {
      "image/png": "[encoded data removed]",
      "text/plain": [
       "<Figure size 432x288 with 1 Axes>"
      ]
     },
     "metadata": {
      "needs_background": "light"
     },
     "output_type": "display_data"
    }
   ],
   "source": [
    "plt.plot(train_sizes, train_mean, '--', color='#111111', label = \"Training score\")\n",
    "plt.plot(train_sizes, test_mean, color='#111111', label = \"Cross-validation score\")\n",
    "plt.fill_between(train_sizes, train_mean - train_std, train_mean + train_std, color=\"#DDDDDD\")\n",
    "plt.fill_between(train_sizes, test_mean - test_std, test_mean + test_std, color=\"#DDDDDD\")\n",
    "\n",
    "plt.title(\"Learning curve\")\n",
    "plt.xlabel(\"Training set size\"), plt.ylabel(\"Accuracy score\"),\n",
    "plt.legend(loc=\"best\")\n",
    "plt.tight_layout()\n",
    "plt.show()"
   ]
  },
  {
   "cell_type": "markdown",
   "id": "ee0c4017",
   "metadata": {},
   "source": [
    "## 11.12 Creating a Text Report of Evaluation Metrics"
   ]
  },
  {
   "cell_type": "code",
   "execution_count": 97,
   "id": "4d596199",
   "metadata": {
    "ExecuteTime": {
     "end_time": "2021-05-19T22:30:59.565972Z",
     "start_time": "2021-05-19T22:30:59.513146Z"
    }
   },
   "outputs": [
    {
     "name": "stdout",
     "output_type": "stream",
     "text": [
      "              precision    recall  f1-score   support\n",
      "\n",
      "      setosa       1.00      1.00      1.00        13\n",
      "  versicolor       1.00      0.94      0.97        16\n",
      "   virginica       0.90      1.00      0.95         9\n",
      "\n",
      "    accuracy                           0.97        38\n",
      "   macro avg       0.97      0.98      0.97        38\n",
      "weighted avg       0.98      0.97      0.97        38\n",
      "\n"
     ]
    },
    {
     "name": "stderr",
     "output_type": "stream",
     "text": [
      "c:\\users\\mahel\\envs\\machinelearningcookbook\\lib\\site-packages\\sklearn\\linear_model\\_logistic.py:763: ConvergenceWarning: lbfgs failed to converge (status=1):\n",
      "STOP: TOTAL NO. of ITERATIONS REACHED LIMIT.\n",
      "\n",
      "Increase the number of iterations (max_iter) or scale the data as shown in:\n",
      "    https://scikit-learn.org/stable/modules/preprocessing.html\n",
      "Please also refer to the documentation for alternative solver options:\n",
      "    https://scikit-learn.org/stable/modules/linear_model.html#logistic-regression\n",
      "  n_iter_i = _check_optimize_result(\n"
     ]
    }
   ],
   "source": [
    "iris = datasets.load_iris()\n",
    "\n",
    "features = iris.data\n",
    "\n",
    "target = iris.target\n",
    "\n",
    "class_names = iris.target_names\n",
    "\n",
    "features_train, features_test, target_train, target_test = train_test_split(features, target, random_state = 1)\n",
    "\n",
    "classifier = LogisticRegression()\n",
    "\n",
    "model = classifier.fit(feature_train, target_train)\n",
    "target_predicted = model.predict(features_test)\n",
    "\n",
    "print(classification_report(target_test,\n",
    "                            target_predicted,\n",
    "                            target_names=class_names))"
   ]
  },
  {
   "cell_type": "markdown",
   "id": "bdad1046",
   "metadata": {},
   "source": [
    "## 11.13 Visualizing the Effect of Hyperparameter Values "
   ]
  },
  {
   "cell_type": "code",
   "execution_count": 99,
   "id": "b1f94906",
   "metadata": {
    "ExecuteTime": {
     "end_time": "2021-05-19T22:34:26.673041Z",
     "start_time": "2021-05-19T22:33:35.476869Z"
    }
   },
   "outputs": [],
   "source": [
    "digits = load_digits()\n",
    "features, target = digits.data, digits.target\n",
    "\n",
    "param_range = np.arange(1, 250, 2)\n",
    "\n",
    "train_scores, test_scores = validation_curve(\n",
    "    RandomForestClassifier(),\n",
    "    features,\n",
    "    target,\n",
    "    param_name=\"n_estimators\",\n",
    "    param_range=param_range,\n",
    "    cv=3,\n",
    "    scoring=\"accuracy\",\n",
    "    n_jobs=-1)"
   ]
  },
  {
   "cell_type": "code",
   "execution_count": 101,
   "id": "dcfe61ab",
   "metadata": {
    "ExecuteTime": {
     "end_time": "2021-05-19T22:37:00.728098Z",
     "start_time": "2021-05-19T22:37:00.543734Z"
    }
   },
   "outputs": [
    {
     "data": {
      "image/png": "[encoded data removed]",
      "text/plain": [
       "<Figure size 432x288 with 1 Axes>"
      ]
     },
     "metadata": {
      "needs_background": "light"
     },
     "output_type": "display_data"
    }
   ],
   "source": [
    "train_mean = np.mean(train_scores, axis = 1)\n",
    "train_std = np.std(train_scores, axis = 1)\n",
    "\n",
    "test_mean = np.mean(test_scores, axis = 1)\n",
    "test_std = np.std(test_scores, axis = 1)\n",
    "\n",
    "plt.plot(param_range, train_mean, label = \"Training score\", color=\"black\")\n",
    "plt.plot(param_range, test_mean, label = \"Cross-validation score\", color=\"dimgrey\")\n",
    "\n",
    "plt.fill_between(param_range, train_mean - train_std, train_mean + train_std, color=\"gray\")\n",
    "\n",
    "plt.fill_between(param_range, test_mean - test_std, test_mean + test_std, color=\"gainsboro\")\n",
    "\n",
    "plt.title(\"Validation curve with Random Forest\")\n",
    "plt.xlabel(\"Number of trees\")\n",
    "plt.ylabel(\"Accuracy score\")\n",
    "plt.tight_layout()\n",
    "plt.legend(loc=\"best\")\n",
    "plt.show()"
   ]
  },
  {
   "cell_type": "code",
   "execution_count": null,
   "id": "2e6c08f1",
   "metadata": {},
   "outputs": [],
   "source": []
  }
 ],
 "metadata": {
  "kernelspec": {
   "display_name": "Python 3",
   "language": "python",
   "name": "python3"
  },
  "language_info": {
   "codemirror_mode": {
    "name": "ipython",
    "version": 3
   },
   "file_extension": ".py",
   "mimetype": "text/x-python",
   "name": "python",
   "nbconvert_exporter": "python",
   "pygments_lexer": "ipython3",
   "version": "3.8.5"
  }
 },
 "nbformat": 4,
 "nbformat_minor": 5
}
