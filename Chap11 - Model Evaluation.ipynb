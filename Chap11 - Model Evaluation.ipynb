{
 "cells": [
  {
   "cell_type": "markdown",
   "id": "98ce764a",
   "metadata": {},
   "source": [
    "<h1>Chap11 - Model Evaluation</h1>"
   ]
  },
  {
   "cell_type": "markdown",
   "id": "4cf4ef62",
   "metadata": {},
   "source": [
    "Imports"
   ]
  },
  {
   "cell_type": "code",
   "execution_count": 22,
   "id": "72b7f303",
   "metadata": {
    "ExecuteTime": {
     "end_time": "2021-05-19T10:16:47.086833Z",
     "start_time": "2021-05-19T10:16:47.068873Z"
    }
   },
   "outputs": [],
   "source": [
    "from sklearn import datasets\n",
    "from sklearn import metrics\n",
    "from sklearn.model_selection import KFold, cross_val_score, train_test_split\n",
    "from sklearn.pipeline import make_pipeline\n",
    "from sklearn.linear_model import LogisticRegression, LinearRegression\n",
    "from sklearn.preprocessing import StandardScaler\n",
    "from sklearn.datasets import load_boston, load_iris, make_classification\n",
    "from sklearn.dummy import DummyRegressor, DummyClassifier\n",
    "from sklearn.ensemble import RandomForestClassifier"
   ]
  },
  {
   "cell_type": "markdown",
   "id": "f516e04b",
   "metadata": {},
   "source": [
    "## 11.1 Cross-Validating Models "
   ]
  },
  {
   "cell_type": "code",
   "execution_count": 2,
   "id": "1045b975",
   "metadata": {
    "ExecuteTime": {
     "end_time": "2021-05-19T09:58:22.894763Z",
     "start_time": "2021-05-19T09:58:18.520519Z"
    }
   },
   "outputs": [],
   "source": [
    "digits = datasets.load_digits()\n",
    "features = digits.data\n",
    "target = digits.target\n",
    "standardizer = StandardScaler()\n",
    "logit = LogisticRegression()\n",
    "pipeline = make_pipeline(standardizer, logit)\n",
    "kf = KFold(n_splits=10, shuffle=True, random_state=1)\n",
    "cv_results = cross_val_score(pipeline,\n",
    "                             features,\n",
    "                             target, \n",
    "                             cv=kf,\n",
    "                             scoring=\"accuracy\",\n",
    "                             n_jobs=-1)"
   ]
  },
  {
   "cell_type": "code",
   "execution_count": 3,
   "id": "94bb4057",
   "metadata": {
    "ExecuteTime": {
     "end_time": "2021-05-19T09:58:26.482618Z",
     "start_time": "2021-05-19T09:58:26.469652Z"
    }
   },
   "outputs": [
    {
     "data": {
      "text/plain": [
       "array([0.97777778, 0.98888889, 0.96111111, 0.94444444, 0.97777778,\n",
       "       0.98333333, 0.95555556, 0.98882682, 0.97765363, 0.93854749])"
      ]
     },
     "execution_count": 3,
     "metadata": {},
     "output_type": "execute_result"
    }
   ],
   "source": [
    "cv_results"
   ]
  },
  {
   "cell_type": "code",
   "execution_count": 5,
   "id": "77ba079c",
   "metadata": {
    "ExecuteTime": {
     "end_time": "2021-05-19T10:01:34.367472Z",
     "start_time": "2021-05-19T10:01:34.347527Z"
    }
   },
   "outputs": [],
   "source": [
    "features_train, features_test, target_train, target_test = train_test_split(features, target, test_size = 0.1, random_state=1)"
   ]
  },
  {
   "cell_type": "code",
   "execution_count": 6,
   "id": "8d22b83a",
   "metadata": {
    "ExecuteTime": {
     "end_time": "2021-05-19T10:02:13.232496Z",
     "start_time": "2021-05-19T10:02:13.209559Z"
    }
   },
   "outputs": [],
   "source": [
    "standardizer.fit(features_train)\n",
    "\n",
    "features_train_std = standardizer.transform(features_train)\n",
    "features_test_std = standardizer.transform(features_test)"
   ]
  },
  {
   "cell_type": "code",
   "execution_count": 7,
   "id": "84bb081e",
   "metadata": {
    "ExecuteTime": {
     "end_time": "2021-05-19T10:03:47.153751Z",
     "start_time": "2021-05-19T10:03:45.210822Z"
    }
   },
   "outputs": [],
   "source": [
    "pipeline = make_pipeline(standardizer, logit)\n",
    "cv_results = cross_val_score(pipeline,\n",
    "                             features, \n",
    "                             target, \n",
    "                             cv=kf,\n",
    "                             scoring=\"accuracy\",\n",
    "                             n_jobs=-1)"
   ]
  },
  {
   "cell_type": "code",
   "execution_count": 8,
   "id": "00d9073f",
   "metadata": {
    "ExecuteTime": {
     "end_time": "2021-05-19T10:03:48.670350Z",
     "start_time": "2021-05-19T10:03:48.660329Z"
    }
   },
   "outputs": [
    {
     "data": {
      "text/plain": [
       "array([0.97777778, 0.98888889, 0.96111111, 0.94444444, 0.97777778,\n",
       "       0.98333333, 0.95555556, 0.98882682, 0.97765363, 0.93854749])"
      ]
     },
     "execution_count": 8,
     "metadata": {},
     "output_type": "execute_result"
    }
   ],
   "source": [
    "cv_results"
   ]
  },
  {
   "cell_type": "markdown",
   "id": "f346562c",
   "metadata": {},
   "source": [
    "## 11.2 Creating a Baseline Regression Model "
   ]
  },
  {
   "cell_type": "code",
   "execution_count": 10,
   "id": "cba951ae",
   "metadata": {
    "ExecuteTime": {
     "end_time": "2021-05-19T10:05:52.546669Z",
     "start_time": "2021-05-19T10:05:52.512760Z"
    }
   },
   "outputs": [],
   "source": [
    "boston = load_boston()"
   ]
  },
  {
   "cell_type": "code",
   "execution_count": 12,
   "id": "fa946e47",
   "metadata": {
    "ExecuteTime": {
     "end_time": "2021-05-19T10:07:05.966369Z",
     "start_time": "2021-05-19T10:07:05.951415Z"
    }
   },
   "outputs": [
    {
     "data": {
      "text/plain": [
       "-0.001119359203955339"
      ]
     },
     "execution_count": 12,
     "metadata": {},
     "output_type": "execute_result"
    }
   ],
   "source": [
    "features, target = boston.data, boston.target\n",
    "features_train, features_test, target_train, target_test = train_test_split(features, target, random_state=0)\n",
    "dummy = DummyRegressor(strategy=\"mean\")\n",
    "dummy.fit(features_train, target_train)\n",
    "dummy.score(features_test, target_test)"
   ]
  },
  {
   "cell_type": "code",
   "execution_count": 14,
   "id": "69d51936",
   "metadata": {
    "ExecuteTime": {
     "end_time": "2021-05-19T10:08:34.476801Z",
     "start_time": "2021-05-19T10:08:34.439901Z"
    }
   },
   "outputs": [
    {
     "data": {
      "text/plain": [
       "0.6354638433202116"
      ]
     },
     "execution_count": 14,
     "metadata": {},
     "output_type": "execute_result"
    }
   ],
   "source": [
    "ols = LinearRegression()\n",
    "ols.fit(features_train, target_train)\n",
    "ols.score(features_test, target_test)"
   ]
  },
  {
   "cell_type": "code",
   "execution_count": 15,
   "id": "3f7f1016",
   "metadata": {
    "ExecuteTime": {
     "end_time": "2021-05-19T10:10:22.936115Z",
     "start_time": "2021-05-19T10:10:22.915173Z"
    }
   },
   "outputs": [
    {
     "data": {
      "text/plain": [
       "-0.06510502029325727"
      ]
     },
     "execution_count": 15,
     "metadata": {},
     "output_type": "execute_result"
    }
   ],
   "source": [
    "clf = DummyRegressor(strategy=\"constant\", constant=20)\n",
    "clf.fit(features_train, target_train)\n",
    "clf.score(features_test, target_test)"
   ]
  },
  {
   "cell_type": "markdown",
   "id": "51521720",
   "metadata": {},
   "source": [
    "## 11.3 Creating a Baseline Classification Model "
   ]
  },
  {
   "cell_type": "code",
   "execution_count": 19,
   "id": "07494afc",
   "metadata": {
    "ExecuteTime": {
     "end_time": "2021-05-19T10:13:27.691595Z",
     "start_time": "2021-05-19T10:13:27.667661Z"
    }
   },
   "outputs": [
    {
     "data": {
      "text/plain": [
       "0.42105263157894735"
      ]
     },
     "execution_count": 19,
     "metadata": {},
     "output_type": "execute_result"
    }
   ],
   "source": [
    "iris  = load_iris()\n",
    "features, target = iris.data, iris.target\n",
    "features_train, features_test, target_train, target_test = train_test_split(features, target, random_state=0)\n",
    "dummy = DummyClassifier(strategy=\"uniform\", random_state=1)\n",
    "dummy.fit(features_train, target_train)\n",
    "dummy.score(features_test, target_test)"
   ]
  },
  {
   "cell_type": "code",
   "execution_count": 21,
   "id": "1d4b54e3",
   "metadata": {
    "ExecuteTime": {
     "end_time": "2021-05-19T10:14:56.721719Z",
     "start_time": "2021-05-19T10:14:56.556916Z"
    }
   },
   "outputs": [
    {
     "data": {
      "text/plain": [
       "0.9736842105263158"
      ]
     },
     "execution_count": 21,
     "metadata": {},
     "output_type": "execute_result"
    }
   ],
   "source": [
    "classifier = RandomForestClassifier()\n",
    "classifier.fit(features_train, target_train)\n",
    "classifier.score(features_test, target_test)"
   ]
  },
  {
   "cell_type": "markdown",
   "id": "fa62f6d2",
   "metadata": {},
   "source": [
    "## 11.4 Evaluating Binary Classifier Predictions "
   ]
  },
  {
   "cell_type": "code",
   "execution_count": 23,
   "id": "02af418f",
   "metadata": {
    "ExecuteTime": {
     "end_time": "2021-05-19T10:17:52.181743Z",
     "start_time": "2021-05-19T10:17:52.069788Z"
    }
   },
   "outputs": [
    {
     "data": {
      "text/plain": [
       "array([0.9555, 0.95  , 0.9585, 0.9555, 0.956 ])"
      ]
     },
     "execution_count": 23,
     "metadata": {},
     "output_type": "execute_result"
    }
   ],
   "source": [
    "X, y = make_classification(n_samples = 10000,\n",
    "                           n_features = 3,\n",
    "                           n_informative = 3,\n",
    "                           n_redundant = 0,\n",
    "                           n_classes = 2,\n",
    "                           random_state = 1)\n",
    "\n",
    "logit = LogisticRegression()\n",
    "cross_val_score(logit, X, y, scoring=\"accuracy\")"
   ]
  },
  {
   "cell_type": "code",
   "execution_count": 24,
   "id": "61d7e759",
   "metadata": {
    "ExecuteTime": {
     "end_time": "2021-05-19T10:20:26.727105Z",
     "start_time": "2021-05-19T10:20:26.621362Z"
    }
   },
   "outputs": [
    {
     "data": {
      "text/plain": [
       "array([0.95963673, 0.94820717, 0.9635996 , 0.96149949, 0.96060606])"
      ]
     },
     "execution_count": 24,
     "metadata": {},
     "output_type": "execute_result"
    }
   ],
   "source": [
    "cross_val_score(logit, X, y, scoring=\"precision\")"
   ]
  },
  {
   "cell_type": "code",
   "execution_count": 25,
   "id": "d553180f",
   "metadata": {
    "ExecuteTime": {
     "end_time": "2021-05-19T10:20:42.166590Z",
     "start_time": "2021-05-19T10:20:42.051506Z"
    }
   },
   "outputs": [
    {
     "data": {
      "text/plain": [
       "array([0.951, 0.952, 0.953, 0.949, 0.951])"
      ]
     },
     "execution_count": 25,
     "metadata": {},
     "output_type": "execute_result"
    }
   ],
   "source": [
    "cross_val_score(logit, X, y, scoring=\"recall\")"
   ]
  },
  {
   "cell_type": "code",
   "execution_count": 27,
   "id": "98afc976",
   "metadata": {
    "ExecuteTime": {
     "end_time": "2021-05-19T10:21:00.483180Z",
     "start_time": "2021-05-19T10:21:00.373009Z"
    }
   },
   "outputs": [
    {
     "data": {
      "text/plain": [
       "array([0.95529884, 0.9500998 , 0.95827049, 0.95520886, 0.95577889])"
      ]
     },
     "execution_count": 27,
     "metadata": {},
     "output_type": "execute_result"
    }
   ],
   "source": [
    "cross_val_score(logit, X, y, scoring=\"f1\")"
   ]
  },
  {
   "cell_type": "code",
   "execution_count": null,
   "id": "04dc0181",
   "metadata": {},
   "outputs": [],
   "source": []
  }
 ],
 "metadata": {
  "kernelspec": {
   "display_name": "Python 3",
   "language": "python",
   "name": "python3"
  },
  "language_info": {
   "codemirror_mode": {
    "name": "ipython",
    "version": 3
   },
   "file_extension": ".py",
   "mimetype": "text/x-python",
   "name": "python",
   "nbconvert_exporter": "python",
   "pygments_lexer": "ipython3",
   "version": "3.8.5"
  }
 },
 "nbformat": 4,
 "nbformat_minor": 5
}
