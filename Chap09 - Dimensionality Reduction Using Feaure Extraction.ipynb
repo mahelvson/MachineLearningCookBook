{
 "cells": [
  {
   "cell_type": "markdown",
   "id": "e7549553",
   "metadata": {},
   "source": [
    "<h1>Chap09 - Dimensionality Reduction Using Feaure Extraction</h1>"
   ]
  },
  {
   "cell_type": "markdown",
   "id": "68886213",
   "metadata": {},
   "source": [
    "Imports"
   ]
  },
  {
   "cell_type": "code",
   "execution_count": 11,
   "id": "ad906278",
   "metadata": {
    "ExecuteTime": {
     "end_time": "2021-05-07T14:30:33.816965Z",
     "start_time": "2021-05-07T14:30:33.805985Z"
    }
   },
   "outputs": [],
   "source": [
    "from sklearn.preprocessing import StandardScaler\n",
    "from sklearn.decomposition import PCA, KernelPCA, TruncatedSVD\n",
    "from sklearn.discriminant_analysis import LinearDiscriminantAnalysis\n",
    "from scipy.sparse import csr_matrix\n",
    "from sklearn import datasets\n",
    "import numpy as np"
   ]
  },
  {
   "cell_type": "markdown",
   "id": "d8ee4f77",
   "metadata": {},
   "source": [
    "## 9.1 Reducing Features Using Principal Components"
   ]
  },
  {
   "cell_type": "code",
   "execution_count": 2,
   "id": "a36027b7",
   "metadata": {
    "ExecuteTime": {
     "end_time": "2021-05-07T14:29:26.884738Z",
     "start_time": "2021-05-07T14:29:26.695199Z"
    }
   },
   "outputs": [
    {
     "name": "stdout",
     "output_type": "stream",
     "text": [
      "Original number of features: 64\n",
      "Reduced number of features: 54\n"
     ]
    }
   ],
   "source": [
    "digits = datasets.load_digits()\n",
    "features = StandardScaler().fit_transform(digits.data)\n",
    "pca = PCA(n_components = 0.99, whiten=True)\n",
    "features_pca = pca.fit_transform(features)\n",
    "\n",
    "print(\"Original number of features:\", features.shape[1])\n",
    "print(\"Reduced number of features:\", features_pca.shape[1])"
   ]
  },
  {
   "cell_type": "markdown",
   "id": "3251392e",
   "metadata": {},
   "source": [
    "## 9.2 Reducing Fetures When Data Is Linearly Inseparable"
   ]
  },
  {
   "cell_type": "code",
   "execution_count": 3,
   "id": "cd8a2976",
   "metadata": {
    "ExecuteTime": {
     "end_time": "2021-05-07T14:29:26.995442Z",
     "start_time": "2021-05-07T14:29:26.891719Z"
    }
   },
   "outputs": [
    {
     "name": "stdout",
     "output_type": "stream",
     "text": [
      "Original number of features:  2\n",
      "Reduced number of features:  1\n"
     ]
    }
   ],
   "source": [
    "features, _ = datasets.make_circles(n_samples=1000, random_state=1, noise=0.1, factor=0.1)\n",
    "kpca = KernelPCA(kernel=\"rbf\", gamma=15, n_components=1)\n",
    "features_kpca = kpca.fit_transform(features)\n",
    "\n",
    "print(\"Original number of features: \",features.shape[1])\n",
    "print(\"Reduced number of features: \", features_kpca.shape[1])"
   ]
  },
  {
   "cell_type": "markdown",
   "id": "981fb445",
   "metadata": {},
   "source": [
    "## 9.3 Reducing Feature by Maximizing Class Separability "
   ]
  },
  {
   "cell_type": "code",
   "execution_count": 4,
   "id": "b739d71e",
   "metadata": {
    "ExecuteTime": {
     "end_time": "2021-05-07T14:29:27.024366Z",
     "start_time": "2021-05-07T14:29:27.000429Z"
    }
   },
   "outputs": [],
   "source": [
    "iris = datasets.load_iris()\n",
    "features = iris.data\n",
    "target = iris.target"
   ]
  },
  {
   "cell_type": "code",
   "execution_count": 5,
   "id": "6fd8ce7b",
   "metadata": {
    "ExecuteTime": {
     "end_time": "2021-05-07T14:29:27.040322Z",
     "start_time": "2021-05-07T14:29:27.027357Z"
    }
   },
   "outputs": [
    {
     "name": "stdout",
     "output_type": "stream",
     "text": [
      "Original number of features:  4\n",
      "Reduced number of features:  1\n"
     ]
    }
   ],
   "source": [
    "lda = LinearDiscriminantAnalysis(n_components=1)\n",
    "features_lda = lda.fit(features, target).transform(features)\n",
    "\n",
    "print(\"Original number of features: \", features.shape[1])\n",
    "print(\"Reduced number of features: \", features_lda.shape[1])"
   ]
  },
  {
   "cell_type": "code",
   "execution_count": 6,
   "id": "785869a3",
   "metadata": {
    "ExecuteTime": {
     "end_time": "2021-05-07T14:29:27.072236Z",
     "start_time": "2021-05-07T14:29:27.043315Z"
    }
   },
   "outputs": [
    {
     "data": {
      "text/plain": [
       "array([0.9912126])"
      ]
     },
     "execution_count": 6,
     "metadata": {},
     "output_type": "execute_result"
    }
   ],
   "source": [
    "lda.explained_variance_ratio_"
   ]
  },
  {
   "cell_type": "code",
   "execution_count": 7,
   "id": "6530e3c3",
   "metadata": {
    "ExecuteTime": {
     "end_time": "2021-05-07T14:29:27.088193Z",
     "start_time": "2021-05-07T14:29:27.076226Z"
    }
   },
   "outputs": [
    {
     "data": {
      "text/plain": [
       "1"
      ]
     },
     "execution_count": 7,
     "metadata": {},
     "output_type": "execute_result"
    }
   ],
   "source": [
    "#Testing different values of n_components\n",
    "lda = LinearDiscriminantAnalysis(n_components=None)\n",
    "features_lda = lda.fit(features, target)\n",
    "\n",
    "lda_var_ratios = lda.explained_variance_ratio_\n",
    "def select_n_components(var_ratio, goal_var: float) -> int:\n",
    "    total_variance = 0.0\n",
    "    n_components = 0\n",
    "    for explained_variance in var_ratio:\n",
    "        total_variance += explained_variance\n",
    "        n_components += 1\n",
    "        if total_variance >= goal_var:\n",
    "            break\n",
    "    return n_components\n",
    "select_n_components(lda_var_ratios, 0.95)"
   ]
  },
  {
   "cell_type": "markdown",
   "id": "de397a2e",
   "metadata": {},
   "source": [
    "## 9.4 Reducing Features Using Matrix Factorization "
   ]
  },
  {
   "cell_type": "code",
   "execution_count": 8,
   "id": "d76ad60f",
   "metadata": {
    "ExecuteTime": {
     "end_time": "2021-05-07T14:29:27.682736Z",
     "start_time": "2021-05-07T14:29:27.097173Z"
    }
   },
   "outputs": [
    {
     "name": "stderr",
     "output_type": "stream",
     "text": [
      "c:\\users\\mahel\\envs\\machinelearningcookbook\\lib\\site-packages\\sklearn\\decomposition\\_nmf.py:312: FutureWarning: The 'init' value, when 'init=None' and n_components is less than n_samples and n_features, will be changed from 'nndsvd' to 'nndsvda' in 1.1 (renaming of 0.26).\n",
      "  warnings.warn((\"The 'init' value, when 'init=None' and \"\n"
     ]
    },
    {
     "name": "stdout",
     "output_type": "stream",
     "text": [
      "Original number of features: 64\n",
      "Reduced number of features: 10\n"
     ]
    },
    {
     "name": "stderr",
     "output_type": "stream",
     "text": [
      "c:\\users\\mahel\\envs\\machinelearningcookbook\\lib\\site-packages\\sklearn\\decomposition\\_nmf.py:1090: ConvergenceWarning: Maximum number of iterations 200 reached. Increase it to improve convergence.\n",
      "  warnings.warn(\"Maximum number of iterations %d reached. Increase it to\"\n"
     ]
    }
   ],
   "source": [
    "from sklearn.decomposition import NMF\n",
    "from sklearn import datasets\n",
    "\n",
    "digits = datasets.load_digits()\n",
    "features = digits.data\n",
    "\n",
    "nmf = NMF(n_components=10, random_state=1)\n",
    "features_nmf = nmf.fit_transform(features)\n",
    "\n",
    "print(\"Original number of features:\", features.shape[1])\n",
    "print(\"Reduced number of features:\", features_nmf.shape[1])"
   ]
  },
  {
   "cell_type": "markdown",
   "id": "60db8224",
   "metadata": {},
   "source": [
    "## 9.5 Reducing Features on Sparse Data "
   ]
  },
  {
   "cell_type": "code",
   "execution_count": 15,
   "id": "28ce6eb9",
   "metadata": {
    "ExecuteTime": {
     "end_time": "2021-05-07T14:32:55.113679Z",
     "start_time": "2021-05-07T14:32:55.095732Z"
    }
   },
   "outputs": [],
   "source": [
    "features = StandardScaler().fit_transform(digits.data)\n",
    "features_sparse = csr_matrix(features)\n",
    "tsvd = TruncatedSVD(n_components=10)"
   ]
  },
  {
   "cell_type": "code",
   "execution_count": 16,
   "id": "07bc9be0",
   "metadata": {
    "ExecuteTime": {
     "end_time": "2021-05-07T14:32:55.568530Z",
     "start_time": "2021-05-07T14:32:55.507693Z"
    }
   },
   "outputs": [
    {
     "name": "stdout",
     "output_type": "stream",
     "text": [
      "Original number of features: 64\n",
      "Reduced number of features: 10\n"
     ]
    }
   ],
   "source": [
    "features_sparse_tsvd = tsvd.fit(features_sparse).transform(features_sparse)\n",
    "print(\"Original number of features:\", features_sparse.shape[1])\n",
    "print(\"Reduced number of features:\", features_sparse_tsvd.shape[1])"
   ]
  },
  {
   "cell_type": "code",
   "execution_count": 17,
   "id": "25e6d461",
   "metadata": {
    "ExecuteTime": {
     "end_time": "2021-05-07T14:35:18.001644Z",
     "start_time": "2021-05-07T14:35:17.984675Z"
    }
   },
   "outputs": [
    {
     "data": {
      "text/plain": [
       "0.3003938539167873"
      ]
     },
     "execution_count": 17,
     "metadata": {},
     "output_type": "execute_result"
    }
   ],
   "source": [
    "#The first three explained variance ratios\n",
    "tsvd.explained_variance_ratio_[0:3].sum()"
   ]
  },
  {
   "cell_type": "code",
   "execution_count": 18,
   "id": "52c45e7e",
   "metadata": {
    "ExecuteTime": {
     "end_time": "2021-05-07T14:37:29.744441Z",
     "start_time": "2021-05-07T14:37:29.648698Z"
    }
   },
   "outputs": [
    {
     "data": {
      "text/plain": [
       "40"
      ]
     },
     "execution_count": 18,
     "metadata": {},
     "output_type": "execute_result"
    }
   ],
   "source": [
    "tsvd = TruncatedSVD(n_components = features_sparse.shape[1]-1)\n",
    "features_tsvd = tsvd.fit(features)\n",
    "\n",
    "tsvd_var_ratios = tsvd.explained_variance_ratio_\n",
    "\n",
    "def select_n_components(var_ratio, goal_var):\n",
    "    total_variance = 0.0\n",
    "    n_components = 0\n",
    "    for explained_variance in var_ratio:\n",
    "        total_variance+=explained_variance\n",
    "        n_components+=1\n",
    "        if total_variance >= goal_var:\n",
    "            break\n",
    "    return n_components\n",
    "select_n_components(tsvd_var_ratios, 0.95)"
   ]
  },
  {
   "cell_type": "code",
   "execution_count": null,
   "id": "e48d4719",
   "metadata": {},
   "outputs": [],
   "source": []
  }
 ],
 "metadata": {
  "kernelspec": {
   "display_name": "Python 3",
   "language": "python",
   "name": "python3"
  },
  "language_info": {
   "codemirror_mode": {
    "name": "ipython",
    "version": 3
   },
   "file_extension": ".py",
   "mimetype": "text/x-python",
   "name": "python",
   "nbconvert_exporter": "python",
   "pygments_lexer": "ipython3",
   "version": "3.8.5"
  }
 },
 "nbformat": 4,
 "nbformat_minor": 5
}
