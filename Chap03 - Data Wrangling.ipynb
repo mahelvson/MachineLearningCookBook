{
 "cells": [
  {
   "cell_type": "markdown",
   "id": "8afd0e12",
   "metadata": {
    "ExecuteTime": {
     "end_time": "2021-04-22T19:53:58.975478Z",
     "start_time": "2021-04-22T19:53:58.964508Z"
    }
   },
   "source": [
    "<h1> Chapter 03 - Data Wrangling </h1>"
   ]
  },
  {
   "cell_type": "markdown",
   "id": "6bf7d8dd",
   "metadata": {},
   "source": [
    "Imports "
   ]
  },
  {
   "cell_type": "code",
   "execution_count": 17,
   "id": "0bf3e4b5",
   "metadata": {
    "ExecuteTime": {
     "end_time": "2021-04-23T12:32:41.045284Z",
     "start_time": "2021-04-23T12:32:41.026308Z"
    }
   },
   "outputs": [],
   "source": [
    "import pandas as pd\n",
    "import numpy  as np\n",
    "import collections"
   ]
  },
  {
   "cell_type": "markdown",
   "id": "7d0c5928",
   "metadata": {},
   "source": [
    "## 3.0 Introduction "
   ]
  },
  {
   "cell_type": "code",
   "execution_count": 2,
   "id": "c77b1fa7",
   "metadata": {
    "ExecuteTime": {
     "end_time": "2021-04-23T12:22:14.111705Z",
     "start_time": "2021-04-23T12:22:13.397806Z"
    }
   },
   "outputs": [
    {
     "data": {
      "text/html": [
       "<div>\n",
       "<style scoped>\n",
       "    .dataframe tbody tr th:only-of-type {\n",
       "        vertical-align: middle;\n",
       "    }\n",
       "\n",
       "    .dataframe tbody tr th {\n",
       "        vertical-align: top;\n",
       "    }\n",
       "\n",
       "    .dataframe thead th {\n",
       "        text-align: right;\n",
       "    }\n",
       "</style>\n",
       "<table border=\"1\" class=\"dataframe\">\n",
       "  <thead>\n",
       "    <tr style=\"text-align: right;\">\n",
       "      <th></th>\n",
       "      <th>Name</th>\n",
       "      <th>PClass</th>\n",
       "      <th>Age</th>\n",
       "      <th>Sex</th>\n",
       "      <th>Survived</th>\n",
       "      <th>SexCode</th>\n",
       "    </tr>\n",
       "  </thead>\n",
       "  <tbody>\n",
       "    <tr>\n",
       "      <th>0</th>\n",
       "      <td>Allen, Miss Elisabeth Walton</td>\n",
       "      <td>1st</td>\n",
       "      <td>29.00</td>\n",
       "      <td>female</td>\n",
       "      <td>1</td>\n",
       "      <td>1</td>\n",
       "    </tr>\n",
       "    <tr>\n",
       "      <th>1</th>\n",
       "      <td>Allison, Miss Helen Loraine</td>\n",
       "      <td>1st</td>\n",
       "      <td>2.00</td>\n",
       "      <td>female</td>\n",
       "      <td>0</td>\n",
       "      <td>1</td>\n",
       "    </tr>\n",
       "    <tr>\n",
       "      <th>2</th>\n",
       "      <td>Allison, Mr Hudson Joshua Creighton</td>\n",
       "      <td>1st</td>\n",
       "      <td>30.00</td>\n",
       "      <td>male</td>\n",
       "      <td>0</td>\n",
       "      <td>0</td>\n",
       "    </tr>\n",
       "    <tr>\n",
       "      <th>3</th>\n",
       "      <td>Allison, Mrs Hudson JC (Bessie Waldo Daniels)</td>\n",
       "      <td>1st</td>\n",
       "      <td>25.00</td>\n",
       "      <td>female</td>\n",
       "      <td>0</td>\n",
       "      <td>1</td>\n",
       "    </tr>\n",
       "    <tr>\n",
       "      <th>4</th>\n",
       "      <td>Allison, Master Hudson Trevor</td>\n",
       "      <td>1st</td>\n",
       "      <td>0.92</td>\n",
       "      <td>male</td>\n",
       "      <td>1</td>\n",
       "      <td>0</td>\n",
       "    </tr>\n",
       "  </tbody>\n",
       "</table>\n",
       "</div>"
      ],
      "text/plain": [
       "                                            Name PClass    Age     Sex  \\\n",
       "0                   Allen, Miss Elisabeth Walton    1st  29.00  female   \n",
       "1                    Allison, Miss Helen Loraine    1st   2.00  female   \n",
       "2            Allison, Mr Hudson Joshua Creighton    1st  30.00    male   \n",
       "3  Allison, Mrs Hudson JC (Bessie Waldo Daniels)    1st  25.00  female   \n",
       "4                  Allison, Master Hudson Trevor    1st   0.92    male   \n",
       "\n",
       "   Survived  SexCode  \n",
       "0         1        1  \n",
       "1         0        1  \n",
       "2         0        0  \n",
       "3         0        1  \n",
       "4         1        0  "
      ]
     },
     "execution_count": 2,
     "metadata": {},
     "output_type": "execute_result"
    }
   ],
   "source": [
    "url = 'https://raw.githubusercontent.com/chrisalbon/simulated_datasets/master/titanic.csv'\n",
    "dataframe = pd.read_csv(url)\n",
    "dataframe.head(5)"
   ]
  },
  {
   "cell_type": "markdown",
   "id": "bd9f9d07",
   "metadata": {},
   "source": [
    "## 3.1 Creating a Data Frame "
   ]
  },
  {
   "cell_type": "code",
   "execution_count": 6,
   "id": "6937c8f8",
   "metadata": {
    "ExecuteTime": {
     "end_time": "2021-04-22T19:58:24.650714Z",
     "start_time": "2021-04-22T19:58:24.629771Z"
    }
   },
   "outputs": [
    {
     "data": {
      "text/html": [
       "<div>\n",
       "<style scoped>\n",
       "    .dataframe tbody tr th:only-of-type {\n",
       "        vertical-align: middle;\n",
       "    }\n",
       "\n",
       "    .dataframe tbody tr th {\n",
       "        vertical-align: top;\n",
       "    }\n",
       "\n",
       "    .dataframe thead th {\n",
       "        text-align: right;\n",
       "    }\n",
       "</style>\n",
       "<table border=\"1\" class=\"dataframe\">\n",
       "  <thead>\n",
       "    <tr style=\"text-align: right;\">\n",
       "      <th></th>\n",
       "      <th>Name</th>\n",
       "      <th>Age</th>\n",
       "      <th>Driver</th>\n",
       "    </tr>\n",
       "  </thead>\n",
       "  <tbody>\n",
       "    <tr>\n",
       "      <th>0</th>\n",
       "      <td>Jacky Jackson</td>\n",
       "      <td>38</td>\n",
       "      <td>True</td>\n",
       "    </tr>\n",
       "    <tr>\n",
       "      <th>1</th>\n",
       "      <td>Steven Stevenson</td>\n",
       "      <td>25</td>\n",
       "      <td>False</td>\n",
       "    </tr>\n",
       "  </tbody>\n",
       "</table>\n",
       "</div>"
      ],
      "text/plain": [
       "               Name  Age  Driver\n",
       "0     Jacky Jackson   38    True\n",
       "1  Steven Stevenson   25   False"
      ]
     },
     "execution_count": 6,
     "metadata": {},
     "output_type": "execute_result"
    }
   ],
   "source": [
    "dataframe = pd.DataFrame()\n",
    "\n",
    "dataframe['Name'] = ['Jacky Jackson', 'Steven Stevenson' ]\n",
    "dataframe['Age'] = [38, 25]\n",
    "dataframe['Driver'] = [True, False]\n",
    "\n",
    "dataframe"
   ]
  },
  {
   "cell_type": "code",
   "execution_count": 8,
   "id": "4f7fe629",
   "metadata": {
    "ExecuteTime": {
     "end_time": "2021-04-22T19:59:44.180040Z",
     "start_time": "2021-04-22T19:59:44.155108Z"
    }
   },
   "outputs": [
    {
     "data": {
      "text/html": [
       "<div>\n",
       "<style scoped>\n",
       "    .dataframe tbody tr th:only-of-type {\n",
       "        vertical-align: middle;\n",
       "    }\n",
       "\n",
       "    .dataframe tbody tr th {\n",
       "        vertical-align: top;\n",
       "    }\n",
       "\n",
       "    .dataframe thead th {\n",
       "        text-align: right;\n",
       "    }\n",
       "</style>\n",
       "<table border=\"1\" class=\"dataframe\">\n",
       "  <thead>\n",
       "    <tr style=\"text-align: right;\">\n",
       "      <th></th>\n",
       "      <th>Name</th>\n",
       "      <th>Age</th>\n",
       "      <th>Driver</th>\n",
       "    </tr>\n",
       "  </thead>\n",
       "  <tbody>\n",
       "    <tr>\n",
       "      <th>0</th>\n",
       "      <td>Jacky Jackson</td>\n",
       "      <td>38</td>\n",
       "      <td>True</td>\n",
       "    </tr>\n",
       "    <tr>\n",
       "      <th>1</th>\n",
       "      <td>Steven Stevenson</td>\n",
       "      <td>25</td>\n",
       "      <td>False</td>\n",
       "    </tr>\n",
       "    <tr>\n",
       "      <th>2</th>\n",
       "      <td>Molly Mooney</td>\n",
       "      <td>49</td>\n",
       "      <td>True</td>\n",
       "    </tr>\n",
       "  </tbody>\n",
       "</table>\n",
       "</div>"
      ],
      "text/plain": [
       "               Name  Age  Driver\n",
       "0     Jacky Jackson   38    True\n",
       "1  Steven Stevenson   25   False\n",
       "2      Molly Mooney   49    True"
      ]
     },
     "execution_count": 8,
     "metadata": {},
     "output_type": "execute_result"
    }
   ],
   "source": [
    "new_person = pd.Series(['Molly Mooney', 49, True], index=['Name', 'Age', 'Driver'])\n",
    "dataframe.append(new_person, ignore_index=True )"
   ]
  },
  {
   "cell_type": "code",
   "execution_count": 9,
   "id": "5c385590",
   "metadata": {
    "ExecuteTime": {
     "end_time": "2021-04-22T19:59:57.172829Z",
     "start_time": "2021-04-22T19:59:57.155874Z"
    }
   },
   "outputs": [
    {
     "data": {
      "text/plain": [
       "Name      Molly Mooney\n",
       "Age                 49\n",
       "Driver            True\n",
       "dtype: object"
      ]
     },
     "execution_count": 9,
     "metadata": {},
     "output_type": "execute_result"
    }
   ],
   "source": [
    "new_person"
   ]
  },
  {
   "cell_type": "markdown",
   "id": "9ad79476",
   "metadata": {},
   "source": [
    "## 3.2 Describing the Data "
   ]
  },
  {
   "cell_type": "code",
   "execution_count": 10,
   "id": "e98e85b3",
   "metadata": {
    "ExecuteTime": {
     "end_time": "2021-04-22T20:01:01.418173Z",
     "start_time": "2021-04-22T20:01:01.119150Z"
    }
   },
   "outputs": [
    {
     "data": {
      "text/html": [
       "<div>\n",
       "<style scoped>\n",
       "    .dataframe tbody tr th:only-of-type {\n",
       "        vertical-align: middle;\n",
       "    }\n",
       "\n",
       "    .dataframe tbody tr th {\n",
       "        vertical-align: top;\n",
       "    }\n",
       "\n",
       "    .dataframe thead th {\n",
       "        text-align: right;\n",
       "    }\n",
       "</style>\n",
       "<table border=\"1\" class=\"dataframe\">\n",
       "  <thead>\n",
       "    <tr style=\"text-align: right;\">\n",
       "      <th></th>\n",
       "      <th>Name</th>\n",
       "      <th>PClass</th>\n",
       "      <th>Age</th>\n",
       "      <th>Sex</th>\n",
       "      <th>Survived</th>\n",
       "      <th>SexCode</th>\n",
       "    </tr>\n",
       "  </thead>\n",
       "  <tbody>\n",
       "    <tr>\n",
       "      <th>0</th>\n",
       "      <td>Allen, Miss Elisabeth Walton</td>\n",
       "      <td>1st</td>\n",
       "      <td>29.0</td>\n",
       "      <td>female</td>\n",
       "      <td>1</td>\n",
       "      <td>1</td>\n",
       "    </tr>\n",
       "    <tr>\n",
       "      <th>1</th>\n",
       "      <td>Allison, Miss Helen Loraine</td>\n",
       "      <td>1st</td>\n",
       "      <td>2.0</td>\n",
       "      <td>female</td>\n",
       "      <td>0</td>\n",
       "      <td>1</td>\n",
       "    </tr>\n",
       "  </tbody>\n",
       "</table>\n",
       "</div>"
      ],
      "text/plain": [
       "                           Name PClass   Age     Sex  Survived  SexCode\n",
       "0  Allen, Miss Elisabeth Walton    1st  29.0  female         1        1\n",
       "1   Allison, Miss Helen Loraine    1st   2.0  female         0        1"
      ]
     },
     "execution_count": 10,
     "metadata": {},
     "output_type": "execute_result"
    }
   ],
   "source": [
    "url = 'https://raw.githubusercontent.com/chrisalbon/simulated_datasets/master/titanic.csv'\n",
    "dataframe = pd.read_csv(url)\n",
    "dataframe.head(2)"
   ]
  },
  {
   "cell_type": "code",
   "execution_count": 11,
   "id": "261bdbc5",
   "metadata": {
    "ExecuteTime": {
     "end_time": "2021-04-22T20:01:09.678157Z",
     "start_time": "2021-04-22T20:01:09.669182Z"
    }
   },
   "outputs": [
    {
     "data": {
      "text/plain": [
       "(1313, 6)"
      ]
     },
     "execution_count": 11,
     "metadata": {},
     "output_type": "execute_result"
    }
   ],
   "source": [
    "dataframe.shape"
   ]
  },
  {
   "cell_type": "code",
   "execution_count": 12,
   "id": "a1dd2b4d",
   "metadata": {
    "ExecuteTime": {
     "end_time": "2021-04-22T20:01:17.359234Z",
     "start_time": "2021-04-22T20:01:17.319316Z"
    }
   },
   "outputs": [
    {
     "data": {
      "text/html": [
       "<div>\n",
       "<style scoped>\n",
       "    .dataframe tbody tr th:only-of-type {\n",
       "        vertical-align: middle;\n",
       "    }\n",
       "\n",
       "    .dataframe tbody tr th {\n",
       "        vertical-align: top;\n",
       "    }\n",
       "\n",
       "    .dataframe thead th {\n",
       "        text-align: right;\n",
       "    }\n",
       "</style>\n",
       "<table border=\"1\" class=\"dataframe\">\n",
       "  <thead>\n",
       "    <tr style=\"text-align: right;\">\n",
       "      <th></th>\n",
       "      <th>Age</th>\n",
       "      <th>Survived</th>\n",
       "      <th>SexCode</th>\n",
       "    </tr>\n",
       "  </thead>\n",
       "  <tbody>\n",
       "    <tr>\n",
       "      <th>count</th>\n",
       "      <td>756.000000</td>\n",
       "      <td>1313.000000</td>\n",
       "      <td>1313.000000</td>\n",
       "    </tr>\n",
       "    <tr>\n",
       "      <th>mean</th>\n",
       "      <td>30.397989</td>\n",
       "      <td>0.342727</td>\n",
       "      <td>0.351866</td>\n",
       "    </tr>\n",
       "    <tr>\n",
       "      <th>std</th>\n",
       "      <td>14.259049</td>\n",
       "      <td>0.474802</td>\n",
       "      <td>0.477734</td>\n",
       "    </tr>\n",
       "    <tr>\n",
       "      <th>min</th>\n",
       "      <td>0.170000</td>\n",
       "      <td>0.000000</td>\n",
       "      <td>0.000000</td>\n",
       "    </tr>\n",
       "    <tr>\n",
       "      <th>25%</th>\n",
       "      <td>21.000000</td>\n",
       "      <td>0.000000</td>\n",
       "      <td>0.000000</td>\n",
       "    </tr>\n",
       "    <tr>\n",
       "      <th>50%</th>\n",
       "      <td>28.000000</td>\n",
       "      <td>0.000000</td>\n",
       "      <td>0.000000</td>\n",
       "    </tr>\n",
       "    <tr>\n",
       "      <th>75%</th>\n",
       "      <td>39.000000</td>\n",
       "      <td>1.000000</td>\n",
       "      <td>1.000000</td>\n",
       "    </tr>\n",
       "    <tr>\n",
       "      <th>max</th>\n",
       "      <td>71.000000</td>\n",
       "      <td>1.000000</td>\n",
       "      <td>1.000000</td>\n",
       "    </tr>\n",
       "  </tbody>\n",
       "</table>\n",
       "</div>"
      ],
      "text/plain": [
       "              Age     Survived      SexCode\n",
       "count  756.000000  1313.000000  1313.000000\n",
       "mean    30.397989     0.342727     0.351866\n",
       "std     14.259049     0.474802     0.477734\n",
       "min      0.170000     0.000000     0.000000\n",
       "25%     21.000000     0.000000     0.000000\n",
       "50%     28.000000     0.000000     0.000000\n",
       "75%     39.000000     1.000000     1.000000\n",
       "max     71.000000     1.000000     1.000000"
      ]
     },
     "execution_count": 12,
     "metadata": {},
     "output_type": "execute_result"
    }
   ],
   "source": [
    "dataframe.describe()"
   ]
  },
  {
   "cell_type": "markdown",
   "id": "a48c6f1a",
   "metadata": {},
   "source": [
    "## 3.3 Navigating DataFrames "
   ]
  },
  {
   "cell_type": "code",
   "execution_count": 13,
   "id": "9fff3caa",
   "metadata": {
    "ExecuteTime": {
     "end_time": "2021-04-22T20:02:35.967060Z",
     "start_time": "2021-04-22T20:02:35.945094Z"
    }
   },
   "outputs": [
    {
     "data": {
      "text/plain": [
       "Name        Allen, Miss Elisabeth Walton\n",
       "PClass                               1st\n",
       "Age                                 29.0\n",
       "Sex                               female\n",
       "Survived                               1\n",
       "SexCode                                1\n",
       "Name: 0, dtype: object"
      ]
     },
     "execution_count": 13,
     "metadata": {},
     "output_type": "execute_result"
    }
   ],
   "source": [
    "dataframe.iloc[0]"
   ]
  },
  {
   "cell_type": "code",
   "execution_count": 14,
   "id": "3abaffde",
   "metadata": {
    "ExecuteTime": {
     "end_time": "2021-04-22T20:02:49.146127Z",
     "start_time": "2021-04-22T20:02:49.121195Z"
    }
   },
   "outputs": [
    {
     "data": {
      "text/html": [
       "<div>\n",
       "<style scoped>\n",
       "    .dataframe tbody tr th:only-of-type {\n",
       "        vertical-align: middle;\n",
       "    }\n",
       "\n",
       "    .dataframe tbody tr th {\n",
       "        vertical-align: top;\n",
       "    }\n",
       "\n",
       "    .dataframe thead th {\n",
       "        text-align: right;\n",
       "    }\n",
       "</style>\n",
       "<table border=\"1\" class=\"dataframe\">\n",
       "  <thead>\n",
       "    <tr style=\"text-align: right;\">\n",
       "      <th></th>\n",
       "      <th>Name</th>\n",
       "      <th>PClass</th>\n",
       "      <th>Age</th>\n",
       "      <th>Sex</th>\n",
       "      <th>Survived</th>\n",
       "      <th>SexCode</th>\n",
       "    </tr>\n",
       "  </thead>\n",
       "  <tbody>\n",
       "    <tr>\n",
       "      <th>1</th>\n",
       "      <td>Allison, Miss Helen Loraine</td>\n",
       "      <td>1st</td>\n",
       "      <td>2.0</td>\n",
       "      <td>female</td>\n",
       "      <td>0</td>\n",
       "      <td>1</td>\n",
       "    </tr>\n",
       "    <tr>\n",
       "      <th>2</th>\n",
       "      <td>Allison, Mr Hudson Joshua Creighton</td>\n",
       "      <td>1st</td>\n",
       "      <td>30.0</td>\n",
       "      <td>male</td>\n",
       "      <td>0</td>\n",
       "      <td>0</td>\n",
       "    </tr>\n",
       "    <tr>\n",
       "      <th>3</th>\n",
       "      <td>Allison, Mrs Hudson JC (Bessie Waldo Daniels)</td>\n",
       "      <td>1st</td>\n",
       "      <td>25.0</td>\n",
       "      <td>female</td>\n",
       "      <td>0</td>\n",
       "      <td>1</td>\n",
       "    </tr>\n",
       "  </tbody>\n",
       "</table>\n",
       "</div>"
      ],
      "text/plain": [
       "                                            Name PClass   Age     Sex  \\\n",
       "1                    Allison, Miss Helen Loraine    1st   2.0  female   \n",
       "2            Allison, Mr Hudson Joshua Creighton    1st  30.0    male   \n",
       "3  Allison, Mrs Hudson JC (Bessie Waldo Daniels)    1st  25.0  female   \n",
       "\n",
       "   Survived  SexCode  \n",
       "1         0        1  \n",
       "2         0        0  \n",
       "3         0        1  "
      ]
     },
     "execution_count": 14,
     "metadata": {},
     "output_type": "execute_result"
    }
   ],
   "source": [
    "dataframe.iloc[1:4]"
   ]
  },
  {
   "cell_type": "code",
   "execution_count": 15,
   "id": "a88598a9",
   "metadata": {
    "ExecuteTime": {
     "end_time": "2021-04-22T20:03:00.288160Z",
     "start_time": "2021-04-22T20:03:00.270208Z"
    }
   },
   "outputs": [
    {
     "data": {
      "text/html": [
       "<div>\n",
       "<style scoped>\n",
       "    .dataframe tbody tr th:only-of-type {\n",
       "        vertical-align: middle;\n",
       "    }\n",
       "\n",
       "    .dataframe tbody tr th {\n",
       "        vertical-align: top;\n",
       "    }\n",
       "\n",
       "    .dataframe thead th {\n",
       "        text-align: right;\n",
       "    }\n",
       "</style>\n",
       "<table border=\"1\" class=\"dataframe\">\n",
       "  <thead>\n",
       "    <tr style=\"text-align: right;\">\n",
       "      <th></th>\n",
       "      <th>Name</th>\n",
       "      <th>PClass</th>\n",
       "      <th>Age</th>\n",
       "      <th>Sex</th>\n",
       "      <th>Survived</th>\n",
       "      <th>SexCode</th>\n",
       "    </tr>\n",
       "  </thead>\n",
       "  <tbody>\n",
       "    <tr>\n",
       "      <th>0</th>\n",
       "      <td>Allen, Miss Elisabeth Walton</td>\n",
       "      <td>1st</td>\n",
       "      <td>29.0</td>\n",
       "      <td>female</td>\n",
       "      <td>1</td>\n",
       "      <td>1</td>\n",
       "    </tr>\n",
       "    <tr>\n",
       "      <th>1</th>\n",
       "      <td>Allison, Miss Helen Loraine</td>\n",
       "      <td>1st</td>\n",
       "      <td>2.0</td>\n",
       "      <td>female</td>\n",
       "      <td>0</td>\n",
       "      <td>1</td>\n",
       "    </tr>\n",
       "    <tr>\n",
       "      <th>2</th>\n",
       "      <td>Allison, Mr Hudson Joshua Creighton</td>\n",
       "      <td>1st</td>\n",
       "      <td>30.0</td>\n",
       "      <td>male</td>\n",
       "      <td>0</td>\n",
       "      <td>0</td>\n",
       "    </tr>\n",
       "    <tr>\n",
       "      <th>3</th>\n",
       "      <td>Allison, Mrs Hudson JC (Bessie Waldo Daniels)</td>\n",
       "      <td>1st</td>\n",
       "      <td>25.0</td>\n",
       "      <td>female</td>\n",
       "      <td>0</td>\n",
       "      <td>1</td>\n",
       "    </tr>\n",
       "  </tbody>\n",
       "</table>\n",
       "</div>"
      ],
      "text/plain": [
       "                                            Name PClass   Age     Sex  \\\n",
       "0                   Allen, Miss Elisabeth Walton    1st  29.0  female   \n",
       "1                    Allison, Miss Helen Loraine    1st   2.0  female   \n",
       "2            Allison, Mr Hudson Joshua Creighton    1st  30.0    male   \n",
       "3  Allison, Mrs Hudson JC (Bessie Waldo Daniels)    1st  25.0  female   \n",
       "\n",
       "   Survived  SexCode  \n",
       "0         1        1  \n",
       "1         0        1  \n",
       "2         0        0  \n",
       "3         0        1  "
      ]
     },
     "execution_count": 15,
     "metadata": {},
     "output_type": "execute_result"
    }
   ],
   "source": [
    "dataframe[:4]"
   ]
  },
  {
   "cell_type": "code",
   "execution_count": 16,
   "id": "1799cd41",
   "metadata": {
    "ExecuteTime": {
     "end_time": "2021-04-22T20:04:10.902716Z",
     "start_time": "2021-04-22T20:04:10.883737Z"
    }
   },
   "outputs": [
    {
     "data": {
      "text/plain": [
       "Name        Allen, Miss Elisabeth Walton\n",
       "PClass                               1st\n",
       "Age                                 29.0\n",
       "Sex                               female\n",
       "Survived                               1\n",
       "SexCode                                1\n",
       "Name: Allen, Miss Elisabeth Walton, dtype: object"
      ]
     },
     "execution_count": 16,
     "metadata": {},
     "output_type": "execute_result"
    }
   ],
   "source": [
    "# we can set a string to index\n",
    "dataframe = dataframe.set_index(dataframe['Name'])\n",
    "dataframe.loc['Allen, Miss Elisabeth Walton']"
   ]
  },
  {
   "cell_type": "markdown",
   "id": "f148f09f",
   "metadata": {},
   "source": [
    "## 3.4 Selecting Rows Based on Conditionals"
   ]
  },
  {
   "cell_type": "code",
   "execution_count": 17,
   "id": "925d8c76",
   "metadata": {
    "ExecuteTime": {
     "end_time": "2021-04-22T20:05:10.528776Z",
     "start_time": "2021-04-22T20:05:10.497832Z"
    }
   },
   "outputs": [
    {
     "data": {
      "text/html": [
       "<div>\n",
       "<style scoped>\n",
       "    .dataframe tbody tr th:only-of-type {\n",
       "        vertical-align: middle;\n",
       "    }\n",
       "\n",
       "    .dataframe tbody tr th {\n",
       "        vertical-align: top;\n",
       "    }\n",
       "\n",
       "    .dataframe thead th {\n",
       "        text-align: right;\n",
       "    }\n",
       "</style>\n",
       "<table border=\"1\" class=\"dataframe\">\n",
       "  <thead>\n",
       "    <tr style=\"text-align: right;\">\n",
       "      <th></th>\n",
       "      <th>Name</th>\n",
       "      <th>PClass</th>\n",
       "      <th>Age</th>\n",
       "      <th>Sex</th>\n",
       "      <th>Survived</th>\n",
       "      <th>SexCode</th>\n",
       "    </tr>\n",
       "    <tr>\n",
       "      <th>Name</th>\n",
       "      <th></th>\n",
       "      <th></th>\n",
       "      <th></th>\n",
       "      <th></th>\n",
       "      <th></th>\n",
       "      <th></th>\n",
       "    </tr>\n",
       "  </thead>\n",
       "  <tbody>\n",
       "    <tr>\n",
       "      <th>Allen, Miss Elisabeth Walton</th>\n",
       "      <td>Allen, Miss Elisabeth Walton</td>\n",
       "      <td>1st</td>\n",
       "      <td>29.0</td>\n",
       "      <td>female</td>\n",
       "      <td>1</td>\n",
       "      <td>1</td>\n",
       "    </tr>\n",
       "    <tr>\n",
       "      <th>Allison, Miss Helen Loraine</th>\n",
       "      <td>Allison, Miss Helen Loraine</td>\n",
       "      <td>1st</td>\n",
       "      <td>2.0</td>\n",
       "      <td>female</td>\n",
       "      <td>0</td>\n",
       "      <td>1</td>\n",
       "    </tr>\n",
       "    <tr>\n",
       "      <th>Allison, Mrs Hudson JC (Bessie Waldo Daniels)</th>\n",
       "      <td>Allison, Mrs Hudson JC (Bessie Waldo Daniels)</td>\n",
       "      <td>1st</td>\n",
       "      <td>25.0</td>\n",
       "      <td>female</td>\n",
       "      <td>0</td>\n",
       "      <td>1</td>\n",
       "    </tr>\n",
       "    <tr>\n",
       "      <th>Andrews, Miss Kornelia Theodosia</th>\n",
       "      <td>Andrews, Miss Kornelia Theodosia</td>\n",
       "      <td>1st</td>\n",
       "      <td>63.0</td>\n",
       "      <td>female</td>\n",
       "      <td>1</td>\n",
       "      <td>1</td>\n",
       "    </tr>\n",
       "    <tr>\n",
       "      <th>Appleton, Mrs Edward Dale (Charlotte Lamson)</th>\n",
       "      <td>Appleton, Mrs Edward Dale (Charlotte Lamson)</td>\n",
       "      <td>1st</td>\n",
       "      <td>58.0</td>\n",
       "      <td>female</td>\n",
       "      <td>1</td>\n",
       "      <td>1</td>\n",
       "    </tr>\n",
       "  </tbody>\n",
       "</table>\n",
       "</div>"
      ],
      "text/plain": [
       "                                                                                        Name  \\\n",
       "Name                                                                                           \n",
       "Allen, Miss Elisabeth Walton                                    Allen, Miss Elisabeth Walton   \n",
       "Allison, Miss Helen Loraine                                      Allison, Miss Helen Loraine   \n",
       "Allison, Mrs Hudson JC (Bessie Waldo Daniels)  Allison, Mrs Hudson JC (Bessie Waldo Daniels)   \n",
       "Andrews, Miss Kornelia Theodosia                            Andrews, Miss Kornelia Theodosia   \n",
       "Appleton, Mrs Edward Dale (Charlotte Lamson)    Appleton, Mrs Edward Dale (Charlotte Lamson)   \n",
       "\n",
       "                                              PClass   Age     Sex  Survived  \\\n",
       "Name                                                                           \n",
       "Allen, Miss Elisabeth Walton                     1st  29.0  female         1   \n",
       "Allison, Miss Helen Loraine                      1st   2.0  female         0   \n",
       "Allison, Mrs Hudson JC (Bessie Waldo Daniels)    1st  25.0  female         0   \n",
       "Andrews, Miss Kornelia Theodosia                 1st  63.0  female         1   \n",
       "Appleton, Mrs Edward Dale (Charlotte Lamson)     1st  58.0  female         1   \n",
       "\n",
       "                                               SexCode  \n",
       "Name                                                    \n",
       "Allen, Miss Elisabeth Walton                         1  \n",
       "Allison, Miss Helen Loraine                          1  \n",
       "Allison, Mrs Hudson JC (Bessie Waldo Daniels)        1  \n",
       "Andrews, Miss Kornelia Theodosia                     1  \n",
       "Appleton, Mrs Edward Dale (Charlotte Lamson)         1  "
      ]
     },
     "execution_count": 17,
     "metadata": {},
     "output_type": "execute_result"
    }
   ],
   "source": [
    "dataframe[dataframe['Sex'] == 'female'].head()"
   ]
  },
  {
   "cell_type": "code",
   "execution_count": 19,
   "id": "94abe1f6",
   "metadata": {
    "ExecuteTime": {
     "end_time": "2021-04-22T20:06:07.576898Z",
     "start_time": "2021-04-22T20:06:07.547009Z"
    }
   },
   "outputs": [
    {
     "data": {
      "text/html": [
       "<div>\n",
       "<style scoped>\n",
       "    .dataframe tbody tr th:only-of-type {\n",
       "        vertical-align: middle;\n",
       "    }\n",
       "\n",
       "    .dataframe tbody tr th {\n",
       "        vertical-align: top;\n",
       "    }\n",
       "\n",
       "    .dataframe thead th {\n",
       "        text-align: right;\n",
       "    }\n",
       "</style>\n",
       "<table border=\"1\" class=\"dataframe\">\n",
       "  <thead>\n",
       "    <tr style=\"text-align: right;\">\n",
       "      <th></th>\n",
       "      <th>Name</th>\n",
       "      <th>PClass</th>\n",
       "      <th>Age</th>\n",
       "      <th>Sex</th>\n",
       "      <th>Survived</th>\n",
       "      <th>SexCode</th>\n",
       "    </tr>\n",
       "    <tr>\n",
       "      <th>Name</th>\n",
       "      <th></th>\n",
       "      <th></th>\n",
       "      <th></th>\n",
       "      <th></th>\n",
       "      <th></th>\n",
       "      <th></th>\n",
       "    </tr>\n",
       "  </thead>\n",
       "  <tbody>\n",
       "    <tr>\n",
       "      <th>Crosby, Mrs Edward Gifford (Catherine Elizabeth Halstead)</th>\n",
       "      <td>Crosby, Mrs Edward Gifford (Catherine Elizabet...</td>\n",
       "      <td>1st</td>\n",
       "      <td>69.0</td>\n",
       "      <td>female</td>\n",
       "      <td>1</td>\n",
       "      <td>1</td>\n",
       "    </tr>\n",
       "  </tbody>\n",
       "</table>\n",
       "</div>"
      ],
      "text/plain": [
       "                                                                                                 Name  \\\n",
       "Name                                                                                                    \n",
       "Crosby, Mrs Edward Gifford (Catherine Elizabeth...  Crosby, Mrs Edward Gifford (Catherine Elizabet...   \n",
       "\n",
       "                                                   PClass   Age     Sex  \\\n",
       "Name                                                                      \n",
       "Crosby, Mrs Edward Gifford (Catherine Elizabeth...    1st  69.0  female   \n",
       "\n",
       "                                                    Survived  SexCode  \n",
       "Name                                                                   \n",
       "Crosby, Mrs Edward Gifford (Catherine Elizabeth...         1        1  "
      ]
     },
     "execution_count": 19,
     "metadata": {},
     "output_type": "execute_result"
    }
   ],
   "source": [
    "dataframe[(dataframe['Sex'] == 'female') & (dataframe['Age'] >= 65)]"
   ]
  },
  {
   "cell_type": "markdown",
   "id": "8c468da0",
   "metadata": {},
   "source": [
    "## 3.5 Replacing Values"
   ]
  },
  {
   "cell_type": "code",
   "execution_count": 20,
   "id": "f636c0bb",
   "metadata": {
    "ExecuteTime": {
     "end_time": "2021-04-22T20:06:54.473634Z",
     "start_time": "2021-04-22T20:06:54.461668Z"
    }
   },
   "outputs": [
    {
     "data": {
      "text/plain": [
       "Name\n",
       "Allen, Miss Elisabeth Walton    Woman\n",
       "Allison, Miss Helen Loraine     Woman\n",
       "Name: Sex, dtype: object"
      ]
     },
     "execution_count": 20,
     "metadata": {},
     "output_type": "execute_result"
    }
   ],
   "source": [
    "dataframe['Sex'].replace('female', 'Woman').head(2)"
   ]
  },
  {
   "cell_type": "code",
   "execution_count": 21,
   "id": "07547ce8",
   "metadata": {
    "ExecuteTime": {
     "end_time": "2021-04-22T20:07:51.933295Z",
     "start_time": "2021-04-22T20:07:51.912379Z"
    }
   },
   "outputs": [
    {
     "data": {
      "text/plain": [
       "Name\n",
       "Allen, Miss Elisabeth Walton                     woman\n",
       "Allison, Miss Helen Loraine                      woman\n",
       "Allison, Mr Hudson Joshua Creighton                man\n",
       "Allison, Mrs Hudson JC (Bessie Waldo Daniels)    woman\n",
       "Allison, Master Hudson Trevor                      man\n",
       "Name: Sex, dtype: object"
      ]
     },
     "execution_count": 21,
     "metadata": {},
     "output_type": "execute_result"
    }
   ],
   "source": [
    "dataframe['Sex'].replace(['female', 'male'],['woman', 'man']).head()\n"
   ]
  },
  {
   "cell_type": "code",
   "execution_count": 22,
   "id": "8eb4a31b",
   "metadata": {
    "ExecuteTime": {
     "end_time": "2021-04-22T20:08:40.329352Z",
     "start_time": "2021-04-22T20:08:40.300403Z"
    }
   },
   "outputs": [
    {
     "data": {
      "text/html": [
       "<div>\n",
       "<style scoped>\n",
       "    .dataframe tbody tr th:only-of-type {\n",
       "        vertical-align: middle;\n",
       "    }\n",
       "\n",
       "    .dataframe tbody tr th {\n",
       "        vertical-align: top;\n",
       "    }\n",
       "\n",
       "    .dataframe thead th {\n",
       "        text-align: right;\n",
       "    }\n",
       "</style>\n",
       "<table border=\"1\" class=\"dataframe\">\n",
       "  <thead>\n",
       "    <tr style=\"text-align: right;\">\n",
       "      <th></th>\n",
       "      <th>Name</th>\n",
       "      <th>PClass</th>\n",
       "      <th>Age</th>\n",
       "      <th>Sex</th>\n",
       "      <th>Survived</th>\n",
       "      <th>SexCode</th>\n",
       "    </tr>\n",
       "    <tr>\n",
       "      <th>Name</th>\n",
       "      <th></th>\n",
       "      <th></th>\n",
       "      <th></th>\n",
       "      <th></th>\n",
       "      <th></th>\n",
       "      <th></th>\n",
       "    </tr>\n",
       "  </thead>\n",
       "  <tbody>\n",
       "    <tr>\n",
       "      <th>Allen, Miss Elisabeth Walton</th>\n",
       "      <td>Allen, Miss Elisabeth Walton</td>\n",
       "      <td>1st</td>\n",
       "      <td>29.0</td>\n",
       "      <td>female</td>\n",
       "      <td>One</td>\n",
       "      <td>One</td>\n",
       "    </tr>\n",
       "    <tr>\n",
       "      <th>Allison, Miss Helen Loraine</th>\n",
       "      <td>Allison, Miss Helen Loraine</td>\n",
       "      <td>1st</td>\n",
       "      <td>2.0</td>\n",
       "      <td>female</td>\n",
       "      <td>0</td>\n",
       "      <td>One</td>\n",
       "    </tr>\n",
       "  </tbody>\n",
       "</table>\n",
       "</div>"
      ],
      "text/plain": [
       "                                                      Name PClass   Age  \\\n",
       "Name                                                                      \n",
       "Allen, Miss Elisabeth Walton  Allen, Miss Elisabeth Walton    1st  29.0   \n",
       "Allison, Miss Helen Loraine    Allison, Miss Helen Loraine    1st   2.0   \n",
       "\n",
       "                                 Sex Survived SexCode  \n",
       "Name                                                   \n",
       "Allen, Miss Elisabeth Walton  female      One     One  \n",
       "Allison, Miss Helen Loraine   female        0     One  "
      ]
     },
     "execution_count": 22,
     "metadata": {},
     "output_type": "execute_result"
    }
   ],
   "source": [
    "dataframe.replace(1, 'One').head(2)"
   ]
  },
  {
   "cell_type": "code",
   "execution_count": 23,
   "id": "38bb7a11",
   "metadata": {
    "ExecuteTime": {
     "end_time": "2021-04-22T20:09:23.948851Z",
     "start_time": "2021-04-22T20:09:23.925913Z"
    }
   },
   "outputs": [
    {
     "data": {
      "text/html": [
       "<div>\n",
       "<style scoped>\n",
       "    .dataframe tbody tr th:only-of-type {\n",
       "        vertical-align: middle;\n",
       "    }\n",
       "\n",
       "    .dataframe tbody tr th {\n",
       "        vertical-align: top;\n",
       "    }\n",
       "\n",
       "    .dataframe thead th {\n",
       "        text-align: right;\n",
       "    }\n",
       "</style>\n",
       "<table border=\"1\" class=\"dataframe\">\n",
       "  <thead>\n",
       "    <tr style=\"text-align: right;\">\n",
       "      <th></th>\n",
       "      <th>Name</th>\n",
       "      <th>PClass</th>\n",
       "      <th>Age</th>\n",
       "      <th>Sex</th>\n",
       "      <th>Survived</th>\n",
       "      <th>SexCode</th>\n",
       "    </tr>\n",
       "    <tr>\n",
       "      <th>Name</th>\n",
       "      <th></th>\n",
       "      <th></th>\n",
       "      <th></th>\n",
       "      <th></th>\n",
       "      <th></th>\n",
       "      <th></th>\n",
       "    </tr>\n",
       "  </thead>\n",
       "  <tbody>\n",
       "    <tr>\n",
       "      <th>Allen, Miss Elisabeth Walton</th>\n",
       "      <td>Allen, Miss Elisabeth Walton</td>\n",
       "      <td>First</td>\n",
       "      <td>29.0</td>\n",
       "      <td>female</td>\n",
       "      <td>1</td>\n",
       "      <td>1</td>\n",
       "    </tr>\n",
       "    <tr>\n",
       "      <th>Allison, Miss Helen Loraine</th>\n",
       "      <td>Allison, Miss Helen Loraine</td>\n",
       "      <td>First</td>\n",
       "      <td>2.0</td>\n",
       "      <td>female</td>\n",
       "      <td>0</td>\n",
       "      <td>1</td>\n",
       "    </tr>\n",
       "  </tbody>\n",
       "</table>\n",
       "</div>"
      ],
      "text/plain": [
       "                                                      Name PClass   Age  \\\n",
       "Name                                                                      \n",
       "Allen, Miss Elisabeth Walton  Allen, Miss Elisabeth Walton  First  29.0   \n",
       "Allison, Miss Helen Loraine    Allison, Miss Helen Loraine  First   2.0   \n",
       "\n",
       "                                 Sex  Survived  SexCode  \n",
       "Name                                                     \n",
       "Allen, Miss Elisabeth Walton  female         1        1  \n",
       "Allison, Miss Helen Loraine   female         0        1  "
      ]
     },
     "execution_count": 23,
     "metadata": {},
     "output_type": "execute_result"
    }
   ],
   "source": [
    "# also accepts regular expressions\n",
    "dataframe.replace(r\"1st\", \"First\", regex = True).head(2)"
   ]
  },
  {
   "cell_type": "markdown",
   "id": "e5d20594",
   "metadata": {},
   "source": [
    "## 3.6 Renaming Columns "
   ]
  },
  {
   "cell_type": "code",
   "execution_count": 26,
   "id": "c2a0baaa",
   "metadata": {
    "ExecuteTime": {
     "end_time": "2021-04-22T20:13:02.261402Z",
     "start_time": "2021-04-22T20:13:02.238469Z"
    }
   },
   "outputs": [
    {
     "data": {
      "text/html": [
       "<div>\n",
       "<style scoped>\n",
       "    .dataframe tbody tr th:only-of-type {\n",
       "        vertical-align: middle;\n",
       "    }\n",
       "\n",
       "    .dataframe tbody tr th {\n",
       "        vertical-align: top;\n",
       "    }\n",
       "\n",
       "    .dataframe thead th {\n",
       "        text-align: right;\n",
       "    }\n",
       "</style>\n",
       "<table border=\"1\" class=\"dataframe\">\n",
       "  <thead>\n",
       "    <tr style=\"text-align: right;\">\n",
       "      <th></th>\n",
       "      <th>Name</th>\n",
       "      <th>Passenger Class</th>\n",
       "      <th>Age</th>\n",
       "      <th>Sex</th>\n",
       "      <th>Survived</th>\n",
       "      <th>SexCode</th>\n",
       "    </tr>\n",
       "    <tr>\n",
       "      <th>Name</th>\n",
       "      <th></th>\n",
       "      <th></th>\n",
       "      <th></th>\n",
       "      <th></th>\n",
       "      <th></th>\n",
       "      <th></th>\n",
       "    </tr>\n",
       "  </thead>\n",
       "  <tbody>\n",
       "    <tr>\n",
       "      <th>Allen, Miss Elisabeth Walton</th>\n",
       "      <td>Allen, Miss Elisabeth Walton</td>\n",
       "      <td>1st</td>\n",
       "      <td>29.0</td>\n",
       "      <td>female</td>\n",
       "      <td>1</td>\n",
       "      <td>1</td>\n",
       "    </tr>\n",
       "    <tr>\n",
       "      <th>Allison, Miss Helen Loraine</th>\n",
       "      <td>Allison, Miss Helen Loraine</td>\n",
       "      <td>1st</td>\n",
       "      <td>2.0</td>\n",
       "      <td>female</td>\n",
       "      <td>0</td>\n",
       "      <td>1</td>\n",
       "    </tr>\n",
       "  </tbody>\n",
       "</table>\n",
       "</div>"
      ],
      "text/plain": [
       "                                                      Name Passenger Class  \\\n",
       "Name                                                                         \n",
       "Allen, Miss Elisabeth Walton  Allen, Miss Elisabeth Walton             1st   \n",
       "Allison, Miss Helen Loraine    Allison, Miss Helen Loraine             1st   \n",
       "\n",
       "                               Age     Sex  Survived  SexCode  \n",
       "Name                                                           \n",
       "Allen, Miss Elisabeth Walton  29.0  female         1        1  \n",
       "Allison, Miss Helen Loraine    2.0  female         0        1  "
      ]
     },
     "execution_count": 26,
     "metadata": {},
     "output_type": "execute_result"
    }
   ],
   "source": [
    "dataframe.rename(columns = {'PClass': 'Passenger Class'}).head(2)"
   ]
  },
  {
   "cell_type": "code",
   "execution_count": 27,
   "id": "1f9e5b7a",
   "metadata": {
    "ExecuteTime": {
     "end_time": "2021-04-22T20:13:02.781011Z",
     "start_time": "2021-04-22T20:13:02.758073Z"
    }
   },
   "outputs": [
    {
     "data": {
      "text/html": [
       "<div>\n",
       "<style scoped>\n",
       "    .dataframe tbody tr th:only-of-type {\n",
       "        vertical-align: middle;\n",
       "    }\n",
       "\n",
       "    .dataframe tbody tr th {\n",
       "        vertical-align: top;\n",
       "    }\n",
       "\n",
       "    .dataframe thead th {\n",
       "        text-align: right;\n",
       "    }\n",
       "</style>\n",
       "<table border=\"1\" class=\"dataframe\">\n",
       "  <thead>\n",
       "    <tr style=\"text-align: right;\">\n",
       "      <th></th>\n",
       "      <th>Name</th>\n",
       "      <th>Passenger Class</th>\n",
       "      <th>Age</th>\n",
       "      <th>Gender</th>\n",
       "      <th>Survived</th>\n",
       "      <th>SexCode</th>\n",
       "    </tr>\n",
       "    <tr>\n",
       "      <th>Name</th>\n",
       "      <th></th>\n",
       "      <th></th>\n",
       "      <th></th>\n",
       "      <th></th>\n",
       "      <th></th>\n",
       "      <th></th>\n",
       "    </tr>\n",
       "  </thead>\n",
       "  <tbody>\n",
       "    <tr>\n",
       "      <th>Allen, Miss Elisabeth Walton</th>\n",
       "      <td>Allen, Miss Elisabeth Walton</td>\n",
       "      <td>1st</td>\n",
       "      <td>29.0</td>\n",
       "      <td>female</td>\n",
       "      <td>1</td>\n",
       "      <td>1</td>\n",
       "    </tr>\n",
       "    <tr>\n",
       "      <th>Allison, Miss Helen Loraine</th>\n",
       "      <td>Allison, Miss Helen Loraine</td>\n",
       "      <td>1st</td>\n",
       "      <td>2.0</td>\n",
       "      <td>female</td>\n",
       "      <td>0</td>\n",
       "      <td>1</td>\n",
       "    </tr>\n",
       "  </tbody>\n",
       "</table>\n",
       "</div>"
      ],
      "text/plain": [
       "                                                      Name Passenger Class  \\\n",
       "Name                                                                         \n",
       "Allen, Miss Elisabeth Walton  Allen, Miss Elisabeth Walton             1st   \n",
       "Allison, Miss Helen Loraine    Allison, Miss Helen Loraine             1st   \n",
       "\n",
       "                               Age  Gender  Survived  SexCode  \n",
       "Name                                                           \n",
       "Allen, Miss Elisabeth Walton  29.0  female         1        1  \n",
       "Allison, Miss Helen Loraine    2.0  female         0        1  "
      ]
     },
     "execution_count": 27,
     "metadata": {},
     "output_type": "execute_result"
    }
   ],
   "source": [
    "dataframe.rename(columns = {'PClass': 'Passenger Class', 'Sex':'Gender'}).head(2)"
   ]
  },
  {
   "cell_type": "code",
   "execution_count": 30,
   "id": "04701d7f",
   "metadata": {
    "ExecuteTime": {
     "end_time": "2021-04-22T20:14:27.875700Z",
     "start_time": "2021-04-22T20:14:27.854757Z"
    }
   },
   "outputs": [
    {
     "data": {
      "text/plain": [
       "defaultdict(str,\n",
       "            {'Name': '',\n",
       "             'PClass': '',\n",
       "             'Age': '',\n",
       "             'Sex': '',\n",
       "             'Survived': '',\n",
       "             'SexCode': ''})"
      ]
     },
     "execution_count": 30,
     "metadata": {},
     "output_type": "execute_result"
    }
   ],
   "source": [
    "columns_names = collections.defaultdict(str)\n",
    "\n",
    "for name in dataframe.columns:\n",
    "    columns_names[name]\n",
    "    \n",
    "columns_names"
   ]
  },
  {
   "cell_type": "markdown",
   "id": "9d497091",
   "metadata": {},
   "source": [
    "## 3.7 Finding the Minimum, Maximum, Sum, Average, and Count "
   ]
  },
  {
   "cell_type": "code",
   "execution_count": 4,
   "id": "0ca94949",
   "metadata": {
    "ExecuteTime": {
     "end_time": "2021-04-23T12:23:47.047068Z",
     "start_time": "2021-04-23T12:23:47.033107Z"
    }
   },
   "outputs": [
    {
     "name": "stdout",
     "output_type": "stream",
     "text": [
      "Maximum: 71.0\n",
      "Minimum: 0.17\n",
      "Mean: 30.397989417989418\n",
      "Sum: 22980.88\n",
      "Count: 756\n"
     ]
    }
   ],
   "source": [
    "print('Maximum:', dataframe['Age'].max())\n",
    "print('Minimum:', dataframe['Age'].min())\n",
    "print('Mean:', dataframe['Age'].mean())\n",
    "print('Sum:', dataframe['Age'].sum())\n",
    "print('Count:', dataframe['Age'].count())"
   ]
  },
  {
   "cell_type": "code",
   "execution_count": 7,
   "id": "8bc295bd",
   "metadata": {
    "ExecuteTime": {
     "end_time": "2021-04-23T12:24:28.684753Z",
     "start_time": "2021-04-23T12:24:28.660819Z"
    }
   },
   "outputs": [
    {
     "data": {
      "text/plain": [
       "Name        1313\n",
       "PClass      1313\n",
       "Age          756\n",
       "Sex         1313\n",
       "Survived    1313\n",
       "SexCode     1313\n",
       "dtype: int64"
      ]
     },
     "execution_count": 7,
     "metadata": {},
     "output_type": "execute_result"
    }
   ],
   "source": [
    "dataframe.count()"
   ]
  },
  {
   "cell_type": "code",
   "execution_count": 10,
   "id": "3d8d3b83",
   "metadata": {
    "ExecuteTime": {
     "end_time": "2021-04-23T12:26:32.278157Z",
     "start_time": "2021-04-23T12:26:32.250233Z"
    }
   },
   "outputs": [
    {
     "name": "stdout",
     "output_type": "stream",
     "text": [
      "Var: 203.32047012439116\n",
      "Standard Deviation: 14.259048710359018\n",
      "Kurtosis: -0.036536168924722556\n",
      "Skewness: 0.36851087371648295\n",
      "Sem: 0.5185965877244655\n",
      "Median: 28.0\n",
      "Mode: 0    22.0\n",
      "dtype: float64\n"
     ]
    }
   ],
   "source": [
    "print('Var:', dataframe['Age'].var())\n",
    "print('Standard Deviation:', dataframe['Age'].std())\n",
    "print('Kurtosis:', dataframe['Age'].kurt())\n",
    "print('Skewness:', dataframe['Age'].skew())\n",
    "print('Sem:', dataframe['Age'].sem())\n",
    "print('Median:', dataframe['Age'].median())\n",
    "print('Mode:', dataframe['Age'].mode())"
   ]
  },
  {
   "cell_type": "markdown",
   "id": "8df555b9",
   "metadata": {},
   "source": [
    "## 3.8 Finding Unique Values "
   ]
  },
  {
   "cell_type": "code",
   "execution_count": 12,
   "id": "f8b08266",
   "metadata": {
    "ExecuteTime": {
     "end_time": "2021-04-23T12:27:11.419139Z",
     "start_time": "2021-04-23T12:27:11.399193Z"
    }
   },
   "outputs": [
    {
     "data": {
      "text/plain": [
       "array(['female', 'male'], dtype=object)"
      ]
     },
     "execution_count": 12,
     "metadata": {},
     "output_type": "execute_result"
    }
   ],
   "source": [
    "dataframe['Sex'].unique()"
   ]
  },
  {
   "cell_type": "code",
   "execution_count": 13,
   "id": "5025bb56",
   "metadata": {
    "ExecuteTime": {
     "end_time": "2021-04-23T12:27:31.495813Z",
     "start_time": "2021-04-23T12:27:31.480167Z"
    }
   },
   "outputs": [
    {
     "data": {
      "text/plain": [
       "male      851\n",
       "female    462\n",
       "Name: Sex, dtype: int64"
      ]
     },
     "execution_count": 13,
     "metadata": {},
     "output_type": "execute_result"
    }
   ],
   "source": [
    "dataframe['Sex'].value_counts()"
   ]
  },
  {
   "cell_type": "code",
   "execution_count": 14,
   "id": "4bbc8345",
   "metadata": {
    "ExecuteTime": {
     "end_time": "2021-04-23T12:28:24.506078Z",
     "start_time": "2021-04-23T12:28:24.488098Z"
    }
   },
   "outputs": [
    {
     "data": {
      "text/plain": [
       "3rd    711\n",
       "1st    322\n",
       "2nd    279\n",
       "*        1\n",
       "Name: PClass, dtype: int64"
      ]
     },
     "execution_count": 14,
     "metadata": {},
     "output_type": "execute_result"
    }
   ],
   "source": [
    "dataframe['PClass'].value_counts()"
   ]
  },
  {
   "cell_type": "code",
   "execution_count": 15,
   "id": "a99483a9",
   "metadata": {
    "ExecuteTime": {
     "end_time": "2021-04-23T12:28:36.820402Z",
     "start_time": "2021-04-23T12:28:36.800455Z"
    }
   },
   "outputs": [
    {
     "data": {
      "text/plain": [
       "4"
      ]
     },
     "execution_count": 15,
     "metadata": {},
     "output_type": "execute_result"
    }
   ],
   "source": [
    "dataframe['PClass'].nunique()"
   ]
  },
  {
   "cell_type": "markdown",
   "id": "5c554071",
   "metadata": {},
   "source": [
    "## 3.9  Handling Missing Values"
   ]
  },
  {
   "cell_type": "code",
   "execution_count": 16,
   "id": "9ddc1dfb",
   "metadata": {
    "ExecuteTime": {
     "end_time": "2021-04-23T12:31:53.253884Z",
     "start_time": "2021-04-23T12:31:53.226982Z"
    }
   },
   "outputs": [
    {
     "data": {
      "text/html": [
       "<div>\n",
       "<style scoped>\n",
       "    .dataframe tbody tr th:only-of-type {\n",
       "        vertical-align: middle;\n",
       "    }\n",
       "\n",
       "    .dataframe tbody tr th {\n",
       "        vertical-align: top;\n",
       "    }\n",
       "\n",
       "    .dataframe thead th {\n",
       "        text-align: right;\n",
       "    }\n",
       "</style>\n",
       "<table border=\"1\" class=\"dataframe\">\n",
       "  <thead>\n",
       "    <tr style=\"text-align: right;\">\n",
       "      <th></th>\n",
       "      <th>Name</th>\n",
       "      <th>PClass</th>\n",
       "      <th>Age</th>\n",
       "      <th>Sex</th>\n",
       "      <th>Survived</th>\n",
       "      <th>SexCode</th>\n",
       "    </tr>\n",
       "  </thead>\n",
       "  <tbody>\n",
       "    <tr>\n",
       "      <th>12</th>\n",
       "      <td>Aubert, Mrs Leontine Pauline</td>\n",
       "      <td>1st</td>\n",
       "      <td>NaN</td>\n",
       "      <td>female</td>\n",
       "      <td>1</td>\n",
       "      <td>1</td>\n",
       "    </tr>\n",
       "    <tr>\n",
       "      <th>13</th>\n",
       "      <td>Barkworth, Mr Algernon H</td>\n",
       "      <td>1st</td>\n",
       "      <td>NaN</td>\n",
       "      <td>male</td>\n",
       "      <td>1</td>\n",
       "      <td>0</td>\n",
       "    </tr>\n",
       "    <tr>\n",
       "      <th>14</th>\n",
       "      <td>Baumann, Mr John D</td>\n",
       "      <td>1st</td>\n",
       "      <td>NaN</td>\n",
       "      <td>male</td>\n",
       "      <td>0</td>\n",
       "      <td>0</td>\n",
       "    </tr>\n",
       "    <tr>\n",
       "      <th>29</th>\n",
       "      <td>Borebank, Mr John James</td>\n",
       "      <td>1st</td>\n",
       "      <td>NaN</td>\n",
       "      <td>male</td>\n",
       "      <td>0</td>\n",
       "      <td>0</td>\n",
       "    </tr>\n",
       "    <tr>\n",
       "      <th>32</th>\n",
       "      <td>Bradley, Mr George</td>\n",
       "      <td>1st</td>\n",
       "      <td>NaN</td>\n",
       "      <td>male</td>\n",
       "      <td>1</td>\n",
       "      <td>0</td>\n",
       "    </tr>\n",
       "  </tbody>\n",
       "</table>\n",
       "</div>"
      ],
      "text/plain": [
       "                            Name PClass  Age     Sex  Survived  SexCode\n",
       "12  Aubert, Mrs Leontine Pauline    1st  NaN  female         1        1\n",
       "13      Barkworth, Mr Algernon H    1st  NaN    male         1        0\n",
       "14            Baumann, Mr John D    1st  NaN    male         0        0\n",
       "29       Borebank, Mr John James    1st  NaN    male         0        0\n",
       "32            Bradley, Mr George    1st  NaN    male         1        0"
      ]
     },
     "execution_count": 16,
     "metadata": {},
     "output_type": "execute_result"
    }
   ],
   "source": [
    "dataframe[dataframe['Age'].isnull()].head()"
   ]
  },
  {
   "cell_type": "code",
   "execution_count": 19,
   "id": "97b4166d",
   "metadata": {
    "ExecuteTime": {
     "end_time": "2021-04-23T12:33:23.739827Z",
     "start_time": "2021-04-23T12:33:23.729853Z"
    }
   },
   "outputs": [],
   "source": [
    "dataframe['Sex'] = dataframe.Sex.replace('male', np.nan)"
   ]
  },
  {
   "cell_type": "code",
   "execution_count": 20,
   "id": "9b349042",
   "metadata": {
    "ExecuteTime": {
     "end_time": "2021-04-23T12:33:45.558186Z",
     "start_time": "2021-04-23T12:33:45.543219Z"
    }
   },
   "outputs": [
    {
     "data": {
      "text/html": [
       "<div>\n",
       "<style scoped>\n",
       "    .dataframe tbody tr th:only-of-type {\n",
       "        vertical-align: middle;\n",
       "    }\n",
       "\n",
       "    .dataframe tbody tr th {\n",
       "        vertical-align: top;\n",
       "    }\n",
       "\n",
       "    .dataframe thead th {\n",
       "        text-align: right;\n",
       "    }\n",
       "</style>\n",
       "<table border=\"1\" class=\"dataframe\">\n",
       "  <thead>\n",
       "    <tr style=\"text-align: right;\">\n",
       "      <th></th>\n",
       "      <th>Name</th>\n",
       "      <th>PClass</th>\n",
       "      <th>Age</th>\n",
       "      <th>Sex</th>\n",
       "      <th>Survived</th>\n",
       "      <th>SexCode</th>\n",
       "    </tr>\n",
       "  </thead>\n",
       "  <tbody>\n",
       "    <tr>\n",
       "      <th>12</th>\n",
       "      <td>Aubert, Mrs Leontine Pauline</td>\n",
       "      <td>1st</td>\n",
       "      <td>NaN</td>\n",
       "      <td>female</td>\n",
       "      <td>1</td>\n",
       "      <td>1</td>\n",
       "    </tr>\n",
       "    <tr>\n",
       "      <th>13</th>\n",
       "      <td>Barkworth, Mr Algernon H</td>\n",
       "      <td>1st</td>\n",
       "      <td>NaN</td>\n",
       "      <td>NaN</td>\n",
       "      <td>1</td>\n",
       "      <td>0</td>\n",
       "    </tr>\n",
       "    <tr>\n",
       "      <th>14</th>\n",
       "      <td>Baumann, Mr John D</td>\n",
       "      <td>1st</td>\n",
       "      <td>NaN</td>\n",
       "      <td>NaN</td>\n",
       "      <td>0</td>\n",
       "      <td>0</td>\n",
       "    </tr>\n",
       "    <tr>\n",
       "      <th>29</th>\n",
       "      <td>Borebank, Mr John James</td>\n",
       "      <td>1st</td>\n",
       "      <td>NaN</td>\n",
       "      <td>NaN</td>\n",
       "      <td>0</td>\n",
       "      <td>0</td>\n",
       "    </tr>\n",
       "    <tr>\n",
       "      <th>32</th>\n",
       "      <td>Bradley, Mr George</td>\n",
       "      <td>1st</td>\n",
       "      <td>NaN</td>\n",
       "      <td>NaN</td>\n",
       "      <td>1</td>\n",
       "      <td>0</td>\n",
       "    </tr>\n",
       "  </tbody>\n",
       "</table>\n",
       "</div>"
      ],
      "text/plain": [
       "                            Name PClass  Age     Sex  Survived  SexCode\n",
       "12  Aubert, Mrs Leontine Pauline    1st  NaN  female         1        1\n",
       "13      Barkworth, Mr Algernon H    1st  NaN     NaN         1        0\n",
       "14            Baumann, Mr John D    1st  NaN     NaN         0        0\n",
       "29       Borebank, Mr John James    1st  NaN     NaN         0        0\n",
       "32            Bradley, Mr George    1st  NaN     NaN         1        0"
      ]
     },
     "execution_count": 20,
     "metadata": {},
     "output_type": "execute_result"
    }
   ],
   "source": [
    "dataframe[dataframe['Age'].isnull()].head()"
   ]
  },
  {
   "cell_type": "markdown",
   "id": "879b019f",
   "metadata": {},
   "source": [
    "## 3.10 Deleting a Column "
   ]
  },
  {
   "cell_type": "code",
   "execution_count": 21,
   "id": "584804d9",
   "metadata": {
    "ExecuteTime": {
     "end_time": "2021-04-23T12:40:42.582224Z",
     "start_time": "2021-04-23T12:40:42.570256Z"
    }
   },
   "outputs": [
    {
     "data": {
      "text/html": [
       "<div>\n",
       "<style scoped>\n",
       "    .dataframe tbody tr th:only-of-type {\n",
       "        vertical-align: middle;\n",
       "    }\n",
       "\n",
       "    .dataframe tbody tr th {\n",
       "        vertical-align: top;\n",
       "    }\n",
       "\n",
       "    .dataframe thead th {\n",
       "        text-align: right;\n",
       "    }\n",
       "</style>\n",
       "<table border=\"1\" class=\"dataframe\">\n",
       "  <thead>\n",
       "    <tr style=\"text-align: right;\">\n",
       "      <th></th>\n",
       "      <th>Name</th>\n",
       "      <th>PClass</th>\n",
       "      <th>Sex</th>\n",
       "      <th>Survived</th>\n",
       "      <th>SexCode</th>\n",
       "    </tr>\n",
       "  </thead>\n",
       "  <tbody>\n",
       "    <tr>\n",
       "      <th>0</th>\n",
       "      <td>Allen, Miss Elisabeth Walton</td>\n",
       "      <td>1st</td>\n",
       "      <td>female</td>\n",
       "      <td>1</td>\n",
       "      <td>1</td>\n",
       "    </tr>\n",
       "    <tr>\n",
       "      <th>1</th>\n",
       "      <td>Allison, Miss Helen Loraine</td>\n",
       "      <td>1st</td>\n",
       "      <td>female</td>\n",
       "      <td>0</td>\n",
       "      <td>1</td>\n",
       "    </tr>\n",
       "  </tbody>\n",
       "</table>\n",
       "</div>"
      ],
      "text/plain": [
       "                           Name PClass     Sex  Survived  SexCode\n",
       "0  Allen, Miss Elisabeth Walton    1st  female         1        1\n",
       "1   Allison, Miss Helen Loraine    1st  female         0        1"
      ]
     },
     "execution_count": 21,
     "metadata": {},
     "output_type": "execute_result"
    }
   ],
   "source": [
    "dataframe.drop('Age', axis = 1).head(2)"
   ]
  },
  {
   "cell_type": "code",
   "execution_count": 23,
   "id": "c1bbd051",
   "metadata": {
    "ExecuteTime": {
     "end_time": "2021-04-23T12:41:13.160161Z",
     "start_time": "2021-04-23T12:41:13.146200Z"
    }
   },
   "outputs": [
    {
     "data": {
      "text/html": [
       "<div>\n",
       "<style scoped>\n",
       "    .dataframe tbody tr th:only-of-type {\n",
       "        vertical-align: middle;\n",
       "    }\n",
       "\n",
       "    .dataframe tbody tr th {\n",
       "        vertical-align: top;\n",
       "    }\n",
       "\n",
       "    .dataframe thead th {\n",
       "        text-align: right;\n",
       "    }\n",
       "</style>\n",
       "<table border=\"1\" class=\"dataframe\">\n",
       "  <thead>\n",
       "    <tr style=\"text-align: right;\">\n",
       "      <th></th>\n",
       "      <th>Name</th>\n",
       "      <th>PClass</th>\n",
       "      <th>Survived</th>\n",
       "      <th>SexCode</th>\n",
       "    </tr>\n",
       "  </thead>\n",
       "  <tbody>\n",
       "    <tr>\n",
       "      <th>0</th>\n",
       "      <td>Allen, Miss Elisabeth Walton</td>\n",
       "      <td>1st</td>\n",
       "      <td>1</td>\n",
       "      <td>1</td>\n",
       "    </tr>\n",
       "    <tr>\n",
       "      <th>1</th>\n",
       "      <td>Allison, Miss Helen Loraine</td>\n",
       "      <td>1st</td>\n",
       "      <td>0</td>\n",
       "      <td>1</td>\n",
       "    </tr>\n",
       "  </tbody>\n",
       "</table>\n",
       "</div>"
      ],
      "text/plain": [
       "                           Name PClass  Survived  SexCode\n",
       "0  Allen, Miss Elisabeth Walton    1st         1        1\n",
       "1   Allison, Miss Helen Loraine    1st         0        1"
      ]
     },
     "execution_count": 23,
     "metadata": {},
     "output_type": "execute_result"
    }
   ],
   "source": [
    "dataframe.drop(['Age', 'Sex'], axis = 1).head(2)"
   ]
  },
  {
   "cell_type": "code",
   "execution_count": 24,
   "id": "32791e3b",
   "metadata": {
    "ExecuteTime": {
     "end_time": "2021-04-23T12:41:51.675331Z",
     "start_time": "2021-04-23T12:41:51.661374Z"
    }
   },
   "outputs": [
    {
     "data": {
      "text/html": [
       "<div>\n",
       "<style scoped>\n",
       "    .dataframe tbody tr th:only-of-type {\n",
       "        vertical-align: middle;\n",
       "    }\n",
       "\n",
       "    .dataframe tbody tr th {\n",
       "        vertical-align: top;\n",
       "    }\n",
       "\n",
       "    .dataframe thead th {\n",
       "        text-align: right;\n",
       "    }\n",
       "</style>\n",
       "<table border=\"1\" class=\"dataframe\">\n",
       "  <thead>\n",
       "    <tr style=\"text-align: right;\">\n",
       "      <th></th>\n",
       "      <th>Name</th>\n",
       "      <th>Age</th>\n",
       "      <th>Sex</th>\n",
       "      <th>Survived</th>\n",
       "      <th>SexCode</th>\n",
       "    </tr>\n",
       "  </thead>\n",
       "  <tbody>\n",
       "    <tr>\n",
       "      <th>0</th>\n",
       "      <td>Allen, Miss Elisabeth Walton</td>\n",
       "      <td>29.00</td>\n",
       "      <td>female</td>\n",
       "      <td>1</td>\n",
       "      <td>1</td>\n",
       "    </tr>\n",
       "    <tr>\n",
       "      <th>1</th>\n",
       "      <td>Allison, Miss Helen Loraine</td>\n",
       "      <td>2.00</td>\n",
       "      <td>female</td>\n",
       "      <td>0</td>\n",
       "      <td>1</td>\n",
       "    </tr>\n",
       "    <tr>\n",
       "      <th>2</th>\n",
       "      <td>Allison, Mr Hudson Joshua Creighton</td>\n",
       "      <td>30.00</td>\n",
       "      <td>NaN</td>\n",
       "      <td>0</td>\n",
       "      <td>0</td>\n",
       "    </tr>\n",
       "    <tr>\n",
       "      <th>3</th>\n",
       "      <td>Allison, Mrs Hudson JC (Bessie Waldo Daniels)</td>\n",
       "      <td>25.00</td>\n",
       "      <td>female</td>\n",
       "      <td>0</td>\n",
       "      <td>1</td>\n",
       "    </tr>\n",
       "    <tr>\n",
       "      <th>4</th>\n",
       "      <td>Allison, Master Hudson Trevor</td>\n",
       "      <td>0.92</td>\n",
       "      <td>NaN</td>\n",
       "      <td>1</td>\n",
       "      <td>0</td>\n",
       "    </tr>\n",
       "  </tbody>\n",
       "</table>\n",
       "</div>"
      ],
      "text/plain": [
       "                                            Name    Age     Sex  Survived  \\\n",
       "0                   Allen, Miss Elisabeth Walton  29.00  female         1   \n",
       "1                    Allison, Miss Helen Loraine   2.00  female         0   \n",
       "2            Allison, Mr Hudson Joshua Creighton  30.00     NaN         0   \n",
       "3  Allison, Mrs Hudson JC (Bessie Waldo Daniels)  25.00  female         0   \n",
       "4                  Allison, Master Hudson Trevor   0.92     NaN         1   \n",
       "\n",
       "   SexCode  \n",
       "0        1  \n",
       "1        1  \n",
       "2        0  \n",
       "3        1  \n",
       "4        0  "
      ]
     },
     "execution_count": 24,
     "metadata": {},
     "output_type": "execute_result"
    }
   ],
   "source": [
    "dataframe.drop(dataframe.columns[1], axis = 1).head()"
   ]
  },
  {
   "cell_type": "markdown",
   "id": "1fb2151a",
   "metadata": {},
   "source": [
    "## 3.11 Deleting a Row "
   ]
  },
  {
   "cell_type": "code",
   "execution_count": 27,
   "id": "d35831e6",
   "metadata": {
    "ExecuteTime": {
     "end_time": "2021-04-23T12:42:49.917437Z",
     "start_time": "2021-04-23T12:42:49.899461Z"
    }
   },
   "outputs": [
    {
     "data": {
      "text/html": [
       "<div>\n",
       "<style scoped>\n",
       "    .dataframe tbody tr th:only-of-type {\n",
       "        vertical-align: middle;\n",
       "    }\n",
       "\n",
       "    .dataframe tbody tr th {\n",
       "        vertical-align: top;\n",
       "    }\n",
       "\n",
       "    .dataframe thead th {\n",
       "        text-align: right;\n",
       "    }\n",
       "</style>\n",
       "<table border=\"1\" class=\"dataframe\">\n",
       "  <thead>\n",
       "    <tr style=\"text-align: right;\">\n",
       "      <th></th>\n",
       "      <th>Name</th>\n",
       "      <th>PClass</th>\n",
       "      <th>Age</th>\n",
       "      <th>Sex</th>\n",
       "      <th>Survived</th>\n",
       "      <th>SexCode</th>\n",
       "    </tr>\n",
       "  </thead>\n",
       "  <tbody>\n",
       "    <tr>\n",
       "      <th>0</th>\n",
       "      <td>Allen, Miss Elisabeth Walton</td>\n",
       "      <td>1st</td>\n",
       "      <td>29.00</td>\n",
       "      <td>female</td>\n",
       "      <td>1</td>\n",
       "      <td>1</td>\n",
       "    </tr>\n",
       "    <tr>\n",
       "      <th>1</th>\n",
       "      <td>Allison, Miss Helen Loraine</td>\n",
       "      <td>1st</td>\n",
       "      <td>2.00</td>\n",
       "      <td>female</td>\n",
       "      <td>0</td>\n",
       "      <td>1</td>\n",
       "    </tr>\n",
       "    <tr>\n",
       "      <th>2</th>\n",
       "      <td>Allison, Mr Hudson Joshua Creighton</td>\n",
       "      <td>1st</td>\n",
       "      <td>30.00</td>\n",
       "      <td>NaN</td>\n",
       "      <td>0</td>\n",
       "      <td>0</td>\n",
       "    </tr>\n",
       "    <tr>\n",
       "      <th>3</th>\n",
       "      <td>Allison, Mrs Hudson JC (Bessie Waldo Daniels)</td>\n",
       "      <td>1st</td>\n",
       "      <td>25.00</td>\n",
       "      <td>female</td>\n",
       "      <td>0</td>\n",
       "      <td>1</td>\n",
       "    </tr>\n",
       "    <tr>\n",
       "      <th>4</th>\n",
       "      <td>Allison, Master Hudson Trevor</td>\n",
       "      <td>1st</td>\n",
       "      <td>0.92</td>\n",
       "      <td>NaN</td>\n",
       "      <td>1</td>\n",
       "      <td>0</td>\n",
       "    </tr>\n",
       "    <tr>\n",
       "      <th>5</th>\n",
       "      <td>Anderson, Mr Harry</td>\n",
       "      <td>1st</td>\n",
       "      <td>47.00</td>\n",
       "      <td>NaN</td>\n",
       "      <td>1</td>\n",
       "      <td>0</td>\n",
       "    </tr>\n",
       "    <tr>\n",
       "      <th>6</th>\n",
       "      <td>Andrews, Miss Kornelia Theodosia</td>\n",
       "      <td>1st</td>\n",
       "      <td>63.00</td>\n",
       "      <td>female</td>\n",
       "      <td>1</td>\n",
       "      <td>1</td>\n",
       "    </tr>\n",
       "    <tr>\n",
       "      <th>7</th>\n",
       "      <td>Andrews, Mr Thomas, jr</td>\n",
       "      <td>1st</td>\n",
       "      <td>39.00</td>\n",
       "      <td>NaN</td>\n",
       "      <td>0</td>\n",
       "      <td>0</td>\n",
       "    </tr>\n",
       "    <tr>\n",
       "      <th>8</th>\n",
       "      <td>Appleton, Mrs Edward Dale (Charlotte Lamson)</td>\n",
       "      <td>1st</td>\n",
       "      <td>58.00</td>\n",
       "      <td>female</td>\n",
       "      <td>1</td>\n",
       "      <td>1</td>\n",
       "    </tr>\n",
       "    <tr>\n",
       "      <th>9</th>\n",
       "      <td>Artagaveytia, Mr Ramon</td>\n",
       "      <td>1st</td>\n",
       "      <td>71.00</td>\n",
       "      <td>NaN</td>\n",
       "      <td>0</td>\n",
       "      <td>0</td>\n",
       "    </tr>\n",
       "  </tbody>\n",
       "</table>\n",
       "</div>"
      ],
      "text/plain": [
       "                                            Name PClass    Age     Sex  \\\n",
       "0                   Allen, Miss Elisabeth Walton    1st  29.00  female   \n",
       "1                    Allison, Miss Helen Loraine    1st   2.00  female   \n",
       "2            Allison, Mr Hudson Joshua Creighton    1st  30.00     NaN   \n",
       "3  Allison, Mrs Hudson JC (Bessie Waldo Daniels)    1st  25.00  female   \n",
       "4                  Allison, Master Hudson Trevor    1st   0.92     NaN   \n",
       "5                             Anderson, Mr Harry    1st  47.00     NaN   \n",
       "6               Andrews, Miss Kornelia Theodosia    1st  63.00  female   \n",
       "7                         Andrews, Mr Thomas, jr    1st  39.00     NaN   \n",
       "8   Appleton, Mrs Edward Dale (Charlotte Lamson)    1st  58.00  female   \n",
       "9                         Artagaveytia, Mr Ramon    1st  71.00     NaN   \n",
       "\n",
       "   Survived  SexCode  \n",
       "0         1        1  \n",
       "1         0        1  \n",
       "2         0        0  \n",
       "3         0        1  \n",
       "4         1        0  \n",
       "5         1        0  \n",
       "6         1        1  \n",
       "7         0        0  \n",
       "8         1        1  \n",
       "9         0        0  "
      ]
     },
     "execution_count": 27,
     "metadata": {},
     "output_type": "execute_result"
    }
   ],
   "source": [
    "dataframe[dataframe['Sex'] != 'male'].head(10)"
   ]
  },
  {
   "cell_type": "code",
   "execution_count": 31,
   "id": "f1d54ddc",
   "metadata": {
    "ExecuteTime": {
     "end_time": "2021-04-23T12:43:49.688836Z",
     "start_time": "2021-04-23T12:43:49.674061Z"
    }
   },
   "outputs": [
    {
     "data": {
      "text/html": [
       "<div>\n",
       "<style scoped>\n",
       "    .dataframe tbody tr th:only-of-type {\n",
       "        vertical-align: middle;\n",
       "    }\n",
       "\n",
       "    .dataframe tbody tr th {\n",
       "        vertical-align: top;\n",
       "    }\n",
       "\n",
       "    .dataframe thead th {\n",
       "        text-align: right;\n",
       "    }\n",
       "</style>\n",
       "<table border=\"1\" class=\"dataframe\">\n",
       "  <thead>\n",
       "    <tr style=\"text-align: right;\">\n",
       "      <th></th>\n",
       "      <th>Name</th>\n",
       "      <th>PClass</th>\n",
       "      <th>Age</th>\n",
       "      <th>Sex</th>\n",
       "      <th>Survived</th>\n",
       "      <th>SexCode</th>\n",
       "    </tr>\n",
       "  </thead>\n",
       "  <tbody>\n",
       "    <tr>\n",
       "      <th>0</th>\n",
       "      <td>Allen, Miss Elisabeth Walton</td>\n",
       "      <td>1st</td>\n",
       "      <td>29.0</td>\n",
       "      <td>female</td>\n",
       "      <td>1</td>\n",
       "      <td>1</td>\n",
       "    </tr>\n",
       "    <tr>\n",
       "      <th>2</th>\n",
       "      <td>Allison, Mr Hudson Joshua Creighton</td>\n",
       "      <td>1st</td>\n",
       "      <td>30.0</td>\n",
       "      <td>NaN</td>\n",
       "      <td>0</td>\n",
       "      <td>0</td>\n",
       "    </tr>\n",
       "  </tbody>\n",
       "</table>\n",
       "</div>"
      ],
      "text/plain": [
       "                                  Name PClass   Age     Sex  Survived  SexCode\n",
       "0         Allen, Miss Elisabeth Walton    1st  29.0  female         1        1\n",
       "2  Allison, Mr Hudson Joshua Creighton    1st  30.0     NaN         0        0"
      ]
     },
     "execution_count": 31,
     "metadata": {},
     "output_type": "execute_result"
    }
   ],
   "source": [
    "dataframe[dataframe.Name != 'Allison, Miss Helen Loraine'].head(2)"
   ]
  },
  {
   "cell_type": "markdown",
   "id": "189aeb3e",
   "metadata": {},
   "source": [
    "## 3.12 Dropping Duplicate Rows "
   ]
  },
  {
   "cell_type": "code",
   "execution_count": 32,
   "id": "ba30e28d",
   "metadata": {
    "ExecuteTime": {
     "end_time": "2021-04-23T12:44:19.641356Z",
     "start_time": "2021-04-23T12:44:19.614053Z"
    }
   },
   "outputs": [
    {
     "data": {
      "text/html": [
       "<div>\n",
       "<style scoped>\n",
       "    .dataframe tbody tr th:only-of-type {\n",
       "        vertical-align: middle;\n",
       "    }\n",
       "\n",
       "    .dataframe tbody tr th {\n",
       "        vertical-align: top;\n",
       "    }\n",
       "\n",
       "    .dataframe thead th {\n",
       "        text-align: right;\n",
       "    }\n",
       "</style>\n",
       "<table border=\"1\" class=\"dataframe\">\n",
       "  <thead>\n",
       "    <tr style=\"text-align: right;\">\n",
       "      <th></th>\n",
       "      <th>Name</th>\n",
       "      <th>PClass</th>\n",
       "      <th>Age</th>\n",
       "      <th>Sex</th>\n",
       "      <th>Survived</th>\n",
       "      <th>SexCode</th>\n",
       "    </tr>\n",
       "  </thead>\n",
       "  <tbody>\n",
       "    <tr>\n",
       "      <th>0</th>\n",
       "      <td>Allen, Miss Elisabeth Walton</td>\n",
       "      <td>1st</td>\n",
       "      <td>29.0</td>\n",
       "      <td>female</td>\n",
       "      <td>1</td>\n",
       "      <td>1</td>\n",
       "    </tr>\n",
       "    <tr>\n",
       "      <th>1</th>\n",
       "      <td>Allison, Miss Helen Loraine</td>\n",
       "      <td>1st</td>\n",
       "      <td>2.0</td>\n",
       "      <td>female</td>\n",
       "      <td>0</td>\n",
       "      <td>1</td>\n",
       "    </tr>\n",
       "  </tbody>\n",
       "</table>\n",
       "</div>"
      ],
      "text/plain": [
       "                           Name PClass   Age     Sex  Survived  SexCode\n",
       "0  Allen, Miss Elisabeth Walton    1st  29.0  female         1        1\n",
       "1   Allison, Miss Helen Loraine    1st   2.0  female         0        1"
      ]
     },
     "execution_count": 32,
     "metadata": {},
     "output_type": "execute_result"
    }
   ],
   "source": [
    "dataframe.drop_duplicates().head(2)"
   ]
  },
  {
   "cell_type": "code",
   "execution_count": 34,
   "id": "c80ad1df",
   "metadata": {
    "ExecuteTime": {
     "end_time": "2021-04-23T12:45:41.541696Z",
     "start_time": "2021-04-23T12:45:41.524742Z"
    }
   },
   "outputs": [
    {
     "name": "stdout",
     "output_type": "stream",
     "text": [
      "Numer of rows in the original dataframe: 1313\n",
      "Numer of rows after deduping: 1313\n"
     ]
    }
   ],
   "source": [
    "print('Numer of rows in the original dataframe:', len(dataframe))\n",
    "print('Numer of rows after deduping:', len(dataframe.drop_duplicates()))"
   ]
  },
  {
   "cell_type": "code",
   "execution_count": 37,
   "id": "0f796c51",
   "metadata": {
    "ExecuteTime": {
     "end_time": "2021-04-23T12:46:33.981521Z",
     "start_time": "2021-04-23T12:46:33.962573Z"
    }
   },
   "outputs": [
    {
     "data": {
      "text/html": [
       "<div>\n",
       "<style scoped>\n",
       "    .dataframe tbody tr th:only-of-type {\n",
       "        vertical-align: middle;\n",
       "    }\n",
       "\n",
       "    .dataframe tbody tr th {\n",
       "        vertical-align: top;\n",
       "    }\n",
       "\n",
       "    .dataframe thead th {\n",
       "        text-align: right;\n",
       "    }\n",
       "</style>\n",
       "<table border=\"1\" class=\"dataframe\">\n",
       "  <thead>\n",
       "    <tr style=\"text-align: right;\">\n",
       "      <th></th>\n",
       "      <th>Name</th>\n",
       "      <th>PClass</th>\n",
       "      <th>Age</th>\n",
       "      <th>Sex</th>\n",
       "      <th>Survived</th>\n",
       "      <th>SexCode</th>\n",
       "    </tr>\n",
       "  </thead>\n",
       "  <tbody>\n",
       "    <tr>\n",
       "      <th>0</th>\n",
       "      <td>Allen, Miss Elisabeth Walton</td>\n",
       "      <td>1st</td>\n",
       "      <td>29.0</td>\n",
       "      <td>female</td>\n",
       "      <td>1</td>\n",
       "      <td>1</td>\n",
       "    </tr>\n",
       "    <tr>\n",
       "      <th>2</th>\n",
       "      <td>Allison, Mr Hudson Joshua Creighton</td>\n",
       "      <td>1st</td>\n",
       "      <td>30.0</td>\n",
       "      <td>NaN</td>\n",
       "      <td>0</td>\n",
       "      <td>0</td>\n",
       "    </tr>\n",
       "  </tbody>\n",
       "</table>\n",
       "</div>"
      ],
      "text/plain": [
       "                                  Name PClass   Age     Sex  Survived  SexCode\n",
       "0         Allen, Miss Elisabeth Walton    1st  29.0  female         1        1\n",
       "2  Allison, Mr Hudson Joshua Creighton    1st  30.0     NaN         0        0"
      ]
     },
     "execution_count": 37,
     "metadata": {},
     "output_type": "execute_result"
    }
   ],
   "source": [
    "dataframe.drop_duplicates(subset=['Sex'])"
   ]
  },
  {
   "cell_type": "code",
   "execution_count": 38,
   "id": "6c277f3c",
   "metadata": {
    "ExecuteTime": {
     "end_time": "2021-04-23T12:46:53.377156Z",
     "start_time": "2021-04-23T12:46:53.364191Z"
    }
   },
   "outputs": [
    {
     "data": {
      "text/html": [
       "<div>\n",
       "<style scoped>\n",
       "    .dataframe tbody tr th:only-of-type {\n",
       "        vertical-align: middle;\n",
       "    }\n",
       "\n",
       "    .dataframe tbody tr th {\n",
       "        vertical-align: top;\n",
       "    }\n",
       "\n",
       "    .dataframe thead th {\n",
       "        text-align: right;\n",
       "    }\n",
       "</style>\n",
       "<table border=\"1\" class=\"dataframe\">\n",
       "  <thead>\n",
       "    <tr style=\"text-align: right;\">\n",
       "      <th></th>\n",
       "      <th>Name</th>\n",
       "      <th>PClass</th>\n",
       "      <th>Age</th>\n",
       "      <th>Sex</th>\n",
       "      <th>Survived</th>\n",
       "      <th>SexCode</th>\n",
       "    </tr>\n",
       "  </thead>\n",
       "  <tbody>\n",
       "    <tr>\n",
       "      <th>1307</th>\n",
       "      <td>Zabour, Miss Tamini</td>\n",
       "      <td>3rd</td>\n",
       "      <td>NaN</td>\n",
       "      <td>female</td>\n",
       "      <td>0</td>\n",
       "      <td>1</td>\n",
       "    </tr>\n",
       "    <tr>\n",
       "      <th>1312</th>\n",
       "      <td>Zimmerman, Leo</td>\n",
       "      <td>3rd</td>\n",
       "      <td>29.0</td>\n",
       "      <td>NaN</td>\n",
       "      <td>0</td>\n",
       "      <td>0</td>\n",
       "    </tr>\n",
       "  </tbody>\n",
       "</table>\n",
       "</div>"
      ],
      "text/plain": [
       "                     Name PClass   Age     Sex  Survived  SexCode\n",
       "1307  Zabour, Miss Tamini    3rd   NaN  female         0        1\n",
       "1312       Zimmerman, Leo    3rd  29.0     NaN         0        0"
      ]
     },
     "execution_count": 38,
     "metadata": {},
     "output_type": "execute_result"
    }
   ],
   "source": [
    "dataframe.drop_duplicates(subset=['Sex'], keep='last')"
   ]
  },
  {
   "cell_type": "markdown",
   "id": "d443ca93",
   "metadata": {},
   "source": [
    "## 3.12 Grouping Rows by Values "
   ]
  },
  {
   "cell_type": "code",
   "execution_count": 40,
   "id": "55bfcefb",
   "metadata": {
    "ExecuteTime": {
     "end_time": "2021-04-23T12:48:25.993227Z",
     "start_time": "2021-04-23T12:48:25.077863Z"
    }
   },
   "outputs": [
    {
     "data": {
      "text/html": [
       "<div>\n",
       "<style scoped>\n",
       "    .dataframe tbody tr th:only-of-type {\n",
       "        vertical-align: middle;\n",
       "    }\n",
       "\n",
       "    .dataframe tbody tr th {\n",
       "        vertical-align: top;\n",
       "    }\n",
       "\n",
       "    .dataframe thead th {\n",
       "        text-align: right;\n",
       "    }\n",
       "</style>\n",
       "<table border=\"1\" class=\"dataframe\">\n",
       "  <thead>\n",
       "    <tr style=\"text-align: right;\">\n",
       "      <th></th>\n",
       "      <th>Age</th>\n",
       "      <th>Survived</th>\n",
       "      <th>SexCode</th>\n",
       "    </tr>\n",
       "    <tr>\n",
       "      <th>Sex</th>\n",
       "      <th></th>\n",
       "      <th></th>\n",
       "      <th></th>\n",
       "    </tr>\n",
       "  </thead>\n",
       "  <tbody>\n",
       "    <tr>\n",
       "      <th>female</th>\n",
       "      <td>29.396424</td>\n",
       "      <td>0.666667</td>\n",
       "      <td>1.0</td>\n",
       "    </tr>\n",
       "    <tr>\n",
       "      <th>male</th>\n",
       "      <td>31.014338</td>\n",
       "      <td>0.166863</td>\n",
       "      <td>0.0</td>\n",
       "    </tr>\n",
       "  </tbody>\n",
       "</table>\n",
       "</div>"
      ],
      "text/plain": [
       "              Age  Survived  SexCode\n",
       "Sex                                 \n",
       "female  29.396424  0.666667      1.0\n",
       "male    31.014338  0.166863      0.0"
      ]
     },
     "execution_count": 40,
     "metadata": {},
     "output_type": "execute_result"
    }
   ],
   "source": [
    "dataframe = pd.read_csv(url) # reimporting the titanic dataset\n",
    "dataframe.groupby('Sex').mean()"
   ]
  },
  {
   "cell_type": "code",
   "execution_count": 41,
   "id": "09c9030c",
   "metadata": {
    "ExecuteTime": {
     "end_time": "2021-04-23T12:48:59.630522Z",
     "start_time": "2021-04-23T12:48:59.614861Z"
    }
   },
   "outputs": [
    {
     "data": {
      "text/plain": [
       "<pandas.core.groupby.generic.DataFrameGroupBy object at 0x00000257E2439910>"
      ]
     },
     "execution_count": 41,
     "metadata": {},
     "output_type": "execute_result"
    }
   ],
   "source": [
    "dataframe.groupby('Sex')"
   ]
  },
  {
   "cell_type": "code",
   "execution_count": 43,
   "id": "64ca4ca3",
   "metadata": {
    "ExecuteTime": {
     "end_time": "2021-04-23T12:49:40.516342Z",
     "start_time": "2021-04-23T12:49:40.504350Z"
    }
   },
   "outputs": [
    {
     "data": {
      "text/plain": [
       "Survived\n",
       "0    863\n",
       "1    450\n",
       "Name: Name, dtype: int64"
      ]
     },
     "execution_count": 43,
     "metadata": {},
     "output_type": "execute_result"
    }
   ],
   "source": [
    "dataframe.groupby('Survived')['Name'].count()"
   ]
  },
  {
   "cell_type": "code",
   "execution_count": 44,
   "id": "e5285014",
   "metadata": {
    "ExecuteTime": {
     "end_time": "2021-04-23T12:50:45.929531Z",
     "start_time": "2021-04-23T12:50:45.917568Z"
    }
   },
   "outputs": [
    {
     "data": {
      "text/plain": [
       "Sex     Survived\n",
       "female  0           24.901408\n",
       "        1           30.867143\n",
       "male    0           32.320780\n",
       "        1           25.951875\n",
       "Name: Age, dtype: float64"
      ]
     },
     "execution_count": 44,
     "metadata": {},
     "output_type": "execute_result"
    }
   ],
   "source": [
    "dataframe.groupby(['Sex', 'Survived'])['Age'].mean()"
   ]
  },
  {
   "cell_type": "markdown",
   "id": "09a5cc5d",
   "metadata": {},
   "source": [
    "## 3.14 Grouping Rows by Time "
   ]
  },
  {
   "cell_type": "code",
   "execution_count": 45,
   "id": "7fb25f7f",
   "metadata": {
    "ExecuteTime": {
     "end_time": "2021-04-23T12:51:55.136348Z",
     "start_time": "2021-04-23T12:51:55.118367Z"
    }
   },
   "outputs": [],
   "source": [
    "time_index = pd.date_range('06/06/2017', periods=100000, freq = '30S')"
   ]
  },
  {
   "cell_type": "code",
   "execution_count": 46,
   "id": "a6acd935",
   "metadata": {
    "ExecuteTime": {
     "end_time": "2021-04-23T12:52:04.283826Z",
     "start_time": "2021-04-23T12:52:04.267869Z"
    }
   },
   "outputs": [],
   "source": [
    "dataframe = pd.DataFrame(index=time_index)"
   ]
  },
  {
   "cell_type": "code",
   "execution_count": 47,
   "id": "673d05d0",
   "metadata": {
    "ExecuteTime": {
     "end_time": "2021-04-23T12:52:27.283975Z",
     "start_time": "2021-04-23T12:52:27.268987Z"
    }
   },
   "outputs": [],
   "source": [
    "dataframe['Sale_Amount'] = np.random.randint(1,10,100000)"
   ]
  },
  {
   "cell_type": "code",
   "execution_count": 48,
   "id": "5725d1d4",
   "metadata": {
    "ExecuteTime": {
     "end_time": "2021-04-23T12:52:33.779954Z",
     "start_time": "2021-04-23T12:52:33.768983Z"
    }
   },
   "outputs": [
    {
     "data": {
      "text/html": [
       "<div>\n",
       "<style scoped>\n",
       "    .dataframe tbody tr th:only-of-type {\n",
       "        vertical-align: middle;\n",
       "    }\n",
       "\n",
       "    .dataframe tbody tr th {\n",
       "        vertical-align: top;\n",
       "    }\n",
       "\n",
       "    .dataframe thead th {\n",
       "        text-align: right;\n",
       "    }\n",
       "</style>\n",
       "<table border=\"1\" class=\"dataframe\">\n",
       "  <thead>\n",
       "    <tr style=\"text-align: right;\">\n",
       "      <th></th>\n",
       "      <th>Sale_Amount</th>\n",
       "    </tr>\n",
       "  </thead>\n",
       "  <tbody>\n",
       "    <tr>\n",
       "      <th>2017-06-06 00:00:00</th>\n",
       "      <td>7</td>\n",
       "    </tr>\n",
       "    <tr>\n",
       "      <th>2017-06-06 00:00:30</th>\n",
       "      <td>7</td>\n",
       "    </tr>\n",
       "    <tr>\n",
       "      <th>2017-06-06 00:01:00</th>\n",
       "      <td>6</td>\n",
       "    </tr>\n",
       "    <tr>\n",
       "      <th>2017-06-06 00:01:30</th>\n",
       "      <td>7</td>\n",
       "    </tr>\n",
       "    <tr>\n",
       "      <th>2017-06-06 00:02:00</th>\n",
       "      <td>7</td>\n",
       "    </tr>\n",
       "    <tr>\n",
       "      <th>...</th>\n",
       "      <td>...</td>\n",
       "    </tr>\n",
       "    <tr>\n",
       "      <th>2017-07-10 17:17:30</th>\n",
       "      <td>7</td>\n",
       "    </tr>\n",
       "    <tr>\n",
       "      <th>2017-07-10 17:18:00</th>\n",
       "      <td>6</td>\n",
       "    </tr>\n",
       "    <tr>\n",
       "      <th>2017-07-10 17:18:30</th>\n",
       "      <td>5</td>\n",
       "    </tr>\n",
       "    <tr>\n",
       "      <th>2017-07-10 17:19:00</th>\n",
       "      <td>4</td>\n",
       "    </tr>\n",
       "    <tr>\n",
       "      <th>2017-07-10 17:19:30</th>\n",
       "      <td>3</td>\n",
       "    </tr>\n",
       "  </tbody>\n",
       "</table>\n",
       "<p>100000 rows × 1 columns</p>\n",
       "</div>"
      ],
      "text/plain": [
       "                     Sale_Amount\n",
       "2017-06-06 00:00:00            7\n",
       "2017-06-06 00:00:30            7\n",
       "2017-06-06 00:01:00            6\n",
       "2017-06-06 00:01:30            7\n",
       "2017-06-06 00:02:00            7\n",
       "...                          ...\n",
       "2017-07-10 17:17:30            7\n",
       "2017-07-10 17:18:00            6\n",
       "2017-07-10 17:18:30            5\n",
       "2017-07-10 17:19:00            4\n",
       "2017-07-10 17:19:30            3\n",
       "\n",
       "[100000 rows x 1 columns]"
      ]
     },
     "execution_count": 48,
     "metadata": {},
     "output_type": "execute_result"
    }
   ],
   "source": [
    "dataframe"
   ]
  },
  {
   "cell_type": "code",
   "execution_count": 49,
   "id": "ecff08df",
   "metadata": {
    "ExecuteTime": {
     "end_time": "2021-04-23T12:52:54.295364Z",
     "start_time": "2021-04-23T12:52:54.257433Z"
    }
   },
   "outputs": [
    {
     "data": {
      "text/html": [
       "<div>\n",
       "<style scoped>\n",
       "    .dataframe tbody tr th:only-of-type {\n",
       "        vertical-align: middle;\n",
       "    }\n",
       "\n",
       "    .dataframe tbody tr th {\n",
       "        vertical-align: top;\n",
       "    }\n",
       "\n",
       "    .dataframe thead th {\n",
       "        text-align: right;\n",
       "    }\n",
       "</style>\n",
       "<table border=\"1\" class=\"dataframe\">\n",
       "  <thead>\n",
       "    <tr style=\"text-align: right;\">\n",
       "      <th></th>\n",
       "      <th>Sale_Amount</th>\n",
       "    </tr>\n",
       "  </thead>\n",
       "  <tbody>\n",
       "    <tr>\n",
       "      <th>2017-06-11</th>\n",
       "      <td>86422</td>\n",
       "    </tr>\n",
       "    <tr>\n",
       "      <th>2017-06-18</th>\n",
       "      <td>100775</td>\n",
       "    </tr>\n",
       "    <tr>\n",
       "      <th>2017-06-25</th>\n",
       "      <td>101044</td>\n",
       "    </tr>\n",
       "    <tr>\n",
       "      <th>2017-07-02</th>\n",
       "      <td>100486</td>\n",
       "    </tr>\n",
       "    <tr>\n",
       "      <th>2017-07-09</th>\n",
       "      <td>101250</td>\n",
       "    </tr>\n",
       "    <tr>\n",
       "      <th>2017-07-16</th>\n",
       "      <td>10483</td>\n",
       "    </tr>\n",
       "  </tbody>\n",
       "</table>\n",
       "</div>"
      ],
      "text/plain": [
       "            Sale_Amount\n",
       "2017-06-11        86422\n",
       "2017-06-18       100775\n",
       "2017-06-25       101044\n",
       "2017-07-02       100486\n",
       "2017-07-09       101250\n",
       "2017-07-16        10483"
      ]
     },
     "execution_count": 49,
     "metadata": {},
     "output_type": "execute_result"
    }
   ],
   "source": [
    "dataframe.resample('W').sum()"
   ]
  },
  {
   "cell_type": "code",
   "execution_count": 50,
   "id": "63dbdf51",
   "metadata": {
    "ExecuteTime": {
     "end_time": "2021-04-23T12:53:08.048668Z",
     "start_time": "2021-04-23T12:53:08.018464Z"
    }
   },
   "outputs": [
    {
     "data": {
      "text/html": [
       "<div>\n",
       "<style scoped>\n",
       "    .dataframe tbody tr th:only-of-type {\n",
       "        vertical-align: middle;\n",
       "    }\n",
       "\n",
       "    .dataframe tbody tr th {\n",
       "        vertical-align: top;\n",
       "    }\n",
       "\n",
       "    .dataframe thead th {\n",
       "        text-align: right;\n",
       "    }\n",
       "</style>\n",
       "<table border=\"1\" class=\"dataframe\">\n",
       "  <thead>\n",
       "    <tr style=\"text-align: right;\">\n",
       "      <th></th>\n",
       "      <th>Sale_Amount</th>\n",
       "    </tr>\n",
       "  </thead>\n",
       "  <tbody>\n",
       "    <tr>\n",
       "      <th>2017-06-11</th>\n",
       "      <td>5.001273</td>\n",
       "    </tr>\n",
       "    <tr>\n",
       "      <th>2017-06-18</th>\n",
       "      <td>4.998760</td>\n",
       "    </tr>\n",
       "    <tr>\n",
       "      <th>2017-06-25</th>\n",
       "      <td>5.012103</td>\n",
       "    </tr>\n",
       "    <tr>\n",
       "      <th>2017-07-02</th>\n",
       "      <td>4.984425</td>\n",
       "    </tr>\n",
       "    <tr>\n",
       "      <th>2017-07-09</th>\n",
       "      <td>5.022321</td>\n",
       "    </tr>\n",
       "    <tr>\n",
       "      <th>2017-07-16</th>\n",
       "      <td>5.039904</td>\n",
       "    </tr>\n",
       "  </tbody>\n",
       "</table>\n",
       "</div>"
      ],
      "text/plain": [
       "            Sale_Amount\n",
       "2017-06-11     5.001273\n",
       "2017-06-18     4.998760\n",
       "2017-06-25     5.012103\n",
       "2017-07-02     4.984425\n",
       "2017-07-09     5.022321\n",
       "2017-07-16     5.039904"
      ]
     },
     "execution_count": 50,
     "metadata": {},
     "output_type": "execute_result"
    }
   ],
   "source": [
    "dataframe.resample('W').mean()"
   ]
  },
  {
   "cell_type": "code",
   "execution_count": 53,
   "id": "bcd1044d",
   "metadata": {
    "ExecuteTime": {
     "end_time": "2021-04-23T12:54:11.105545Z",
     "start_time": "2021-04-23T12:54:11.083606Z"
    }
   },
   "outputs": [
    {
     "data": {
      "text/html": [
       "<div>\n",
       "<style scoped>\n",
       "    .dataframe tbody tr th:only-of-type {\n",
       "        vertical-align: middle;\n",
       "    }\n",
       "\n",
       "    .dataframe tbody tr th {\n",
       "        vertical-align: top;\n",
       "    }\n",
       "\n",
       "    .dataframe thead th {\n",
       "        text-align: right;\n",
       "    }\n",
       "</style>\n",
       "<table border=\"1\" class=\"dataframe\">\n",
       "  <thead>\n",
       "    <tr style=\"text-align: right;\">\n",
       "      <th></th>\n",
       "      <th>Sale_Amount</th>\n",
       "    </tr>\n",
       "  </thead>\n",
       "  <tbody>\n",
       "    <tr>\n",
       "      <th>2017-06-11</th>\n",
       "      <td>86422</td>\n",
       "    </tr>\n",
       "    <tr>\n",
       "      <th>2017-06-25</th>\n",
       "      <td>201819</td>\n",
       "    </tr>\n",
       "    <tr>\n",
       "      <th>2017-07-09</th>\n",
       "      <td>201736</td>\n",
       "    </tr>\n",
       "    <tr>\n",
       "      <th>2017-07-23</th>\n",
       "      <td>10483</td>\n",
       "    </tr>\n",
       "  </tbody>\n",
       "</table>\n",
       "</div>"
      ],
      "text/plain": [
       "            Sale_Amount\n",
       "2017-06-11        86422\n",
       "2017-06-25       201819\n",
       "2017-07-09       201736\n",
       "2017-07-23        10483"
      ]
     },
     "execution_count": 53,
     "metadata": {},
     "output_type": "execute_result"
    }
   ],
   "source": [
    "dataframe.resample('2W').sum()"
   ]
  },
  {
   "cell_type": "markdown",
   "id": "d62cc7b8",
   "metadata": {},
   "source": [
    "## 3.15 Looping Over a Column "
   ]
  },
  {
   "cell_type": "code",
   "execution_count": 55,
   "id": "45d2cb9e",
   "metadata": {
    "ExecuteTime": {
     "end_time": "2021-04-23T12:56:28.028205Z",
     "start_time": "2021-04-23T12:56:27.556590Z"
    }
   },
   "outputs": [
    {
     "name": "stdout",
     "output_type": "stream",
     "text": [
      "ALLEN, MISS ELISABETH WALTON\n",
      "ALLISON, MISS HELEN LORAINE\n"
     ]
    }
   ],
   "source": [
    "dataframe = pd.read_csv(url) # reimporting titanic dataset\n",
    "for name in dataframe['Name'][0:2]:\n",
    "    print(name.upper())"
   ]
  },
  {
   "cell_type": "markdown",
   "id": "9f45fa68",
   "metadata": {},
   "source": [
    "## 3.16 Applying a Function Over All Elements in a Column "
   ]
  },
  {
   "cell_type": "code",
   "execution_count": 56,
   "id": "2e3cc842",
   "metadata": {
    "ExecuteTime": {
     "end_time": "2021-04-23T12:57:30.424422Z",
     "start_time": "2021-04-23T12:57:30.408795Z"
    }
   },
   "outputs": [
    {
     "data": {
      "text/plain": [
       "0    ALLEN, MISS ELISABETH WALTON\n",
       "1     ALLISON, MISS HELEN LORAINE\n",
       "Name: Name, dtype: object"
      ]
     },
     "execution_count": 56,
     "metadata": {},
     "output_type": "execute_result"
    }
   ],
   "source": [
    "def uppercase(x):\n",
    "    return x.upper()\n",
    "\n",
    "dataframe['Name'].apply(uppercase)[0:2]"
   ]
  },
  {
   "cell_type": "markdown",
   "id": "35828d87",
   "metadata": {},
   "source": [
    "## 3.17 Applying a Function to Groups "
   ]
  },
  {
   "cell_type": "code",
   "execution_count": 57,
   "id": "9aea9cf9",
   "metadata": {
    "ExecuteTime": {
     "end_time": "2021-04-23T12:58:14.418264Z",
     "start_time": "2021-04-23T12:58:14.385326Z"
    }
   },
   "outputs": [
    {
     "data": {
      "text/html": [
       "<div>\n",
       "<style scoped>\n",
       "    .dataframe tbody tr th:only-of-type {\n",
       "        vertical-align: middle;\n",
       "    }\n",
       "\n",
       "    .dataframe tbody tr th {\n",
       "        vertical-align: top;\n",
       "    }\n",
       "\n",
       "    .dataframe thead th {\n",
       "        text-align: right;\n",
       "    }\n",
       "</style>\n",
       "<table border=\"1\" class=\"dataframe\">\n",
       "  <thead>\n",
       "    <tr style=\"text-align: right;\">\n",
       "      <th></th>\n",
       "      <th>Name</th>\n",
       "      <th>PClass</th>\n",
       "      <th>Age</th>\n",
       "      <th>Sex</th>\n",
       "      <th>Survived</th>\n",
       "      <th>SexCode</th>\n",
       "    </tr>\n",
       "    <tr>\n",
       "      <th>Sex</th>\n",
       "      <th></th>\n",
       "      <th></th>\n",
       "      <th></th>\n",
       "      <th></th>\n",
       "      <th></th>\n",
       "      <th></th>\n",
       "    </tr>\n",
       "  </thead>\n",
       "  <tbody>\n",
       "    <tr>\n",
       "      <th>female</th>\n",
       "      <td>462</td>\n",
       "      <td>462</td>\n",
       "      <td>288</td>\n",
       "      <td>462</td>\n",
       "      <td>462</td>\n",
       "      <td>462</td>\n",
       "    </tr>\n",
       "    <tr>\n",
       "      <th>male</th>\n",
       "      <td>851</td>\n",
       "      <td>851</td>\n",
       "      <td>468</td>\n",
       "      <td>851</td>\n",
       "      <td>851</td>\n",
       "      <td>851</td>\n",
       "    </tr>\n",
       "  </tbody>\n",
       "</table>\n",
       "</div>"
      ],
      "text/plain": [
       "        Name  PClass  Age  Sex  Survived  SexCode\n",
       "Sex                                              \n",
       "female   462     462  288  462       462      462\n",
       "male     851     851  468  851       851      851"
      ]
     },
     "execution_count": 57,
     "metadata": {},
     "output_type": "execute_result"
    }
   ],
   "source": [
    "dataframe.groupby('Sex').apply(lambda x: x.count())"
   ]
  },
  {
   "cell_type": "markdown",
   "id": "e97d039b",
   "metadata": {},
   "source": [
    "## 3.18 Concatenating DataFrames "
   ]
  },
  {
   "cell_type": "code",
   "execution_count": 58,
   "id": "24c25e7c",
   "metadata": {
    "ExecuteTime": {
     "end_time": "2021-04-23T13:00:39.987245Z",
     "start_time": "2021-04-23T13:00:39.975277Z"
    }
   },
   "outputs": [],
   "source": [
    "data_a = {'id': ['1','2','3'],\n",
    "          'first': ['Alex', 'Amy','Allen'],\n",
    "          'last': ['Anderson', 'Ackerman', 'Ali']}\n",
    "\n",
    "dataframe_a = pd.DataFrame(data_a, columns = ['id', 'first', 'last'])"
   ]
  },
  {
   "cell_type": "code",
   "execution_count": 59,
   "id": "b96bcd30",
   "metadata": {
    "ExecuteTime": {
     "end_time": "2021-04-23T13:01:48.808080Z",
     "start_time": "2021-04-23T13:01:48.787138Z"
    }
   },
   "outputs": [],
   "source": [
    "data_b = {'id': ['4','5','6'],\n",
    "          'first': ['Billy', 'Brian','Bran'],\n",
    "          'last': ['Bonder', 'Black', 'Balwner']}\n",
    "\n",
    "dataframe_b = pd.DataFrame(data_b, columns = ['id', 'first', 'last'])"
   ]
  },
  {
   "cell_type": "code",
   "execution_count": 60,
   "id": "958e6f29",
   "metadata": {
    "ExecuteTime": {
     "end_time": "2021-04-23T13:02:01.214045Z",
     "start_time": "2021-04-23T13:02:01.200083Z"
    }
   },
   "outputs": [
    {
     "data": {
      "text/html": [
       "<div>\n",
       "<style scoped>\n",
       "    .dataframe tbody tr th:only-of-type {\n",
       "        vertical-align: middle;\n",
       "    }\n",
       "\n",
       "    .dataframe tbody tr th {\n",
       "        vertical-align: top;\n",
       "    }\n",
       "\n",
       "    .dataframe thead th {\n",
       "        text-align: right;\n",
       "    }\n",
       "</style>\n",
       "<table border=\"1\" class=\"dataframe\">\n",
       "  <thead>\n",
       "    <tr style=\"text-align: right;\">\n",
       "      <th></th>\n",
       "      <th>id</th>\n",
       "      <th>first</th>\n",
       "      <th>last</th>\n",
       "    </tr>\n",
       "  </thead>\n",
       "  <tbody>\n",
       "    <tr>\n",
       "      <th>0</th>\n",
       "      <td>1</td>\n",
       "      <td>Alex</td>\n",
       "      <td>Anderson</td>\n",
       "    </tr>\n",
       "    <tr>\n",
       "      <th>1</th>\n",
       "      <td>2</td>\n",
       "      <td>Amy</td>\n",
       "      <td>Ackerman</td>\n",
       "    </tr>\n",
       "    <tr>\n",
       "      <th>2</th>\n",
       "      <td>3</td>\n",
       "      <td>Allen</td>\n",
       "      <td>Ali</td>\n",
       "    </tr>\n",
       "    <tr>\n",
       "      <th>0</th>\n",
       "      <td>4</td>\n",
       "      <td>Billy</td>\n",
       "      <td>Bonder</td>\n",
       "    </tr>\n",
       "    <tr>\n",
       "      <th>1</th>\n",
       "      <td>5</td>\n",
       "      <td>Brian</td>\n",
       "      <td>Black</td>\n",
       "    </tr>\n",
       "    <tr>\n",
       "      <th>2</th>\n",
       "      <td>6</td>\n",
       "      <td>Bran</td>\n",
       "      <td>Balwner</td>\n",
       "    </tr>\n",
       "  </tbody>\n",
       "</table>\n",
       "</div>"
      ],
      "text/plain": [
       "  id  first      last\n",
       "0  1   Alex  Anderson\n",
       "1  2    Amy  Ackerman\n",
       "2  3  Allen       Ali\n",
       "0  4  Billy    Bonder\n",
       "1  5  Brian     Black\n",
       "2  6   Bran   Balwner"
      ]
     },
     "execution_count": 60,
     "metadata": {},
     "output_type": "execute_result"
    }
   ],
   "source": [
    "pd.concat([dataframe_a, dataframe_b], axis = 0)"
   ]
  },
  {
   "cell_type": "code",
   "execution_count": 61,
   "id": "f361287b",
   "metadata": {
    "ExecuteTime": {
     "end_time": "2021-04-23T13:02:11.393528Z",
     "start_time": "2021-04-23T13:02:11.375577Z"
    }
   },
   "outputs": [
    {
     "data": {
      "text/html": [
       "<div>\n",
       "<style scoped>\n",
       "    .dataframe tbody tr th:only-of-type {\n",
       "        vertical-align: middle;\n",
       "    }\n",
       "\n",
       "    .dataframe tbody tr th {\n",
       "        vertical-align: top;\n",
       "    }\n",
       "\n",
       "    .dataframe thead th {\n",
       "        text-align: right;\n",
       "    }\n",
       "</style>\n",
       "<table border=\"1\" class=\"dataframe\">\n",
       "  <thead>\n",
       "    <tr style=\"text-align: right;\">\n",
       "      <th></th>\n",
       "      <th>id</th>\n",
       "      <th>first</th>\n",
       "      <th>last</th>\n",
       "      <th>id</th>\n",
       "      <th>first</th>\n",
       "      <th>last</th>\n",
       "    </tr>\n",
       "  </thead>\n",
       "  <tbody>\n",
       "    <tr>\n",
       "      <th>0</th>\n",
       "      <td>1</td>\n",
       "      <td>Alex</td>\n",
       "      <td>Anderson</td>\n",
       "      <td>4</td>\n",
       "      <td>Billy</td>\n",
       "      <td>Bonder</td>\n",
       "    </tr>\n",
       "    <tr>\n",
       "      <th>1</th>\n",
       "      <td>2</td>\n",
       "      <td>Amy</td>\n",
       "      <td>Ackerman</td>\n",
       "      <td>5</td>\n",
       "      <td>Brian</td>\n",
       "      <td>Black</td>\n",
       "    </tr>\n",
       "    <tr>\n",
       "      <th>2</th>\n",
       "      <td>3</td>\n",
       "      <td>Allen</td>\n",
       "      <td>Ali</td>\n",
       "      <td>6</td>\n",
       "      <td>Bran</td>\n",
       "      <td>Balwner</td>\n",
       "    </tr>\n",
       "  </tbody>\n",
       "</table>\n",
       "</div>"
      ],
      "text/plain": [
       "  id  first      last id  first     last\n",
       "0  1   Alex  Anderson  4  Billy   Bonder\n",
       "1  2    Amy  Ackerman  5  Brian    Black\n",
       "2  3  Allen       Ali  6   Bran  Balwner"
      ]
     },
     "execution_count": 61,
     "metadata": {},
     "output_type": "execute_result"
    }
   ],
   "source": [
    "pd.concat([dataframe_a, dataframe_b], axis = 1)"
   ]
  },
  {
   "cell_type": "code",
   "execution_count": 62,
   "id": "83dbe5e9",
   "metadata": {
    "ExecuteTime": {
     "end_time": "2021-04-23T13:03:15.926657Z",
     "start_time": "2021-04-23T13:03:15.913659Z"
    }
   },
   "outputs": [
    {
     "data": {
      "text/html": [
       "<div>\n",
       "<style scoped>\n",
       "    .dataframe tbody tr th:only-of-type {\n",
       "        vertical-align: middle;\n",
       "    }\n",
       "\n",
       "    .dataframe tbody tr th {\n",
       "        vertical-align: top;\n",
       "    }\n",
       "\n",
       "    .dataframe thead th {\n",
       "        text-align: right;\n",
       "    }\n",
       "</style>\n",
       "<table border=\"1\" class=\"dataframe\">\n",
       "  <thead>\n",
       "    <tr style=\"text-align: right;\">\n",
       "      <th></th>\n",
       "      <th>id</th>\n",
       "      <th>first</th>\n",
       "      <th>last</th>\n",
       "    </tr>\n",
       "  </thead>\n",
       "  <tbody>\n",
       "    <tr>\n",
       "      <th>0</th>\n",
       "      <td>1</td>\n",
       "      <td>Alex</td>\n",
       "      <td>Anderson</td>\n",
       "    </tr>\n",
       "    <tr>\n",
       "      <th>1</th>\n",
       "      <td>2</td>\n",
       "      <td>Amy</td>\n",
       "      <td>Ackerman</td>\n",
       "    </tr>\n",
       "    <tr>\n",
       "      <th>2</th>\n",
       "      <td>3</td>\n",
       "      <td>Allen</td>\n",
       "      <td>Ali</td>\n",
       "    </tr>\n",
       "    <tr>\n",
       "      <th>3</th>\n",
       "      <td>10</td>\n",
       "      <td>Chris</td>\n",
       "      <td>Chillon</td>\n",
       "    </tr>\n",
       "  </tbody>\n",
       "</table>\n",
       "</div>"
      ],
      "text/plain": [
       "   id  first      last\n",
       "0   1   Alex  Anderson\n",
       "1   2    Amy  Ackerman\n",
       "2   3  Allen       Ali\n",
       "3  10  Chris   Chillon"
      ]
     },
     "execution_count": 62,
     "metadata": {},
     "output_type": "execute_result"
    }
   ],
   "source": [
    "row = pd.Series([10, 'Chris', 'Chillon'], index = ['id', 'first', 'last'])\n",
    "dataframe_a.append(row, ignore_index=True)"
   ]
  },
  {
   "cell_type": "markdown",
   "id": "defb886c",
   "metadata": {},
   "source": [
    "## 3.19 Merging DataFrames "
   ]
  },
  {
   "cell_type": "code",
   "execution_count": 63,
   "id": "6c452bf7",
   "metadata": {
    "ExecuteTime": {
     "end_time": "2021-04-23T13:05:12.518350Z",
     "start_time": "2021-04-23T13:05:12.502728Z"
    }
   },
   "outputs": [],
   "source": [
    "employee_data = {\n",
    "    'employee_id': ['1', '2', '3', '4'],\n",
    "    'name': ['Amy Jones', 'Allen Keys', 'Alice Bees', 'Tim Horton']\n",
    "}\n",
    "\n",
    "dataframe_employees = pd.DataFrame(employee_data, columns = ['employee_id', 'name'])"
   ]
  },
  {
   "cell_type": "code",
   "execution_count": 66,
   "id": "81c0170c",
   "metadata": {
    "ExecuteTime": {
     "end_time": "2021-04-23T13:07:21.822975Z",
     "start_time": "2021-04-23T13:07:21.804026Z"
    }
   },
   "outputs": [],
   "source": [
    "sales_data = {\n",
    "    'employee_id': ['3', '4', '5', '6'],\n",
    "    'total_sales': ['23456', '2512', '2345', '1455']\n",
    "             }\n",
    "dataframe_sales = pd.DataFrame(sales_data, columns = ['employee_id', 'total_sales'])"
   ]
  },
  {
   "cell_type": "code",
   "execution_count": 67,
   "id": "79f8192f",
   "metadata": {
    "ExecuteTime": {
     "end_time": "2021-04-23T13:07:22.747333Z",
     "start_time": "2021-04-23T13:07:22.716376Z"
    }
   },
   "outputs": [
    {
     "data": {
      "text/html": [
       "<div>\n",
       "<style scoped>\n",
       "    .dataframe tbody tr th:only-of-type {\n",
       "        vertical-align: middle;\n",
       "    }\n",
       "\n",
       "    .dataframe tbody tr th {\n",
       "        vertical-align: top;\n",
       "    }\n",
       "\n",
       "    .dataframe thead th {\n",
       "        text-align: right;\n",
       "    }\n",
       "</style>\n",
       "<table border=\"1\" class=\"dataframe\">\n",
       "  <thead>\n",
       "    <tr style=\"text-align: right;\">\n",
       "      <th></th>\n",
       "      <th>employee_id</th>\n",
       "      <th>name</th>\n",
       "      <th>total_sales</th>\n",
       "    </tr>\n",
       "  </thead>\n",
       "  <tbody>\n",
       "    <tr>\n",
       "      <th>0</th>\n",
       "      <td>3</td>\n",
       "      <td>Alice Bees</td>\n",
       "      <td>23456</td>\n",
       "    </tr>\n",
       "    <tr>\n",
       "      <th>1</th>\n",
       "      <td>4</td>\n",
       "      <td>Tim Horton</td>\n",
       "      <td>2512</td>\n",
       "    </tr>\n",
       "  </tbody>\n",
       "</table>\n",
       "</div>"
      ],
      "text/plain": [
       "  employee_id        name total_sales\n",
       "0           3  Alice Bees       23456\n",
       "1           4  Tim Horton        2512"
      ]
     },
     "execution_count": 67,
     "metadata": {},
     "output_type": "execute_result"
    }
   ],
   "source": [
    "pd.merge(dataframe_employees, dataframe_sales, on = 'employee_id')"
   ]
  },
  {
   "cell_type": "code",
   "execution_count": 68,
   "id": "f31e2328",
   "metadata": {
    "ExecuteTime": {
     "end_time": "2021-04-23T13:09:07.783027Z",
     "start_time": "2021-04-23T13:09:07.768099Z"
    }
   },
   "outputs": [
    {
     "data": {
      "text/html": [
       "<div>\n",
       "<style scoped>\n",
       "    .dataframe tbody tr th:only-of-type {\n",
       "        vertical-align: middle;\n",
       "    }\n",
       "\n",
       "    .dataframe tbody tr th {\n",
       "        vertical-align: top;\n",
       "    }\n",
       "\n",
       "    .dataframe thead th {\n",
       "        text-align: right;\n",
       "    }\n",
       "</style>\n",
       "<table border=\"1\" class=\"dataframe\">\n",
       "  <thead>\n",
       "    <tr style=\"text-align: right;\">\n",
       "      <th></th>\n",
       "      <th>employee_id</th>\n",
       "      <th>name</th>\n",
       "      <th>total_sales</th>\n",
       "    </tr>\n",
       "  </thead>\n",
       "  <tbody>\n",
       "    <tr>\n",
       "      <th>0</th>\n",
       "      <td>1</td>\n",
       "      <td>Amy Jones</td>\n",
       "      <td>NaN</td>\n",
       "    </tr>\n",
       "    <tr>\n",
       "      <th>1</th>\n",
       "      <td>2</td>\n",
       "      <td>Allen Keys</td>\n",
       "      <td>NaN</td>\n",
       "    </tr>\n",
       "    <tr>\n",
       "      <th>2</th>\n",
       "      <td>3</td>\n",
       "      <td>Alice Bees</td>\n",
       "      <td>23456</td>\n",
       "    </tr>\n",
       "    <tr>\n",
       "      <th>3</th>\n",
       "      <td>4</td>\n",
       "      <td>Tim Horton</td>\n",
       "      <td>2512</td>\n",
       "    </tr>\n",
       "    <tr>\n",
       "      <th>4</th>\n",
       "      <td>5</td>\n",
       "      <td>NaN</td>\n",
       "      <td>2345</td>\n",
       "    </tr>\n",
       "    <tr>\n",
       "      <th>5</th>\n",
       "      <td>6</td>\n",
       "      <td>NaN</td>\n",
       "      <td>1455</td>\n",
       "    </tr>\n",
       "  </tbody>\n",
       "</table>\n",
       "</div>"
      ],
      "text/plain": [
       "  employee_id        name total_sales\n",
       "0           1   Amy Jones         NaN\n",
       "1           2  Allen Keys         NaN\n",
       "2           3  Alice Bees       23456\n",
       "3           4  Tim Horton        2512\n",
       "4           5         NaN        2345\n",
       "5           6         NaN        1455"
      ]
     },
     "execution_count": 68,
     "metadata": {},
     "output_type": "execute_result"
    }
   ],
   "source": [
    "pd.merge(dataframe_employees, dataframe_sales, on = 'employee_id', how = 'outer')"
   ]
  },
  {
   "cell_type": "code",
   "execution_count": 71,
   "id": "c4ab7ebe",
   "metadata": {
    "ExecuteTime": {
     "end_time": "2021-04-23T13:10:56.187009Z",
     "start_time": "2021-04-23T13:10:56.170023Z"
    }
   },
   "outputs": [
    {
     "data": {
      "text/html": [
       "<div>\n",
       "<style scoped>\n",
       "    .dataframe tbody tr th:only-of-type {\n",
       "        vertical-align: middle;\n",
       "    }\n",
       "\n",
       "    .dataframe tbody tr th {\n",
       "        vertical-align: top;\n",
       "    }\n",
       "\n",
       "    .dataframe thead th {\n",
       "        text-align: right;\n",
       "    }\n",
       "</style>\n",
       "<table border=\"1\" class=\"dataframe\">\n",
       "  <thead>\n",
       "    <tr style=\"text-align: right;\">\n",
       "      <th></th>\n",
       "      <th>employee_id</th>\n",
       "      <th>name</th>\n",
       "      <th>total_sales</th>\n",
       "    </tr>\n",
       "  </thead>\n",
       "  <tbody>\n",
       "    <tr>\n",
       "      <th>0</th>\n",
       "      <td>1</td>\n",
       "      <td>Amy Jones</td>\n",
       "      <td>NaN</td>\n",
       "    </tr>\n",
       "    <tr>\n",
       "      <th>1</th>\n",
       "      <td>2</td>\n",
       "      <td>Allen Keys</td>\n",
       "      <td>NaN</td>\n",
       "    </tr>\n",
       "    <tr>\n",
       "      <th>2</th>\n",
       "      <td>3</td>\n",
       "      <td>Alice Bees</td>\n",
       "      <td>23456</td>\n",
       "    </tr>\n",
       "    <tr>\n",
       "      <th>3</th>\n",
       "      <td>4</td>\n",
       "      <td>Tim Horton</td>\n",
       "      <td>2512</td>\n",
       "    </tr>\n",
       "  </tbody>\n",
       "</table>\n",
       "</div>"
      ],
      "text/plain": [
       "  employee_id        name total_sales\n",
       "0           1   Amy Jones         NaN\n",
       "1           2  Allen Keys         NaN\n",
       "2           3  Alice Bees       23456\n",
       "3           4  Tim Horton        2512"
      ]
     },
     "execution_count": 71,
     "metadata": {},
     "output_type": "execute_result"
    }
   ],
   "source": [
    "pd.merge(dataframe_employees, dataframe_sales, on = 'employee_id', how = 'left')"
   ]
  },
  {
   "cell_type": "code",
   "execution_count": 72,
   "id": "ef7b3c8f",
   "metadata": {
    "ExecuteTime": {
     "end_time": "2021-04-23T13:11:46.833361Z",
     "start_time": "2021-04-23T13:11:46.807399Z"
    }
   },
   "outputs": [
    {
     "data": {
      "text/html": [
       "<div>\n",
       "<style scoped>\n",
       "    .dataframe tbody tr th:only-of-type {\n",
       "        vertical-align: middle;\n",
       "    }\n",
       "\n",
       "    .dataframe tbody tr th {\n",
       "        vertical-align: top;\n",
       "    }\n",
       "\n",
       "    .dataframe thead th {\n",
       "        text-align: right;\n",
       "    }\n",
       "</style>\n",
       "<table border=\"1\" class=\"dataframe\">\n",
       "  <thead>\n",
       "    <tr style=\"text-align: right;\">\n",
       "      <th></th>\n",
       "      <th>employee_id</th>\n",
       "      <th>name</th>\n",
       "      <th>total_sales</th>\n",
       "    </tr>\n",
       "  </thead>\n",
       "  <tbody>\n",
       "    <tr>\n",
       "      <th>0</th>\n",
       "      <td>3</td>\n",
       "      <td>Alice Bees</td>\n",
       "      <td>23456</td>\n",
       "    </tr>\n",
       "    <tr>\n",
       "      <th>1</th>\n",
       "      <td>4</td>\n",
       "      <td>Tim Horton</td>\n",
       "      <td>2512</td>\n",
       "    </tr>\n",
       "  </tbody>\n",
       "</table>\n",
       "</div>"
      ],
      "text/plain": [
       "  employee_id        name total_sales\n",
       "0           3  Alice Bees       23456\n",
       "1           4  Tim Horton        2512"
      ]
     },
     "execution_count": 72,
     "metadata": {},
     "output_type": "execute_result"
    }
   ],
   "source": [
    "pd.merge(dataframe_employees, dataframe_sales, left_on = 'employee_id', right_on = 'employee_id')"
   ]
  },
  {
   "cell_type": "code",
   "execution_count": null,
   "id": "0a69158a",
   "metadata": {},
   "outputs": [],
   "source": []
  }
 ],
 "metadata": {
  "kernelspec": {
   "display_name": "Python 3",
   "language": "python",
   "name": "python3"
  },
  "language_info": {
   "codemirror_mode": {
    "name": "ipython",
    "version": 3
   },
   "file_extension": ".py",
   "mimetype": "text/x-python",
   "name": "python",
   "nbconvert_exporter": "python",
   "pygments_lexer": "ipython3",
   "version": "3.8.5"
  }
 },
 "nbformat": 4,
 "nbformat_minor": 5
}
