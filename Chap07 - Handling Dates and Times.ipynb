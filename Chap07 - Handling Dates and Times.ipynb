{
 "cells": [
  {
   "cell_type": "markdown",
   "id": "495c18fc",
   "metadata": {},
   "source": [
    "<h1>Chap07 - Handling Dates and Times</h1>"
   ]
  },
  {
   "cell_type": "markdown",
   "id": "fc8f2a44",
   "metadata": {},
   "source": [
    "Imports"
   ]
  },
  {
   "cell_type": "code",
   "execution_count": 17,
   "id": "e86e0efe",
   "metadata": {
    "ExecuteTime": {
     "end_time": "2021-04-30T17:45:12.761425Z",
     "start_time": "2021-04-30T17:45:12.744469Z"
    }
   },
   "outputs": [],
   "source": [
    "import numpy as np\n",
    "import pandas as pd\n",
    "from pytz import all_timezones"
   ]
  },
  {
   "cell_type": "markdown",
   "id": "8dbcd6f0",
   "metadata": {},
   "source": [
    "## 7.1 Converting Strings to Dates "
   ]
  },
  {
   "cell_type": "code",
   "execution_count": 3,
   "id": "289aa422",
   "metadata": {
    "ExecuteTime": {
     "end_time": "2021-04-30T17:21:38.004995Z",
     "start_time": "2021-04-30T17:21:37.987041Z"
    }
   },
   "outputs": [],
   "source": [
    "date_strings = np.array(['03-04-2005 11:35 PM',\n",
    "                         '23-05-2010 12:01 AM',\n",
    "                         '04-09-2009 09:09 PM'])"
   ]
  },
  {
   "cell_type": "code",
   "execution_count": 4,
   "id": "be9e9eda",
   "metadata": {
    "ExecuteTime": {
     "end_time": "2021-04-30T17:29:44.503163Z",
     "start_time": "2021-04-30T17:29:44.483190Z"
    }
   },
   "outputs": [
    {
     "data": {
      "text/plain": [
       "[Timestamp('2005-04-03 23:35:00'),\n",
       " Timestamp('2010-05-23 00:01:00'),\n",
       " Timestamp('2009-09-04 21:09:00')]"
      ]
     },
     "execution_count": 4,
     "metadata": {},
     "output_type": "execute_result"
    }
   ],
   "source": [
    "[pd.to_datetime(date, format='%d-%m-%Y %I:%M %p') for date in date_strings]"
   ]
  },
  {
   "cell_type": "code",
   "execution_count": 5,
   "id": "bff114eb",
   "metadata": {
    "ExecuteTime": {
     "end_time": "2021-04-30T17:30:14.882091Z",
     "start_time": "2021-04-30T17:30:14.870123Z"
    }
   },
   "outputs": [
    {
     "data": {
      "text/plain": [
       "[Timestamp('2005-04-03 23:35:00'),\n",
       " Timestamp('2010-05-23 00:01:00'),\n",
       " Timestamp('2009-09-04 21:09:00')]"
      ]
     },
     "execution_count": 5,
     "metadata": {},
     "output_type": "execute_result"
    }
   ],
   "source": [
    "[pd.to_datetime(date, format='%d-%m-%Y %I:%M %p', errors = 'coerce') for date in date_strings]"
   ]
  },
  {
   "cell_type": "markdown",
   "id": "0d79eacf",
   "metadata": {},
   "source": [
    "## 7.2 Handling Timezones "
   ]
  },
  {
   "cell_type": "code",
   "execution_count": 6,
   "id": "5c2ea90c",
   "metadata": {
    "ExecuteTime": {
     "end_time": "2021-04-30T17:40:04.658947Z",
     "start_time": "2021-04-30T17:40:01.838774Z"
    }
   },
   "outputs": [
    {
     "data": {
      "text/plain": [
       "Timestamp('2017-05-01 06:00:00+0100', tz='Europe/London')"
      ]
     },
     "execution_count": 6,
     "metadata": {},
     "output_type": "execute_result"
    }
   ],
   "source": [
    "pd.Timestamp('2017-05-01 06:00:00', tz='Europe/London')"
   ]
  },
  {
   "cell_type": "code",
   "execution_count": 9,
   "id": "564877b5",
   "metadata": {
    "ExecuteTime": {
     "end_time": "2021-04-30T17:41:07.848106Z",
     "start_time": "2021-04-30T17:41:07.841134Z"
    }
   },
   "outputs": [
    {
     "data": {
      "text/plain": [
       "Timestamp('2017-05-01 06:00:00+0100', tz='Europe/London')"
      ]
     },
     "execution_count": 9,
     "metadata": {},
     "output_type": "execute_result"
    }
   ],
   "source": [
    "date = pd.Timestamp('2017-05-01 06:00:00')\n",
    "date_in_london = date.tz_localize('Europe/London')\n",
    "date_in_london"
   ]
  },
  {
   "cell_type": "code",
   "execution_count": 11,
   "id": "67f8e2b3",
   "metadata": {
    "ExecuteTime": {
     "end_time": "2021-04-30T17:41:43.808022Z",
     "start_time": "2021-04-30T17:41:43.792035Z"
    }
   },
   "outputs": [
    {
     "data": {
      "text/plain": [
       "Timestamp('2017-05-01 05:00:00+0000', tz='Africa/Abidjan')"
      ]
     },
     "execution_count": 11,
     "metadata": {},
     "output_type": "execute_result"
    }
   ],
   "source": [
    "date_in_london.tz_convert('Africa/Abidjan')"
   ]
  },
  {
   "cell_type": "code",
   "execution_count": 15,
   "id": "b8da8633",
   "metadata": {
    "ExecuteTime": {
     "end_time": "2021-04-30T17:44:39.570915Z",
     "start_time": "2021-04-30T17:44:39.544976Z"
    }
   },
   "outputs": [
    {
     "data": {
      "text/plain": [
       "0   2002-02-28 00:00:00+00:00\n",
       "1   2002-03-31 00:00:00+00:00\n",
       "2   2002-04-30 00:00:00+00:00\n",
       "dtype: datetime64[ns, Africa/Abidjan]"
      ]
     },
     "execution_count": 15,
     "metadata": {},
     "output_type": "execute_result"
    }
   ],
   "source": [
    "#Create dates\n",
    "dates = pd.Series(pd.date_range('2/2/2002', periods=3, freq='M'))\n",
    "\n",
    "#Set time zone\n",
    "dates.dt.tz_localize('Africa/Abidjan')"
   ]
  },
  {
   "cell_type": "code",
   "execution_count": 18,
   "id": "240e2928",
   "metadata": {
    "ExecuteTime": {
     "end_time": "2021-04-30T17:46:00.562966Z",
     "start_time": "2021-04-30T17:46:00.546013Z"
    }
   },
   "outputs": [
    {
     "data": {
      "text/plain": [
       "['Africa/Abidjan', 'Africa/Accra']"
      ]
     },
     "execution_count": 18,
     "metadata": {},
     "output_type": "execute_result"
    }
   ],
   "source": [
    "all_timezones[0:2]"
   ]
  },
  {
   "cell_type": "markdown",
   "id": "fe6a8b87",
   "metadata": {},
   "source": [
    "## 7.3 Selecting Dates and Times "
   ]
  },
  {
   "cell_type": "code",
   "execution_count": 19,
   "id": "02a67620",
   "metadata": {
    "ExecuteTime": {
     "end_time": "2021-04-30T17:48:07.605051Z",
     "start_time": "2021-04-30T17:48:07.560168Z"
    }
   },
   "outputs": [
    {
     "data": {
      "text/html": [
       "<div>\n",
       "<style scoped>\n",
       "    .dataframe tbody tr th:only-of-type {\n",
       "        vertical-align: middle;\n",
       "    }\n",
       "\n",
       "    .dataframe tbody tr th {\n",
       "        vertical-align: top;\n",
       "    }\n",
       "\n",
       "    .dataframe thead th {\n",
       "        text-align: right;\n",
       "    }\n",
       "</style>\n",
       "<table border=\"1\" class=\"dataframe\">\n",
       "  <thead>\n",
       "    <tr style=\"text-align: right;\">\n",
       "      <th></th>\n",
       "      <th>date</th>\n",
       "    </tr>\n",
       "  </thead>\n",
       "  <tbody>\n",
       "    <tr>\n",
       "      <th>8762</th>\n",
       "      <td>2002-01-01 02:00:00</td>\n",
       "    </tr>\n",
       "    <tr>\n",
       "      <th>8763</th>\n",
       "      <td>2002-01-01 03:00:00</td>\n",
       "    </tr>\n",
       "    <tr>\n",
       "      <th>8764</th>\n",
       "      <td>2002-01-01 04:00:00</td>\n",
       "    </tr>\n",
       "  </tbody>\n",
       "</table>\n",
       "</div>"
      ],
      "text/plain": [
       "                    date\n",
       "8762 2002-01-01 02:00:00\n",
       "8763 2002-01-01 03:00:00\n",
       "8764 2002-01-01 04:00:00"
      ]
     },
     "execution_count": 19,
     "metadata": {},
     "output_type": "execute_result"
    }
   ],
   "source": [
    "dataframe = pd.DataFrame()\n",
    "dataframe['date'] = pd.date_range('1/1/2001', periods=100000, freq='H')\n",
    "dataframe[(dataframe['date'] > '2002-1-1 01:00:00') & (dataframe['date'] <= '2002-1-1 04:00:00')]"
   ]
  },
  {
   "cell_type": "code",
   "execution_count": 21,
   "id": "28fc4826",
   "metadata": {
    "ExecuteTime": {
     "end_time": "2021-04-30T17:49:01.253595Z",
     "start_time": "2021-04-30T17:49:01.234620Z"
    }
   },
   "outputs": [],
   "source": [
    "dataframe = dataframe.set_index(dataframe['date'])"
   ]
  },
  {
   "cell_type": "code",
   "execution_count": 22,
   "id": "facdb4fc",
   "metadata": {
    "ExecuteTime": {
     "end_time": "2021-04-30T17:49:33.316340Z",
     "start_time": "2021-04-30T17:49:33.285396Z"
    }
   },
   "outputs": [
    {
     "data": {
      "text/html": [
       "<div>\n",
       "<style scoped>\n",
       "    .dataframe tbody tr th:only-of-type {\n",
       "        vertical-align: middle;\n",
       "    }\n",
       "\n",
       "    .dataframe tbody tr th {\n",
       "        vertical-align: top;\n",
       "    }\n",
       "\n",
       "    .dataframe thead th {\n",
       "        text-align: right;\n",
       "    }\n",
       "</style>\n",
       "<table border=\"1\" class=\"dataframe\">\n",
       "  <thead>\n",
       "    <tr style=\"text-align: right;\">\n",
       "      <th></th>\n",
       "      <th>date</th>\n",
       "    </tr>\n",
       "    <tr>\n",
       "      <th>date</th>\n",
       "      <th></th>\n",
       "    </tr>\n",
       "  </thead>\n",
       "  <tbody>\n",
       "    <tr>\n",
       "      <th>2002-01-01 01:00:00</th>\n",
       "      <td>2002-01-01 01:00:00</td>\n",
       "    </tr>\n",
       "    <tr>\n",
       "      <th>2002-01-01 02:00:00</th>\n",
       "      <td>2002-01-01 02:00:00</td>\n",
       "    </tr>\n",
       "    <tr>\n",
       "      <th>2002-01-01 03:00:00</th>\n",
       "      <td>2002-01-01 03:00:00</td>\n",
       "    </tr>\n",
       "    <tr>\n",
       "      <th>2002-01-01 04:00:00</th>\n",
       "      <td>2002-01-01 04:00:00</td>\n",
       "    </tr>\n",
       "  </tbody>\n",
       "</table>\n",
       "</div>"
      ],
      "text/plain": [
       "                                   date\n",
       "date                                   \n",
       "2002-01-01 01:00:00 2002-01-01 01:00:00\n",
       "2002-01-01 02:00:00 2002-01-01 02:00:00\n",
       "2002-01-01 03:00:00 2002-01-01 03:00:00\n",
       "2002-01-01 04:00:00 2002-01-01 04:00:00"
      ]
     },
     "execution_count": 22,
     "metadata": {},
     "output_type": "execute_result"
    }
   ],
   "source": [
    "dataframe['2002-1-1 01:00:00':'2002-1-1 04:00:00']"
   ]
  },
  {
   "cell_type": "markdown",
   "id": "f3797420",
   "metadata": {},
   "source": [
    "## 7.4 Breaking Up Date Data into Multiple Features "
   ]
  },
  {
   "cell_type": "code",
   "execution_count": 25,
   "id": "cb7d0caa",
   "metadata": {
    "ExecuteTime": {
     "end_time": "2021-04-30T17:57:18.853281Z",
     "start_time": "2021-04-30T17:57:18.826349Z"
    }
   },
   "outputs": [
    {
     "data": {
      "text/html": [
       "<div>\n",
       "<style scoped>\n",
       "    .dataframe tbody tr th:only-of-type {\n",
       "        vertical-align: middle;\n",
       "    }\n",
       "\n",
       "    .dataframe tbody tr th {\n",
       "        vertical-align: top;\n",
       "    }\n",
       "\n",
       "    .dataframe thead th {\n",
       "        text-align: right;\n",
       "    }\n",
       "</style>\n",
       "<table border=\"1\" class=\"dataframe\">\n",
       "  <thead>\n",
       "    <tr style=\"text-align: right;\">\n",
       "      <th></th>\n",
       "      <th>date</th>\n",
       "      <th>year</th>\n",
       "      <th>month</th>\n",
       "      <th>day</th>\n",
       "      <th>hour</th>\n",
       "      <th>minute</th>\n",
       "    </tr>\n",
       "  </thead>\n",
       "  <tbody>\n",
       "    <tr>\n",
       "      <th>0</th>\n",
       "      <td>2001-01-07</td>\n",
       "      <td>2001</td>\n",
       "      <td>1</td>\n",
       "      <td>7</td>\n",
       "      <td>0</td>\n",
       "      <td>0</td>\n",
       "    </tr>\n",
       "    <tr>\n",
       "      <th>1</th>\n",
       "      <td>2001-01-14</td>\n",
       "      <td>2001</td>\n",
       "      <td>1</td>\n",
       "      <td>14</td>\n",
       "      <td>0</td>\n",
       "      <td>0</td>\n",
       "    </tr>\n",
       "    <tr>\n",
       "      <th>2</th>\n",
       "      <td>2001-01-21</td>\n",
       "      <td>2001</td>\n",
       "      <td>1</td>\n",
       "      <td>21</td>\n",
       "      <td>0</td>\n",
       "      <td>0</td>\n",
       "    </tr>\n",
       "  </tbody>\n",
       "</table>\n",
       "</div>"
      ],
      "text/plain": [
       "        date  year  month  day  hour  minute\n",
       "0 2001-01-07  2001      1    7     0       0\n",
       "1 2001-01-14  2001      1   14     0       0\n",
       "2 2001-01-21  2001      1   21     0       0"
      ]
     },
     "execution_count": 25,
     "metadata": {},
     "output_type": "execute_result"
    }
   ],
   "source": [
    "dataframe = pd.DataFrame()\n",
    "dataframe['date'] = pd.date_range('1/1/2001', periods=150, freq='W')\n",
    "\n",
    "dataframe['year'] = dataframe['date'].dt.year\n",
    "dataframe['month'] = dataframe['date'].dt.month\n",
    "dataframe['day'] = dataframe['date'].dt.day\n",
    "dataframe['hour'] = dataframe['date'].dt.hour\n",
    "dataframe['minute'] = dataframe.date.dt.minute\n",
    "\n",
    "dataframe.head(3)"
   ]
  },
  {
   "cell_type": "markdown",
   "id": "70530a29",
   "metadata": {},
   "source": [
    "## 7.5 Calculating the Differences Between Dates"
   ]
  },
  {
   "cell_type": "code",
   "execution_count": 26,
   "id": "30b2f5c5",
   "metadata": {
    "ExecuteTime": {
     "end_time": "2021-04-30T17:59:04.367180Z",
     "start_time": "2021-04-30T17:59:04.355209Z"
    }
   },
   "outputs": [],
   "source": [
    "dataframe = pd.DataFrame()"
   ]
  },
  {
   "cell_type": "code",
   "execution_count": 27,
   "id": "dd59ba21",
   "metadata": {
    "ExecuteTime": {
     "end_time": "2021-04-30T18:00:09.743549Z",
     "start_time": "2021-04-30T18:00:09.731582Z"
    }
   },
   "outputs": [],
   "source": [
    "dataframe['Arrived'] = [pd.Timestamp('01-01-2017'), pd.Timestamp('01-04-2017')]\n",
    "dataframe['Left'] = [pd.Timestamp('01-01-2017'), pd.Timestamp('01-06-2017')]"
   ]
  },
  {
   "cell_type": "code",
   "execution_count": 30,
   "id": "c12f95fd",
   "metadata": {
    "ExecuteTime": {
     "end_time": "2021-04-30T18:00:53.847544Z",
     "start_time": "2021-04-30T18:00:53.832588Z"
    }
   },
   "outputs": [
    {
     "data": {
      "text/plain": [
       "0   0 days\n",
       "1   2 days\n",
       "dtype: timedelta64[ns]"
      ]
     },
     "execution_count": 30,
     "metadata": {},
     "output_type": "execute_result"
    }
   ],
   "source": [
    "dataframe['Left'] - dataframe['Arrived']"
   ]
  },
  {
   "cell_type": "code",
   "execution_count": 31,
   "id": "99665544",
   "metadata": {
    "ExecuteTime": {
     "end_time": "2021-04-30T18:02:15.275831Z",
     "start_time": "2021-04-30T18:02:15.257879Z"
    }
   },
   "outputs": [
    {
     "data": {
      "text/plain": [
       "0    0\n",
       "1    2\n",
       "dtype: int64"
      ]
     },
     "execution_count": 31,
     "metadata": {},
     "output_type": "execute_result"
    }
   ],
   "source": [
    "# Calculate duration between features\n",
    "pd.Series(delta.days for delta in (dataframe['Left'] - dataframe['Arrived']))"
   ]
  },
  {
   "cell_type": "markdown",
   "id": "360611e2",
   "metadata": {},
   "source": [
    "## 7.6 Encoding Days of the Week "
   ]
  },
  {
   "cell_type": "code",
   "execution_count": 36,
   "id": "53411edf",
   "metadata": {
    "ExecuteTime": {
     "end_time": "2021-04-30T18:05:11.020680Z",
     "start_time": "2021-04-30T18:05:10.997743Z"
    }
   },
   "outputs": [
    {
     "data": {
      "text/plain": [
       "0    Thursday\n",
       "1      Sunday\n",
       "2     Tuesday\n",
       "dtype: object"
      ]
     },
     "execution_count": 36,
     "metadata": {},
     "output_type": "execute_result"
    }
   ],
   "source": [
    "dates = pd.Series(pd.date_range('2/2/2002', periods=3, freq='M'))\n",
    "dates.dt.day_name()"
   ]
  },
  {
   "cell_type": "code",
   "execution_count": 38,
   "id": "101ee04a",
   "metadata": {
    "ExecuteTime": {
     "end_time": "2021-04-30T18:05:36.509724Z",
     "start_time": "2021-04-30T18:05:36.498786Z"
    }
   },
   "outputs": [
    {
     "data": {
      "text/plain": [
       "0    3\n",
       "1    6\n",
       "2    1\n",
       "dtype: int64"
      ]
     },
     "execution_count": 38,
     "metadata": {},
     "output_type": "execute_result"
    }
   ],
   "source": [
    "dates.dt.dayofweek"
   ]
  },
  {
   "cell_type": "markdown",
   "id": "1061c630",
   "metadata": {},
   "source": [
    "## 7.7 Creating a Lagged Feature "
   ]
  },
  {
   "cell_type": "code",
   "execution_count": 40,
   "id": "ae595016",
   "metadata": {
    "ExecuteTime": {
     "end_time": "2021-04-30T18:07:35.203064Z",
     "start_time": "2021-04-30T18:07:35.187078Z"
    }
   },
   "outputs": [],
   "source": [
    "dataframe = pd.DataFrame()\n",
    "dataframe['dates'] = pd.date_range('1/1/2001', periods = 5, freq='D')\n",
    "dataframe['stock_price'] = [1.1, 2.2, 3.3, 4.4, 5.5]\n",
    "dataframe['previous_days_stock_price'] = dataframe['stock_price'].shift(1)"
   ]
  },
  {
   "cell_type": "code",
   "execution_count": 41,
   "id": "01566fad",
   "metadata": {
    "ExecuteTime": {
     "end_time": "2021-04-30T18:07:38.032558Z",
     "start_time": "2021-04-30T18:07:38.012612Z"
    }
   },
   "outputs": [
    {
     "data": {
      "text/html": [
       "<div>\n",
       "<style scoped>\n",
       "    .dataframe tbody tr th:only-of-type {\n",
       "        vertical-align: middle;\n",
       "    }\n",
       "\n",
       "    .dataframe tbody tr th {\n",
       "        vertical-align: top;\n",
       "    }\n",
       "\n",
       "    .dataframe thead th {\n",
       "        text-align: right;\n",
       "    }\n",
       "</style>\n",
       "<table border=\"1\" class=\"dataframe\">\n",
       "  <thead>\n",
       "    <tr style=\"text-align: right;\">\n",
       "      <th></th>\n",
       "      <th>dates</th>\n",
       "      <th>stock_price</th>\n",
       "      <th>previous_days_stock_price</th>\n",
       "    </tr>\n",
       "  </thead>\n",
       "  <tbody>\n",
       "    <tr>\n",
       "      <th>0</th>\n",
       "      <td>2001-01-01</td>\n",
       "      <td>1.1</td>\n",
       "      <td>NaN</td>\n",
       "    </tr>\n",
       "    <tr>\n",
       "      <th>1</th>\n",
       "      <td>2001-01-02</td>\n",
       "      <td>2.2</td>\n",
       "      <td>1.1</td>\n",
       "    </tr>\n",
       "    <tr>\n",
       "      <th>2</th>\n",
       "      <td>2001-01-03</td>\n",
       "      <td>3.3</td>\n",
       "      <td>2.2</td>\n",
       "    </tr>\n",
       "    <tr>\n",
       "      <th>3</th>\n",
       "      <td>2001-01-04</td>\n",
       "      <td>4.4</td>\n",
       "      <td>3.3</td>\n",
       "    </tr>\n",
       "    <tr>\n",
       "      <th>4</th>\n",
       "      <td>2001-01-05</td>\n",
       "      <td>5.5</td>\n",
       "      <td>4.4</td>\n",
       "    </tr>\n",
       "  </tbody>\n",
       "</table>\n",
       "</div>"
      ],
      "text/plain": [
       "       dates  stock_price  previous_days_stock_price\n",
       "0 2001-01-01          1.1                        NaN\n",
       "1 2001-01-02          2.2                        1.1\n",
       "2 2001-01-03          3.3                        2.2\n",
       "3 2001-01-04          4.4                        3.3\n",
       "4 2001-01-05          5.5                        4.4"
      ]
     },
     "execution_count": 41,
     "metadata": {},
     "output_type": "execute_result"
    }
   ],
   "source": [
    "dataframe"
   ]
  },
  {
   "cell_type": "markdown",
   "id": "57179734",
   "metadata": {},
   "source": [
    "## 7.8 Using Rolling Time Windows "
   ]
  },
  {
   "cell_type": "code",
   "execution_count": 42,
   "id": "511e0696",
   "metadata": {
    "ExecuteTime": {
     "end_time": "2021-04-30T18:09:13.542052Z",
     "start_time": "2021-04-30T18:09:13.515098Z"
    }
   },
   "outputs": [
    {
     "data": {
      "text/html": [
       "<div>\n",
       "<style scoped>\n",
       "    .dataframe tbody tr th:only-of-type {\n",
       "        vertical-align: middle;\n",
       "    }\n",
       "\n",
       "    .dataframe tbody tr th {\n",
       "        vertical-align: top;\n",
       "    }\n",
       "\n",
       "    .dataframe thead th {\n",
       "        text-align: right;\n",
       "    }\n",
       "</style>\n",
       "<table border=\"1\" class=\"dataframe\">\n",
       "  <thead>\n",
       "    <tr style=\"text-align: right;\">\n",
       "      <th></th>\n",
       "      <th>Stock_Price</th>\n",
       "    </tr>\n",
       "  </thead>\n",
       "  <tbody>\n",
       "    <tr>\n",
       "      <th>2010-01-31</th>\n",
       "      <td>NaN</td>\n",
       "    </tr>\n",
       "    <tr>\n",
       "      <th>2010-02-28</th>\n",
       "      <td>1.5</td>\n",
       "    </tr>\n",
       "    <tr>\n",
       "      <th>2010-03-31</th>\n",
       "      <td>2.5</td>\n",
       "    </tr>\n",
       "    <tr>\n",
       "      <th>2010-04-30</th>\n",
       "      <td>3.5</td>\n",
       "    </tr>\n",
       "    <tr>\n",
       "      <th>2010-05-31</th>\n",
       "      <td>4.5</td>\n",
       "    </tr>\n",
       "  </tbody>\n",
       "</table>\n",
       "</div>"
      ],
      "text/plain": [
       "            Stock_Price\n",
       "2010-01-31          NaN\n",
       "2010-02-28          1.5\n",
       "2010-03-31          2.5\n",
       "2010-04-30          3.5\n",
       "2010-05-31          4.5"
      ]
     },
     "execution_count": 42,
     "metadata": {},
     "output_type": "execute_result"
    }
   ],
   "source": [
    "time_index = pd.date_range('01/01/2010', periods=5, freq='M')\n",
    "dataframe = pd.DataFrame(index=time_index)\n",
    "dataframe['Stock_Price'] = [1, 2, 3, 4, 5]\n",
    "dataframe.rolling(window=2).mean()"
   ]
  },
  {
   "cell_type": "markdown",
   "id": "cfd46df0",
   "metadata": {},
   "source": [
    "## 7.9 Handling Missing Data in Time Series "
   ]
  },
  {
   "cell_type": "code",
   "execution_count": 49,
   "id": "4c8e09ab",
   "metadata": {
    "ExecuteTime": {
     "end_time": "2021-04-30T18:11:57.586192Z",
     "start_time": "2021-04-30T18:11:57.566246Z"
    }
   },
   "outputs": [
    {
     "data": {
      "text/html": [
       "<div>\n",
       "<style scoped>\n",
       "    .dataframe tbody tr th:only-of-type {\n",
       "        vertical-align: middle;\n",
       "    }\n",
       "\n",
       "    .dataframe tbody tr th {\n",
       "        vertical-align: top;\n",
       "    }\n",
       "\n",
       "    .dataframe thead th {\n",
       "        text-align: right;\n",
       "    }\n",
       "</style>\n",
       "<table border=\"1\" class=\"dataframe\">\n",
       "  <thead>\n",
       "    <tr style=\"text-align: right;\">\n",
       "      <th></th>\n",
       "      <th>Sales</th>\n",
       "    </tr>\n",
       "  </thead>\n",
       "  <tbody>\n",
       "    <tr>\n",
       "      <th>2010-01-31</th>\n",
       "      <td>1.0</td>\n",
       "    </tr>\n",
       "    <tr>\n",
       "      <th>2010-02-28</th>\n",
       "      <td>2.0</td>\n",
       "    </tr>\n",
       "    <tr>\n",
       "      <th>2010-03-31</th>\n",
       "      <td>3.0</td>\n",
       "    </tr>\n",
       "    <tr>\n",
       "      <th>2010-04-30</th>\n",
       "      <td>4.0</td>\n",
       "    </tr>\n",
       "    <tr>\n",
       "      <th>2010-05-31</th>\n",
       "      <td>5.0</td>\n",
       "    </tr>\n",
       "  </tbody>\n",
       "</table>\n",
       "</div>"
      ],
      "text/plain": [
       "            Sales\n",
       "2010-01-31    1.0\n",
       "2010-02-28    2.0\n",
       "2010-03-31    3.0\n",
       "2010-04-30    4.0\n",
       "2010-05-31    5.0"
      ]
     },
     "execution_count": 49,
     "metadata": {},
     "output_type": "execute_result"
    }
   ],
   "source": [
    "dataframe = pd.DataFrame(index = time_index)\n",
    "dataframe['Sales'] = [1.0, 2.0, np.nan, np.nan, 5.0]\n",
    "dataframe.interpolate()"
   ]
  },
  {
   "cell_type": "code",
   "execution_count": 50,
   "id": "4e3ed478",
   "metadata": {
    "ExecuteTime": {
     "end_time": "2021-04-30T18:12:01.319783Z",
     "start_time": "2021-04-30T18:12:01.302826Z"
    }
   },
   "outputs": [
    {
     "data": {
      "text/html": [
       "<div>\n",
       "<style scoped>\n",
       "    .dataframe tbody tr th:only-of-type {\n",
       "        vertical-align: middle;\n",
       "    }\n",
       "\n",
       "    .dataframe tbody tr th {\n",
       "        vertical-align: top;\n",
       "    }\n",
       "\n",
       "    .dataframe thead th {\n",
       "        text-align: right;\n",
       "    }\n",
       "</style>\n",
       "<table border=\"1\" class=\"dataframe\">\n",
       "  <thead>\n",
       "    <tr style=\"text-align: right;\">\n",
       "      <th></th>\n",
       "      <th>Sales</th>\n",
       "    </tr>\n",
       "  </thead>\n",
       "  <tbody>\n",
       "    <tr>\n",
       "      <th>2010-01-31</th>\n",
       "      <td>1.0</td>\n",
       "    </tr>\n",
       "    <tr>\n",
       "      <th>2010-02-28</th>\n",
       "      <td>2.0</td>\n",
       "    </tr>\n",
       "    <tr>\n",
       "      <th>2010-03-31</th>\n",
       "      <td>2.0</td>\n",
       "    </tr>\n",
       "    <tr>\n",
       "      <th>2010-04-30</th>\n",
       "      <td>2.0</td>\n",
       "    </tr>\n",
       "    <tr>\n",
       "      <th>2010-05-31</th>\n",
       "      <td>5.0</td>\n",
       "    </tr>\n",
       "  </tbody>\n",
       "</table>\n",
       "</div>"
      ],
      "text/plain": [
       "            Sales\n",
       "2010-01-31    1.0\n",
       "2010-02-28    2.0\n",
       "2010-03-31    2.0\n",
       "2010-04-30    2.0\n",
       "2010-05-31    5.0"
      ]
     },
     "execution_count": 50,
     "metadata": {},
     "output_type": "execute_result"
    }
   ],
   "source": [
    "dataframe = pd.DataFrame(index = time_index)\n",
    "dataframe['Sales'] = [1.0, 2.0, np.nan, np.nan, 5.0]\n",
    "dataframe.ffill()"
   ]
  },
  {
   "cell_type": "code",
   "execution_count": 51,
   "id": "30d2d8b3",
   "metadata": {
    "ExecuteTime": {
     "end_time": "2021-04-30T18:12:12.412884Z",
     "start_time": "2021-04-30T18:12:12.381990Z"
    }
   },
   "outputs": [
    {
     "data": {
      "text/html": [
       "<div>\n",
       "<style scoped>\n",
       "    .dataframe tbody tr th:only-of-type {\n",
       "        vertical-align: middle;\n",
       "    }\n",
       "\n",
       "    .dataframe tbody tr th {\n",
       "        vertical-align: top;\n",
       "    }\n",
       "\n",
       "    .dataframe thead th {\n",
       "        text-align: right;\n",
       "    }\n",
       "</style>\n",
       "<table border=\"1\" class=\"dataframe\">\n",
       "  <thead>\n",
       "    <tr style=\"text-align: right;\">\n",
       "      <th></th>\n",
       "      <th>Sales</th>\n",
       "    </tr>\n",
       "  </thead>\n",
       "  <tbody>\n",
       "    <tr>\n",
       "      <th>2010-01-31</th>\n",
       "      <td>1.0</td>\n",
       "    </tr>\n",
       "    <tr>\n",
       "      <th>2010-02-28</th>\n",
       "      <td>2.0</td>\n",
       "    </tr>\n",
       "    <tr>\n",
       "      <th>2010-03-31</th>\n",
       "      <td>5.0</td>\n",
       "    </tr>\n",
       "    <tr>\n",
       "      <th>2010-04-30</th>\n",
       "      <td>5.0</td>\n",
       "    </tr>\n",
       "    <tr>\n",
       "      <th>2010-05-31</th>\n",
       "      <td>5.0</td>\n",
       "    </tr>\n",
       "  </tbody>\n",
       "</table>\n",
       "</div>"
      ],
      "text/plain": [
       "            Sales\n",
       "2010-01-31    1.0\n",
       "2010-02-28    2.0\n",
       "2010-03-31    5.0\n",
       "2010-04-30    5.0\n",
       "2010-05-31    5.0"
      ]
     },
     "execution_count": 51,
     "metadata": {},
     "output_type": "execute_result"
    }
   ],
   "source": [
    "dataframe = pd.DataFrame(index = time_index)\n",
    "dataframe['Sales'] = [1.0, 2.0, np.nan, np.nan, 5.0]\n",
    "dataframe.bfill()"
   ]
  },
  {
   "cell_type": "code",
   "execution_count": 52,
   "id": "252b415b",
   "metadata": {
    "ExecuteTime": {
     "end_time": "2021-04-30T18:12:33.979666Z",
     "start_time": "2021-04-30T18:12:32.054221Z"
    }
   },
   "outputs": [
    {
     "data": {
      "text/html": [
       "<div>\n",
       "<style scoped>\n",
       "    .dataframe tbody tr th:only-of-type {\n",
       "        vertical-align: middle;\n",
       "    }\n",
       "\n",
       "    .dataframe tbody tr th {\n",
       "        vertical-align: top;\n",
       "    }\n",
       "\n",
       "    .dataframe thead th {\n",
       "        text-align: right;\n",
       "    }\n",
       "</style>\n",
       "<table border=\"1\" class=\"dataframe\">\n",
       "  <thead>\n",
       "    <tr style=\"text-align: right;\">\n",
       "      <th></th>\n",
       "      <th>Sales</th>\n",
       "    </tr>\n",
       "  </thead>\n",
       "  <tbody>\n",
       "    <tr>\n",
       "      <th>2010-01-31</th>\n",
       "      <td>1.000000</td>\n",
       "    </tr>\n",
       "    <tr>\n",
       "      <th>2010-02-28</th>\n",
       "      <td>2.000000</td>\n",
       "    </tr>\n",
       "    <tr>\n",
       "      <th>2010-03-31</th>\n",
       "      <td>3.059808</td>\n",
       "    </tr>\n",
       "    <tr>\n",
       "      <th>2010-04-30</th>\n",
       "      <td>4.038069</td>\n",
       "    </tr>\n",
       "    <tr>\n",
       "      <th>2010-05-31</th>\n",
       "      <td>5.000000</td>\n",
       "    </tr>\n",
       "  </tbody>\n",
       "</table>\n",
       "</div>"
      ],
      "text/plain": [
       "               Sales\n",
       "2010-01-31  1.000000\n",
       "2010-02-28  2.000000\n",
       "2010-03-31  3.059808\n",
       "2010-04-30  4.038069\n",
       "2010-05-31  5.000000"
      ]
     },
     "execution_count": 52,
     "metadata": {},
     "output_type": "execute_result"
    }
   ],
   "source": [
    "dataframe = pd.DataFrame(index = time_index)\n",
    "dataframe['Sales'] = [1.0, 2.0, np.nan, np.nan, 5.0]\n",
    "dataframe.interpolate(method='quadratic')"
   ]
  },
  {
   "cell_type": "code",
   "execution_count": 53,
   "id": "d623c103",
   "metadata": {
    "ExecuteTime": {
     "end_time": "2021-04-30T18:13:40.830241Z",
     "start_time": "2021-04-30T18:13:40.804310Z"
    }
   },
   "outputs": [
    {
     "data": {
      "text/html": [
       "<div>\n",
       "<style scoped>\n",
       "    .dataframe tbody tr th:only-of-type {\n",
       "        vertical-align: middle;\n",
       "    }\n",
       "\n",
       "    .dataframe tbody tr th {\n",
       "        vertical-align: top;\n",
       "    }\n",
       "\n",
       "    .dataframe thead th {\n",
       "        text-align: right;\n",
       "    }\n",
       "</style>\n",
       "<table border=\"1\" class=\"dataframe\">\n",
       "  <thead>\n",
       "    <tr style=\"text-align: right;\">\n",
       "      <th></th>\n",
       "      <th>Sales</th>\n",
       "    </tr>\n",
       "  </thead>\n",
       "  <tbody>\n",
       "    <tr>\n",
       "      <th>2010-01-31</th>\n",
       "      <td>1.0</td>\n",
       "    </tr>\n",
       "    <tr>\n",
       "      <th>2010-02-28</th>\n",
       "      <td>2.0</td>\n",
       "    </tr>\n",
       "    <tr>\n",
       "      <th>2010-03-31</th>\n",
       "      <td>3.0</td>\n",
       "    </tr>\n",
       "    <tr>\n",
       "      <th>2010-04-30</th>\n",
       "      <td>NaN</td>\n",
       "    </tr>\n",
       "    <tr>\n",
       "      <th>2010-05-31</th>\n",
       "      <td>5.0</td>\n",
       "    </tr>\n",
       "  </tbody>\n",
       "</table>\n",
       "</div>"
      ],
      "text/plain": [
       "            Sales\n",
       "2010-01-31    1.0\n",
       "2010-02-28    2.0\n",
       "2010-03-31    3.0\n",
       "2010-04-30    NaN\n",
       "2010-05-31    5.0"
      ]
     },
     "execution_count": 53,
     "metadata": {},
     "output_type": "execute_result"
    }
   ],
   "source": [
    "dataframe = pd.DataFrame(index = time_index)\n",
    "dataframe['Sales'] = [1.0, 2.0, np.nan, np.nan, 5.0]\n",
    "dataframe.interpolate(limit=1, limit_direciton='forward')"
   ]
  },
  {
   "cell_type": "code",
   "execution_count": null,
   "id": "491aba86",
   "metadata": {},
   "outputs": [],
   "source": []
  }
 ],
 "metadata": {
  "kernelspec": {
   "display_name": "Python 3",
   "language": "python",
   "name": "python3"
  },
  "language_info": {
   "codemirror_mode": {
    "name": "ipython",
    "version": 3
   },
   "file_extension": ".py",
   "mimetype": "text/x-python",
   "name": "python",
   "nbconvert_exporter": "python",
   "pygments_lexer": "ipython3",
   "version": "3.8.5"
  }
 },
 "nbformat": 4,
 "nbformat_minor": 5
}
